{
 "cells": [
  {
   "cell_type": "code",
   "execution_count": 11,
   "metadata": {},
   "outputs": [],
   "source": [
    "import pandas as pd\n",
    "import hvplot.pandas\n",
    "import numpy as np"
   ]
  },
  {
   "cell_type": "code",
   "execution_count": 12,
   "metadata": {},
   "outputs": [],
   "source": [
    "df = pd.read_csv('callsforservice.csv')"
   ]
  },
  {
   "cell_type": "code",
   "execution_count": 13,
   "metadata": {},
   "outputs": [],
   "source": [
    "with open('apikey.txt', 'r') as src:\n",
    "    key = src.read()"
   ]
  },
  {
   "cell_type": "code",
   "execution_count": 14,
   "metadata": {},
   "outputs": [
    {
     "data": {
      "text/html": [
       "<div>\n",
       "<style scoped>\n",
       "    .dataframe tbody tr th:only-of-type {\n",
       "        vertical-align: middle;\n",
       "    }\n",
       "\n",
       "    .dataframe tbody tr th {\n",
       "        vertical-align: top;\n",
       "    }\n",
       "\n",
       "    .dataframe thead th {\n",
       "        text-align: right;\n",
       "    }\n",
       "</style>\n",
       "<table border=\"1\" class=\"dataframe\">\n",
       "  <thead>\n",
       "    <tr style=\"text-align: right;\">\n",
       "      <th></th>\n",
       "      <th>INCIDENT_NUM</th>\n",
       "      <th>DISP_CODE</th>\n",
       "      <th>DISPOSITION</th>\n",
       "      <th>FINAL_RADIO_CODE</th>\n",
       "      <th>FINAL_CALL_TYPE</th>\n",
       "      <th>CALL_RECEIVED</th>\n",
       "      <th>HUNDREDBLOCKADDR</th>\n",
       "      <th>GRID</th>\n",
       "    </tr>\n",
       "  </thead>\n",
       "  <tbody>\n",
       "    <tr>\n",
       "      <th>0</th>\n",
       "      <td>201502108490</td>\n",
       "      <td>N</td>\n",
       "      <td>NO ACTION REQUIRED</td>\n",
       "      <td>647V</td>\n",
       "      <td>SUSPICIOUS PERSON IN VEHICLE</td>\n",
       "      <td>11/2/2015   9:16:27AM</td>\n",
       "      <td>154XX N 29TH ST</td>\n",
       "      <td>DF34</td>\n",
       "    </tr>\n",
       "    <tr>\n",
       "      <th>1</th>\n",
       "      <td>201502108749</td>\n",
       "      <td>N</td>\n",
       "      <td>NO ACTION REQUIRED</td>\n",
       "      <td>418T</td>\n",
       "      <td>TRESPASSING</td>\n",
       "      <td>11/2/2015   9:58:57AM</td>\n",
       "      <td>96XX N 10TH AVE</td>\n",
       "      <td>CH26</td>\n",
       "    </tr>\n",
       "    <tr>\n",
       "      <th>2</th>\n",
       "      <td>201502108648</td>\n",
       "      <td>O</td>\n",
       "      <td>OTHER (SUPP/FALSE ALARM/FI/LOUD PARTY)</td>\n",
       "      <td>459A</td>\n",
       "      <td>BURGLARY ALARM</td>\n",
       "      <td>11/2/2015   9:42:42AM</td>\n",
       "      <td>38XX E WATKINS ST</td>\n",
       "      <td>AH36B</td>\n",
       "    </tr>\n",
       "    <tr>\n",
       "      <th>3</th>\n",
       "      <td>201502108757</td>\n",
       "      <td>N</td>\n",
       "      <td>NO ACTION REQUIRED</td>\n",
       "      <td>418T</td>\n",
       "      <td>TRESPASSING</td>\n",
       "      <td>11/2/2015  10:02:11AM</td>\n",
       "      <td>36XX W CAMELBACK RD</td>\n",
       "      <td>BI20</td>\n",
       "    </tr>\n",
       "    <tr>\n",
       "      <th>4</th>\n",
       "      <td>201502108592</td>\n",
       "      <td>N</td>\n",
       "      <td>NO ACTION REQUIRED</td>\n",
       "      <td>900</td>\n",
       "      <td>CHECK WELFARE</td>\n",
       "      <td>11/2/2015   9:30:53AM</td>\n",
       "      <td>40XX N 44TH AVE</td>\n",
       "      <td>BG18</td>\n",
       "    </tr>\n",
       "  </tbody>\n",
       "</table>\n",
       "</div>"
      ],
      "text/plain": [
       "   INCIDENT_NUM DISP_CODE                             DISPOSITION  \\\n",
       "0  201502108490         N                      NO ACTION REQUIRED   \n",
       "1  201502108749         N                      NO ACTION REQUIRED   \n",
       "2  201502108648         O  OTHER (SUPP/FALSE ALARM/FI/LOUD PARTY)   \n",
       "3  201502108757         N                      NO ACTION REQUIRED   \n",
       "4  201502108592         N                      NO ACTION REQUIRED   \n",
       "\n",
       "  FINAL_RADIO_CODE               FINAL_CALL_TYPE          CALL_RECEIVED  \\\n",
       "0             647V  SUSPICIOUS PERSON IN VEHICLE  11/2/2015   9:16:27AM   \n",
       "1             418T                   TRESPASSING  11/2/2015   9:58:57AM   \n",
       "2             459A                BURGLARY ALARM  11/2/2015   9:42:42AM   \n",
       "3             418T                   TRESPASSING  11/2/2015  10:02:11AM   \n",
       "4              900                 CHECK WELFARE  11/2/2015   9:30:53AM   \n",
       "\n",
       "      HUNDREDBLOCKADDR   GRID  \n",
       "0      154XX N 29TH ST   DF34  \n",
       "1      96XX N 10TH AVE   CH26  \n",
       "2    38XX E WATKINS ST  AH36B  \n",
       "3  36XX W CAMELBACK RD   BI20  \n",
       "4      40XX N 44TH AVE   BG18  "
      ]
     },
     "execution_count": 14,
     "metadata": {},
     "output_type": "execute_result"
    }
   ],
   "source": [
    "df.head()"
   ]
  },
  {
   "cell_type": "code",
   "execution_count": 15,
   "metadata": {},
   "outputs": [
    {
     "name": "stdout",
     "output_type": "stream",
     "text": [
      "<class 'pandas.core.frame.DataFrame'>\n",
      "RangeIndex: 2171125 entries, 0 to 2171124\n",
      "Data columns (total 8 columns):\n",
      "INCIDENT_NUM        int64\n",
      "DISP_CODE           object\n",
      "DISPOSITION         object\n",
      "FINAL_RADIO_CODE    object\n",
      "FINAL_CALL_TYPE     object\n",
      "CALL_RECEIVED       object\n",
      "HUNDREDBLOCKADDR    object\n",
      "GRID                object\n",
      "dtypes: int64(1), object(7)\n",
      "memory usage: 132.5+ MB\n"
     ]
    }
   ],
   "source": [
    "df.info()"
   ]
  },
  {
   "cell_type": "code",
   "execution_count": 16,
   "metadata": {},
   "outputs": [
    {
     "data": {
      "text/html": [
       "<div>\n",
       "<style scoped>\n",
       "    .dataframe tbody tr th:only-of-type {\n",
       "        vertical-align: middle;\n",
       "    }\n",
       "\n",
       "    .dataframe tbody tr th {\n",
       "        vertical-align: top;\n",
       "    }\n",
       "\n",
       "    .dataframe thead th {\n",
       "        text-align: right;\n",
       "    }\n",
       "</style>\n",
       "<table border=\"1\" class=\"dataframe\">\n",
       "  <thead>\n",
       "    <tr style=\"text-align: right;\">\n",
       "      <th></th>\n",
       "      <th>INCIDENT_NUM</th>\n",
       "      <th>DISP_CODE</th>\n",
       "      <th>DISPOSITION</th>\n",
       "      <th>FINAL_RADIO_CODE</th>\n",
       "      <th>FINAL_CALL_TYPE</th>\n",
       "      <th>CALL_RECEIVED</th>\n",
       "      <th>HUNDREDBLOCKADDR</th>\n",
       "      <th>GRID</th>\n",
       "    </tr>\n",
       "  </thead>\n",
       "  <tbody>\n",
       "    <tr>\n",
       "      <th>0</th>\n",
       "      <td>201502108490</td>\n",
       "      <td>N</td>\n",
       "      <td>NO ACTION REQUIRED</td>\n",
       "      <td>647V</td>\n",
       "      <td>SUSPICIOUS PERSON IN VEHICLE</td>\n",
       "      <td>11/2/2015   9:16:27AM</td>\n",
       "      <td>154XX N 29TH ST</td>\n",
       "      <td>DF34</td>\n",
       "    </tr>\n",
       "    <tr>\n",
       "      <th>1</th>\n",
       "      <td>201502108749</td>\n",
       "      <td>N</td>\n",
       "      <td>NO ACTION REQUIRED</td>\n",
       "      <td>418T</td>\n",
       "      <td>TRESPASSING</td>\n",
       "      <td>11/2/2015   9:58:57AM</td>\n",
       "      <td>96XX N 10TH AVE</td>\n",
       "      <td>CH26</td>\n",
       "    </tr>\n",
       "    <tr>\n",
       "      <th>2</th>\n",
       "      <td>201502108648</td>\n",
       "      <td>O</td>\n",
       "      <td>OTHER (SUPP/FALSE ALARM/FI/LOUD PARTY)</td>\n",
       "      <td>459A</td>\n",
       "      <td>BURGLARY ALARM</td>\n",
       "      <td>11/2/2015   9:42:42AM</td>\n",
       "      <td>38XX E WATKINS ST</td>\n",
       "      <td>AH36B</td>\n",
       "    </tr>\n",
       "    <tr>\n",
       "      <th>3</th>\n",
       "      <td>201502108757</td>\n",
       "      <td>N</td>\n",
       "      <td>NO ACTION REQUIRED</td>\n",
       "      <td>418T</td>\n",
       "      <td>TRESPASSING</td>\n",
       "      <td>11/2/2015  10:02:11AM</td>\n",
       "      <td>36XX W CAMELBACK RD</td>\n",
       "      <td>BI20</td>\n",
       "    </tr>\n",
       "    <tr>\n",
       "      <th>4</th>\n",
       "      <td>201502108592</td>\n",
       "      <td>N</td>\n",
       "      <td>NO ACTION REQUIRED</td>\n",
       "      <td>900</td>\n",
       "      <td>CHECK WELFARE</td>\n",
       "      <td>11/2/2015   9:30:53AM</td>\n",
       "      <td>40XX N 44TH AVE</td>\n",
       "      <td>BG18</td>\n",
       "    </tr>\n",
       "  </tbody>\n",
       "</table>\n",
       "</div>"
      ],
      "text/plain": [
       "   INCIDENT_NUM DISP_CODE                             DISPOSITION  \\\n",
       "0  201502108490         N                      NO ACTION REQUIRED   \n",
       "1  201502108749         N                      NO ACTION REQUIRED   \n",
       "2  201502108648         O  OTHER (SUPP/FALSE ALARM/FI/LOUD PARTY)   \n",
       "3  201502108757         N                      NO ACTION REQUIRED   \n",
       "4  201502108592         N                      NO ACTION REQUIRED   \n",
       "\n",
       "  FINAL_RADIO_CODE               FINAL_CALL_TYPE          CALL_RECEIVED  \\\n",
       "0             647V  SUSPICIOUS PERSON IN VEHICLE  11/2/2015   9:16:27AM   \n",
       "1             418T                   TRESPASSING  11/2/2015   9:58:57AM   \n",
       "2             459A                BURGLARY ALARM  11/2/2015   9:42:42AM   \n",
       "3             418T                   TRESPASSING  11/2/2015  10:02:11AM   \n",
       "4              900                 CHECK WELFARE  11/2/2015   9:30:53AM   \n",
       "\n",
       "      HUNDREDBLOCKADDR   GRID  \n",
       "0      154XX N 29TH ST   DF34  \n",
       "1      96XX N 10TH AVE   CH26  \n",
       "2    38XX E WATKINS ST  AH36B  \n",
       "3  36XX W CAMELBACK RD   BI20  \n",
       "4      40XX N 44TH AVE   BG18  "
      ]
     },
     "execution_count": 16,
     "metadata": {},
     "output_type": "execute_result"
    }
   ],
   "source": [
    "tst = df.iloc[:500, :]\n",
    "tst.head()"
   ]
  },
  {
   "cell_type": "code",
   "execution_count": 17,
   "metadata": {},
   "outputs": [],
   "source": [
    "df['HUNDREDBLOCKADDR'] = df.HUNDREDBLOCKADDR.str.replace('XX', '00')\n",
    "df.dropna(inplace=True)\n",
    "df = df[df.FINAL_RADIO_CODE.isin(['961', '962', '963', '961H', '962H', '963H'])]\n",
    "df.loc[:, 'CALL_RECEIVED'] = pd.to_datetime(df.CALL_RECEIVED)\n",
    "df.set_index('CALL_RECEIVED', inplace=True)"
   ]
  },
  {
   "cell_type": "code",
   "execution_count": 18,
   "metadata": {},
   "outputs": [],
   "source": [
    "from geopandas.tools import geocode\n",
    "df.loc[:, 'address'] = df.HUNDREDBLOCKADDR.apply(lambda x: x + '., PHOENIX, AZ')"
   ]
  },
  {
   "cell_type": "code",
   "execution_count": null,
   "metadata": {},
   "outputs": [],
   "source": [
    "geo = geocode(df['address'], api_key=key, timeout=15)"
   ]
  },
  {
   "cell_type": "code",
   "execution_count": null,
   "metadata": {},
   "outputs": [],
   "source": [
    "# lacs = Legal accidents\n",
    "#lacs = df[df.FINAL_RADIO_CODE.isin(['961', '962', '963'])]\n",
    "#hitrun = df[df.FINAL_RADIO_CODE.isin(['961H', '962H', '963H'])]"
   ]
  },
  {
   "cell_type": "code",
   "execution_count": 23,
   "metadata": {},
   "outputs": [],
   "source": [
    "lacs.loc[:, 'CALL_RECEIVED'] = pd.to_datetime(lacs.CALL_RECEIVED)\n",
    "lacs.set_index('CALL_RECEIVED', inplace=True)"
   ]
  },
  {
   "cell_type": "code",
   "execution_count": 24,
   "metadata": {},
   "outputs": [],
   "source": [
    "hitrun.loc[:, 'CALL_RECEIVED'] = pd.to_datetime(hitrun.CALL_RECEIVED)\n",
    "hitrun.set_index('CALL_RECEIVED', inplace=True)"
   ]
  },
  {
   "cell_type": "code",
   "execution_count": 29,
   "metadata": {},
   "outputs": [
    {
     "data": {
      "text/html": [
       "<div>\n",
       "<style scoped>\n",
       "    .dataframe tbody tr th:only-of-type {\n",
       "        vertical-align: middle;\n",
       "    }\n",
       "\n",
       "    .dataframe tbody tr th {\n",
       "        vertical-align: top;\n",
       "    }\n",
       "\n",
       "    .dataframe thead th {\n",
       "        text-align: right;\n",
       "    }\n",
       "</style>\n",
       "<table border=\"1\" class=\"dataframe\">\n",
       "  <thead>\n",
       "    <tr style=\"text-align: right;\">\n",
       "      <th></th>\n",
       "      <th>INCIDENT_NUM</th>\n",
       "      <th>DISP_CODE</th>\n",
       "      <th>DISPOSITION</th>\n",
       "      <th>FINAL_RADIO_CODE</th>\n",
       "      <th>FINAL_CALL_TYPE</th>\n",
       "      <th>HUNDREDBLOCKADDR</th>\n",
       "      <th>GRID</th>\n",
       "    </tr>\n",
       "    <tr>\n",
       "      <th>CALL_RECEIVED</th>\n",
       "      <th></th>\n",
       "      <th></th>\n",
       "      <th></th>\n",
       "      <th></th>\n",
       "      <th></th>\n",
       "      <th></th>\n",
       "      <th></th>\n",
       "    </tr>\n",
       "  </thead>\n",
       "  <tbody>\n",
       "    <tr>\n",
       "      <th>2015-11-02 08:04:44</th>\n",
       "      <td>201502108062</td>\n",
       "      <td>A</td>\n",
       "      <td>ACCIDENT REPORT</td>\n",
       "      <td>962</td>\n",
       "      <td>ACCIDENT WITH INJURIES</td>\n",
       "      <td>N 49TH DR &amp; W ESCUDA DR</td>\n",
       "      <td>EA17</td>\n",
       "    </tr>\n",
       "    <tr>\n",
       "      <th>2015-11-01 10:09:50</th>\n",
       "      <td>201502102088</td>\n",
       "      <td>N</td>\n",
       "      <td>NO ACTION REQUIRED</td>\n",
       "      <td>961</td>\n",
       "      <td>ACCIDENT NO INJURIES</td>\n",
       "      <td>E PARADISE LN &amp; N 32ND ST</td>\n",
       "      <td>DF35</td>\n",
       "    </tr>\n",
       "    <tr>\n",
       "      <th>2015-11-01 10:35:06</th>\n",
       "      <td>201502102198</td>\n",
       "      <td>N</td>\n",
       "      <td>NO ACTION REQUIRED</td>\n",
       "      <td>961</td>\n",
       "      <td>ACCIDENT NO INJURIES</td>\n",
       "      <td>4000 W CAMELBACK RD</td>\n",
       "      <td>BI19A</td>\n",
       "    </tr>\n",
       "    <tr>\n",
       "      <th>2015-11-01 18:03:38</th>\n",
       "      <td>201502104894</td>\n",
       "      <td>N</td>\n",
       "      <td>NO ACTION REQUIRED</td>\n",
       "      <td>961</td>\n",
       "      <td>ACCIDENT NO INJURIES</td>\n",
       "      <td>3700 W SIERRA ST</td>\n",
       "      <td>DA20</td>\n",
       "    </tr>\n",
       "    <tr>\n",
       "      <th>2015-11-01 18:22:35</th>\n",
       "      <td>201502105017</td>\n",
       "      <td>N</td>\n",
       "      <td>NO ACTION REQUIRED</td>\n",
       "      <td>961</td>\n",
       "      <td>ACCIDENT NO INJURIES</td>\n",
       "      <td>1900 E THOMAS RD</td>\n",
       "      <td>BE31</td>\n",
       "    </tr>\n",
       "  </tbody>\n",
       "</table>\n",
       "</div>"
      ],
      "text/plain": [
       "                     INCIDENT_NUM DISP_CODE         DISPOSITION  \\\n",
       "CALL_RECEIVED                                                     \n",
       "2015-11-02 08:04:44  201502108062         A     ACCIDENT REPORT   \n",
       "2015-11-01 10:09:50  201502102088         N  NO ACTION REQUIRED   \n",
       "2015-11-01 10:35:06  201502102198         N  NO ACTION REQUIRED   \n",
       "2015-11-01 18:03:38  201502104894         N  NO ACTION REQUIRED   \n",
       "2015-11-01 18:22:35  201502105017         N  NO ACTION REQUIRED   \n",
       "\n",
       "                    FINAL_RADIO_CODE         FINAL_CALL_TYPE  \\\n",
       "CALL_RECEIVED                                                  \n",
       "2015-11-02 08:04:44              962  ACCIDENT WITH INJURIES   \n",
       "2015-11-01 10:09:50              961    ACCIDENT NO INJURIES   \n",
       "2015-11-01 10:35:06              961    ACCIDENT NO INJURIES   \n",
       "2015-11-01 18:03:38              961    ACCIDENT NO INJURIES   \n",
       "2015-11-01 18:22:35              961    ACCIDENT NO INJURIES   \n",
       "\n",
       "                              HUNDREDBLOCKADDR   GRID  \n",
       "CALL_RECEIVED                                          \n",
       "2015-11-02 08:04:44    N 49TH DR & W ESCUDA DR   EA17  \n",
       "2015-11-01 10:09:50  E PARADISE LN & N 32ND ST   DF35  \n",
       "2015-11-01 10:35:06        4000 W CAMELBACK RD  BI19A  \n",
       "2015-11-01 18:03:38           3700 W SIERRA ST   DA20  \n",
       "2015-11-01 18:22:35           1900 E THOMAS RD   BE31  "
      ]
     },
     "execution_count": 29,
     "metadata": {},
     "output_type": "execute_result"
    }
   ],
   "source": [
    "lacs.head()"
   ]
  },
  {
   "cell_type": "code",
   "execution_count": 46,
   "metadata": {},
   "outputs": [],
   "source": [
    "from geopandas.tools import geocode\n",
    "lacs.loc[:, 'address'] = lacs.HUNDREDBLOCKADDR.apply(lambda x: x + '., PHOENIX, AZ')"
   ]
  },
  {
   "cell_type": "code",
   "execution_count": 45,
   "metadata": {},
   "outputs": [
    {
     "ename": "GeocoderTimedOut",
     "evalue": "Service timed out",
     "output_type": "error",
     "traceback": [
      "\u001b[0;31m---------------------------------------------------------------------------\u001b[0m",
      "\u001b[0;31mtimeout\u001b[0m                                   Traceback (most recent call last)",
      "\u001b[0;32m~/anaconda3/lib/python3.7/site-packages/geopy/geocoders/base.py\u001b[0m in \u001b[0;36m_call_geocoder\u001b[0;34m(self, url, timeout, raw, requester, deserializer, **kwargs)\u001b[0m\n\u001b[1;32m    343\u001b[0m         \u001b[0;32mtry\u001b[0m\u001b[0;34m:\u001b[0m\u001b[0;34m\u001b[0m\u001b[0;34m\u001b[0m\u001b[0m\n\u001b[0;32m--> 344\u001b[0;31m             \u001b[0mpage\u001b[0m \u001b[0;34m=\u001b[0m \u001b[0mrequester\u001b[0m\u001b[0;34m(\u001b[0m\u001b[0mreq\u001b[0m\u001b[0;34m,\u001b[0m \u001b[0mtimeout\u001b[0m\u001b[0;34m=\u001b[0m\u001b[0mtimeout\u001b[0m\u001b[0;34m,\u001b[0m \u001b[0;34m**\u001b[0m\u001b[0mkwargs\u001b[0m\u001b[0;34m)\u001b[0m\u001b[0;34m\u001b[0m\u001b[0;34m\u001b[0m\u001b[0m\n\u001b[0m\u001b[1;32m    345\u001b[0m         \u001b[0;32mexcept\u001b[0m \u001b[0mException\u001b[0m \u001b[0;32mas\u001b[0m \u001b[0merror\u001b[0m\u001b[0;34m:\u001b[0m\u001b[0;34m\u001b[0m\u001b[0;34m\u001b[0m\u001b[0m\n",
      "\u001b[0;32m~/anaconda3/lib/python3.7/urllib/request.py\u001b[0m in \u001b[0;36mopen\u001b[0;34m(self, fullurl, data, timeout)\u001b[0m\n\u001b[1;32m    524\u001b[0m \u001b[0;34m\u001b[0m\u001b[0m\n\u001b[0;32m--> 525\u001b[0;31m         \u001b[0mresponse\u001b[0m \u001b[0;34m=\u001b[0m \u001b[0mself\u001b[0m\u001b[0;34m.\u001b[0m\u001b[0m_open\u001b[0m\u001b[0;34m(\u001b[0m\u001b[0mreq\u001b[0m\u001b[0;34m,\u001b[0m \u001b[0mdata\u001b[0m\u001b[0;34m)\u001b[0m\u001b[0;34m\u001b[0m\u001b[0;34m\u001b[0m\u001b[0m\n\u001b[0m\u001b[1;32m    526\u001b[0m \u001b[0;34m\u001b[0m\u001b[0m\n",
      "\u001b[0;32m~/anaconda3/lib/python3.7/urllib/request.py\u001b[0m in \u001b[0;36m_open\u001b[0;34m(self, req, data)\u001b[0m\n\u001b[1;32m    542\u001b[0m         result = self._call_chain(self.handle_open, protocol, protocol +\n\u001b[0;32m--> 543\u001b[0;31m                                   '_open', req)\n\u001b[0m\u001b[1;32m    544\u001b[0m         \u001b[0;32mif\u001b[0m \u001b[0mresult\u001b[0m\u001b[0;34m:\u001b[0m\u001b[0;34m\u001b[0m\u001b[0;34m\u001b[0m\u001b[0m\n",
      "\u001b[0;32m~/anaconda3/lib/python3.7/urllib/request.py\u001b[0m in \u001b[0;36m_call_chain\u001b[0;34m(self, chain, kind, meth_name, *args)\u001b[0m\n\u001b[1;32m    502\u001b[0m             \u001b[0mfunc\u001b[0m \u001b[0;34m=\u001b[0m \u001b[0mgetattr\u001b[0m\u001b[0;34m(\u001b[0m\u001b[0mhandler\u001b[0m\u001b[0;34m,\u001b[0m \u001b[0mmeth_name\u001b[0m\u001b[0;34m)\u001b[0m\u001b[0;34m\u001b[0m\u001b[0;34m\u001b[0m\u001b[0m\n\u001b[0;32m--> 503\u001b[0;31m             \u001b[0mresult\u001b[0m \u001b[0;34m=\u001b[0m \u001b[0mfunc\u001b[0m\u001b[0;34m(\u001b[0m\u001b[0;34m*\u001b[0m\u001b[0margs\u001b[0m\u001b[0;34m)\u001b[0m\u001b[0;34m\u001b[0m\u001b[0;34m\u001b[0m\u001b[0m\n\u001b[0m\u001b[1;32m    504\u001b[0m             \u001b[0;32mif\u001b[0m \u001b[0mresult\u001b[0m \u001b[0;32mis\u001b[0m \u001b[0;32mnot\u001b[0m \u001b[0;32mNone\u001b[0m\u001b[0;34m:\u001b[0m\u001b[0;34m\u001b[0m\u001b[0;34m\u001b[0m\u001b[0m\n",
      "\u001b[0;32m~/anaconda3/lib/python3.7/urllib/request.py\u001b[0m in \u001b[0;36mhttps_open\u001b[0;34m(self, req)\u001b[0m\n\u001b[1;32m   1359\u001b[0m             return self.do_open(http.client.HTTPSConnection, req,\n\u001b[0;32m-> 1360\u001b[0;31m                 context=self._context, check_hostname=self._check_hostname)\n\u001b[0m\u001b[1;32m   1361\u001b[0m \u001b[0;34m\u001b[0m\u001b[0m\n",
      "\u001b[0;32m~/anaconda3/lib/python3.7/urllib/request.py\u001b[0m in \u001b[0;36mdo_open\u001b[0;34m(self, http_class, req, **http_conn_args)\u001b[0m\n\u001b[1;32m   1319\u001b[0m                 \u001b[0;32mraise\u001b[0m \u001b[0mURLError\u001b[0m\u001b[0;34m(\u001b[0m\u001b[0merr\u001b[0m\u001b[0;34m)\u001b[0m\u001b[0;34m\u001b[0m\u001b[0;34m\u001b[0m\u001b[0m\n\u001b[0;32m-> 1320\u001b[0;31m             \u001b[0mr\u001b[0m \u001b[0;34m=\u001b[0m \u001b[0mh\u001b[0m\u001b[0;34m.\u001b[0m\u001b[0mgetresponse\u001b[0m\u001b[0;34m(\u001b[0m\u001b[0;34m)\u001b[0m\u001b[0;34m\u001b[0m\u001b[0;34m\u001b[0m\u001b[0m\n\u001b[0m\u001b[1;32m   1321\u001b[0m         \u001b[0;32mexcept\u001b[0m\u001b[0;34m:\u001b[0m\u001b[0;34m\u001b[0m\u001b[0;34m\u001b[0m\u001b[0m\n",
      "\u001b[0;32m~/anaconda3/lib/python3.7/http/client.py\u001b[0m in \u001b[0;36mgetresponse\u001b[0;34m(self)\u001b[0m\n\u001b[1;32m   1320\u001b[0m             \u001b[0;32mtry\u001b[0m\u001b[0;34m:\u001b[0m\u001b[0;34m\u001b[0m\u001b[0;34m\u001b[0m\u001b[0m\n\u001b[0;32m-> 1321\u001b[0;31m                 \u001b[0mresponse\u001b[0m\u001b[0;34m.\u001b[0m\u001b[0mbegin\u001b[0m\u001b[0;34m(\u001b[0m\u001b[0;34m)\u001b[0m\u001b[0;34m\u001b[0m\u001b[0;34m\u001b[0m\u001b[0m\n\u001b[0m\u001b[1;32m   1322\u001b[0m             \u001b[0;32mexcept\u001b[0m \u001b[0mConnectionError\u001b[0m\u001b[0;34m:\u001b[0m\u001b[0;34m\u001b[0m\u001b[0;34m\u001b[0m\u001b[0m\n",
      "\u001b[0;32m~/anaconda3/lib/python3.7/http/client.py\u001b[0m in \u001b[0;36mbegin\u001b[0;34m(self)\u001b[0m\n\u001b[1;32m    295\u001b[0m         \u001b[0;32mwhile\u001b[0m \u001b[0;32mTrue\u001b[0m\u001b[0;34m:\u001b[0m\u001b[0;34m\u001b[0m\u001b[0;34m\u001b[0m\u001b[0m\n\u001b[0;32m--> 296\u001b[0;31m             \u001b[0mversion\u001b[0m\u001b[0;34m,\u001b[0m \u001b[0mstatus\u001b[0m\u001b[0;34m,\u001b[0m \u001b[0mreason\u001b[0m \u001b[0;34m=\u001b[0m \u001b[0mself\u001b[0m\u001b[0;34m.\u001b[0m\u001b[0m_read_status\u001b[0m\u001b[0;34m(\u001b[0m\u001b[0;34m)\u001b[0m\u001b[0;34m\u001b[0m\u001b[0;34m\u001b[0m\u001b[0m\n\u001b[0m\u001b[1;32m    297\u001b[0m             \u001b[0;32mif\u001b[0m \u001b[0mstatus\u001b[0m \u001b[0;34m!=\u001b[0m \u001b[0mCONTINUE\u001b[0m\u001b[0;34m:\u001b[0m\u001b[0;34m\u001b[0m\u001b[0;34m\u001b[0m\u001b[0m\n",
      "\u001b[0;32m~/anaconda3/lib/python3.7/http/client.py\u001b[0m in \u001b[0;36m_read_status\u001b[0;34m(self)\u001b[0m\n\u001b[1;32m    256\u001b[0m     \u001b[0;32mdef\u001b[0m \u001b[0m_read_status\u001b[0m\u001b[0;34m(\u001b[0m\u001b[0mself\u001b[0m\u001b[0;34m)\u001b[0m\u001b[0;34m:\u001b[0m\u001b[0;34m\u001b[0m\u001b[0;34m\u001b[0m\u001b[0m\n\u001b[0;32m--> 257\u001b[0;31m         \u001b[0mline\u001b[0m \u001b[0;34m=\u001b[0m \u001b[0mstr\u001b[0m\u001b[0;34m(\u001b[0m\u001b[0mself\u001b[0m\u001b[0;34m.\u001b[0m\u001b[0mfp\u001b[0m\u001b[0;34m.\u001b[0m\u001b[0mreadline\u001b[0m\u001b[0;34m(\u001b[0m\u001b[0m_MAXLINE\u001b[0m \u001b[0;34m+\u001b[0m \u001b[0;36m1\u001b[0m\u001b[0;34m)\u001b[0m\u001b[0;34m,\u001b[0m \u001b[0;34m\"iso-8859-1\"\u001b[0m\u001b[0;34m)\u001b[0m\u001b[0;34m\u001b[0m\u001b[0;34m\u001b[0m\u001b[0m\n\u001b[0m\u001b[1;32m    258\u001b[0m         \u001b[0;32mif\u001b[0m \u001b[0mlen\u001b[0m\u001b[0;34m(\u001b[0m\u001b[0mline\u001b[0m\u001b[0;34m)\u001b[0m \u001b[0;34m>\u001b[0m \u001b[0m_MAXLINE\u001b[0m\u001b[0;34m:\u001b[0m\u001b[0;34m\u001b[0m\u001b[0;34m\u001b[0m\u001b[0m\n",
      "\u001b[0;32m~/anaconda3/lib/python3.7/socket.py\u001b[0m in \u001b[0;36mreadinto\u001b[0;34m(self, b)\u001b[0m\n\u001b[1;32m    588\u001b[0m             \u001b[0;32mtry\u001b[0m\u001b[0;34m:\u001b[0m\u001b[0;34m\u001b[0m\u001b[0;34m\u001b[0m\u001b[0m\n\u001b[0;32m--> 589\u001b[0;31m                 \u001b[0;32mreturn\u001b[0m \u001b[0mself\u001b[0m\u001b[0;34m.\u001b[0m\u001b[0m_sock\u001b[0m\u001b[0;34m.\u001b[0m\u001b[0mrecv_into\u001b[0m\u001b[0;34m(\u001b[0m\u001b[0mb\u001b[0m\u001b[0;34m)\u001b[0m\u001b[0;34m\u001b[0m\u001b[0;34m\u001b[0m\u001b[0m\n\u001b[0m\u001b[1;32m    590\u001b[0m             \u001b[0;32mexcept\u001b[0m \u001b[0mtimeout\u001b[0m\u001b[0;34m:\u001b[0m\u001b[0;34m\u001b[0m\u001b[0;34m\u001b[0m\u001b[0m\n",
      "\u001b[0;32m~/anaconda3/lib/python3.7/ssl.py\u001b[0m in \u001b[0;36mrecv_into\u001b[0;34m(self, buffer, nbytes, flags)\u001b[0m\n\u001b[1;32m   1051\u001b[0m                   self.__class__)\n\u001b[0;32m-> 1052\u001b[0;31m             \u001b[0;32mreturn\u001b[0m \u001b[0mself\u001b[0m\u001b[0;34m.\u001b[0m\u001b[0mread\u001b[0m\u001b[0;34m(\u001b[0m\u001b[0mnbytes\u001b[0m\u001b[0;34m,\u001b[0m \u001b[0mbuffer\u001b[0m\u001b[0;34m)\u001b[0m\u001b[0;34m\u001b[0m\u001b[0;34m\u001b[0m\u001b[0m\n\u001b[0m\u001b[1;32m   1053\u001b[0m         \u001b[0;32melse\u001b[0m\u001b[0;34m:\u001b[0m\u001b[0;34m\u001b[0m\u001b[0;34m\u001b[0m\u001b[0m\n",
      "\u001b[0;32m~/anaconda3/lib/python3.7/ssl.py\u001b[0m in \u001b[0;36mread\u001b[0;34m(self, len, buffer)\u001b[0m\n\u001b[1;32m    910\u001b[0m             \u001b[0;32mif\u001b[0m \u001b[0mbuffer\u001b[0m \u001b[0;32mis\u001b[0m \u001b[0;32mnot\u001b[0m \u001b[0;32mNone\u001b[0m\u001b[0;34m:\u001b[0m\u001b[0;34m\u001b[0m\u001b[0;34m\u001b[0m\u001b[0m\n\u001b[0;32m--> 911\u001b[0;31m                 \u001b[0;32mreturn\u001b[0m \u001b[0mself\u001b[0m\u001b[0;34m.\u001b[0m\u001b[0m_sslobj\u001b[0m\u001b[0;34m.\u001b[0m\u001b[0mread\u001b[0m\u001b[0;34m(\u001b[0m\u001b[0mlen\u001b[0m\u001b[0;34m,\u001b[0m \u001b[0mbuffer\u001b[0m\u001b[0;34m)\u001b[0m\u001b[0;34m\u001b[0m\u001b[0;34m\u001b[0m\u001b[0m\n\u001b[0m\u001b[1;32m    912\u001b[0m             \u001b[0;32melse\u001b[0m\u001b[0;34m:\u001b[0m\u001b[0;34m\u001b[0m\u001b[0;34m\u001b[0m\u001b[0m\n",
      "\u001b[0;31mtimeout\u001b[0m: The read operation timed out",
      "\nDuring handling of the above exception, another exception occurred:\n",
      "\u001b[0;31mGeocoderTimedOut\u001b[0m                          Traceback (most recent call last)",
      "\u001b[0;32m<ipython-input-45-9ec0a256d367>\u001b[0m in \u001b[0;36m<module>\u001b[0;34m\u001b[0m\n\u001b[0;32m----> 1\u001b[0;31m \u001b[0mlacsgeo\u001b[0m \u001b[0;34m=\u001b[0m \u001b[0mgeocode\u001b[0m\u001b[0;34m(\u001b[0m\u001b[0mlacs\u001b[0m\u001b[0;34m[\u001b[0m\u001b[0;34m'address'\u001b[0m\u001b[0;34m]\u001b[0m\u001b[0;34m,\u001b[0m \u001b[0mapi_key\u001b[0m\u001b[0;34m=\u001b[0m\u001b[0mkey\u001b[0m\u001b[0;34m,\u001b[0m \u001b[0mtimeout\u001b[0m\u001b[0;34m=\u001b[0m\u001b[0;36m10\u001b[0m\u001b[0;34m)\u001b[0m\u001b[0;34m\u001b[0m\u001b[0;34m\u001b[0m\u001b[0m\n\u001b[0m",
      "\u001b[0;32m~/anaconda3/lib/python3.7/site-packages/geopandas/tools/geocoding.py\u001b[0m in \u001b[0;36mgeocode\u001b[0;34m(strings, provider, **kwargs)\u001b[0m\n\u001b[1;32m     60\u001b[0m \u001b[0;34m\u001b[0m\u001b[0m\n\u001b[1;32m     61\u001b[0m     \"\"\"\n\u001b[0;32m---> 62\u001b[0;31m     \u001b[0;32mreturn\u001b[0m \u001b[0m_query\u001b[0m\u001b[0;34m(\u001b[0m\u001b[0mstrings\u001b[0m\u001b[0;34m,\u001b[0m \u001b[0;32mTrue\u001b[0m\u001b[0;34m,\u001b[0m \u001b[0mprovider\u001b[0m\u001b[0;34m,\u001b[0m \u001b[0;34m**\u001b[0m\u001b[0mkwargs\u001b[0m\u001b[0;34m)\u001b[0m\u001b[0;34m\u001b[0m\u001b[0;34m\u001b[0m\u001b[0m\n\u001b[0m\u001b[1;32m     63\u001b[0m \u001b[0;34m\u001b[0m\u001b[0m\n\u001b[1;32m     64\u001b[0m \u001b[0;34m\u001b[0m\u001b[0m\n",
      "\u001b[0;32m~/anaconda3/lib/python3.7/site-packages/geopandas/tools/geocoding.py\u001b[0m in \u001b[0;36m_query\u001b[0;34m(data, forward, provider, **kwargs)\u001b[0m\n\u001b[1;32m    124\u001b[0m         \u001b[0;32mtry\u001b[0m\u001b[0;34m:\u001b[0m\u001b[0;34m\u001b[0m\u001b[0;34m\u001b[0m\u001b[0m\n\u001b[1;32m    125\u001b[0m             \u001b[0;32mif\u001b[0m \u001b[0mforward\u001b[0m\u001b[0;34m:\u001b[0m\u001b[0;34m\u001b[0m\u001b[0;34m\u001b[0m\u001b[0m\n\u001b[0;32m--> 126\u001b[0;31m                 \u001b[0mresults\u001b[0m\u001b[0;34m[\u001b[0m\u001b[0mi\u001b[0m\u001b[0;34m]\u001b[0m \u001b[0;34m=\u001b[0m \u001b[0mcoder\u001b[0m\u001b[0;34m.\u001b[0m\u001b[0mgeocode\u001b[0m\u001b[0;34m(\u001b[0m\u001b[0ms\u001b[0m\u001b[0;34m)\u001b[0m\u001b[0;34m\u001b[0m\u001b[0;34m\u001b[0m\u001b[0m\n\u001b[0m\u001b[1;32m    127\u001b[0m             \u001b[0;32melse\u001b[0m\u001b[0;34m:\u001b[0m\u001b[0;34m\u001b[0m\u001b[0;34m\u001b[0m\u001b[0m\n\u001b[1;32m    128\u001b[0m                 \u001b[0mresults\u001b[0m\u001b[0;34m[\u001b[0m\u001b[0mi\u001b[0m\u001b[0;34m]\u001b[0m \u001b[0;34m=\u001b[0m \u001b[0mcoder\u001b[0m\u001b[0;34m.\u001b[0m\u001b[0mreverse\u001b[0m\u001b[0;34m(\u001b[0m\u001b[0;34m(\u001b[0m\u001b[0ms\u001b[0m\u001b[0;34m.\u001b[0m\u001b[0my\u001b[0m\u001b[0;34m,\u001b[0m \u001b[0ms\u001b[0m\u001b[0;34m.\u001b[0m\u001b[0mx\u001b[0m\u001b[0;34m)\u001b[0m\u001b[0;34m,\u001b[0m \u001b[0mexactly_one\u001b[0m\u001b[0;34m=\u001b[0m\u001b[0;32mTrue\u001b[0m\u001b[0;34m)\u001b[0m\u001b[0;34m\u001b[0m\u001b[0;34m\u001b[0m\u001b[0m\n",
      "\u001b[0;32m~/anaconda3/lib/python3.7/site-packages/geopy/geocoders/googlev3.py\u001b[0m in \u001b[0;36mgeocode\u001b[0;34m(self, query, exactly_one, timeout, bounds, region, components, language, sensor)\u001b[0m\n\u001b[1;32m    251\u001b[0m         \u001b[0mlogger\u001b[0m\u001b[0;34m.\u001b[0m\u001b[0mdebug\u001b[0m\u001b[0;34m(\u001b[0m\u001b[0;34m\"%s.geocode: %s\"\u001b[0m\u001b[0;34m,\u001b[0m \u001b[0mself\u001b[0m\u001b[0;34m.\u001b[0m\u001b[0m__class__\u001b[0m\u001b[0;34m.\u001b[0m\u001b[0m__name__\u001b[0m\u001b[0;34m,\u001b[0m \u001b[0murl\u001b[0m\u001b[0;34m)\u001b[0m\u001b[0;34m\u001b[0m\u001b[0;34m\u001b[0m\u001b[0m\n\u001b[1;32m    252\u001b[0m         return self._parse_json(\n\u001b[0;32m--> 253\u001b[0;31m             \u001b[0mself\u001b[0m\u001b[0;34m.\u001b[0m\u001b[0m_call_geocoder\u001b[0m\u001b[0;34m(\u001b[0m\u001b[0murl\u001b[0m\u001b[0;34m,\u001b[0m \u001b[0mtimeout\u001b[0m\u001b[0;34m=\u001b[0m\u001b[0mtimeout\u001b[0m\u001b[0;34m)\u001b[0m\u001b[0;34m,\u001b[0m \u001b[0mexactly_one\u001b[0m\u001b[0;34m\u001b[0m\u001b[0;34m\u001b[0m\u001b[0m\n\u001b[0m\u001b[1;32m    254\u001b[0m         )\n\u001b[1;32m    255\u001b[0m \u001b[0;34m\u001b[0m\u001b[0m\n",
      "\u001b[0;32m~/anaconda3/lib/python3.7/site-packages/geopy/geocoders/base.py\u001b[0m in \u001b[0;36m_call_geocoder\u001b[0;34m(self, url, timeout, raw, requester, deserializer, **kwargs)\u001b[0m\n\u001b[1;32m    369\u001b[0m                     \u001b[0;32mraise\u001b[0m \u001b[0mGeocoderUnavailable\u001b[0m\u001b[0;34m(\u001b[0m\u001b[0;34m'Service not available'\u001b[0m\u001b[0;34m)\u001b[0m\u001b[0;34m\u001b[0m\u001b[0;34m\u001b[0m\u001b[0m\n\u001b[1;32m    370\u001b[0m             \u001b[0;32melif\u001b[0m \u001b[0misinstance\u001b[0m\u001b[0;34m(\u001b[0m\u001b[0merror\u001b[0m\u001b[0;34m,\u001b[0m \u001b[0mSocketTimeout\u001b[0m\u001b[0;34m)\u001b[0m\u001b[0;34m:\u001b[0m\u001b[0;34m\u001b[0m\u001b[0;34m\u001b[0m\u001b[0m\n\u001b[0;32m--> 371\u001b[0;31m                 \u001b[0;32mraise\u001b[0m \u001b[0mGeocoderTimedOut\u001b[0m\u001b[0;34m(\u001b[0m\u001b[0;34m'Service timed out'\u001b[0m\u001b[0;34m)\u001b[0m\u001b[0;34m\u001b[0m\u001b[0;34m\u001b[0m\u001b[0m\n\u001b[0m\u001b[1;32m    372\u001b[0m             \u001b[0;32melif\u001b[0m \u001b[0misinstance\u001b[0m\u001b[0;34m(\u001b[0m\u001b[0merror\u001b[0m\u001b[0;34m,\u001b[0m \u001b[0mSSLError\u001b[0m\u001b[0;34m)\u001b[0m\u001b[0;34m:\u001b[0m\u001b[0;34m\u001b[0m\u001b[0;34m\u001b[0m\u001b[0m\n\u001b[1;32m    373\u001b[0m                 \u001b[0;32mif\u001b[0m \u001b[0;34m\"timed out\"\u001b[0m \u001b[0;32min\u001b[0m \u001b[0mmessage\u001b[0m\u001b[0;34m:\u001b[0m\u001b[0;34m\u001b[0m\u001b[0;34m\u001b[0m\u001b[0m\n",
      "\u001b[0;31mGeocoderTimedOut\u001b[0m: Service timed out"
     ]
    }
   ],
   "source": [
    "lacsgeo = geocode(lacs['address'], api_key=key, timeout=10)"
   ]
  },
  {
   "cell_type": "code",
   "execution_count": null,
   "metadata": {},
   "outputs": [],
   "source": [
    "hitrungeo = geocode(hitrun['HUNDREDBLOCKADDR'], api_key=key)"
   ]
  },
  {
   "cell_type": "code",
   "execution_count": 15,
   "metadata": {},
   "outputs": [
    {
     "data": {
      "text/plain": [
       "ACCIDENT REPORT                           61.465645\n",
       "NO ACTION REQUIRED                        31.046012\n",
       "DEPARTMENTAL REPORT                        7.037190\n",
       "OTHER (SUPP/FALSE ALARM/FI/LOUD PARTY)     0.230612\n",
       "TRAFFIC CITATION                           0.220542\n",
       "Name: DISPOSITION, dtype: float64"
      ]
     },
     "execution_count": 15,
     "metadata": {},
     "output_type": "execute_result"
    }
   ],
   "source": [
    "lacs.DISPOSITION.value_counts() / len(lacs) * 100"
   ]
  },
  {
   "cell_type": "code",
   "execution_count": 16,
   "metadata": {},
   "outputs": [
    {
     "data": {
      "text/plain": [
       "NO ACTION REQUIRED                        51.448047\n",
       "DEPARTMENTAL REPORT                       24.762867\n",
       "ACCIDENT REPORT                           23.230065\n",
       "OTHER (SUPP/FALSE ALARM/FI/LOUD PARTY)     0.483283\n",
       "TRAFFIC CITATION                           0.075738\n",
       "Name: DISPOSITION, dtype: float64"
      ]
     },
     "execution_count": 16,
     "metadata": {},
     "output_type": "execute_result"
    }
   ],
   "source": [
    "hitrun.DISPOSITION.value_counts() / len(hitrun) * 100"
   ]
  },
  {
   "cell_type": "code",
   "execution_count": 17,
   "metadata": {},
   "outputs": [
    {
     "data": {
      "text/plain": [
       "ACCIDENT NO INJURIES      81.196564\n",
       "ACCIDENT WITH INJURIES    18.588937\n",
       "ACCIDENT FATALITY          0.214499\n",
       "Name: FINAL_CALL_TYPE, dtype: float64"
      ]
     },
     "execution_count": 17,
     "metadata": {},
     "output_type": "execute_result"
    }
   ],
   "source": [
    "lacs.FINAL_CALL_TYPE.value_counts() / len(lacs) * 100"
   ]
  },
  {
   "cell_type": "code",
   "execution_count": 18,
   "metadata": {},
   "outputs": [
    {
     "data": {
      "text/plain": [
       "HIT & RUN ACCIDENT NO INJURY        93.573052\n",
       "HIT & RUN ACCIDENT WITH INJURIES     6.336784\n",
       "HIT & RUN  FATALITY                  0.090165\n",
       "Name: FINAL_CALL_TYPE, dtype: float64"
      ]
     },
     "execution_count": 18,
     "metadata": {},
     "output_type": "execute_result"
    }
   ],
   "source": [
    "hitrun.FINAL_CALL_TYPE.value_counts() / len(hitrun) * 100"
   ]
  },
  {
   "cell_type": "code",
   "execution_count": 19,
   "metadata": {},
   "outputs": [
    {
     "data": {
      "text/plain": [
       "0.21827471108731933"
      ]
     },
     "execution_count": 19,
     "metadata": {},
     "output_type": "execute_result"
    }
   ],
   "source": [
    "len(hitrun) / (len(hitrun) + len(lacs))"
   ]
  },
  {
   "cell_type": "code",
   "execution_count": 20,
   "metadata": {},
   "outputs": [
    {
     "data": {
      "text/html": [
       "<div>\n",
       "<style scoped>\n",
       "    .dataframe tbody tr th:only-of-type {\n",
       "        vertical-align: middle;\n",
       "    }\n",
       "\n",
       "    .dataframe tbody tr th {\n",
       "        vertical-align: top;\n",
       "    }\n",
       "\n",
       "    .dataframe thead th {\n",
       "        text-align: right;\n",
       "    }\n",
       "</style>\n",
       "<table border=\"1\" class=\"dataframe\">\n",
       "  <thead>\n",
       "    <tr style=\"text-align: right;\">\n",
       "      <th></th>\n",
       "      <th>INCIDENT_NUM</th>\n",
       "      <th>DISP_CODE</th>\n",
       "      <th>DISPOSITION</th>\n",
       "      <th>FINAL_RADIO_CODE</th>\n",
       "      <th>FINAL_CALL_TYPE</th>\n",
       "      <th>HUNDREDBLOCKADDR</th>\n",
       "      <th>GRID</th>\n",
       "    </tr>\n",
       "    <tr>\n",
       "      <th>CALL_RECEIVED</th>\n",
       "      <th></th>\n",
       "      <th></th>\n",
       "      <th></th>\n",
       "      <th></th>\n",
       "      <th></th>\n",
       "      <th></th>\n",
       "      <th></th>\n",
       "    </tr>\n",
       "  </thead>\n",
       "  <tbody>\n",
       "    <tr>\n",
       "      <th>2015-11-02 08:04:44</th>\n",
       "      <td>201502108062</td>\n",
       "      <td>A</td>\n",
       "      <td>ACCIDENT REPORT</td>\n",
       "      <td>962</td>\n",
       "      <td>ACCIDENT WITH INJURIES</td>\n",
       "      <td>N 49TH DR &amp; W ESCUDA DR</td>\n",
       "      <td>EA17</td>\n",
       "    </tr>\n",
       "    <tr>\n",
       "      <th>2015-11-01 10:09:50</th>\n",
       "      <td>201502102088</td>\n",
       "      <td>N</td>\n",
       "      <td>NO ACTION REQUIRED</td>\n",
       "      <td>961</td>\n",
       "      <td>ACCIDENT NO INJURIES</td>\n",
       "      <td>E PARADISE LN &amp; N 32ND ST</td>\n",
       "      <td>DF35</td>\n",
       "    </tr>\n",
       "    <tr>\n",
       "      <th>2015-11-01 10:35:06</th>\n",
       "      <td>201502102198</td>\n",
       "      <td>N</td>\n",
       "      <td>NO ACTION REQUIRED</td>\n",
       "      <td>961</td>\n",
       "      <td>ACCIDENT NO INJURIES</td>\n",
       "      <td>4000 W CAMELBACK RD</td>\n",
       "      <td>BI19A</td>\n",
       "    </tr>\n",
       "    <tr>\n",
       "      <th>2015-11-01 18:03:38</th>\n",
       "      <td>201502104894</td>\n",
       "      <td>N</td>\n",
       "      <td>NO ACTION REQUIRED</td>\n",
       "      <td>961</td>\n",
       "      <td>ACCIDENT NO INJURIES</td>\n",
       "      <td>3700 W SIERRA ST</td>\n",
       "      <td>DA20</td>\n",
       "    </tr>\n",
       "    <tr>\n",
       "      <th>2015-11-01 18:22:35</th>\n",
       "      <td>201502105017</td>\n",
       "      <td>N</td>\n",
       "      <td>NO ACTION REQUIRED</td>\n",
       "      <td>961</td>\n",
       "      <td>ACCIDENT NO INJURIES</td>\n",
       "      <td>1900 E THOMAS RD</td>\n",
       "      <td>BE31</td>\n",
       "    </tr>\n",
       "  </tbody>\n",
       "</table>\n",
       "</div>"
      ],
      "text/plain": [
       "                     INCIDENT_NUM DISP_CODE         DISPOSITION  \\\n",
       "CALL_RECEIVED                                                     \n",
       "2015-11-02 08:04:44  201502108062         A     ACCIDENT REPORT   \n",
       "2015-11-01 10:09:50  201502102088         N  NO ACTION REQUIRED   \n",
       "2015-11-01 10:35:06  201502102198         N  NO ACTION REQUIRED   \n",
       "2015-11-01 18:03:38  201502104894         N  NO ACTION REQUIRED   \n",
       "2015-11-01 18:22:35  201502105017         N  NO ACTION REQUIRED   \n",
       "\n",
       "                    FINAL_RADIO_CODE         FINAL_CALL_TYPE  \\\n",
       "CALL_RECEIVED                                                  \n",
       "2015-11-02 08:04:44              962  ACCIDENT WITH INJURIES   \n",
       "2015-11-01 10:09:50              961    ACCIDENT NO INJURIES   \n",
       "2015-11-01 10:35:06              961    ACCIDENT NO INJURIES   \n",
       "2015-11-01 18:03:38              961    ACCIDENT NO INJURIES   \n",
       "2015-11-01 18:22:35              961    ACCIDENT NO INJURIES   \n",
       "\n",
       "                              HUNDREDBLOCKADDR   GRID  \n",
       "CALL_RECEIVED                                          \n",
       "2015-11-02 08:04:44    N 49TH DR & W ESCUDA DR   EA17  \n",
       "2015-11-01 10:09:50  E PARADISE LN & N 32ND ST   DF35  \n",
       "2015-11-01 10:35:06        4000 W CAMELBACK RD  BI19A  \n",
       "2015-11-01 18:03:38           3700 W SIERRA ST   DA20  \n",
       "2015-11-01 18:22:35           1900 E THOMAS RD   BE31  "
      ]
     },
     "execution_count": 20,
     "metadata": {},
     "output_type": "execute_result"
    }
   ],
   "source": [
    "lacs.head()"
   ]
  },
  {
   "cell_type": "code",
   "execution_count": null,
   "metadata": {},
   "outputs": [],
   "source": []
  }
 ],
 "metadata": {
  "kernelspec": {
   "display_name": "Python 3",
   "language": "python",
   "name": "python3"
  },
  "language_info": {
   "codemirror_mode": {
    "name": "ipython",
    "version": 3
   },
   "file_extension": ".py",
   "mimetype": "text/x-python",
   "name": "python",
   "nbconvert_exporter": "python",
   "pygments_lexer": "ipython3",
   "version": "3.7.1"
  }
 },
 "nbformat": 4,
 "nbformat_minor": 2
}
