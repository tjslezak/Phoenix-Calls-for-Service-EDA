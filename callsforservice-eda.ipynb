{
 "cells": [
  {
   "cell_type": "code",
   "execution_count": 113,
   "metadata": {},
   "outputs": [],
   "source": [
    "import pandas as pd\n",
    "import hvplot.pandas\n",
    "import numpy as np"
   ]
  },
  {
   "cell_type": "code",
   "execution_count": 114,
   "metadata": {},
   "outputs": [],
   "source": [
    "df = pd.read_csv('callsforservice.csv')"
   ]
  },
  {
   "cell_type": "code",
   "execution_count": 115,
   "metadata": {},
   "outputs": [
    {
     "data": {
      "text/html": [
       "<div>\n",
       "<style scoped>\n",
       "    .dataframe tbody tr th:only-of-type {\n",
       "        vertical-align: middle;\n",
       "    }\n",
       "\n",
       "    .dataframe tbody tr th {\n",
       "        vertical-align: top;\n",
       "    }\n",
       "\n",
       "    .dataframe thead th {\n",
       "        text-align: right;\n",
       "    }\n",
       "</style>\n",
       "<table border=\"1\" class=\"dataframe\">\n",
       "  <thead>\n",
       "    <tr style=\"text-align: right;\">\n",
       "      <th></th>\n",
       "      <th>INCIDENT_NUM</th>\n",
       "      <th>DISP_CODE</th>\n",
       "      <th>DISPOSITION</th>\n",
       "      <th>FINAL_RADIO_CODE</th>\n",
       "      <th>FINAL_CALL_TYPE</th>\n",
       "      <th>CALL_RECEIVED</th>\n",
       "      <th>HUNDREDBLOCKADDR</th>\n",
       "      <th>GRID</th>\n",
       "    </tr>\n",
       "  </thead>\n",
       "  <tbody>\n",
       "    <tr>\n",
       "      <th>0</th>\n",
       "      <td>201502108490</td>\n",
       "      <td>N</td>\n",
       "      <td>NO ACTION REQUIRED</td>\n",
       "      <td>647V</td>\n",
       "      <td>SUSPICIOUS PERSON IN VEHICLE</td>\n",
       "      <td>11/2/2015   9:16:27AM</td>\n",
       "      <td>154XX N 29TH ST</td>\n",
       "      <td>DF34</td>\n",
       "    </tr>\n",
       "    <tr>\n",
       "      <th>1</th>\n",
       "      <td>201502108749</td>\n",
       "      <td>N</td>\n",
       "      <td>NO ACTION REQUIRED</td>\n",
       "      <td>418T</td>\n",
       "      <td>TRESPASSING</td>\n",
       "      <td>11/2/2015   9:58:57AM</td>\n",
       "      <td>96XX N 10TH AVE</td>\n",
       "      <td>CH26</td>\n",
       "    </tr>\n",
       "    <tr>\n",
       "      <th>2</th>\n",
       "      <td>201502108648</td>\n",
       "      <td>O</td>\n",
       "      <td>OTHER (SUPP/FALSE ALARM/FI/LOUD PARTY)</td>\n",
       "      <td>459A</td>\n",
       "      <td>BURGLARY ALARM</td>\n",
       "      <td>11/2/2015   9:42:42AM</td>\n",
       "      <td>38XX E WATKINS ST</td>\n",
       "      <td>AH36B</td>\n",
       "    </tr>\n",
       "    <tr>\n",
       "      <th>3</th>\n",
       "      <td>201502108757</td>\n",
       "      <td>N</td>\n",
       "      <td>NO ACTION REQUIRED</td>\n",
       "      <td>418T</td>\n",
       "      <td>TRESPASSING</td>\n",
       "      <td>11/2/2015  10:02:11AM</td>\n",
       "      <td>36XX W CAMELBACK RD</td>\n",
       "      <td>BI20</td>\n",
       "    </tr>\n",
       "    <tr>\n",
       "      <th>4</th>\n",
       "      <td>201502108592</td>\n",
       "      <td>N</td>\n",
       "      <td>NO ACTION REQUIRED</td>\n",
       "      <td>900</td>\n",
       "      <td>CHECK WELFARE</td>\n",
       "      <td>11/2/2015   9:30:53AM</td>\n",
       "      <td>40XX N 44TH AVE</td>\n",
       "      <td>BG18</td>\n",
       "    </tr>\n",
       "  </tbody>\n",
       "</table>\n",
       "</div>"
      ],
      "text/plain": [
       "   INCIDENT_NUM DISP_CODE                             DISPOSITION  \\\n",
       "0  201502108490         N                      NO ACTION REQUIRED   \n",
       "1  201502108749         N                      NO ACTION REQUIRED   \n",
       "2  201502108648         O  OTHER (SUPP/FALSE ALARM/FI/LOUD PARTY)   \n",
       "3  201502108757         N                      NO ACTION REQUIRED   \n",
       "4  201502108592         N                      NO ACTION REQUIRED   \n",
       "\n",
       "  FINAL_RADIO_CODE               FINAL_CALL_TYPE          CALL_RECEIVED  \\\n",
       "0             647V  SUSPICIOUS PERSON IN VEHICLE  11/2/2015   9:16:27AM   \n",
       "1             418T                   TRESPASSING  11/2/2015   9:58:57AM   \n",
       "2             459A                BURGLARY ALARM  11/2/2015   9:42:42AM   \n",
       "3             418T                   TRESPASSING  11/2/2015  10:02:11AM   \n",
       "4              900                 CHECK WELFARE  11/2/2015   9:30:53AM   \n",
       "\n",
       "      HUNDREDBLOCKADDR   GRID  \n",
       "0      154XX N 29TH ST   DF34  \n",
       "1      96XX N 10TH AVE   CH26  \n",
       "2    38XX E WATKINS ST  AH36B  \n",
       "3  36XX W CAMELBACK RD   BI20  \n",
       "4      40XX N 44TH AVE   BG18  "
      ]
     },
     "execution_count": 115,
     "metadata": {},
     "output_type": "execute_result"
    }
   ],
   "source": [
    "df.head()"
   ]
  },
  {
   "cell_type": "code",
   "execution_count": 116,
   "metadata": {},
   "outputs": [
    {
     "name": "stdout",
     "output_type": "stream",
     "text": [
      "<class 'pandas.core.frame.DataFrame'>\n",
      "RangeIndex: 2171125 entries, 0 to 2171124\n",
      "Data columns (total 8 columns):\n",
      "INCIDENT_NUM        int64\n",
      "DISP_CODE           object\n",
      "DISPOSITION         object\n",
      "FINAL_RADIO_CODE    object\n",
      "FINAL_CALL_TYPE     object\n",
      "CALL_RECEIVED       object\n",
      "HUNDREDBLOCKADDR    object\n",
      "GRID                object\n",
      "dtypes: int64(1), object(7)\n",
      "memory usage: 132.5+ MB\n"
     ]
    }
   ],
   "source": [
    "df.info()"
   ]
  },
  {
   "cell_type": "code",
   "execution_count": 117,
   "metadata": {},
   "outputs": [
    {
     "data": {
      "text/html": [
       "<div>\n",
       "<style scoped>\n",
       "    .dataframe tbody tr th:only-of-type {\n",
       "        vertical-align: middle;\n",
       "    }\n",
       "\n",
       "    .dataframe tbody tr th {\n",
       "        vertical-align: top;\n",
       "    }\n",
       "\n",
       "    .dataframe thead th {\n",
       "        text-align: right;\n",
       "    }\n",
       "</style>\n",
       "<table border=\"1\" class=\"dataframe\">\n",
       "  <thead>\n",
       "    <tr style=\"text-align: right;\">\n",
       "      <th></th>\n",
       "      <th>INCIDENT_NUM</th>\n",
       "      <th>DISP_CODE</th>\n",
       "      <th>DISPOSITION</th>\n",
       "      <th>FINAL_RADIO_CODE</th>\n",
       "      <th>FINAL_CALL_TYPE</th>\n",
       "      <th>CALL_RECEIVED</th>\n",
       "      <th>HUNDREDBLOCKADDR</th>\n",
       "      <th>GRID</th>\n",
       "    </tr>\n",
       "  </thead>\n",
       "  <tbody>\n",
       "    <tr>\n",
       "      <th>0</th>\n",
       "      <td>201502108490</td>\n",
       "      <td>N</td>\n",
       "      <td>NO ACTION REQUIRED</td>\n",
       "      <td>647V</td>\n",
       "      <td>SUSPICIOUS PERSON IN VEHICLE</td>\n",
       "      <td>11/2/2015   9:16:27AM</td>\n",
       "      <td>154XX N 29TH ST</td>\n",
       "      <td>DF34</td>\n",
       "    </tr>\n",
       "    <tr>\n",
       "      <th>1</th>\n",
       "      <td>201502108749</td>\n",
       "      <td>N</td>\n",
       "      <td>NO ACTION REQUIRED</td>\n",
       "      <td>418T</td>\n",
       "      <td>TRESPASSING</td>\n",
       "      <td>11/2/2015   9:58:57AM</td>\n",
       "      <td>96XX N 10TH AVE</td>\n",
       "      <td>CH26</td>\n",
       "    </tr>\n",
       "    <tr>\n",
       "      <th>2</th>\n",
       "      <td>201502108648</td>\n",
       "      <td>O</td>\n",
       "      <td>OTHER (SUPP/FALSE ALARM/FI/LOUD PARTY)</td>\n",
       "      <td>459A</td>\n",
       "      <td>BURGLARY ALARM</td>\n",
       "      <td>11/2/2015   9:42:42AM</td>\n",
       "      <td>38XX E WATKINS ST</td>\n",
       "      <td>AH36B</td>\n",
       "    </tr>\n",
       "    <tr>\n",
       "      <th>3</th>\n",
       "      <td>201502108757</td>\n",
       "      <td>N</td>\n",
       "      <td>NO ACTION REQUIRED</td>\n",
       "      <td>418T</td>\n",
       "      <td>TRESPASSING</td>\n",
       "      <td>11/2/2015  10:02:11AM</td>\n",
       "      <td>36XX W CAMELBACK RD</td>\n",
       "      <td>BI20</td>\n",
       "    </tr>\n",
       "    <tr>\n",
       "      <th>4</th>\n",
       "      <td>201502108592</td>\n",
       "      <td>N</td>\n",
       "      <td>NO ACTION REQUIRED</td>\n",
       "      <td>900</td>\n",
       "      <td>CHECK WELFARE</td>\n",
       "      <td>11/2/2015   9:30:53AM</td>\n",
       "      <td>40XX N 44TH AVE</td>\n",
       "      <td>BG18</td>\n",
       "    </tr>\n",
       "  </tbody>\n",
       "</table>\n",
       "</div>"
      ],
      "text/plain": [
       "   INCIDENT_NUM DISP_CODE                             DISPOSITION  \\\n",
       "0  201502108490         N                      NO ACTION REQUIRED   \n",
       "1  201502108749         N                      NO ACTION REQUIRED   \n",
       "2  201502108648         O  OTHER (SUPP/FALSE ALARM/FI/LOUD PARTY)   \n",
       "3  201502108757         N                      NO ACTION REQUIRED   \n",
       "4  201502108592         N                      NO ACTION REQUIRED   \n",
       "\n",
       "  FINAL_RADIO_CODE               FINAL_CALL_TYPE          CALL_RECEIVED  \\\n",
       "0             647V  SUSPICIOUS PERSON IN VEHICLE  11/2/2015   9:16:27AM   \n",
       "1             418T                   TRESPASSING  11/2/2015   9:58:57AM   \n",
       "2             459A                BURGLARY ALARM  11/2/2015   9:42:42AM   \n",
       "3             418T                   TRESPASSING  11/2/2015  10:02:11AM   \n",
       "4              900                 CHECK WELFARE  11/2/2015   9:30:53AM   \n",
       "\n",
       "      HUNDREDBLOCKADDR   GRID  \n",
       "0      154XX N 29TH ST   DF34  \n",
       "1      96XX N 10TH AVE   CH26  \n",
       "2    38XX E WATKINS ST  AH36B  \n",
       "3  36XX W CAMELBACK RD   BI20  \n",
       "4      40XX N 44TH AVE   BG18  "
      ]
     },
     "execution_count": 117,
     "metadata": {},
     "output_type": "execute_result"
    }
   ],
   "source": [
    "tst = df.iloc[:500, :]\n",
    "tst.head()"
   ]
  },
  {
   "cell_type": "code",
   "execution_count": 118,
   "metadata": {},
   "outputs": [],
   "source": [
    "df['HUNDREDBLOCKADDR'] = df.HUNDREDBLOCKADDR.str.replace('XX', '00')"
   ]
  },
  {
   "cell_type": "code",
   "execution_count": 127,
   "metadata": {},
   "outputs": [],
   "source": [
    "df.dropna(inplace=True)\n",
    "# lacs = Legal accidents\n",
    "lacs = df[df.FINAL_RADIO_CODE.isin(['961', '962', '963'])]\n",
    "hitrun = df[df.FINAL_RADIO_CODE.isin(['961H', '962H', '963H'])]"
   ]
  },
  {
   "cell_type": "code",
   "execution_count": 128,
   "metadata": {},
   "outputs": [],
   "source": [
    "lacs.loc[:, 'CALL_RECEIVED'] = pd.to_datetime(lacs.CALL_RECEIVED)\n",
    "lacs.set_index('CALL_RECEIVED', inplace=True)"
   ]
  },
  {
   "cell_type": "code",
   "execution_count": 129,
   "metadata": {},
   "outputs": [],
   "source": [
    "hitrun.loc[:, 'CALL_RECEIVED'] = pd.to_datetime(hitrun.CALL_RECEIVED)\n",
    "hitrun.set_index('CALL_RECEIVED', inplace=True)"
   ]
  },
  {
   "cell_type": "code",
   "execution_count": 131,
   "metadata": {},
   "outputs": [
    {
     "data": {
      "text/plain": [
       "ACCIDENT REPORT                           61.465645\n",
       "NO ACTION REQUIRED                        31.046012\n",
       "DEPARTMENTAL REPORT                        7.037190\n",
       "OTHER (SUPP/FALSE ALARM/FI/LOUD PARTY)     0.230612\n",
       "TRAFFIC CITATION                           0.220542\n",
       "Name: DISPOSITION, dtype: float64"
      ]
     },
     "execution_count": 131,
     "metadata": {},
     "output_type": "execute_result"
    }
   ],
   "source": [
    "lacs.DISPOSITION.value_counts() / len(lacs) * 100"
   ]
  },
  {
   "cell_type": "code",
   "execution_count": 132,
   "metadata": {},
   "outputs": [
    {
     "data": {
      "text/plain": [
       "NO ACTION REQUIRED                        51.448047\n",
       "DEPARTMENTAL REPORT                       24.762867\n",
       "ACCIDENT REPORT                           23.230065\n",
       "OTHER (SUPP/FALSE ALARM/FI/LOUD PARTY)     0.483283\n",
       "TRAFFIC CITATION                           0.075738\n",
       "Name: DISPOSITION, dtype: float64"
      ]
     },
     "execution_count": 132,
     "metadata": {},
     "output_type": "execute_result"
    }
   ],
   "source": [
    "hitrun.DISPOSITION.value_counts() / len(hitrun) * 100"
   ]
  },
  {
   "cell_type": "code",
   "execution_count": 124,
   "metadata": {},
   "outputs": [
    {
     "data": {
      "text/plain": [
       "ACCIDENT NO INJURIES      81.196564\n",
       "ACCIDENT WITH INJURIES    18.588937\n",
       "ACCIDENT FATALITY          0.214499\n",
       "Name: FINAL_CALL_TYPE, dtype: float64"
      ]
     },
     "execution_count": 124,
     "metadata": {},
     "output_type": "execute_result"
    }
   ],
   "source": [
    "lacs.FINAL_CALL_TYPE.value_counts() / len(lacs) * 100"
   ]
  },
  {
   "cell_type": "code",
   "execution_count": 125,
   "metadata": {},
   "outputs": [
    {
     "data": {
      "text/plain": [
       "HIT & RUN ACCIDENT NO INJURY        93.573052\n",
       "HIT & RUN ACCIDENT WITH INJURIES     6.336784\n",
       "HIT & RUN  FATALITY                  0.090165\n",
       "Name: FINAL_CALL_TYPE, dtype: float64"
      ]
     },
     "execution_count": 125,
     "metadata": {},
     "output_type": "execute_result"
    }
   ],
   "source": [
    "hitrun.FINAL_CALL_TYPE.value_counts() / len(hitrun) * 100"
   ]
  },
  {
   "cell_type": "code",
   "execution_count": 141,
   "metadata": {},
   "outputs": [
    {
     "data": {
      "text/plain": [
       "0.21827471108731933"
      ]
     },
     "execution_count": 141,
     "metadata": {},
     "output_type": "execute_result"
    }
   ],
   "source": [
    "len(hitrun) / (len(hitrun) + len(lacs))"
   ]
  },
  {
   "cell_type": "code",
   "execution_count": 143,
   "metadata": {},
   "outputs": [
    {
     "data": {
      "text/html": [
       "<div>\n",
       "<style scoped>\n",
       "    .dataframe tbody tr th:only-of-type {\n",
       "        vertical-align: middle;\n",
       "    }\n",
       "\n",
       "    .dataframe tbody tr th {\n",
       "        vertical-align: top;\n",
       "    }\n",
       "\n",
       "    .dataframe thead th {\n",
       "        text-align: right;\n",
       "    }\n",
       "</style>\n",
       "<table border=\"1\" class=\"dataframe\">\n",
       "  <thead>\n",
       "    <tr style=\"text-align: right;\">\n",
       "      <th></th>\n",
       "      <th>INCIDENT_NUM</th>\n",
       "      <th>DISP_CODE</th>\n",
       "      <th>DISPOSITION</th>\n",
       "      <th>FINAL_RADIO_CODE</th>\n",
       "      <th>FINAL_CALL_TYPE</th>\n",
       "      <th>HUNDREDBLOCKADDR</th>\n",
       "      <th>GRID</th>\n",
       "    </tr>\n",
       "    <tr>\n",
       "      <th>CALL_RECEIVED</th>\n",
       "      <th></th>\n",
       "      <th></th>\n",
       "      <th></th>\n",
       "      <th></th>\n",
       "      <th></th>\n",
       "      <th></th>\n",
       "      <th></th>\n",
       "    </tr>\n",
       "  </thead>\n",
       "  <tbody>\n",
       "    <tr>\n",
       "      <th>2015-11-02 08:04:44</th>\n",
       "      <td>201502108062</td>\n",
       "      <td>A</td>\n",
       "      <td>ACCIDENT REPORT</td>\n",
       "      <td>962</td>\n",
       "      <td>ACCIDENT WITH INJURIES</td>\n",
       "      <td>N 49TH DR &amp; W ESCUDA DR</td>\n",
       "      <td>EA17</td>\n",
       "    </tr>\n",
       "    <tr>\n",
       "      <th>2015-11-01 10:09:50</th>\n",
       "      <td>201502102088</td>\n",
       "      <td>N</td>\n",
       "      <td>NO ACTION REQUIRED</td>\n",
       "      <td>961</td>\n",
       "      <td>ACCIDENT NO INJURIES</td>\n",
       "      <td>E PARADISE LN &amp; N 32ND ST</td>\n",
       "      <td>DF35</td>\n",
       "    </tr>\n",
       "    <tr>\n",
       "      <th>2015-11-01 10:35:06</th>\n",
       "      <td>201502102198</td>\n",
       "      <td>N</td>\n",
       "      <td>NO ACTION REQUIRED</td>\n",
       "      <td>961</td>\n",
       "      <td>ACCIDENT NO INJURIES</td>\n",
       "      <td>4000 W CAMELBACK RD</td>\n",
       "      <td>BI19A</td>\n",
       "    </tr>\n",
       "    <tr>\n",
       "      <th>2015-11-01 18:03:38</th>\n",
       "      <td>201502104894</td>\n",
       "      <td>N</td>\n",
       "      <td>NO ACTION REQUIRED</td>\n",
       "      <td>961</td>\n",
       "      <td>ACCIDENT NO INJURIES</td>\n",
       "      <td>3700 W SIERRA ST</td>\n",
       "      <td>DA20</td>\n",
       "    </tr>\n",
       "    <tr>\n",
       "      <th>2015-11-01 18:22:35</th>\n",
       "      <td>201502105017</td>\n",
       "      <td>N</td>\n",
       "      <td>NO ACTION REQUIRED</td>\n",
       "      <td>961</td>\n",
       "      <td>ACCIDENT NO INJURIES</td>\n",
       "      <td>1900 E THOMAS RD</td>\n",
       "      <td>BE31</td>\n",
       "    </tr>\n",
       "  </tbody>\n",
       "</table>\n",
       "</div>"
      ],
      "text/plain": [
       "                     INCIDENT_NUM DISP_CODE         DISPOSITION  \\\n",
       "CALL_RECEIVED                                                     \n",
       "2015-11-02 08:04:44  201502108062         A     ACCIDENT REPORT   \n",
       "2015-11-01 10:09:50  201502102088         N  NO ACTION REQUIRED   \n",
       "2015-11-01 10:35:06  201502102198         N  NO ACTION REQUIRED   \n",
       "2015-11-01 18:03:38  201502104894         N  NO ACTION REQUIRED   \n",
       "2015-11-01 18:22:35  201502105017         N  NO ACTION REQUIRED   \n",
       "\n",
       "                    FINAL_RADIO_CODE         FINAL_CALL_TYPE  \\\n",
       "CALL_RECEIVED                                                  \n",
       "2015-11-02 08:04:44              962  ACCIDENT WITH INJURIES   \n",
       "2015-11-01 10:09:50              961    ACCIDENT NO INJURIES   \n",
       "2015-11-01 10:35:06              961    ACCIDENT NO INJURIES   \n",
       "2015-11-01 18:03:38              961    ACCIDENT NO INJURIES   \n",
       "2015-11-01 18:22:35              961    ACCIDENT NO INJURIES   \n",
       "\n",
       "                              HUNDREDBLOCKADDR   GRID  \n",
       "CALL_RECEIVED                                          \n",
       "2015-11-02 08:04:44    N 49TH DR & W ESCUDA DR   EA17  \n",
       "2015-11-01 10:09:50  E PARADISE LN & N 32ND ST   DF35  \n",
       "2015-11-01 10:35:06        4000 W CAMELBACK RD  BI19A  \n",
       "2015-11-01 18:03:38           3700 W SIERRA ST   DA20  \n",
       "2015-11-01 18:22:35           1900 E THOMAS RD   BE31  "
      ]
     },
     "execution_count": 143,
     "metadata": {},
     "output_type": "execute_result"
    }
   ],
   "source": [
    "lacs.head()"
   ]
  },
  {
   "cell_type": "code",
   "execution_count": null,
   "metadata": {},
   "outputs": [],
   "source": []
  }
 ],
 "metadata": {
  "kernelspec": {
   "display_name": "Python 3",
   "language": "python",
   "name": "python3"
  },
  "language_info": {
   "codemirror_mode": {
    "name": "ipython",
    "version": 3
   },
   "file_extension": ".py",
   "mimetype": "text/x-python",
   "name": "python",
   "nbconvert_exporter": "python",
   "pygments_lexer": "ipython3",
   "version": "3.7.1"
  }
 },
 "nbformat": 4,
 "nbformat_minor": 2
}
