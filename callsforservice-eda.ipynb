{
 "cells": [
  {
   "cell_type": "code",
   "execution_count": 13,
   "metadata": {},
   "outputs": [],
   "source": [
    "import pandas as pd\n",
    "import hvplot.pandas\n",
    "import numpy as np"
   ]
  },
  {
   "cell_type": "code",
   "execution_count": 14,
   "metadata": {},
   "outputs": [],
   "source": [
    "df = pd.read_csv('callsforservice.csv')"
   ]
  },
  {
   "cell_type": "code",
   "execution_count": 15,
   "metadata": {},
   "outputs": [
    {
     "data": {
      "text/html": [
       "<div>\n",
       "<style scoped>\n",
       "    .dataframe tbody tr th:only-of-type {\n",
       "        vertical-align: middle;\n",
       "    }\n",
       "\n",
       "    .dataframe tbody tr th {\n",
       "        vertical-align: top;\n",
       "    }\n",
       "\n",
       "    .dataframe thead th {\n",
       "        text-align: right;\n",
       "    }\n",
       "</style>\n",
       "<table border=\"1\" class=\"dataframe\">\n",
       "  <thead>\n",
       "    <tr style=\"text-align: right;\">\n",
       "      <th></th>\n",
       "      <th>INCIDENT_NUM</th>\n",
       "      <th>DISP_CODE</th>\n",
       "      <th>DISPOSITION</th>\n",
       "      <th>FINAL_RADIO_CODE</th>\n",
       "      <th>FINAL_CALL_TYPE</th>\n",
       "      <th>CALL_RECEIVED</th>\n",
       "      <th>HUNDREDBLOCKADDR</th>\n",
       "      <th>GRID</th>\n",
       "    </tr>\n",
       "  </thead>\n",
       "  <tbody>\n",
       "    <tr>\n",
       "      <th>0</th>\n",
       "      <td>201502108490</td>\n",
       "      <td>N</td>\n",
       "      <td>NO ACTION REQUIRED</td>\n",
       "      <td>647V</td>\n",
       "      <td>SUSPICIOUS PERSON IN VEHICLE</td>\n",
       "      <td>11/2/2015   9:16:27AM</td>\n",
       "      <td>154XX N 29TH ST</td>\n",
       "      <td>DF34</td>\n",
       "    </tr>\n",
       "    <tr>\n",
       "      <th>1</th>\n",
       "      <td>201502108749</td>\n",
       "      <td>N</td>\n",
       "      <td>NO ACTION REQUIRED</td>\n",
       "      <td>418T</td>\n",
       "      <td>TRESPASSING</td>\n",
       "      <td>11/2/2015   9:58:57AM</td>\n",
       "      <td>96XX N 10TH AVE</td>\n",
       "      <td>CH26</td>\n",
       "    </tr>\n",
       "    <tr>\n",
       "      <th>2</th>\n",
       "      <td>201502108648</td>\n",
       "      <td>O</td>\n",
       "      <td>OTHER (SUPP/FALSE ALARM/FI/LOUD PARTY)</td>\n",
       "      <td>459A</td>\n",
       "      <td>BURGLARY ALARM</td>\n",
       "      <td>11/2/2015   9:42:42AM</td>\n",
       "      <td>38XX E WATKINS ST</td>\n",
       "      <td>AH36B</td>\n",
       "    </tr>\n",
       "    <tr>\n",
       "      <th>3</th>\n",
       "      <td>201502108757</td>\n",
       "      <td>N</td>\n",
       "      <td>NO ACTION REQUIRED</td>\n",
       "      <td>418T</td>\n",
       "      <td>TRESPASSING</td>\n",
       "      <td>11/2/2015  10:02:11AM</td>\n",
       "      <td>36XX W CAMELBACK RD</td>\n",
       "      <td>BI20</td>\n",
       "    </tr>\n",
       "    <tr>\n",
       "      <th>4</th>\n",
       "      <td>201502108592</td>\n",
       "      <td>N</td>\n",
       "      <td>NO ACTION REQUIRED</td>\n",
       "      <td>900</td>\n",
       "      <td>CHECK WELFARE</td>\n",
       "      <td>11/2/2015   9:30:53AM</td>\n",
       "      <td>40XX N 44TH AVE</td>\n",
       "      <td>BG18</td>\n",
       "    </tr>\n",
       "  </tbody>\n",
       "</table>\n",
       "</div>"
      ],
      "text/plain": [
       "   INCIDENT_NUM DISP_CODE                             DISPOSITION  \\\n",
       "0  201502108490         N                      NO ACTION REQUIRED   \n",
       "1  201502108749         N                      NO ACTION REQUIRED   \n",
       "2  201502108648         O  OTHER (SUPP/FALSE ALARM/FI/LOUD PARTY)   \n",
       "3  201502108757         N                      NO ACTION REQUIRED   \n",
       "4  201502108592         N                      NO ACTION REQUIRED   \n",
       "\n",
       "  FINAL_RADIO_CODE               FINAL_CALL_TYPE          CALL_RECEIVED  \\\n",
       "0             647V  SUSPICIOUS PERSON IN VEHICLE  11/2/2015   9:16:27AM   \n",
       "1             418T                   TRESPASSING  11/2/2015   9:58:57AM   \n",
       "2             459A                BURGLARY ALARM  11/2/2015   9:42:42AM   \n",
       "3             418T                   TRESPASSING  11/2/2015  10:02:11AM   \n",
       "4              900                 CHECK WELFARE  11/2/2015   9:30:53AM   \n",
       "\n",
       "      HUNDREDBLOCKADDR   GRID  \n",
       "0      154XX N 29TH ST   DF34  \n",
       "1      96XX N 10TH AVE   CH26  \n",
       "2    38XX E WATKINS ST  AH36B  \n",
       "3  36XX W CAMELBACK RD   BI20  \n",
       "4      40XX N 44TH AVE   BG18  "
      ]
     },
     "execution_count": 15,
     "metadata": {},
     "output_type": "execute_result"
    }
   ],
   "source": [
    "df.head()"
   ]
  },
  {
   "cell_type": "code",
   "execution_count": 16,
   "metadata": {},
   "outputs": [
    {
     "name": "stdout",
     "output_type": "stream",
     "text": [
      "<class 'pandas.core.frame.DataFrame'>\n",
      "RangeIndex: 2171125 entries, 0 to 2171124\n",
      "Data columns (total 8 columns):\n",
      "INCIDENT_NUM        int64\n",
      "DISP_CODE           object\n",
      "DISPOSITION         object\n",
      "FINAL_RADIO_CODE    object\n",
      "FINAL_CALL_TYPE     object\n",
      "CALL_RECEIVED       object\n",
      "HUNDREDBLOCKADDR    object\n",
      "GRID                object\n",
      "dtypes: int64(1), object(7)\n",
      "memory usage: 132.5+ MB\n"
     ]
    }
   ],
   "source": [
    "df.info()"
   ]
  },
  {
   "cell_type": "code",
   "execution_count": 17,
   "metadata": {},
   "outputs": [
    {
     "data": {
      "text/html": [
       "<div>\n",
       "<style scoped>\n",
       "    .dataframe tbody tr th:only-of-type {\n",
       "        vertical-align: middle;\n",
       "    }\n",
       "\n",
       "    .dataframe tbody tr th {\n",
       "        vertical-align: top;\n",
       "    }\n",
       "\n",
       "    .dataframe thead th {\n",
       "        text-align: right;\n",
       "    }\n",
       "</style>\n",
       "<table border=\"1\" class=\"dataframe\">\n",
       "  <thead>\n",
       "    <tr style=\"text-align: right;\">\n",
       "      <th></th>\n",
       "      <th>INCIDENT_NUM</th>\n",
       "      <th>DISP_CODE</th>\n",
       "      <th>DISPOSITION</th>\n",
       "      <th>FINAL_RADIO_CODE</th>\n",
       "      <th>FINAL_CALL_TYPE</th>\n",
       "      <th>CALL_RECEIVED</th>\n",
       "      <th>HUNDREDBLOCKADDR</th>\n",
       "      <th>GRID</th>\n",
       "    </tr>\n",
       "  </thead>\n",
       "  <tbody>\n",
       "    <tr>\n",
       "      <th>0</th>\n",
       "      <td>201502108490</td>\n",
       "      <td>N</td>\n",
       "      <td>NO ACTION REQUIRED</td>\n",
       "      <td>647V</td>\n",
       "      <td>SUSPICIOUS PERSON IN VEHICLE</td>\n",
       "      <td>11/2/2015   9:16:27AM</td>\n",
       "      <td>154XX N 29TH ST</td>\n",
       "      <td>DF34</td>\n",
       "    </tr>\n",
       "    <tr>\n",
       "      <th>1</th>\n",
       "      <td>201502108749</td>\n",
       "      <td>N</td>\n",
       "      <td>NO ACTION REQUIRED</td>\n",
       "      <td>418T</td>\n",
       "      <td>TRESPASSING</td>\n",
       "      <td>11/2/2015   9:58:57AM</td>\n",
       "      <td>96XX N 10TH AVE</td>\n",
       "      <td>CH26</td>\n",
       "    </tr>\n",
       "    <tr>\n",
       "      <th>2</th>\n",
       "      <td>201502108648</td>\n",
       "      <td>O</td>\n",
       "      <td>OTHER (SUPP/FALSE ALARM/FI/LOUD PARTY)</td>\n",
       "      <td>459A</td>\n",
       "      <td>BURGLARY ALARM</td>\n",
       "      <td>11/2/2015   9:42:42AM</td>\n",
       "      <td>38XX E WATKINS ST</td>\n",
       "      <td>AH36B</td>\n",
       "    </tr>\n",
       "    <tr>\n",
       "      <th>3</th>\n",
       "      <td>201502108757</td>\n",
       "      <td>N</td>\n",
       "      <td>NO ACTION REQUIRED</td>\n",
       "      <td>418T</td>\n",
       "      <td>TRESPASSING</td>\n",
       "      <td>11/2/2015  10:02:11AM</td>\n",
       "      <td>36XX W CAMELBACK RD</td>\n",
       "      <td>BI20</td>\n",
       "    </tr>\n",
       "    <tr>\n",
       "      <th>4</th>\n",
       "      <td>201502108592</td>\n",
       "      <td>N</td>\n",
       "      <td>NO ACTION REQUIRED</td>\n",
       "      <td>900</td>\n",
       "      <td>CHECK WELFARE</td>\n",
       "      <td>11/2/2015   9:30:53AM</td>\n",
       "      <td>40XX N 44TH AVE</td>\n",
       "      <td>BG18</td>\n",
       "    </tr>\n",
       "  </tbody>\n",
       "</table>\n",
       "</div>"
      ],
      "text/plain": [
       "   INCIDENT_NUM DISP_CODE                             DISPOSITION  \\\n",
       "0  201502108490         N                      NO ACTION REQUIRED   \n",
       "1  201502108749         N                      NO ACTION REQUIRED   \n",
       "2  201502108648         O  OTHER (SUPP/FALSE ALARM/FI/LOUD PARTY)   \n",
       "3  201502108757         N                      NO ACTION REQUIRED   \n",
       "4  201502108592         N                      NO ACTION REQUIRED   \n",
       "\n",
       "  FINAL_RADIO_CODE               FINAL_CALL_TYPE          CALL_RECEIVED  \\\n",
       "0             647V  SUSPICIOUS PERSON IN VEHICLE  11/2/2015   9:16:27AM   \n",
       "1             418T                   TRESPASSING  11/2/2015   9:58:57AM   \n",
       "2             459A                BURGLARY ALARM  11/2/2015   9:42:42AM   \n",
       "3             418T                   TRESPASSING  11/2/2015  10:02:11AM   \n",
       "4              900                 CHECK WELFARE  11/2/2015   9:30:53AM   \n",
       "\n",
       "      HUNDREDBLOCKADDR   GRID  \n",
       "0      154XX N 29TH ST   DF34  \n",
       "1      96XX N 10TH AVE   CH26  \n",
       "2    38XX E WATKINS ST  AH36B  \n",
       "3  36XX W CAMELBACK RD   BI20  \n",
       "4      40XX N 44TH AVE   BG18  "
      ]
     },
     "execution_count": 17,
     "metadata": {},
     "output_type": "execute_result"
    }
   ],
   "source": [
    "tst = df.iloc[:500, :]\n",
    "tst.head()"
   ]
  },
  {
   "cell_type": "code",
   "execution_count": 18,
   "metadata": {},
   "outputs": [],
   "source": [
    "df.dropna(inplace=True)\n",
    "df = df[df.FINAL_CALL_TYPE.str.contains('ACCIDENT', np.nan)]"
   ]
  },
  {
   "cell_type": "code",
   "execution_count": 19,
   "metadata": {},
   "outputs": [],
   "source": [
    "df['date'] = pd.to_datetime(df.CALL_RECEIVED)\n",
    "df.set_index('date', inplace=True)"
   ]
  },
  {
   "cell_type": "code",
   "execution_count": 20,
   "metadata": {},
   "outputs": [
    {
     "data": {
      "text/html": [
       "<div>\n",
       "<style scoped>\n",
       "    .dataframe tbody tr th:only-of-type {\n",
       "        vertical-align: middle;\n",
       "    }\n",
       "\n",
       "    .dataframe tbody tr th {\n",
       "        vertical-align: top;\n",
       "    }\n",
       "\n",
       "    .dataframe thead th {\n",
       "        text-align: right;\n",
       "    }\n",
       "</style>\n",
       "<table border=\"1\" class=\"dataframe\">\n",
       "  <thead>\n",
       "    <tr style=\"text-align: right;\">\n",
       "      <th></th>\n",
       "      <th>INCIDENT_NUM</th>\n",
       "      <th>DISP_CODE</th>\n",
       "      <th>DISPOSITION</th>\n",
       "      <th>FINAL_RADIO_CODE</th>\n",
       "      <th>FINAL_CALL_TYPE</th>\n",
       "      <th>CALL_RECEIVED</th>\n",
       "      <th>HUNDREDBLOCKADDR</th>\n",
       "      <th>GRID</th>\n",
       "    </tr>\n",
       "    <tr>\n",
       "      <th>date</th>\n",
       "      <th></th>\n",
       "      <th></th>\n",
       "      <th></th>\n",
       "      <th></th>\n",
       "      <th></th>\n",
       "      <th></th>\n",
       "      <th></th>\n",
       "      <th></th>\n",
       "    </tr>\n",
       "  </thead>\n",
       "  <tbody>\n",
       "    <tr>\n",
       "      <th>2015-11-01 01:01:07</th>\n",
       "      <td>201502100315</td>\n",
       "      <td>N</td>\n",
       "      <td>NO ACTION REQUIRED</td>\n",
       "      <td>961H</td>\n",
       "      <td>HIT &amp; RUN ACCIDENT NO INJURY</td>\n",
       "      <td>11/1/2015   1:01:07AM</td>\n",
       "      <td>S 67TH AVE &amp; W LOWER BUCKEYE RD</td>\n",
       "      <td>AG13</td>\n",
       "    </tr>\n",
       "    <tr>\n",
       "      <th>2015-11-02 08:04:44</th>\n",
       "      <td>201502108062</td>\n",
       "      <td>A</td>\n",
       "      <td>ACCIDENT REPORT</td>\n",
       "      <td>962</td>\n",
       "      <td>ACCIDENT WITH INJURIES</td>\n",
       "      <td>11/2/2015   8:04:44AM</td>\n",
       "      <td>N 49TH DR &amp; W ESCUDA DR</td>\n",
       "      <td>EA17</td>\n",
       "    </tr>\n",
       "    <tr>\n",
       "      <th>2015-11-01 10:09:50</th>\n",
       "      <td>201502102088</td>\n",
       "      <td>N</td>\n",
       "      <td>NO ACTION REQUIRED</td>\n",
       "      <td>961</td>\n",
       "      <td>ACCIDENT NO INJURIES</td>\n",
       "      <td>11/1/2015  10:09:50AM</td>\n",
       "      <td>E PARADISE LN &amp; N 32ND ST</td>\n",
       "      <td>DF35</td>\n",
       "    </tr>\n",
       "    <tr>\n",
       "      <th>2015-11-01 10:35:06</th>\n",
       "      <td>201502102198</td>\n",
       "      <td>N</td>\n",
       "      <td>NO ACTION REQUIRED</td>\n",
       "      <td>961</td>\n",
       "      <td>ACCIDENT NO INJURIES</td>\n",
       "      <td>11/1/2015  10:35:06AM</td>\n",
       "      <td>40XX W CAMELBACK RD</td>\n",
       "      <td>BI19A</td>\n",
       "    </tr>\n",
       "    <tr>\n",
       "      <th>2015-11-01 18:03:38</th>\n",
       "      <td>201502104894</td>\n",
       "      <td>N</td>\n",
       "      <td>NO ACTION REQUIRED</td>\n",
       "      <td>961</td>\n",
       "      <td>ACCIDENT NO INJURIES</td>\n",
       "      <td>11/1/2015   6:03:38PM</td>\n",
       "      <td>37XX W SIERRA ST</td>\n",
       "      <td>DA20</td>\n",
       "    </tr>\n",
       "  </tbody>\n",
       "</table>\n",
       "</div>"
      ],
      "text/plain": [
       "                     INCIDENT_NUM DISP_CODE         DISPOSITION  \\\n",
       "date                                                              \n",
       "2015-11-01 01:01:07  201502100315         N  NO ACTION REQUIRED   \n",
       "2015-11-02 08:04:44  201502108062         A     ACCIDENT REPORT   \n",
       "2015-11-01 10:09:50  201502102088         N  NO ACTION REQUIRED   \n",
       "2015-11-01 10:35:06  201502102198         N  NO ACTION REQUIRED   \n",
       "2015-11-01 18:03:38  201502104894         N  NO ACTION REQUIRED   \n",
       "\n",
       "                    FINAL_RADIO_CODE               FINAL_CALL_TYPE  \\\n",
       "date                                                                 \n",
       "2015-11-01 01:01:07             961H  HIT & RUN ACCIDENT NO INJURY   \n",
       "2015-11-02 08:04:44              962        ACCIDENT WITH INJURIES   \n",
       "2015-11-01 10:09:50              961          ACCIDENT NO INJURIES   \n",
       "2015-11-01 10:35:06              961          ACCIDENT NO INJURIES   \n",
       "2015-11-01 18:03:38              961          ACCIDENT NO INJURIES   \n",
       "\n",
       "                             CALL_RECEIVED                 HUNDREDBLOCKADDR  \\\n",
       "date                                                                          \n",
       "2015-11-01 01:01:07  11/1/2015   1:01:07AM  S 67TH AVE & W LOWER BUCKEYE RD   \n",
       "2015-11-02 08:04:44  11/2/2015   8:04:44AM          N 49TH DR & W ESCUDA DR   \n",
       "2015-11-01 10:09:50  11/1/2015  10:09:50AM        E PARADISE LN & N 32ND ST   \n",
       "2015-11-01 10:35:06  11/1/2015  10:35:06AM              40XX W CAMELBACK RD   \n",
       "2015-11-01 18:03:38  11/1/2015   6:03:38PM                 37XX W SIERRA ST   \n",
       "\n",
       "                      GRID  \n",
       "date                        \n",
       "2015-11-01 01:01:07   AG13  \n",
       "2015-11-02 08:04:44   EA17  \n",
       "2015-11-01 10:09:50   DF35  \n",
       "2015-11-01 10:35:06  BI19A  \n",
       "2015-11-01 18:03:38   DA20  "
      ]
     },
     "execution_count": 20,
     "metadata": {},
     "output_type": "execute_result"
    }
   ],
   "source": [
    "df.head()"
   ]
  },
  {
   "cell_type": "code",
   "execution_count": 21,
   "metadata": {},
   "outputs": [
    {
     "name": "stdout",
     "output_type": "stream",
     "text": [
      "<class 'pandas.core.frame.DataFrame'>\n",
      "DatetimeIndex: 128442 entries, 2015-11-01 01:01:07 to 2019-01-05 16:59:46\n",
      "Data columns (total 8 columns):\n",
      "INCIDENT_NUM        128442 non-null int64\n",
      "DISP_CODE           128442 non-null object\n",
      "DISPOSITION         128442 non-null object\n",
      "FINAL_RADIO_CODE    128442 non-null object\n",
      "FINAL_CALL_TYPE     128442 non-null object\n",
      "CALL_RECEIVED       128442 non-null object\n",
      "HUNDREDBLOCKADDR    128442 non-null object\n",
      "GRID                128442 non-null object\n",
      "dtypes: int64(1), object(7)\n",
      "memory usage: 8.8+ MB\n"
     ]
    }
   ],
   "source": [
    "df.info()"
   ]
  },
  {
   "cell_type": "code",
   "execution_count": 22,
   "metadata": {},
   "outputs": [],
   "source": [
    "df.dropna(inplace=True)\n",
    "df.drop_duplicates(inplace=True)"
   ]
  },
  {
   "cell_type": "code",
   "execution_count": 23,
   "metadata": {},
   "outputs": [
    {
     "name": "stdout",
     "output_type": "stream",
     "text": [
      "<class 'pandas.core.frame.DataFrame'>\n",
      "DatetimeIndex: 128419 entries, 2015-11-01 01:01:07 to 2019-01-05 16:59:46\n",
      "Data columns (total 8 columns):\n",
      "INCIDENT_NUM        128419 non-null int64\n",
      "DISP_CODE           128419 non-null object\n",
      "DISPOSITION         128419 non-null object\n",
      "FINAL_RADIO_CODE    128419 non-null object\n",
      "FINAL_CALL_TYPE     128419 non-null object\n",
      "CALL_RECEIVED       128419 non-null object\n",
      "HUNDREDBLOCKADDR    128419 non-null object\n",
      "GRID                128419 non-null object\n",
      "dtypes: int64(1), object(7)\n",
      "memory usage: 8.8+ MB\n"
     ]
    }
   ],
   "source": [
    "df.info()"
   ]
  },
  {
   "cell_type": "code",
   "execution_count": 24,
   "metadata": {},
   "outputs": [
    {
     "data": {
      "text/plain": [
       "ACCIDENT NO INJURIES                       80614\n",
       "HIT & RUN ACCIDENT NO INJURY               25937\n",
       "ACCIDENT WITH INJURIES                     18459\n",
       "HIT & RUN ACCIDENT WITH INJURIES            1757\n",
       "HIT & RUN ACCIDENT NO INJURIES SUPP          825\n",
       "ACCIDENT WITH INJURIES SUPPLEMENT            255\n",
       "ACCIDENT NO INJURIES SUPPLEMENT              248\n",
       "ACCIDENT FATALITY                            213\n",
       "HIT & RUN ACCIDENT W/ INJURY SUPPLEMENT      105\n",
       "ACCIDENT FATALITY SUPPLEMENT                   6\n",
       "Name: FINAL_CALL_TYPE, dtype: int64"
      ]
     },
     "execution_count": 24,
     "metadata": {},
     "output_type": "execute_result"
    }
   ],
   "source": [
    "df.FINAL_CALL_TYPE.value_counts()"
   ]
  },
  {
   "cell_type": "code",
   "execution_count": 36,
   "metadata": {},
   "outputs": [
    {
     "data": {
      "application/javascript": [
       "\n",
       "// Ugly hack - see HoloViews #2574 for more information\n",
       "if (!(document.getElementById('1453')) && !(document.getElementById('_anim_imgNone'))) {\n",
       "  console.log(\"Creating DOM nodes dynamically for assumed nbconvert export. To generate clean HTML output set HV_DOC_HTML as an environment variable.\")\n",
       "  var htmlObject = document.createElement('div');\n",
       "  htmlObject.innerHTML = `<div id='1453' style='display: table; margin: 0 auto;'>\n",
       "\n",
       "\n",
       "\n",
       "\n",
       "\n",
       "  <div class=\"bk-root\" id=\"e2cb4b81-13b8-4e0f-8021-dbedbb6436b4\"></div>\n",
       "</div>`;\n",
       "  var scriptTags = document.getElementsByTagName('script');\n",
       "  var parentTag = scriptTags[scriptTags.length-1].parentNode;\n",
       "  if (parentTag.attributes.length && (parentTag.attributes[0].name == 'data-shell-mode')) {\n",
       "    alert('Displaying PyViz objects in JupyterLab requires the jupyterlab_pyviz extension to be installed, install it with:\\n\\n\\tjupyter labextension install @pyviz/jupyterlab_pyviz');\n",
       "  } else {\n",
       "    parentTag.append(htmlObject)\n",
       "  }\n",
       "}\n",
       "(function(root) {\n",
       "  function embed_document(root) {\n",
       "    \n",
       "  var docs_json = {\"328ab00c-bfcf-4e1a-a425-1b9e545f5ce4\":{\"roots\":{\"references\":[{\"attributes\":{\"below\":[{\"id\":\"1461\",\"type\":\"LinearAxis\"}],\"left\":[{\"id\":\"1466\",\"type\":\"LinearAxis\"}],\"min_border_bottom\":10,\"min_border_left\":10,\"min_border_right\":10,\"min_border_top\":10,\"plot_height\":300,\"plot_width\":700,\"renderers\":[{\"id\":\"1461\",\"type\":\"LinearAxis\"},{\"id\":\"1465\",\"type\":\"Grid\"},{\"id\":\"1466\",\"type\":\"LinearAxis\"},{\"id\":\"1470\",\"type\":\"Grid\"},{\"id\":\"1480\",\"type\":\"BoxAnnotation\"},{\"id\":\"1491\",\"type\":\"GlyphRenderer\"}],\"title\":{\"id\":\"1452\",\"type\":\"Title\"},\"toolbar\":{\"id\":\"1476\",\"type\":\"Toolbar\"},\"x_range\":{\"id\":\"1449\",\"type\":\"Range1d\"},\"x_scale\":{\"id\":\"1457\",\"type\":\"LinearScale\"},\"y_range\":{\"id\":\"1450\",\"type\":\"Range1d\"},\"y_scale\":{\"id\":\"1459\",\"type\":\"LinearScale\"}},\"id\":\"1453\",\"subtype\":\"Figure\",\"type\":\"Plot\"},{\"attributes\":{\"plot\":null,\"text\":\"\",\"text_color\":{\"value\":\"black\"},\"text_font_size\":{\"value\":\"12pt\"}},\"id\":\"1452\",\"type\":\"Title\"},{\"attributes\":{},\"id\":\"1467\",\"type\":\"BasicTicker\"},{\"attributes\":{\"callback\":null,\"end\":7.0,\"reset_end\":7.0,\"reset_start\":0.0,\"tags\":[[[\"FINAL_CALL_TYPE_count\",\"Count\",null]]]},\"id\":\"1450\",\"type\":\"Range1d\"},{\"attributes\":{\"bottom\":{\"value\":0},\"fill_color\":{\"value\":\"#1f77b4\"},\"left\":{\"field\":\"left\"},\"right\":{\"field\":\"right\"},\"top\":{\"field\":\"top\"}},\"id\":\"1488\",\"type\":\"Quad\"},{\"attributes\":{},\"id\":\"1473\",\"type\":\"WheelZoomTool\"},{\"attributes\":{\"callback\":null,\"end\":80614.0,\"reset_end\":80614.0,\"reset_start\":6.0,\"start\":6.0,\"tags\":[[[\"FINAL_CALL_TYPE\",\"FINAL_CALL_TYPE\",null]]]},\"id\":\"1449\",\"type\":\"Range1d\"},{\"attributes\":{\"callback\":null,\"data\":{\"FINAL_CALL_TYPE\":{\"__ndarray__\":\"zczMzMyUn0CamZmZmaO3QAAAAAAAscNANDMzMzOQy0AzMzMzs7fRQM3MzMxMp9VAZmZmZuaW2UAAAAAAgIbdQM3MzMwMu+BAmpmZmdmy4kBmZmZmpqrkQDQzMzNzouZAAAAAAECa6EDNzMzMDJLqQJqZmZnZiexAZmZmZqaB7kCamZmZuTzwQAAAAACgOPFAZmZmZoY08kDNzMzMbDDzQA==\",\"dtype\":\"float64\",\"shape\":[20]},\"FINAL_CALL_TYPE_count\":[7,0,0,0,1,0,1,0,0,0,0,0,0,0,0,0,0,0,0,1],\"left\":{\"__ndarray__\":\"AAAAAAAAGEDNzMzMzIivQM3MzMzMgr9AmpmZmZmgx0DNzMzMzH/PQAAAAACAr9NAmpmZmRmf10AzMzMzs47bQM3MzMxMft9AMzMzM/O24UAAAAAAwK7jQM3MzMyMpuVAmpmZmVme50BnZmZmJpbpQDMzMzPzjetAAAAAAMCF7UDNzMzMjH3vQM3MzMysuvBAMzMzM5O28UCamZmZebLyQA==\",\"dtype\":\"float64\",\"shape\":[20]},\"right\":{\"__ndarray__\":\"zczMzMyIr0DNzMzMzIK/QJqZmZmZoMdAzczMzMx/z0AAAAAAgK/TQJqZmZkZn9dAMzMzM7OO20DNzMzMTH7fQDMzMzPztuFAAAAAAMCu40DNzMzMjKblQJqZmZlZnudAZ2ZmZiaW6UAzMzMz843rQAAAAADAhe1AzczMzIx970DNzMzMrLrwQDMzMzOTtvFAmpmZmXmy8kAAAAAAYK7zQA==\",\"dtype\":\"float64\",\"shape\":[20]},\"top\":[7,0,0,0,1,0,1,0,0,0,0,0,0,0,0,0,0,0,0,1]},\"selected\":{\"id\":\"1486\",\"type\":\"Selection\"},\"selection_policy\":{\"id\":\"1504\",\"type\":\"UnionRenderers\"}},\"id\":\"1485\",\"type\":\"ColumnDataSource\"},{\"attributes\":{},\"id\":\"1475\",\"type\":\"ResetTool\"},{\"attributes\":{},\"id\":\"1472\",\"type\":\"PanTool\"},{\"attributes\":{\"bottom_units\":\"screen\",\"fill_alpha\":{\"value\":0.5},\"fill_color\":{\"value\":\"lightgrey\"},\"left_units\":\"screen\",\"level\":\"overlay\",\"line_alpha\":{\"value\":1.0},\"line_color\":{\"value\":\"black\"},\"line_dash\":[4,4],\"line_width\":{\"value\":2},\"plot\":null,\"render_mode\":\"css\",\"right_units\":\"screen\",\"top_units\":\"screen\"},\"id\":\"1480\",\"type\":\"BoxAnnotation\"},{\"attributes\":{},\"id\":\"1494\",\"type\":\"BasicTickFormatter\"},{\"attributes\":{\"axis_label\":\"FINAL_CALL_TYPE\",\"bounds\":\"auto\",\"formatter\":{\"id\":\"1494\",\"type\":\"BasicTickFormatter\"},\"major_label_orientation\":\"horizontal\",\"plot\":{\"id\":\"1453\",\"subtype\":\"Figure\",\"type\":\"Plot\"},\"ticker\":{\"id\":\"1462\",\"type\":\"BasicTicker\"}},\"id\":\"1461\",\"type\":\"LinearAxis\"},{\"attributes\":{},\"id\":\"1504\",\"type\":\"UnionRenderers\"},{\"attributes\":{},\"id\":\"1471\",\"type\":\"SaveTool\"},{\"attributes\":{\"active_drag\":\"auto\",\"active_inspect\":\"auto\",\"active_multi\":null,\"active_scroll\":\"auto\",\"active_tap\":\"auto\",\"tools\":[{\"id\":\"1451\",\"type\":\"HoverTool\"},{\"id\":\"1471\",\"type\":\"SaveTool\"},{\"id\":\"1472\",\"type\":\"PanTool\"},{\"id\":\"1473\",\"type\":\"WheelZoomTool\"},{\"id\":\"1474\",\"type\":\"BoxZoomTool\"},{\"id\":\"1475\",\"type\":\"ResetTool\"}]},\"id\":\"1476\",\"type\":\"Toolbar\"},{\"attributes\":{},\"id\":\"1462\",\"type\":\"BasicTicker\"},{\"attributes\":{\"grid_line_color\":{\"value\":null},\"plot\":{\"id\":\"1453\",\"subtype\":\"Figure\",\"type\":\"Plot\"},\"ticker\":{\"id\":\"1462\",\"type\":\"BasicTicker\"}},\"id\":\"1465\",\"type\":\"Grid\"},{\"attributes\":{\"dimension\":1,\"grid_line_color\":{\"value\":null},\"plot\":{\"id\":\"1453\",\"subtype\":\"Figure\",\"type\":\"Plot\"},\"ticker\":{\"id\":\"1467\",\"type\":\"BasicTicker\"}},\"id\":\"1470\",\"type\":\"Grid\"},{\"attributes\":{\"axis_label\":\"\",\"bounds\":\"auto\",\"formatter\":{\"id\":\"1496\",\"type\":\"BasicTickFormatter\"},\"major_label_orientation\":\"horizontal\",\"plot\":{\"id\":\"1453\",\"subtype\":\"Figure\",\"type\":\"Plot\"},\"ticker\":{\"id\":\"1467\",\"type\":\"BasicTicker\"}},\"id\":\"1466\",\"type\":\"LinearAxis\"},{\"attributes\":{},\"id\":\"1496\",\"type\":\"BasicTickFormatter\"},{\"attributes\":{\"overlay\":{\"id\":\"1480\",\"type\":\"BoxAnnotation\"}},\"id\":\"1474\",\"type\":\"BoxZoomTool\"},{\"attributes\":{\"source\":{\"id\":\"1485\",\"type\":\"ColumnDataSource\"}},\"id\":\"1492\",\"type\":\"CDSView\"},{\"attributes\":{},\"id\":\"1459\",\"type\":\"LinearScale\"},{\"attributes\":{},\"id\":\"1457\",\"type\":\"LinearScale\"},{\"attributes\":{\"data_source\":{\"id\":\"1485\",\"type\":\"ColumnDataSource\"},\"glyph\":{\"id\":\"1488\",\"type\":\"Quad\"},\"hover_glyph\":null,\"muted_glyph\":{\"id\":\"1490\",\"type\":\"Quad\"},\"nonselection_glyph\":{\"id\":\"1489\",\"type\":\"Quad\"},\"selection_glyph\":null,\"view\":{\"id\":\"1492\",\"type\":\"CDSView\"}},\"id\":\"1491\",\"type\":\"GlyphRenderer\"},{\"attributes\":{\"callback\":null,\"renderers\":[{\"id\":\"1491\",\"type\":\"GlyphRenderer\"}],\"tooltips\":[[\"FINAL_CALL_TYPE\",\"@{FINAL_CALL_TYPE}\"],[\"Count\",\"@{FINAL_CALL_TYPE_count}\"]]},\"id\":\"1451\",\"type\":\"HoverTool\"},{\"attributes\":{\"bottom\":{\"value\":0},\"fill_alpha\":{\"value\":0.1},\"fill_color\":{\"value\":\"#1f77b4\"},\"left\":{\"field\":\"left\"},\"line_alpha\":{\"value\":0.1},\"line_color\":{\"value\":\"black\"},\"right\":{\"field\":\"right\"},\"top\":{\"field\":\"top\"}},\"id\":\"1489\",\"type\":\"Quad\"},{\"attributes\":{\"bottom\":{\"value\":0},\"fill_alpha\":{\"value\":0.2},\"fill_color\":{\"value\":\"#1f77b4\"},\"left\":{\"field\":\"left\"},\"line_alpha\":{\"value\":0.2},\"line_color\":{\"value\":\"black\"},\"right\":{\"field\":\"right\"},\"top\":{\"field\":\"top\"}},\"id\":\"1490\",\"type\":\"Quad\"},{\"attributes\":{},\"id\":\"1486\",\"type\":\"Selection\"}],\"root_ids\":[\"1453\"]},\"title\":\"Bokeh Application\",\"version\":\"1.0.0\"}};\n",
       "  var render_items = [{\"docid\":\"328ab00c-bfcf-4e1a-a425-1b9e545f5ce4\",\"roots\":{\"1453\":\"e2cb4b81-13b8-4e0f-8021-dbedbb6436b4\"}}];\n",
       "  root.Bokeh.embed.embed_items_notebook(docs_json, render_items);\n",
       "\n",
       "  }\n",
       "  if (root.Bokeh !== undefined) {\n",
       "    embed_document(root);\n",
       "  } else {\n",
       "    var attempts = 0;\n",
       "    var timer = setInterval(function(root) {\n",
       "      if (root.Bokeh !== undefined) {\n",
       "        embed_document(root);\n",
       "        clearInterval(timer);\n",
       "      }\n",
       "      attempts++;\n",
       "      if (attempts > 100) {\n",
       "        console.log(\"Bokeh: ERROR: Unable to run BokehJS code because BokehJS library is missing\");\n",
       "        clearInterval(timer);\n",
       "      }\n",
       "    }, 10, root)\n",
       "  }\n",
       "})(window);"
      ],
      "application/vnd.holoviews_exec.v0+json": "",
      "text/html": [
       "<div id='1453' style='display: table; margin: 0 auto;'>\n",
       "\n",
       "\n",
       "\n",
       "\n",
       "\n",
       "  <div class=\"bk-root\" id=\"e2cb4b81-13b8-4e0f-8021-dbedbb6436b4\"></div>\n",
       "</div>"
      ],
      "text/plain": [
       ":Histogram   [FINAL_CALL_TYPE]   (FINAL_CALL_TYPE_count)"
      ]
     },
     "execution_count": 36,
     "metadata": {
      "application/vnd.holoviews_exec.v0+json": {
       "id": "1453"
      }
     },
     "output_type": "execute_result"
    }
   ],
   "source": [
    "df.FINAL_CALL_TYPE.value_counts().hvplot.hist()"
   ]
  },
  {
   "cell_type": "code",
   "execution_count": null,
   "metadata": {},
   "outputs": [],
   "source": []
  }
 ],
 "metadata": {
  "kernelspec": {
   "display_name": "Python 3",
   "language": "python",
   "name": "python3"
  },
  "language_info": {
   "codemirror_mode": {
    "name": "ipython",
    "version": 3
   },
   "file_extension": ".py",
   "mimetype": "text/x-python",
   "name": "python",
   "nbconvert_exporter": "python",
   "pygments_lexer": "ipython3",
   "version": "3.7.1"
  }
 },
 "nbformat": 4,
 "nbformat_minor": 2
}
