{
 "cells": [
  {
   "cell_type": "code",
   "execution_count": 42,
   "metadata": {},
   "outputs": [],
   "source": [
    "import pandas as pd\n",
    "import hvplot.pandas\n",
    "import numpy as np"
   ]
  },
  {
   "cell_type": "code",
   "execution_count": 43,
   "metadata": {},
   "outputs": [
    {
     "data": {
      "text/html": [
       "<div>\n",
       "<style scoped>\n",
       "    .dataframe tbody tr th:only-of-type {\n",
       "        vertical-align: middle;\n",
       "    }\n",
       "\n",
       "    .dataframe tbody tr th {\n",
       "        vertical-align: top;\n",
       "    }\n",
       "\n",
       "    .dataframe thead th {\n",
       "        text-align: right;\n",
       "    }\n",
       "</style>\n",
       "<table border=\"1\" class=\"dataframe\">\n",
       "  <thead>\n",
       "    <tr style=\"text-align: right;\">\n",
       "      <th></th>\n",
       "      <th>INCIDENT_NUM</th>\n",
       "      <th>DISP_CODE</th>\n",
       "      <th>DISPOSITION</th>\n",
       "      <th>FINAL_RADIO_CODE</th>\n",
       "      <th>FINAL_CALL_TYPE</th>\n",
       "      <th>CALL_RECEIVED</th>\n",
       "      <th>HUNDREDBLOCKADDR</th>\n",
       "      <th>GRID</th>\n",
       "    </tr>\n",
       "  </thead>\n",
       "  <tbody>\n",
       "    <tr>\n",
       "      <th>0</th>\n",
       "      <td>201502108490</td>\n",
       "      <td>N</td>\n",
       "      <td>NO ACTION REQUIRED</td>\n",
       "      <td>647V</td>\n",
       "      <td>SUSPICIOUS PERSON IN VEHICLE</td>\n",
       "      <td>11/2/2015   9:16:27AM</td>\n",
       "      <td>154XX N 29TH ST</td>\n",
       "      <td>DF34</td>\n",
       "    </tr>\n",
       "    <tr>\n",
       "      <th>1</th>\n",
       "      <td>201502108749</td>\n",
       "      <td>N</td>\n",
       "      <td>NO ACTION REQUIRED</td>\n",
       "      <td>418T</td>\n",
       "      <td>TRESPASSING</td>\n",
       "      <td>11/2/2015   9:58:57AM</td>\n",
       "      <td>96XX N 10TH AVE</td>\n",
       "      <td>CH26</td>\n",
       "    </tr>\n",
       "    <tr>\n",
       "      <th>2</th>\n",
       "      <td>201502108648</td>\n",
       "      <td>O</td>\n",
       "      <td>OTHER (SUPP/FALSE ALARM/FI/LOUD PARTY)</td>\n",
       "      <td>459A</td>\n",
       "      <td>BURGLARY ALARM</td>\n",
       "      <td>11/2/2015   9:42:42AM</td>\n",
       "      <td>38XX E WATKINS ST</td>\n",
       "      <td>AH36B</td>\n",
       "    </tr>\n",
       "    <tr>\n",
       "      <th>3</th>\n",
       "      <td>201502108757</td>\n",
       "      <td>N</td>\n",
       "      <td>NO ACTION REQUIRED</td>\n",
       "      <td>418T</td>\n",
       "      <td>TRESPASSING</td>\n",
       "      <td>11/2/2015  10:02:11AM</td>\n",
       "      <td>36XX W CAMELBACK RD</td>\n",
       "      <td>BI20</td>\n",
       "    </tr>\n",
       "    <tr>\n",
       "      <th>4</th>\n",
       "      <td>201502108592</td>\n",
       "      <td>N</td>\n",
       "      <td>NO ACTION REQUIRED</td>\n",
       "      <td>900</td>\n",
       "      <td>CHECK WELFARE</td>\n",
       "      <td>11/2/2015   9:30:53AM</td>\n",
       "      <td>40XX N 44TH AVE</td>\n",
       "      <td>BG18</td>\n",
       "    </tr>\n",
       "  </tbody>\n",
       "</table>\n",
       "</div>"
      ],
      "text/plain": [
       "   INCIDENT_NUM DISP_CODE                             DISPOSITION  \\\n",
       "0  201502108490         N                      NO ACTION REQUIRED   \n",
       "1  201502108749         N                      NO ACTION REQUIRED   \n",
       "2  201502108648         O  OTHER (SUPP/FALSE ALARM/FI/LOUD PARTY)   \n",
       "3  201502108757         N                      NO ACTION REQUIRED   \n",
       "4  201502108592         N                      NO ACTION REQUIRED   \n",
       "\n",
       "  FINAL_RADIO_CODE               FINAL_CALL_TYPE          CALL_RECEIVED  \\\n",
       "0             647V  SUSPICIOUS PERSON IN VEHICLE  11/2/2015   9:16:27AM   \n",
       "1             418T                   TRESPASSING  11/2/2015   9:58:57AM   \n",
       "2             459A                BURGLARY ALARM  11/2/2015   9:42:42AM   \n",
       "3             418T                   TRESPASSING  11/2/2015  10:02:11AM   \n",
       "4              900                 CHECK WELFARE  11/2/2015   9:30:53AM   \n",
       "\n",
       "      HUNDREDBLOCKADDR   GRID  \n",
       "0      154XX N 29TH ST   DF34  \n",
       "1      96XX N 10TH AVE   CH26  \n",
       "2    38XX E WATKINS ST  AH36B  \n",
       "3  36XX W CAMELBACK RD   BI20  \n",
       "4      40XX N 44TH AVE   BG18  "
      ]
     },
     "execution_count": 43,
     "metadata": {},
     "output_type": "execute_result"
    }
   ],
   "source": [
    "df = pd.read_csv('callsforservice.csv')\n",
    "df.head()"
   ]
  },
  {
   "cell_type": "code",
   "execution_count": 44,
   "metadata": {},
   "outputs": [],
   "source": [
    "with open('apikey.txt', 'r') as door:\n",
    "    key = door.read()"
   ]
  },
  {
   "cell_type": "code",
   "execution_count": 45,
   "metadata": {},
   "outputs": [
    {
     "name": "stdout",
     "output_type": "stream",
     "text": [
      "<class 'pandas.core.frame.DataFrame'>\n",
      "RangeIndex: 2171125 entries, 0 to 2171124\n",
      "Data columns (total 8 columns):\n",
      "INCIDENT_NUM        int64\n",
      "DISP_CODE           object\n",
      "DISPOSITION         object\n",
      "FINAL_RADIO_CODE    object\n",
      "FINAL_CALL_TYPE     object\n",
      "CALL_RECEIVED       object\n",
      "HUNDREDBLOCKADDR    object\n",
      "GRID                object\n",
      "dtypes: int64(1), object(7)\n",
      "memory usage: 132.5+ MB\n"
     ]
    }
   ],
   "source": [
    "df.info()"
   ]
  },
  {
   "cell_type": "code",
   "execution_count": 46,
   "metadata": {},
   "outputs": [],
   "source": [
    "# tst = df.iloc[:500, :]\n",
    "# tst.head()"
   ]
  },
  {
   "cell_type": "code",
   "execution_count": 47,
   "metadata": {},
   "outputs": [],
   "source": [
    "df['HUNDREDBLOCKADDR'] = df.HUNDREDBLOCKADDR.str.replace('XX', '00')\n",
    "df.dropna(inplace=True)\n",
    "df = df[df.FINAL_RADIO_CODE.isin(['961', '962', '963', '961H', '962H', '963H'])]\n",
    "df.loc[:, 'CALL_RECEIVED'] = pd.to_datetime(df.CALL_RECEIVED)\n",
    "df.set_index('CALL_RECEIVED', inplace=True)"
   ]
  },
  {
   "cell_type": "code",
   "execution_count": 48,
   "metadata": {},
   "outputs": [],
   "source": [
    "df['month'] = df.index.month\n",
    "df['day'] = df.index.dayofweek\n",
    "df['hour'] = df.index.hour"
   ]
  },
  {
   "cell_type": "code",
   "execution_count": 57,
   "metadata": {},
   "outputs": [
    {
     "data": {
      "text/html": [
       "<div>\n",
       "<style scoped>\n",
       "    .dataframe tbody tr th:only-of-type {\n",
       "        vertical-align: middle;\n",
       "    }\n",
       "\n",
       "    .dataframe tbody tr th {\n",
       "        vertical-align: top;\n",
       "    }\n",
       "\n",
       "    .dataframe thead th {\n",
       "        text-align: right;\n",
       "    }\n",
       "</style>\n",
       "<table border=\"1\" class=\"dataframe\">\n",
       "  <thead>\n",
       "    <tr style=\"text-align: right;\">\n",
       "      <th></th>\n",
       "      <th>INCIDENT_NUM</th>\n",
       "      <th>DISP_CODE</th>\n",
       "      <th>DISPOSITION</th>\n",
       "      <th>FINAL_RADIO_CODE</th>\n",
       "      <th>FINAL_CALL_TYPE</th>\n",
       "      <th>HUNDREDBLOCKADDR</th>\n",
       "      <th>GRID</th>\n",
       "      <th>month</th>\n",
       "      <th>day</th>\n",
       "      <th>hour</th>\n",
       "    </tr>\n",
       "    <tr>\n",
       "      <th>CALL_RECEIVED</th>\n",
       "      <th></th>\n",
       "      <th></th>\n",
       "      <th></th>\n",
       "      <th></th>\n",
       "      <th></th>\n",
       "      <th></th>\n",
       "      <th></th>\n",
       "      <th></th>\n",
       "      <th></th>\n",
       "      <th></th>\n",
       "    </tr>\n",
       "  </thead>\n",
       "  <tbody>\n",
       "    <tr>\n",
       "      <th>2015-11-01 01:01:07</th>\n",
       "      <td>201502100315</td>\n",
       "      <td>N</td>\n",
       "      <td>NO ACTION REQUIRED</td>\n",
       "      <td>961H</td>\n",
       "      <td>HIT &amp; RUN ACCIDENT NO INJURY</td>\n",
       "      <td>S 67TH AVE &amp; W LOWER BUCKEYE RD</td>\n",
       "      <td>AG13</td>\n",
       "      <td>11</td>\n",
       "      <td>6</td>\n",
       "      <td>1</td>\n",
       "    </tr>\n",
       "    <tr>\n",
       "      <th>2015-11-02 08:04:44</th>\n",
       "      <td>201502108062</td>\n",
       "      <td>A</td>\n",
       "      <td>ACCIDENT REPORT</td>\n",
       "      <td>962</td>\n",
       "      <td>ACCIDENT WITH INJURIES</td>\n",
       "      <td>N 49TH DR &amp; W ESCUDA DR</td>\n",
       "      <td>EA17</td>\n",
       "      <td>11</td>\n",
       "      <td>0</td>\n",
       "      <td>8</td>\n",
       "    </tr>\n",
       "    <tr>\n",
       "      <th>2015-11-01 10:09:50</th>\n",
       "      <td>201502102088</td>\n",
       "      <td>N</td>\n",
       "      <td>NO ACTION REQUIRED</td>\n",
       "      <td>961</td>\n",
       "      <td>ACCIDENT NO INJURIES</td>\n",
       "      <td>E PARADISE LN &amp; N 32ND ST</td>\n",
       "      <td>DF35</td>\n",
       "      <td>11</td>\n",
       "      <td>6</td>\n",
       "      <td>10</td>\n",
       "    </tr>\n",
       "    <tr>\n",
       "      <th>2015-11-01 10:35:06</th>\n",
       "      <td>201502102198</td>\n",
       "      <td>N</td>\n",
       "      <td>NO ACTION REQUIRED</td>\n",
       "      <td>961</td>\n",
       "      <td>ACCIDENT NO INJURIES</td>\n",
       "      <td>4000 W CAMELBACK RD</td>\n",
       "      <td>BI19A</td>\n",
       "      <td>11</td>\n",
       "      <td>6</td>\n",
       "      <td>10</td>\n",
       "    </tr>\n",
       "    <tr>\n",
       "      <th>2015-11-01 18:03:38</th>\n",
       "      <td>201502104894</td>\n",
       "      <td>N</td>\n",
       "      <td>NO ACTION REQUIRED</td>\n",
       "      <td>961</td>\n",
       "      <td>ACCIDENT NO INJURIES</td>\n",
       "      <td>3700 W SIERRA ST</td>\n",
       "      <td>DA20</td>\n",
       "      <td>11</td>\n",
       "      <td>6</td>\n",
       "      <td>18</td>\n",
       "    </tr>\n",
       "  </tbody>\n",
       "</table>\n",
       "</div>"
      ],
      "text/plain": [
       "                     INCIDENT_NUM DISP_CODE         DISPOSITION  \\\n",
       "CALL_RECEIVED                                                     \n",
       "2015-11-01 01:01:07  201502100315         N  NO ACTION REQUIRED   \n",
       "2015-11-02 08:04:44  201502108062         A     ACCIDENT REPORT   \n",
       "2015-11-01 10:09:50  201502102088         N  NO ACTION REQUIRED   \n",
       "2015-11-01 10:35:06  201502102198         N  NO ACTION REQUIRED   \n",
       "2015-11-01 18:03:38  201502104894         N  NO ACTION REQUIRED   \n",
       "\n",
       "                    FINAL_RADIO_CODE               FINAL_CALL_TYPE  \\\n",
       "CALL_RECEIVED                                                        \n",
       "2015-11-01 01:01:07             961H  HIT & RUN ACCIDENT NO INJURY   \n",
       "2015-11-02 08:04:44              962        ACCIDENT WITH INJURIES   \n",
       "2015-11-01 10:09:50              961          ACCIDENT NO INJURIES   \n",
       "2015-11-01 10:35:06              961          ACCIDENT NO INJURIES   \n",
       "2015-11-01 18:03:38              961          ACCIDENT NO INJURIES   \n",
       "\n",
       "                                    HUNDREDBLOCKADDR   GRID  month  day  hour  \n",
       "CALL_RECEIVED                                                                  \n",
       "2015-11-01 01:01:07  S 67TH AVE & W LOWER BUCKEYE RD   AG13     11    6     1  \n",
       "2015-11-02 08:04:44          N 49TH DR & W ESCUDA DR   EA17     11    0     8  \n",
       "2015-11-01 10:09:50        E PARADISE LN & N 32ND ST   DF35     11    6    10  \n",
       "2015-11-01 10:35:06              4000 W CAMELBACK RD  BI19A     11    6    10  \n",
       "2015-11-01 18:03:38                 3700 W SIERRA ST   DA20     11    6    18  "
      ]
     },
     "execution_count": 57,
     "metadata": {},
     "output_type": "execute_result"
    }
   ],
   "source": [
    "df.head()"
   ]
  },
  {
   "cell_type": "code",
   "execution_count": 58,
   "metadata": {},
   "outputs": [],
   "source": [
    "df['ishitrun'] = df.FINAL_RADIO_CODE.isin(['961H', '962H', '963H']).astype(np.int)"
   ]
  },
  {
   "cell_type": "code",
   "execution_count": 61,
   "metadata": {},
   "outputs": [],
   "source": [
    "hracs = df[df.ishitrun == 1]\n",
    "lacs = df[df.ishitrun == 0]"
   ]
  },
  {
   "cell_type": "code",
   "execution_count": 74,
   "metadata": {},
   "outputs": [
    {
     "data": {
      "application/javascript": [
       "\n",
       "// Ugly hack - see HoloViews #2574 for more information\n",
       "if (!(document.getElementById('2981')) && !(document.getElementById('_anim_imgNone'))) {\n",
       "  console.log(\"Creating DOM nodes dynamically for assumed nbconvert export. To generate clean HTML output set HV_DOC_HTML as an environment variable.\")\n",
       "  var htmlObject = document.createElement('div');\n",
       "  htmlObject.innerHTML = `<div id='2981' style='display: table; margin: 0 auto;'>\n",
       "\n",
       "\n",
       "\n",
       "\n",
       "\n",
       "  <div class=\"bk-root\" id=\"f498d542-25f2-4f24-820e-3374ac402bb2\"></div>\n",
       "</div>`;\n",
       "  var scriptTags = document.getElementsByTagName('script');\n",
       "  var parentTag = scriptTags[scriptTags.length-1].parentNode;\n",
       "  if (parentTag.attributes.length && (parentTag.attributes[0].name == 'data-shell-mode')) {\n",
       "    alert('Displaying PyViz objects in JupyterLab requires the jupyterlab_pyviz extension to be installed, install it with:\\n\\n\\tjupyter labextension install @pyviz/jupyterlab_pyviz');\n",
       "  } else {\n",
       "    parentTag.append(htmlObject)\n",
       "  }\n",
       "}\n",
       "(function(root) {\n",
       "  function embed_document(root) {\n",
       "    \n",
       "  var docs_json = {\"b2969fe1-ba00-44c8-84ad-a706f716ff18\":{\"roots\":{\"references\":[{\"attributes\":{\"below\":[{\"id\":\"2989\",\"type\":\"LinearAxis\"}],\"left\":[{\"id\":\"2994\",\"type\":\"LinearAxis\"}],\"min_border_bottom\":10,\"min_border_left\":10,\"min_border_right\":10,\"min_border_top\":10,\"plot_height\":300,\"plot_width\":700,\"renderers\":[{\"id\":\"2989\",\"type\":\"LinearAxis\"},{\"id\":\"2993\",\"type\":\"Grid\"},{\"id\":\"2994\",\"type\":\"LinearAxis\"},{\"id\":\"2998\",\"type\":\"Grid\"},{\"id\":\"3008\",\"type\":\"BoxAnnotation\"},{\"id\":\"3023\",\"type\":\"GlyphRenderer\"},{\"id\":\"3031\",\"type\":\"GlyphRenderer\"}],\"title\":{\"id\":\"2980\",\"type\":\"Title\"},\"toolbar\":{\"id\":\"3004\",\"type\":\"Toolbar\"},\"x_range\":{\"id\":\"2976\",\"type\":\"Range1d\"},\"x_scale\":{\"id\":\"2985\",\"type\":\"LinearScale\"},\"y_range\":{\"id\":\"2977\",\"type\":\"Range1d\"},\"y_scale\":{\"id\":\"2987\",\"type\":\"LinearScale\"}},\"id\":\"2981\",\"subtype\":\"Figure\",\"type\":\"Plot\"},{\"attributes\":{\"active_drag\":\"auto\",\"active_inspect\":\"auto\",\"active_multi\":null,\"active_scroll\":\"auto\",\"active_tap\":\"auto\",\"tools\":[{\"id\":\"2978\",\"type\":\"HoverTool\"},{\"id\":\"2999\",\"type\":\"SaveTool\"},{\"id\":\"3000\",\"type\":\"PanTool\"},{\"id\":\"3001\",\"type\":\"WheelZoomTool\"},{\"id\":\"3002\",\"type\":\"BoxZoomTool\"},{\"id\":\"3003\",\"type\":\"ResetTool\"}]},\"id\":\"3004\",\"type\":\"Toolbar\"},{\"attributes\":{\"bottom_units\":\"screen\",\"fill_alpha\":{\"value\":0.5},\"fill_color\":{\"value\":\"lightgrey\"},\"left_units\":\"screen\",\"level\":\"overlay\",\"line_alpha\":{\"value\":1.0},\"line_color\":{\"value\":\"black\"},\"line_dash\":[4,4],\"line_width\":{\"value\":2},\"plot\":null,\"render_mode\":\"css\",\"right_units\":\"screen\",\"top_units\":\"screen\"},\"id\":\"3008\",\"type\":\"BoxAnnotation\"},{\"attributes\":{},\"id\":\"2985\",\"type\":\"LinearScale\"},{\"attributes\":{\"grid_line_color\":{\"value\":null},\"plot\":{\"id\":\"2981\",\"subtype\":\"Figure\",\"type\":\"Plot\"},\"ticker\":{\"id\":\"2990\",\"type\":\"BasicTicker\"}},\"id\":\"2993\",\"type\":\"Grid\"},{\"attributes\":{\"bottom\":{\"value\":0},\"fill_alpha\":{\"value\":0.7},\"fill_color\":{\"value\":\"red\"},\"left\":{\"field\":\"left\"},\"line_alpha\":{\"value\":0.7},\"right\":{\"field\":\"right\"},\"top\":{\"field\":\"top\"}},\"id\":\"3028\",\"type\":\"Quad\"},{\"attributes\":{},\"id\":\"3026\",\"type\":\"Selection\"},{\"attributes\":{},\"id\":\"2987\",\"type\":\"LinearScale\"},{\"attributes\":{},\"id\":\"2990\",\"type\":\"BasicTicker\"},{\"attributes\":{\"source\":{\"id\":\"3017\",\"type\":\"ColumnDataSource\"}},\"id\":\"3024\",\"type\":\"CDSView\"},{\"attributes\":{\"callback\":null,\"data\":{\"left\":{\"__ndarray__\":\"AAAAAAAA8D/NzMzMzMz4P83MzMzMzABANDMzMzMzBUCamZmZmZkJQAAAAAAAAA5ANDMzMzMzEUBnZmZmZmYTQJqZmZmZmRVAzczMzMzMF0AAAAAAAAAaQDQzMzMzMxxAZ2ZmZmZmHkDNzMzMzEwgQGdmZmZmZiFAAAAAAACAIkCamZmZmZkjQDQzMzMzsyRAzczMzMzMJUBnZmZmZuYmQA==\",\"dtype\":\"float64\",\"shape\":[20]},\"month\":{\"__ndarray__\":\"ZmZmZmZm9D80MzMzMzP9PwAAAAAAAANAZ2ZmZmZmB0DNzMzMzMwLQJqZmZmZGRBAzszMzMxMEkAAAAAAAIAUQDQzMzMzsxZAZmZmZmbmGECamZmZmRkbQM7MzMzMTB1AAAAAAACAH0CamZmZmdkgQDQzMzMz8yFAzczMzMwMI0BnZmZmZiYkQAAAAAAAQCVAmpmZmZlZJkA0MzMzM3MnQA==\",\"dtype\":\"float64\",\"shape\":[20]},\"month_count\":[2198,1994,0,2340,0,2312,0,2325,0,2130,2048,0,2248,0,2239,0,2218,0,2880,2795],\"right\":{\"__ndarray__\":\"zczMzMzM+D/NzMzMzMwAQDQzMzMzMwVAmpmZmZmZCUAAAAAAAAAOQDQzMzMzMxFAZ2ZmZmZmE0CamZmZmZkVQM3MzMzMzBdAAAAAAAAAGkA0MzMzMzMcQGdmZmZmZh5AzczMzMxMIEBnZmZmZmYhQAAAAAAAgCJAmpmZmZmZI0A0MzMzM7MkQM3MzMzMzCVAZ2ZmZmbmJkAAAAAAAAAoQA==\",\"dtype\":\"float64\",\"shape\":[20]},\"top\":[2198,1994,0,2340,0,2312,0,2325,0,2130,2048,0,2248,0,2239,0,2218,0,2880,2795]},\"selected\":{\"id\":\"3026\",\"type\":\"Selection\"},\"selection_policy\":{\"id\":\"3041\",\"type\":\"UnionRenderers\"}},\"id\":\"3025\",\"type\":\"ColumnDataSource\"},{\"attributes\":{\"data_source\":{\"id\":\"3017\",\"type\":\"ColumnDataSource\"},\"glyph\":{\"id\":\"3020\",\"type\":\"Quad\"},\"hover_glyph\":null,\"muted_glyph\":{\"id\":\"3022\",\"type\":\"Quad\"},\"nonselection_glyph\":{\"id\":\"3021\",\"type\":\"Quad\"},\"selection_glyph\":null,\"view\":{\"id\":\"3024\",\"type\":\"CDSView\"}},\"id\":\"3023\",\"type\":\"GlyphRenderer\"},{\"attributes\":{\"bottom\":{\"value\":0},\"fill_alpha\":{\"value\":0.2},\"fill_color\":{\"value\":\"navy\"},\"left\":{\"field\":\"left\"},\"line_alpha\":{\"value\":0.2},\"line_color\":{\"value\":\"black\"},\"right\":{\"field\":\"right\"},\"top\":{\"field\":\"top\"}},\"id\":\"3022\",\"type\":\"Quad\"},{\"attributes\":{\"bottom\":{\"value\":0},\"fill_alpha\":{\"value\":0.7},\"fill_color\":{\"value\":\"red\"},\"left\":{\"field\":\"left\"},\"line_alpha\":{\"value\":0.7},\"line_color\":{\"value\":\"black\"},\"right\":{\"field\":\"right\"},\"top\":{\"field\":\"top\"}},\"id\":\"3029\",\"type\":\"Quad\"},{\"attributes\":{},\"id\":\"3001\",\"type\":\"WheelZoomTool\"},{\"attributes\":{\"callback\":null,\"end\":10614.0,\"reset_end\":10614.0,\"reset_start\":0.0,\"tags\":[[[\"month_count\",\"Count\",null]]]},\"id\":\"2977\",\"type\":\"Range1d\"},{\"attributes\":{\"axis_label\":\"month\",\"bounds\":\"auto\",\"formatter\":{\"id\":\"3014\",\"type\":\"BasicTickFormatter\"},\"major_label_orientation\":\"horizontal\",\"plot\":{\"id\":\"2981\",\"subtype\":\"Figure\",\"type\":\"Plot\"},\"ticker\":{\"id\":\"2990\",\"type\":\"BasicTicker\"}},\"id\":\"2989\",\"type\":\"LinearAxis\"},{\"attributes\":{\"bottom\":{\"value\":0},\"fill_alpha\":{\"value\":0.2},\"fill_color\":{\"value\":\"red\"},\"left\":{\"field\":\"left\"},\"line_alpha\":{\"value\":0.2},\"line_color\":{\"value\":\"black\"},\"right\":{\"field\":\"right\"},\"top\":{\"field\":\"top\"}},\"id\":\"3030\",\"type\":\"Quad\"},{\"attributes\":{\"bottom\":{\"value\":0},\"fill_alpha\":{\"value\":0.7},\"fill_color\":{\"value\":\"navy\"},\"left\":{\"field\":\"left\"},\"line_alpha\":{\"value\":0.7},\"line_color\":{\"value\":\"black\"},\"right\":{\"field\":\"right\"},\"top\":{\"field\":\"top\"}},\"id\":\"3021\",\"type\":\"Quad\"},{\"attributes\":{\"data_source\":{\"id\":\"3025\",\"type\":\"ColumnDataSource\"},\"glyph\":{\"id\":\"3028\",\"type\":\"Quad\"},\"hover_glyph\":null,\"muted_glyph\":{\"id\":\"3030\",\"type\":\"Quad\"},\"nonselection_glyph\":{\"id\":\"3029\",\"type\":\"Quad\"},\"selection_glyph\":null,\"view\":{\"id\":\"3032\",\"type\":\"CDSView\"}},\"id\":\"3031\",\"type\":\"GlyphRenderer\"},{\"attributes\":{},\"id\":\"2999\",\"type\":\"SaveTool\"},{\"attributes\":{},\"id\":\"3041\",\"type\":\"UnionRenderers\"},{\"attributes\":{\"callback\":null,\"end\":12.0,\"reset_end\":12.0,\"reset_start\":1.0,\"start\":1.0,\"tags\":[[[\"month\",\"month\",null]]]},\"id\":\"2976\",\"type\":\"Range1d\"},{\"attributes\":{},\"id\":\"3000\",\"type\":\"PanTool\"},{\"attributes\":{},\"id\":\"3016\",\"type\":\"BasicTickFormatter\"},{\"attributes\":{\"callback\":null,\"data\":{\"left\":{\"__ndarray__\":\"AAAAAAAA8D/NzMzMzMz4P83MzMzMzABANDMzMzMzBUCamZmZmZkJQAAAAAAAAA5ANDMzMzMzEUBnZmZmZmYTQJqZmZmZmRVAzczMzMzMF0AAAAAAAAAaQDQzMzMzMxxAZ2ZmZmZmHkDNzMzMzEwgQGdmZmZmZiFAAAAAAACAIkCamZmZmZkjQDQzMzMzsyRAzczMzMzMJUBnZmZmZuYmQA==\",\"dtype\":\"float64\",\"shape\":[20]},\"month\":{\"__ndarray__\":\"ZmZmZmZm9D80MzMzMzP9PwAAAAAAAANAZ2ZmZmZmB0DNzMzMzMwLQJqZmZmZGRBAzszMzMxMEkAAAAAAAIAUQDQzMzMzsxZAZmZmZmbmGECamZmZmRkbQM7MzMzMTB1AAAAAAACAH0CamZmZmdkgQDQzMzMz8yFAzczMzMwMI0BnZmZmZiYkQAAAAAAAQCVAmpmZmZlZJkA0MzMzM3MnQA==\",\"dtype\":\"float64\",\"shape\":[20]},\"month_count\":[7944,7681,0,8710,0,7963,0,7846,0,6848,6571,0,8187,0,7968,0,8396,0,10573,10614],\"right\":{\"__ndarray__\":\"zczMzMzM+D/NzMzMzMwAQDQzMzMzMwVAmpmZmZmZCUAAAAAAAAAOQDQzMzMzMxFAZ2ZmZmZmE0CamZmZmZkVQM3MzMzMzBdAAAAAAAAAGkA0MzMzMzMcQGdmZmZmZh5AzczMzMxMIEBnZmZmZmYhQAAAAAAAgCJAmpmZmZmZI0A0MzMzM7MkQM3MzMzMzCVAZ2ZmZmbmJkAAAAAAAAAoQA==\",\"dtype\":\"float64\",\"shape\":[20]},\"top\":[7944,7681,0,8710,0,7963,0,7846,0,6848,6571,0,8187,0,7968,0,8396,0,10573,10614]},\"selected\":{\"id\":\"3018\",\"type\":\"Selection\"},\"selection_policy\":{\"id\":\"3039\",\"type\":\"UnionRenderers\"}},\"id\":\"3017\",\"type\":\"ColumnDataSource\"},{\"attributes\":{\"axis_label\":\"\",\"bounds\":\"auto\",\"formatter\":{\"id\":\"3016\",\"type\":\"BasicTickFormatter\"},\"major_label_orientation\":\"horizontal\",\"plot\":{\"id\":\"2981\",\"subtype\":\"Figure\",\"type\":\"Plot\"},\"ticker\":{\"id\":\"2995\",\"type\":\"BasicTicker\"}},\"id\":\"2994\",\"type\":\"LinearAxis\"},{\"attributes\":{\"dimension\":1,\"grid_line_color\":{\"value\":null},\"plot\":{\"id\":\"2981\",\"subtype\":\"Figure\",\"type\":\"Plot\"},\"ticker\":{\"id\":\"2995\",\"type\":\"BasicTicker\"}},\"id\":\"2998\",\"type\":\"Grid\"},{\"attributes\":{\"bottom\":{\"value\":0},\"fill_alpha\":{\"value\":0.7},\"fill_color\":{\"value\":\"navy\"},\"left\":{\"field\":\"left\"},\"line_alpha\":{\"value\":0.7},\"right\":{\"field\":\"right\"},\"top\":{\"field\":\"top\"}},\"id\":\"3020\",\"type\":\"Quad\"},{\"attributes\":{\"source\":{\"id\":\"3025\",\"type\":\"ColumnDataSource\"}},\"id\":\"3032\",\"type\":\"CDSView\"},{\"attributes\":{\"overlay\":{\"id\":\"3008\",\"type\":\"BoxAnnotation\"}},\"id\":\"3002\",\"type\":\"BoxZoomTool\"},{\"attributes\":{},\"id\":\"3003\",\"type\":\"ResetTool\"},{\"attributes\":{},\"id\":\"3039\",\"type\":\"UnionRenderers\"},{\"attributes\":{\"callback\":null,\"renderers\":[{\"id\":\"3023\",\"type\":\"GlyphRenderer\"},{\"id\":\"3031\",\"type\":\"GlyphRenderer\"}],\"tooltips\":[[\"month\",\"@{month}\"],[\"Count\",\"@{month_count}\"]]},\"id\":\"2978\",\"type\":\"HoverTool\"},{\"attributes\":{},\"id\":\"3018\",\"type\":\"Selection\"},{\"attributes\":{},\"id\":\"2995\",\"type\":\"BasicTicker\"},{\"attributes\":{\"plot\":null,\"text\":\"\",\"text_color\":{\"value\":\"black\"},\"text_font_size\":{\"value\":\"12pt\"}},\"id\":\"2980\",\"type\":\"Title\"},{\"attributes\":{},\"id\":\"3014\",\"type\":\"BasicTickFormatter\"}],\"root_ids\":[\"2981\"]},\"title\":\"Bokeh Application\",\"version\":\"1.0.0\"}};\n",
       "  var render_items = [{\"docid\":\"b2969fe1-ba00-44c8-84ad-a706f716ff18\",\"roots\":{\"2981\":\"f498d542-25f2-4f24-820e-3374ac402bb2\"}}];\n",
       "  root.Bokeh.embed.embed_items_notebook(docs_json, render_items);\n",
       "\n",
       "  }\n",
       "  if (root.Bokeh !== undefined) {\n",
       "    embed_document(root);\n",
       "  } else {\n",
       "    var attempts = 0;\n",
       "    var timer = setInterval(function(root) {\n",
       "      if (root.Bokeh !== undefined) {\n",
       "        embed_document(root);\n",
       "        clearInterval(timer);\n",
       "      }\n",
       "      attempts++;\n",
       "      if (attempts > 100) {\n",
       "        console.log(\"Bokeh: ERROR: Unable to run BokehJS code because BokehJS library is missing\");\n",
       "        clearInterval(timer);\n",
       "      }\n",
       "    }, 10, root)\n",
       "  }\n",
       "})(window);"
      ],
      "application/vnd.holoviews_exec.v0+json": "",
      "text/html": [
       "<div id='2981' style='display: table; margin: 0 auto;'>\n",
       "\n",
       "\n",
       "\n",
       "\n",
       "\n",
       "  <div class=\"bk-root\" id=\"f498d542-25f2-4f24-820e-3374ac402bb2\"></div>\n",
       "</div>"
      ],
      "text/plain": [
       ":Overlay\n",
       "   .Histogram.I  :Histogram   [month]   (month_count)\n",
       "   .Histogram.II :Histogram   [month]   (month_count)"
      ]
     },
     "execution_count": 74,
     "metadata": {
      "application/vnd.holoviews_exec.v0+json": {
       "id": "2981"
      }
     },
     "output_type": "execute_result"
    }
   ],
   "source": [
    "lacs.month.hvplot.hist(color='navy').options(alpha=0.7) * hracs.month.hvplot.hist(color='red').options(alpha=0.7)"
   ]
  },
  {
   "cell_type": "code",
   "execution_count": 73,
   "metadata": {},
   "outputs": [
    {
     "data": {
      "application/javascript": [
       "\n",
       "// Ugly hack - see HoloViews #2574 for more information\n",
       "if (!(document.getElementById('2774')) && !(document.getElementById('_anim_imgNone'))) {\n",
       "  console.log(\"Creating DOM nodes dynamically for assumed nbconvert export. To generate clean HTML output set HV_DOC_HTML as an environment variable.\")\n",
       "  var htmlObject = document.createElement('div');\n",
       "  htmlObject.innerHTML = `<div id='2774' style='display: table; margin: 0 auto;'>\n",
       "\n",
       "\n",
       "\n",
       "\n",
       "\n",
       "  <div class=\"bk-root\" id=\"af40835b-14a4-460a-be3e-ec63e0827fce\"></div>\n",
       "</div>`;\n",
       "  var scriptTags = document.getElementsByTagName('script');\n",
       "  var parentTag = scriptTags[scriptTags.length-1].parentNode;\n",
       "  if (parentTag.attributes.length && (parentTag.attributes[0].name == 'data-shell-mode')) {\n",
       "    alert('Displaying PyViz objects in JupyterLab requires the jupyterlab_pyviz extension to be installed, install it with:\\n\\n\\tjupyter labextension install @pyviz/jupyterlab_pyviz');\n",
       "  } else {\n",
       "    parentTag.append(htmlObject)\n",
       "  }\n",
       "}\n",
       "(function(root) {\n",
       "  function embed_document(root) {\n",
       "    \n",
       "  var docs_json = {\"a9c57b0f-1d7b-40f4-adea-f10a3c9439d4\":{\"roots\":{\"references\":[{\"attributes\":{\"below\":[{\"id\":\"2782\",\"type\":\"LinearAxis\"}],\"left\":[{\"id\":\"2787\",\"type\":\"LinearAxis\"}],\"min_border_bottom\":10,\"min_border_left\":10,\"min_border_right\":10,\"min_border_top\":10,\"plot_height\":300,\"plot_width\":700,\"renderers\":[{\"id\":\"2782\",\"type\":\"LinearAxis\"},{\"id\":\"2786\",\"type\":\"Grid\"},{\"id\":\"2787\",\"type\":\"LinearAxis\"},{\"id\":\"2791\",\"type\":\"Grid\"},{\"id\":\"2801\",\"type\":\"BoxAnnotation\"},{\"id\":\"2816\",\"type\":\"GlyphRenderer\"},{\"id\":\"2824\",\"type\":\"GlyphRenderer\"}],\"title\":{\"id\":\"2773\",\"type\":\"Title\"},\"toolbar\":{\"id\":\"2797\",\"type\":\"Toolbar\"},\"x_range\":{\"id\":\"2769\",\"type\":\"Range1d\"},\"x_scale\":{\"id\":\"2778\",\"type\":\"LinearScale\"},\"y_range\":{\"id\":\"2770\",\"type\":\"Range1d\"},\"y_scale\":{\"id\":\"2780\",\"type\":\"LinearScale\"}},\"id\":\"2774\",\"subtype\":\"Figure\",\"type\":\"Plot\"},{\"attributes\":{\"bottom\":{\"value\":0},\"fill_alpha\":{\"value\":0.7},\"fill_color\":{\"value\":\"navy\"},\"left\":{\"field\":\"left\"},\"line_alpha\":{\"value\":0.7},\"right\":{\"field\":\"right\"},\"top\":{\"field\":\"top\"}},\"id\":\"2813\",\"type\":\"Quad\"},{\"attributes\":{},\"id\":\"2793\",\"type\":\"PanTool\"},{\"attributes\":{\"active_drag\":\"auto\",\"active_inspect\":\"auto\",\"active_multi\":null,\"active_scroll\":\"auto\",\"active_tap\":\"auto\",\"tools\":[{\"id\":\"2771\",\"type\":\"HoverTool\"},{\"id\":\"2792\",\"type\":\"SaveTool\"},{\"id\":\"2793\",\"type\":\"PanTool\"},{\"id\":\"2794\",\"type\":\"WheelZoomTool\"},{\"id\":\"2795\",\"type\":\"BoxZoomTool\"},{\"id\":\"2796\",\"type\":\"ResetTool\"}]},\"id\":\"2797\",\"type\":\"Toolbar\"},{\"attributes\":{\"source\":{\"id\":\"2818\",\"type\":\"ColumnDataSource\"}},\"id\":\"2825\",\"type\":\"CDSView\"},{\"attributes\":{\"bottom_units\":\"screen\",\"fill_alpha\":{\"value\":0.5},\"fill_color\":{\"value\":\"lightgrey\"},\"left_units\":\"screen\",\"level\":\"overlay\",\"line_alpha\":{\"value\":1.0},\"line_color\":{\"value\":\"black\"},\"line_dash\":[4,4],\"line_width\":{\"value\":2},\"plot\":null,\"render_mode\":\"css\",\"right_units\":\"screen\",\"top_units\":\"screen\"},\"id\":\"2801\",\"type\":\"BoxAnnotation\"},{\"attributes\":{\"plot\":null,\"text\":\"\",\"text_color\":{\"value\":\"black\"},\"text_font_size\":{\"value\":\"12pt\"}},\"id\":\"2773\",\"type\":\"Title\"},{\"attributes\":{\"bottom\":{\"value\":0},\"fill_alpha\":{\"value\":0.7},\"fill_color\":{\"value\":\"red\"},\"left\":{\"field\":\"left\"},\"line_alpha\":{\"value\":0.7},\"line_color\":{\"value\":\"black\"},\"right\":{\"field\":\"right\"},\"top\":{\"field\":\"top\"}},\"id\":\"2822\",\"type\":\"Quad\"},{\"attributes\":{\"bottom\":{\"value\":0},\"fill_alpha\":{\"value\":0.2},\"fill_color\":{\"value\":\"red\"},\"left\":{\"field\":\"left\"},\"line_alpha\":{\"value\":0.2},\"line_color\":{\"value\":\"black\"},\"right\":{\"field\":\"right\"},\"top\":{\"field\":\"top\"}},\"id\":\"2823\",\"type\":\"Quad\"},{\"attributes\":{\"data_source\":{\"id\":\"2818\",\"type\":\"ColumnDataSource\"},\"glyph\":{\"id\":\"2821\",\"type\":\"Quad\"},\"hover_glyph\":null,\"muted_glyph\":{\"id\":\"2823\",\"type\":\"Quad\"},\"nonselection_glyph\":{\"id\":\"2822\",\"type\":\"Quad\"},\"selection_glyph\":null,\"view\":{\"id\":\"2825\",\"type\":\"CDSView\"}},\"id\":\"2824\",\"type\":\"GlyphRenderer\"},{\"attributes\":{},\"id\":\"2809\",\"type\":\"BasicTickFormatter\"},{\"attributes\":{},\"id\":\"2811\",\"type\":\"Selection\"},{\"attributes\":{},\"id\":\"2780\",\"type\":\"LinearScale\"},{\"attributes\":{},\"id\":\"2778\",\"type\":\"LinearScale\"},{\"attributes\":{},\"id\":\"2794\",\"type\":\"WheelZoomTool\"},{\"attributes\":{},\"id\":\"2792\",\"type\":\"SaveTool\"},{\"attributes\":{\"callback\":null,\"data\":{\"day\":{\"__ndarray__\":\"MzMzMzMzwz/MzMzMzMzcPwAAAAAAAOg/zMzMzMzM8D+amZmZmZn1P2ZmZmZmZvo/MzMzMzMz/z8AAAAAAAACQGZmZmZmZgRAzMzMzMzMBkAzMzMzMzMJQJmZmZmZmQtAAAAAAAAADkAzMzMzMzMQQGZmZmZmZhFAmpmZmZmZEkDMzMzMzMwTQAAAAAAAABVAMzMzMzMzFkBmZmZmZmYXQA==\",\"dtype\":\"float64\",\"shape\":[20]},\"day_count\":[14664,0,0,15824,0,0,15922,0,0,0,16016,0,0,17317,0,0,11190,0,0,8368],\"left\":{\"__ndarray__\":\"AAAAAAAAAAAzMzMzMzPTPzMzMzMzM+M/zMzMzMzM7D8zMzMzMzPzPwAAAAAAAPg/zMzMzMzM/D/NzMzMzMwAQDMzMzMzMwNAmZmZmZmZBUAAAAAAAAAIQGZmZmZmZgpAzMzMzMzMDEAzMzMzMzMPQM3MzMzMzBBAAAAAAAAAEkAzMzMzMzMTQGZmZmZmZhRAmZmZmZmZFUDNzMzMzMwWQA==\",\"dtype\":\"float64\",\"shape\":[20]},\"right\":{\"__ndarray__\":\"MzMzMzMz0z8zMzMzMzPjP8zMzMzMzOw/MzMzMzMz8z8AAAAAAAD4P8zMzMzMzPw/zczMzMzMAEAzMzMzMzMDQJmZmZmZmQVAAAAAAAAACEBmZmZmZmYKQMzMzMzMzAxAMzMzMzMzD0DNzMzMzMwQQAAAAAAAABJAMzMzMzMzE0BmZmZmZmYUQJmZmZmZmRVAzczMzMzMFkAAAAAAAAAYQA==\",\"dtype\":\"float64\",\"shape\":[20]},\"top\":[14664,0,0,15824,0,0,15922,0,0,0,16016,0,0,17317,0,0,11190,0,0,8368]},\"selected\":{\"id\":\"2811\",\"type\":\"Selection\"},\"selection_policy\":{\"id\":\"2832\",\"type\":\"UnionRenderers\"}},\"id\":\"2810\",\"type\":\"ColumnDataSource\"},{\"attributes\":{\"grid_line_color\":{\"value\":null},\"plot\":{\"id\":\"2774\",\"subtype\":\"Figure\",\"type\":\"Plot\"},\"ticker\":{\"id\":\"2783\",\"type\":\"BasicTicker\"}},\"id\":\"2786\",\"type\":\"Grid\"},{\"attributes\":{\"axis_label\":\"day\",\"bounds\":\"auto\",\"formatter\":{\"id\":\"2807\",\"type\":\"BasicTickFormatter\"},\"major_label_orientation\":\"horizontal\",\"plot\":{\"id\":\"2774\",\"subtype\":\"Figure\",\"type\":\"Plot\"},\"ticker\":{\"id\":\"2783\",\"type\":\"BasicTicker\"}},\"id\":\"2782\",\"type\":\"LinearAxis\"},{\"attributes\":{},\"id\":\"2796\",\"type\":\"ResetTool\"},{\"attributes\":{\"overlay\":{\"id\":\"2801\",\"type\":\"BoxAnnotation\"}},\"id\":\"2795\",\"type\":\"BoxZoomTool\"},{\"attributes\":{\"bottom\":{\"value\":0},\"fill_alpha\":{\"value\":0.7},\"fill_color\":{\"value\":\"red\"},\"left\":{\"field\":\"left\"},\"line_alpha\":{\"value\":0.7},\"right\":{\"field\":\"right\"},\"top\":{\"field\":\"top\"}},\"id\":\"2821\",\"type\":\"Quad\"},{\"attributes\":{},\"id\":\"2783\",\"type\":\"BasicTicker\"},{\"attributes\":{},\"id\":\"2819\",\"type\":\"Selection\"},{\"attributes\":{},\"id\":\"2834\",\"type\":\"UnionRenderers\"},{\"attributes\":{\"source\":{\"id\":\"2810\",\"type\":\"ColumnDataSource\"}},\"id\":\"2817\",\"type\":\"CDSView\"},{\"attributes\":{},\"id\":\"2832\",\"type\":\"UnionRenderers\"},{\"attributes\":{\"callback\":null,\"end\":17317.0,\"reset_end\":17317.0,\"reset_start\":0.0,\"tags\":[[[\"day_count\",\"Count\",null]]]},\"id\":\"2770\",\"type\":\"Range1d\"},{\"attributes\":{\"callback\":null,\"renderers\":[{\"id\":\"2816\",\"type\":\"GlyphRenderer\"},{\"id\":\"2824\",\"type\":\"GlyphRenderer\"}],\"tooltips\":[[\"day\",\"@{day}\"],[\"Count\",\"@{day_count}\"]]},\"id\":\"2771\",\"type\":\"HoverTool\"},{\"attributes\":{\"callback\":null,\"end\":6.0,\"reset_end\":6.0,\"reset_start\":0.0,\"tags\":[[[\"day\",\"day\",null]]]},\"id\":\"2769\",\"type\":\"Range1d\"},{\"attributes\":{},\"id\":\"2807\",\"type\":\"BasicTickFormatter\"},{\"attributes\":{\"dimension\":1,\"grid_line_color\":{\"value\":null},\"plot\":{\"id\":\"2774\",\"subtype\":\"Figure\",\"type\":\"Plot\"},\"ticker\":{\"id\":\"2788\",\"type\":\"BasicTicker\"}},\"id\":\"2791\",\"type\":\"Grid\"},{\"attributes\":{\"callback\":null,\"data\":{\"day\":{\"__ndarray__\":\"MzMzMzMzwz/MzMzMzMzcPwAAAAAAAOg/zMzMzMzM8D+amZmZmZn1P2ZmZmZmZvo/MzMzMzMz/z8AAAAAAAACQGZmZmZmZgRAzMzMzMzMBkAzMzMzMzMJQJmZmZmZmQtAAAAAAAAADkAzMzMzMzMQQGZmZmZmZhFAmpmZmZmZEkDMzMzMzMwTQAAAAAAAABVAMzMzMzMzFkBmZmZmZmYXQA==\",\"dtype\":\"float64\",\"shape\":[20]},\"day_count\":[3768,0,0,3944,0,0,3936,0,0,0,3968,0,0,4597,0,0,4053,0,0,3461],\"left\":{\"__ndarray__\":\"AAAAAAAAAAAzMzMzMzPTPzMzMzMzM+M/zMzMzMzM7D8zMzMzMzPzPwAAAAAAAPg/zMzMzMzM/D/NzMzMzMwAQDMzMzMzMwNAmZmZmZmZBUAAAAAAAAAIQGZmZmZmZgpAzMzMzMzMDEAzMzMzMzMPQM3MzMzMzBBAAAAAAAAAEkAzMzMzMzMTQGZmZmZmZhRAmZmZmZmZFUDNzMzMzMwWQA==\",\"dtype\":\"float64\",\"shape\":[20]},\"right\":{\"__ndarray__\":\"MzMzMzMz0z8zMzMzMzPjP8zMzMzMzOw/MzMzMzMz8z8AAAAAAAD4P8zMzMzMzPw/zczMzMzMAEAzMzMzMzMDQJmZmZmZmQVAAAAAAAAACEBmZmZmZmYKQMzMzMzMzAxAMzMzMzMzD0DNzMzMzMwQQAAAAAAAABJAMzMzMzMzE0BmZmZmZmYUQJmZmZmZmRVAzczMzMzMFkAAAAAAAAAYQA==\",\"dtype\":\"float64\",\"shape\":[20]},\"top\":[3768,0,0,3944,0,0,3936,0,0,0,3968,0,0,4597,0,0,4053,0,0,3461]},\"selected\":{\"id\":\"2819\",\"type\":\"Selection\"},\"selection_policy\":{\"id\":\"2834\",\"type\":\"UnionRenderers\"}},\"id\":\"2818\",\"type\":\"ColumnDataSource\"},{\"attributes\":{\"data_source\":{\"id\":\"2810\",\"type\":\"ColumnDataSource\"},\"glyph\":{\"id\":\"2813\",\"type\":\"Quad\"},\"hover_glyph\":null,\"muted_glyph\":{\"id\":\"2815\",\"type\":\"Quad\"},\"nonselection_glyph\":{\"id\":\"2814\",\"type\":\"Quad\"},\"selection_glyph\":null,\"view\":{\"id\":\"2817\",\"type\":\"CDSView\"}},\"id\":\"2816\",\"type\":\"GlyphRenderer\"},{\"attributes\":{\"bottom\":{\"value\":0},\"fill_alpha\":{\"value\":0.2},\"fill_color\":{\"value\":\"navy\"},\"left\":{\"field\":\"left\"},\"line_alpha\":{\"value\":0.2},\"line_color\":{\"value\":\"black\"},\"right\":{\"field\":\"right\"},\"top\":{\"field\":\"top\"}},\"id\":\"2815\",\"type\":\"Quad\"},{\"attributes\":{\"axis_label\":\"\",\"bounds\":\"auto\",\"formatter\":{\"id\":\"2809\",\"type\":\"BasicTickFormatter\"},\"major_label_orientation\":\"horizontal\",\"plot\":{\"id\":\"2774\",\"subtype\":\"Figure\",\"type\":\"Plot\"},\"ticker\":{\"id\":\"2788\",\"type\":\"BasicTicker\"}},\"id\":\"2787\",\"type\":\"LinearAxis\"},{\"attributes\":{\"bottom\":{\"value\":0},\"fill_alpha\":{\"value\":0.7},\"fill_color\":{\"value\":\"navy\"},\"left\":{\"field\":\"left\"},\"line_alpha\":{\"value\":0.7},\"line_color\":{\"value\":\"black\"},\"right\":{\"field\":\"right\"},\"top\":{\"field\":\"top\"}},\"id\":\"2814\",\"type\":\"Quad\"},{\"attributes\":{},\"id\":\"2788\",\"type\":\"BasicTicker\"}],\"root_ids\":[\"2774\"]},\"title\":\"Bokeh Application\",\"version\":\"1.0.0\"}};\n",
       "  var render_items = [{\"docid\":\"a9c57b0f-1d7b-40f4-adea-f10a3c9439d4\",\"roots\":{\"2774\":\"af40835b-14a4-460a-be3e-ec63e0827fce\"}}];\n",
       "  root.Bokeh.embed.embed_items_notebook(docs_json, render_items);\n",
       "\n",
       "  }\n",
       "  if (root.Bokeh !== undefined) {\n",
       "    embed_document(root);\n",
       "  } else {\n",
       "    var attempts = 0;\n",
       "    var timer = setInterval(function(root) {\n",
       "      if (root.Bokeh !== undefined) {\n",
       "        embed_document(root);\n",
       "        clearInterval(timer);\n",
       "      }\n",
       "      attempts++;\n",
       "      if (attempts > 100) {\n",
       "        console.log(\"Bokeh: ERROR: Unable to run BokehJS code because BokehJS library is missing\");\n",
       "        clearInterval(timer);\n",
       "      }\n",
       "    }, 10, root)\n",
       "  }\n",
       "})(window);"
      ],
      "application/vnd.holoviews_exec.v0+json": "",
      "text/html": [
       "<div id='2774' style='display: table; margin: 0 auto;'>\n",
       "\n",
       "\n",
       "\n",
       "\n",
       "\n",
       "  <div class=\"bk-root\" id=\"af40835b-14a4-460a-be3e-ec63e0827fce\"></div>\n",
       "</div>"
      ],
      "text/plain": [
       ":Overlay\n",
       "   .Histogram.I  :Histogram   [day]   (day_count)\n",
       "   .Histogram.II :Histogram   [day]   (day_count)"
      ]
     },
     "execution_count": 73,
     "metadata": {
      "application/vnd.holoviews_exec.v0+json": {
       "id": "2774"
      }
     },
     "output_type": "execute_result"
    }
   ],
   "source": [
    "lacs.day.hvplot.hist(color='navy').options(alpha=0.7) * hracs.day.hvplot.hist(color='red').options(alpha=0.7)"
   ]
  },
  {
   "cell_type": "code",
   "execution_count": 75,
   "metadata": {},
   "outputs": [
    {
     "data": {
      "application/javascript": [
       "\n",
       "// Ugly hack - see HoloViews #2574 for more information\n",
       "if (!(document.getElementById('3188')) && !(document.getElementById('_anim_imgNone'))) {\n",
       "  console.log(\"Creating DOM nodes dynamically for assumed nbconvert export. To generate clean HTML output set HV_DOC_HTML as an environment variable.\")\n",
       "  var htmlObject = document.createElement('div');\n",
       "  htmlObject.innerHTML = `<div id='3188' style='display: table; margin: 0 auto;'>\n",
       "\n",
       "\n",
       "\n",
       "\n",
       "\n",
       "  <div class=\"bk-root\" id=\"d71494e6-845f-4642-82f0-15a7975bdbbd\"></div>\n",
       "</div>`;\n",
       "  var scriptTags = document.getElementsByTagName('script');\n",
       "  var parentTag = scriptTags[scriptTags.length-1].parentNode;\n",
       "  if (parentTag.attributes.length && (parentTag.attributes[0].name == 'data-shell-mode')) {\n",
       "    alert('Displaying PyViz objects in JupyterLab requires the jupyterlab_pyviz extension to be installed, install it with:\\n\\n\\tjupyter labextension install @pyviz/jupyterlab_pyviz');\n",
       "  } else {\n",
       "    parentTag.append(htmlObject)\n",
       "  }\n",
       "}\n",
       "(function(root) {\n",
       "  function embed_document(root) {\n",
       "    \n",
       "  var docs_json = {\"d38ee186-178f-4eb3-baba-7e832fdb13b5\":{\"roots\":{\"references\":[{\"attributes\":{\"below\":[{\"id\":\"3196\",\"type\":\"LinearAxis\"}],\"left\":[{\"id\":\"3201\",\"type\":\"LinearAxis\"}],\"min_border_bottom\":10,\"min_border_left\":10,\"min_border_right\":10,\"min_border_top\":10,\"plot_height\":300,\"plot_width\":700,\"renderers\":[{\"id\":\"3196\",\"type\":\"LinearAxis\"},{\"id\":\"3200\",\"type\":\"Grid\"},{\"id\":\"3201\",\"type\":\"LinearAxis\"},{\"id\":\"3205\",\"type\":\"Grid\"},{\"id\":\"3215\",\"type\":\"BoxAnnotation\"},{\"id\":\"3230\",\"type\":\"GlyphRenderer\"},{\"id\":\"3238\",\"type\":\"GlyphRenderer\"}],\"title\":{\"id\":\"3187\",\"type\":\"Title\"},\"toolbar\":{\"id\":\"3211\",\"type\":\"Toolbar\"},\"x_range\":{\"id\":\"3183\",\"type\":\"Range1d\"},\"x_scale\":{\"id\":\"3192\",\"type\":\"LinearScale\"},\"y_range\":{\"id\":\"3184\",\"type\":\"Range1d\"},\"y_scale\":{\"id\":\"3194\",\"type\":\"LinearScale\"}},\"id\":\"3188\",\"subtype\":\"Figure\",\"type\":\"Plot\"},{\"attributes\":{},\"id\":\"3194\",\"type\":\"LinearScale\"},{\"attributes\":{\"axis_label\":\"hour\",\"bounds\":\"auto\",\"formatter\":{\"id\":\"3221\",\"type\":\"BasicTickFormatter\"},\"major_label_orientation\":\"horizontal\",\"plot\":{\"id\":\"3188\",\"subtype\":\"Figure\",\"type\":\"Plot\"},\"ticker\":{\"id\":\"3197\",\"type\":\"BasicTicker\"}},\"id\":\"3196\",\"type\":\"LinearAxis\"},{\"attributes\":{},\"id\":\"3206\",\"type\":\"SaveTool\"},{\"attributes\":{},\"id\":\"3192\",\"type\":\"LinearScale\"},{\"attributes\":{\"callback\":null,\"data\":{\"hour\":{\"__ndarray__\":\"ZmZmZmZm4j+ZmZmZmZn7PwAAAAAAAAdAmZmZmZkZEEAzMzMzM7MUQMzMzMzMTBlAZmZmZmbmHUAAAAAAAEAhQMzMzMzMjCNAmpmZmZnZJUBmZmZmZiYoQDIzMzMzcypAAAAAAADALEDMzMzMzAwvQMzMzMzMrDBAMzMzMzPTMUCZmZmZmfkyQAAAAAAAIDRAZmZmZmZGNUDMzMzMzGw2QA==\",\"dtype\":\"float64\",\"shape\":[20]},\"hour_count\":[860,415,291,314,480,700,2402,1033,1061,1235,1443,1478,1748,4515,2248,2007,1503,1289,1094,1611],\"left\":{\"__ndarray__\":\"AAAAAAAAAABmZmZmZmbyP2ZmZmZmZgJAmZmZmZmZC0BmZmZmZmYSQAAAAAAAABdAmZmZmZmZG0CZmZmZmRkgQGZmZmZmZiJAMzMzMzOzJEAAAAAAAAAnQMzMzMzMTClAmZmZmZmZK0BmZmZmZuYtQJmZmZmZGTBAAAAAAABAMUBmZmZmZmYyQMzMzMzMjDNAMzMzMzOzNECZmZmZmdk1QA==\",\"dtype\":\"float64\",\"shape\":[20]},\"right\":{\"__ndarray__\":\"ZmZmZmZm8j9mZmZmZmYCQJmZmZmZmQtAZmZmZmZmEkAAAAAAAAAXQJmZmZmZmRtAmZmZmZkZIEBmZmZmZmYiQDMzMzMzsyRAAAAAAAAAJ0DMzMzMzEwpQJmZmZmZmStAZmZmZmbmLUCZmZmZmRkwQAAAAAAAQDFAZmZmZmZmMkDMzMzMzIwzQDMzMzMzszRAmZmZmZnZNUAAAAAAAAA3QA==\",\"dtype\":\"float64\",\"shape\":[20]},\"top\":[860,415,291,314,480,700,2402,1033,1061,1235,1443,1478,1748,4515,2248,2007,1503,1289,1094,1611]},\"selected\":{\"id\":\"3233\",\"type\":\"Selection\"},\"selection_policy\":{\"id\":\"3248\",\"type\":\"UnionRenderers\"}},\"id\":\"3232\",\"type\":\"ColumnDataSource\"},{\"attributes\":{},\"id\":\"3233\",\"type\":\"Selection\"},{\"attributes\":{\"bottom\":{\"value\":0},\"fill_alpha\":{\"value\":0.7},\"fill_color\":{\"value\":\"red\"},\"left\":{\"field\":\"left\"},\"line_alpha\":{\"value\":0.7},\"right\":{\"field\":\"right\"},\"top\":{\"field\":\"top\"}},\"id\":\"3235\",\"type\":\"Quad\"},{\"attributes\":{},\"id\":\"3208\",\"type\":\"WheelZoomTool\"},{\"attributes\":{},\"id\":\"3221\",\"type\":\"BasicTickFormatter\"},{\"attributes\":{\"plot\":null,\"text\":\"\",\"text_color\":{\"value\":\"black\"},\"text_font_size\":{\"value\":\"12pt\"}},\"id\":\"3187\",\"type\":\"Title\"},{\"attributes\":{},\"id\":\"3210\",\"type\":\"ResetTool\"},{\"attributes\":{\"bottom_units\":\"screen\",\"fill_alpha\":{\"value\":0.5},\"fill_color\":{\"value\":\"lightgrey\"},\"left_units\":\"screen\",\"level\":\"overlay\",\"line_alpha\":{\"value\":1.0},\"line_color\":{\"value\":\"black\"},\"line_dash\":[4,4],\"line_width\":{\"value\":2},\"plot\":null,\"render_mode\":\"css\",\"right_units\":\"screen\",\"top_units\":\"screen\"},\"id\":\"3215\",\"type\":\"BoxAnnotation\"},{\"attributes\":{\"overlay\":{\"id\":\"3215\",\"type\":\"BoxAnnotation\"}},\"id\":\"3209\",\"type\":\"BoxZoomTool\"},{\"attributes\":{\"bottom\":{\"value\":0},\"fill_alpha\":{\"value\":0.2},\"fill_color\":{\"value\":\"red\"},\"left\":{\"field\":\"left\"},\"line_alpha\":{\"value\":0.2},\"line_color\":{\"value\":\"black\"},\"right\":{\"field\":\"right\"},\"top\":{\"field\":\"top\"}},\"id\":\"3237\",\"type\":\"Quad\"},{\"attributes\":{},\"id\":\"3207\",\"type\":\"PanTool\"},{\"attributes\":{\"bottom\":{\"value\":0},\"fill_alpha\":{\"value\":0.7},\"fill_color\":{\"value\":\"navy\"},\"left\":{\"field\":\"left\"},\"line_alpha\":{\"value\":0.7},\"right\":{\"field\":\"right\"},\"top\":{\"field\":\"top\"}},\"id\":\"3227\",\"type\":\"Quad\"},{\"attributes\":{\"active_drag\":\"auto\",\"active_inspect\":\"auto\",\"active_multi\":null,\"active_scroll\":\"auto\",\"active_tap\":\"auto\",\"tools\":[{\"id\":\"3185\",\"type\":\"HoverTool\"},{\"id\":\"3206\",\"type\":\"SaveTool\"},{\"id\":\"3207\",\"type\":\"PanTool\"},{\"id\":\"3208\",\"type\":\"WheelZoomTool\"},{\"id\":\"3209\",\"type\":\"BoxZoomTool\"},{\"id\":\"3210\",\"type\":\"ResetTool\"}]},\"id\":\"3211\",\"type\":\"Toolbar\"},{\"attributes\":{},\"id\":\"3248\",\"type\":\"UnionRenderers\"},{\"attributes\":{\"callback\":null,\"renderers\":[{\"id\":\"3230\",\"type\":\"GlyphRenderer\"},{\"id\":\"3238\",\"type\":\"GlyphRenderer\"}],\"tooltips\":[[\"hour\",\"@{hour}\"],[\"Count\",\"@{hour_count}\"]]},\"id\":\"3185\",\"type\":\"HoverTool\"},{\"attributes\":{},\"id\":\"3246\",\"type\":\"UnionRenderers\"},{\"attributes\":{},\"id\":\"3223\",\"type\":\"BasicTickFormatter\"},{\"attributes\":{\"callback\":null,\"end\":23.0,\"reset_end\":23.0,\"reset_start\":0.0,\"tags\":[[[\"hour\",\"hour\",null]]]},\"id\":\"3183\",\"type\":\"Range1d\"},{\"attributes\":{\"source\":{\"id\":\"3232\",\"type\":\"ColumnDataSource\"}},\"id\":\"3239\",\"type\":\"CDSView\"},{\"attributes\":{\"dimension\":1,\"grid_line_color\":{\"value\":null},\"plot\":{\"id\":\"3188\",\"subtype\":\"Figure\",\"type\":\"Plot\"},\"ticker\":{\"id\":\"3202\",\"type\":\"BasicTicker\"}},\"id\":\"3205\",\"type\":\"Grid\"},{\"attributes\":{\"data_source\":{\"id\":\"3224\",\"type\":\"ColumnDataSource\"},\"glyph\":{\"id\":\"3227\",\"type\":\"Quad\"},\"hover_glyph\":null,\"muted_glyph\":{\"id\":\"3229\",\"type\":\"Quad\"},\"nonselection_glyph\":{\"id\":\"3228\",\"type\":\"Quad\"},\"selection_glyph\":null,\"view\":{\"id\":\"3231\",\"type\":\"CDSView\"}},\"id\":\"3230\",\"type\":\"GlyphRenderer\"},{\"attributes\":{\"callback\":null,\"end\":18654.0,\"reset_end\":18654.0,\"reset_start\":0.0,\"tags\":[[[\"hour_count\",\"Count\",null]]]},\"id\":\"3184\",\"type\":\"Range1d\"},{\"attributes\":{\"source\":{\"id\":\"3224\",\"type\":\"ColumnDataSource\"}},\"id\":\"3231\",\"type\":\"CDSView\"},{\"attributes\":{\"callback\":null,\"data\":{\"hour\":{\"__ndarray__\":\"ZmZmZmZm4j+ZmZmZmZn7PwAAAAAAAAdAmZmZmZkZEEAzMzMzM7MUQMzMzMzMTBlAZmZmZmbmHUAAAAAAAEAhQMzMzMzMjCNAmpmZmZnZJUBmZmZmZiYoQDIzMzMzcypAAAAAAADALEDMzMzMzAwvQMzMzMzMrDBAMzMzMzPTMUCZmZmZmfkyQAAAAAAAIDRAZmZmZmZGNUDMzMzMzGw2QA==\",\"dtype\":\"float64\",\"shape\":[20]},\"hour_count\":[1329,629,470,664,1291,3118,12478,3870,4084,4887,6014,5924,7051,18654,9616,6930,4042,3098,2338,2814],\"left\":{\"__ndarray__\":\"AAAAAAAAAABmZmZmZmbyP2ZmZmZmZgJAmZmZmZmZC0BmZmZmZmYSQAAAAAAAABdAmZmZmZmZG0CZmZmZmRkgQGZmZmZmZiJAMzMzMzOzJEAAAAAAAAAnQMzMzMzMTClAmZmZmZmZK0BmZmZmZuYtQJmZmZmZGTBAAAAAAABAMUBmZmZmZmYyQMzMzMzMjDNAMzMzMzOzNECZmZmZmdk1QA==\",\"dtype\":\"float64\",\"shape\":[20]},\"right\":{\"__ndarray__\":\"ZmZmZmZm8j9mZmZmZmYCQJmZmZmZmQtAZmZmZmZmEkAAAAAAAAAXQJmZmZmZmRtAmZmZmZkZIEBmZmZmZmYiQDMzMzMzsyRAAAAAAAAAJ0DMzMzMzEwpQJmZmZmZmStAZmZmZmbmLUCZmZmZmRkwQAAAAAAAQDFAZmZmZmZmMkDMzMzMzIwzQDMzMzMzszRAmZmZmZnZNUAAAAAAAAA3QA==\",\"dtype\":\"float64\",\"shape\":[20]},\"top\":[1329,629,470,664,1291,3118,12478,3870,4084,4887,6014,5924,7051,18654,9616,6930,4042,3098,2338,2814]},\"selected\":{\"id\":\"3225\",\"type\":\"Selection\"},\"selection_policy\":{\"id\":\"3246\",\"type\":\"UnionRenderers\"}},\"id\":\"3224\",\"type\":\"ColumnDataSource\"},{\"attributes\":{},\"id\":\"3202\",\"type\":\"BasicTicker\"},{\"attributes\":{\"bottom\":{\"value\":0},\"fill_alpha\":{\"value\":0.2},\"fill_color\":{\"value\":\"navy\"},\"left\":{\"field\":\"left\"},\"line_alpha\":{\"value\":0.2},\"line_color\":{\"value\":\"black\"},\"right\":{\"field\":\"right\"},\"top\":{\"field\":\"top\"}},\"id\":\"3229\",\"type\":\"Quad\"},{\"attributes\":{\"data_source\":{\"id\":\"3232\",\"type\":\"ColumnDataSource\"},\"glyph\":{\"id\":\"3235\",\"type\":\"Quad\"},\"hover_glyph\":null,\"muted_glyph\":{\"id\":\"3237\",\"type\":\"Quad\"},\"nonselection_glyph\":{\"id\":\"3236\",\"type\":\"Quad\"},\"selection_glyph\":null,\"view\":{\"id\":\"3239\",\"type\":\"CDSView\"}},\"id\":\"3238\",\"type\":\"GlyphRenderer\"},{\"attributes\":{\"axis_label\":\"\",\"bounds\":\"auto\",\"formatter\":{\"id\":\"3223\",\"type\":\"BasicTickFormatter\"},\"major_label_orientation\":\"horizontal\",\"plot\":{\"id\":\"3188\",\"subtype\":\"Figure\",\"type\":\"Plot\"},\"ticker\":{\"id\":\"3202\",\"type\":\"BasicTicker\"}},\"id\":\"3201\",\"type\":\"LinearAxis\"},{\"attributes\":{},\"id\":\"3225\",\"type\":\"Selection\"},{\"attributes\":{\"grid_line_color\":{\"value\":null},\"plot\":{\"id\":\"3188\",\"subtype\":\"Figure\",\"type\":\"Plot\"},\"ticker\":{\"id\":\"3197\",\"type\":\"BasicTicker\"}},\"id\":\"3200\",\"type\":\"Grid\"},{\"attributes\":{\"bottom\":{\"value\":0},\"fill_alpha\":{\"value\":0.7},\"fill_color\":{\"value\":\"navy\"},\"left\":{\"field\":\"left\"},\"line_alpha\":{\"value\":0.7},\"line_color\":{\"value\":\"black\"},\"right\":{\"field\":\"right\"},\"top\":{\"field\":\"top\"}},\"id\":\"3228\",\"type\":\"Quad\"},{\"attributes\":{},\"id\":\"3197\",\"type\":\"BasicTicker\"},{\"attributes\":{\"bottom\":{\"value\":0},\"fill_alpha\":{\"value\":0.7},\"fill_color\":{\"value\":\"red\"},\"left\":{\"field\":\"left\"},\"line_alpha\":{\"value\":0.7},\"line_color\":{\"value\":\"black\"},\"right\":{\"field\":\"right\"},\"top\":{\"field\":\"top\"}},\"id\":\"3236\",\"type\":\"Quad\"}],\"root_ids\":[\"3188\"]},\"title\":\"Bokeh Application\",\"version\":\"1.0.0\"}};\n",
       "  var render_items = [{\"docid\":\"d38ee186-178f-4eb3-baba-7e832fdb13b5\",\"roots\":{\"3188\":\"d71494e6-845f-4642-82f0-15a7975bdbbd\"}}];\n",
       "  root.Bokeh.embed.embed_items_notebook(docs_json, render_items);\n",
       "\n",
       "  }\n",
       "  if (root.Bokeh !== undefined) {\n",
       "    embed_document(root);\n",
       "  } else {\n",
       "    var attempts = 0;\n",
       "    var timer = setInterval(function(root) {\n",
       "      if (root.Bokeh !== undefined) {\n",
       "        embed_document(root);\n",
       "        clearInterval(timer);\n",
       "      }\n",
       "      attempts++;\n",
       "      if (attempts > 100) {\n",
       "        console.log(\"Bokeh: ERROR: Unable to run BokehJS code because BokehJS library is missing\");\n",
       "        clearInterval(timer);\n",
       "      }\n",
       "    }, 10, root)\n",
       "  }\n",
       "})(window);"
      ],
      "application/vnd.holoviews_exec.v0+json": "",
      "text/html": [
       "<div id='3188' style='display: table; margin: 0 auto;'>\n",
       "\n",
       "\n",
       "\n",
       "\n",
       "\n",
       "  <div class=\"bk-root\" id=\"d71494e6-845f-4642-82f0-15a7975bdbbd\"></div>\n",
       "</div>"
      ],
      "text/plain": [
       ":Overlay\n",
       "   .Histogram.I  :Histogram   [hour]   (hour_count)\n",
       "   .Histogram.II :Histogram   [hour]   (hour_count)"
      ]
     },
     "execution_count": 75,
     "metadata": {
      "application/vnd.holoviews_exec.v0+json": {
       "id": "3188"
      }
     },
     "output_type": "execute_result"
    }
   ],
   "source": [
    "lacs.hour.hvplot.hist(color='navy').options(alpha=0.7) * hracs.hour.hvplot.hist(color='red').options(alpha=0.7)"
   ]
  },
  {
   "cell_type": "code",
   "execution_count": 76,
   "metadata": {},
   "outputs": [
    {
     "data": {
      "text/plain": [
       "ACCIDENT REPORT                           61.465645\n",
       "NO ACTION REQUIRED                        31.046012\n",
       "DEPARTMENTAL REPORT                        7.037190\n",
       "OTHER (SUPP/FALSE ALARM/FI/LOUD PARTY)     0.230612\n",
       "TRAFFIC CITATION                           0.220542\n",
       "Name: DISPOSITION, dtype: float64"
      ]
     },
     "execution_count": 76,
     "metadata": {},
     "output_type": "execute_result"
    }
   ],
   "source": [
    "lacs.DISPOSITION.value_counts() / len(lacs) * 100"
   ]
  },
  {
   "cell_type": "code",
   "execution_count": 77,
   "metadata": {},
   "outputs": [
    {
     "data": {
      "text/plain": [
       "NO ACTION REQUIRED                        51.448047\n",
       "DEPARTMENTAL REPORT                       24.762867\n",
       "ACCIDENT REPORT                           23.230065\n",
       "OTHER (SUPP/FALSE ALARM/FI/LOUD PARTY)     0.483283\n",
       "TRAFFIC CITATION                           0.075738\n",
       "Name: DISPOSITION, dtype: float64"
      ]
     },
     "execution_count": 77,
     "metadata": {},
     "output_type": "execute_result"
    }
   ],
   "source": [
    "hracs.DISPOSITION.value_counts() / len(hracs) * 100"
   ]
  },
  {
   "cell_type": "code",
   "execution_count": 79,
   "metadata": {},
   "outputs": [
    {
     "data": {
      "text/plain": [
       "ACCIDENT NO INJURIES      81.196564\n",
       "ACCIDENT WITH INJURIES    18.588937\n",
       "ACCIDENT FATALITY          0.214499\n",
       "Name: FINAL_CALL_TYPE, dtype: float64"
      ]
     },
     "execution_count": 79,
     "metadata": {},
     "output_type": "execute_result"
    }
   ],
   "source": [
    "lacs.FINAL_CALL_TYPE.value_counts() / len(lacs) * 100"
   ]
  },
  {
   "cell_type": "code",
   "execution_count": 80,
   "metadata": {},
   "outputs": [
    {
     "data": {
      "text/plain": [
       "HIT & RUN ACCIDENT NO INJURY        93.573052\n",
       "HIT & RUN ACCIDENT WITH INJURIES     6.336784\n",
       "HIT & RUN  FATALITY                  0.090165\n",
       "Name: FINAL_CALL_TYPE, dtype: float64"
      ]
     },
     "execution_count": 80,
     "metadata": {},
     "output_type": "execute_result"
    }
   ],
   "source": [
    "hracs.FINAL_CALL_TYPE.value_counts() / len(hracs) * 100"
   ]
  },
  {
   "cell_type": "code",
   "execution_count": 82,
   "metadata": {},
   "outputs": [
    {
     "data": {
      "text/plain": [
       "0.21827471108731933"
      ]
     },
     "execution_count": 82,
     "metadata": {},
     "output_type": "execute_result"
    }
   ],
   "source": [
    "len(hracs) / (len(hracs) + len(lacs))"
   ]
  },
  {
   "cell_type": "code",
   "execution_count": 84,
   "metadata": {},
   "outputs": [
    {
     "data": {
      "text/plain": [
       "BG27     700\n",
       "BA27     621\n",
       "BG13     598\n",
       "BC19A    586\n",
       "BI23B    561\n",
       "DG29     550\n",
       "CI22     523\n",
       "BC17A    521\n",
       "BE11     517\n",
       "CA21     516\n",
       "BG17     512\n",
       "BG19     507\n",
       "BE31     506\n",
       "AB16     500\n",
       "BI29     481\n",
       "BD11     479\n",
       "BE38     477\n",
       "BI31B    477\n",
       "BG29     472\n",
       "BG11     466\n",
       "BC13A    454\n",
       "BI32     453\n",
       "BE17     451\n",
       "BE35     446\n",
       "CA25     431\n",
       "BC29A    421\n",
       "BG21A    413\n",
       "CA23B    413\n",
       "BI21     410\n",
       "CG21     400\n",
       "        ... \n",
       "JD28       1\n",
       "EA36B      1\n",
       "FD24       1\n",
       "FI37       1\n",
       "EB35B      1\n",
       "HB16       1\n",
       "FD34       1\n",
       "CH32       1\n",
       "FA35       1\n",
       "EI34       1\n",
       "FF40       1\n",
       "CH18       1\n",
       "IF20       1\n",
       "AE14       1\n",
       "AE03       1\n",
       "IF26       1\n",
       "AF20B      1\n",
       "EB44       1\n",
       "EJ17       1\n",
       "EJ36       1\n",
       "DB27       1\n",
       "JB24       1\n",
       "FF42       1\n",
       "EE40       1\n",
       "GD18       1\n",
       "EE28       1\n",
       "IC12       1\n",
       "IF29       1\n",
       "JA28       1\n",
       "IC14       1\n",
       "Name: GRID, Length: 1667, dtype: int64"
      ]
     },
     "execution_count": 84,
     "metadata": {},
     "output_type": "execute_result"
    }
   ],
   "source": [
    "df.GRID.value_counts()"
   ]
  },
  {
   "cell_type": "code",
   "execution_count": null,
   "metadata": {},
   "outputs": [],
   "source": []
  }
 ],
 "metadata": {
  "kernelspec": {
   "display_name": "Python 3",
   "language": "python",
   "name": "python3"
  },
  "language_info": {
   "codemirror_mode": {
    "name": "ipython",
    "version": 3
   },
   "file_extension": ".py",
   "mimetype": "text/x-python",
   "name": "python",
   "nbconvert_exporter": "python",
   "pygments_lexer": "ipython3",
   "version": "3.7.1"
  }
 },
 "nbformat": 4,
 "nbformat_minor": 2
}
