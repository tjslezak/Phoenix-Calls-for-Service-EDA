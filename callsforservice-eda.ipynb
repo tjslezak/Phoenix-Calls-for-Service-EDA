{
 "cells": [
  {
   "cell_type": "code",
   "execution_count": 82,
   "metadata": {},
   "outputs": [],
   "source": [
    "import pandas as pd\n",
    "import geopandas as gpd\n",
    "from shapely.geometry import Point\n",
    "import hvplot.pandas\n",
    "import numpy as np\n",
    "import urllib\n",
    "import time\n",
    "import requests"
   ]
  },
  {
   "cell_type": "code",
   "execution_count": 74,
   "metadata": {},
   "outputs": [],
   "source": [
    "def status_cfs(s):\n",
    "    ti = min(s)\n",
    "    tf = max(s)\n",
    "    return 'Collected {} records, from {}/{} up to {}/{}.'.format(len(s), ti.month, ti.year, tf.month, tf.year)\n",
    "    \n",
    "    \n",
    "def get_tempe_cfs(dt_id='occ_dt'):\n",
    "    url = 'http://data-tempegov.opendata.arcgis.com/datasets/ba76da19a5274301bb8a010483aec14a_0.csv'\n",
    "    df = pd.read_csv(url, parse_dates=[dt_id])\n",
    "    print(status_cfs(df[dt_id]))\n",
    "    df.rename(columns={dt_id: 'call_dt'}, inplace=True)\n",
    "    \n",
    "    return df\n",
    "\n",
    "\n",
    "def get_mesa_cfs(dt_id='Creation Datetime'):\n",
    "    url = 'https://data.mesaaz.gov/api/views/4k95-x7aw/rows.csv'\n",
    "    df = pd.read_csv(url, parse_dates=[dt_id])\n",
    "    print(status_cfs(df[dt_id]))\n",
    "    df.rename(columns={dt_id: 'call_dt'}, inplace=True)\n",
    "    \n",
    "    return df\n",
    "\n",
    "\n",
    "def get_gilbert_cfs(dt_id='EventDate'):\n",
    "    url = 'https://opendata.arcgis.com/datasets/2dcb4c20c9a444f2a5d3dca180b651c9_2.csv'\n",
    "    df = pd.read_csv(url, parse_dates=[dt_id])\n",
    "    print(status_cfs(df[dt_id]))\n",
    "    df.rename(columns={dt_id: 'call_dt'}, inplace=True)\n",
    "    \n",
    "    return df\n",
    "\n",
    "\n",
    "def get_phoenix_cfs(dt_id='CALL_RECEIVED'):\n",
    "    url = 'https://www.phoenixopendata.com/dataset/64a60154-3b2d-4583-8fb5-6d5e1b469c28/resource/1d536ee6-7ffb-49c3-bffe-5cdd98a3c97e/download/calls-for-service_calls-for-service_callsforservice.csv'\n",
    "    df = pd.read_csv(url, parse_dates=[dt_id])\n",
    "    print(status_cfs(df[dt_id]))\n",
    "    df.rename(columns={dt_id: 'call_dt'}, inplace=True)\n",
    "    \n",
    "    return df\n",
    "\n",
    "\n",
    "def get_scottsdale_cfs(dt_id='Create Date', ext='csv'):\n",
    "    base_url = 'http://data.scottsdaleaz.gov:8000/spd_PDCallsForServic_'\n",
    "    i = 1\n",
    "    for year in range(2017, 2020):\n",
    "        for month in range(1, 13):\n",
    "            yearmonth = '{year}_{month}.{ext}'.format(year=year, month=month, ext=ext)\n",
    "            url = base_url + yearmonth\n",
    "            if i:\n",
    "                try:\n",
    "                    df = pd.read_csv(url, parse_dates=[dt_id])\n",
    "                    i -= 1\n",
    "                    month0, year0 = month, year\n",
    "                except:\n",
    "                    print(url, 'seems to be invalid.')\n",
    "            else:\n",
    "                try:\n",
    "                    df2 = pd.read_csv(url, parse_dates=[dt_id])\n",
    "                    df = pd.concat([df, df2])\n",
    "                except:\n",
    "                    break\n",
    "         \n",
    "    print(status_cfs(df[dt_id]))\n",
    "    df.rename(columns={dt_id: 'call_dt'}, inplace=True)\n",
    "    \n",
    "    return df\n",
    "\n",
    "\n",
    "def get_chandler_cfs(dt_id='Call Received'):\n",
    "    base_url = 'https://data.chandlerpd.com/catalog/calls-for-service-'\n",
    "    i = 1\n",
    "    dfs = dict()\n",
    "    for year in range(2013, 2020):\n",
    "        year_id = '{year}/download/csv'.format(year=str(year))\n",
    "        url = base_url + year_id\n",
    "        if i:\n",
    "            df = pd.read_csv(url, parse_dates=[dt_id])\n",
    "            i -= 1\n",
    "        else:\n",
    "            df2 = pd.read_csv(url, parse_dates=[dt_id])\n",
    "            df = pd.concat([df, df2])\n",
    "        print('Finished', year)\n",
    "    \n",
    "    print(status_cfs(df[dt_id]))\n",
    "    df.rename(columns={dt_id: 'call_dt'}, inplace=True)\n",
    "    \n",
    "    return df"
   ]
  },
  {
   "cell_type": "code",
   "execution_count": 75,
   "metadata": {},
   "outputs": [
    {
     "name": "stderr",
     "output_type": "stream",
     "text": [
      "/Users/tjs/anaconda3/lib/python3.7/site-packages/IPython/core/interactiveshell.py:3185: DtypeWarning: Columns (9) have mixed types. Specify dtype option on import or set low_memory=False.\n",
      "  if (yield from self.run_code(code, result)):\n"
     ]
    },
    {
     "name": "stdout",
     "output_type": "stream",
     "text": [
      "Finished 2013\n",
      "Finished 2014\n",
      "Finished 2015\n",
      "Finished 2016\n",
      "Finished 2017\n",
      "Finished 2018\n",
      "Finished 2019\n",
      "Collected 910626 records, from 1/2013 up to 2/2019.\n"
     ]
    }
   ],
   "source": [
    "chandler = get_chandler_cfs()"
   ]
  },
  {
   "cell_type": "code",
   "execution_count": 76,
   "metadata": {},
   "outputs": [
    {
     "name": "stdout",
     "output_type": "stream",
     "text": [
      "<class 'pandas.core.frame.DataFrame'>\n",
      "Int64Index: 910626 entries, 0 to 13668\n",
      "Data columns (total 24 columns):\n",
      "ID                             910626 non-null int64\n",
      "Number                         910626 non-null object\n",
      "call_dt                        910626 non-null datetime64[ns]\n",
      "Place Name                     313339 non-null object\n",
      "Address                        910625 non-null object\n",
      "City                           908692 non-null object\n",
      "District                       910626 non-null int64\n",
      "Beat                           910626 non-null int64\n",
      "Latitude                       892419 non-null object\n",
      "Longitude                      891741 non-null object\n",
      "Priority                       910626 non-null int64\n",
      "How Received                   910614 non-null object\n",
      "Reported As                    910626 non-null object\n",
      "Closed As                      910569 non-null object\n",
      "Cleared By                     910625 non-null object\n",
      "Dispatched                     910626 non-null object\n",
      "En Route                       910626 non-null object\n",
      "On Scene                       910626 non-null object\n",
      "Response Time                  910626 non-null int64\n",
      "911 to Received Time           910626 non-null int64\n",
      "Dispatch to Enroute Time       910626 non-null int64\n",
      "Call Received to Queue Time    910626 non-null int64\n",
      "Call Queue Time                910626 non-null int64\n",
      "Call Travel Time               910626 non-null int64\n",
      "dtypes: datetime64[ns](1), int64(10), object(13)\n",
      "memory usage: 173.7+ MB\n"
     ]
    }
   ],
   "source": [
    "chandler.info()"
   ]
  },
  {
   "cell_type": "code",
   "execution_count": 80,
   "metadata": {},
   "outputs": [
    {
     "name": "stderr",
     "output_type": "stream",
     "text": [
      "/Users/tjs/anaconda3/lib/python3.7/site-packages/ipykernel_launcher.py:3: SettingWithCopyWarning: \n",
      "A value is trying to be set on a copy of a slice from a DataFrame.\n",
      "Try using .loc[row_indexer,col_indexer] = value instead\n",
      "\n",
      "See the caveats in the documentation: http://pandas.pydata.org/pandas-docs/stable/indexing.html#indexing-view-versus-copy\n",
      "  This is separate from the ipykernel package so we can avoid doing imports until\n"
     ]
    }
   ],
   "source": [
    "chandler.dropna(subset=['Latitude', 'Longitude', 'Closed As'], inplace=True)\n",
    "coords = pd.Series(zip(chandler.Longitude.astype(np.float), chandler.Latitude.astype(np.float)))\n",
    "chandler['Coordinates'] = coords.apply(Point)\n",
    "\n",
    "chandler.rename(columns={'Closed As': 'final_code'}, inplace=True)\n",
    "ch_acc = chandler[chandler.final_code.str.contains('Accident')]\n",
    "ch_acc['PD'] = 'Chandler'\n",
    "ch_acc = ch_acc.loc[:, ['call_dt', 'final_code', 'Coordinates', 'PD']]"
   ]
  },
  {
   "cell_type": "code",
   "execution_count": 83,
   "metadata": {},
   "outputs": [
    {
     "data": {
      "text/html": [
       "<div>\n",
       "<style scoped>\n",
       "    .dataframe tbody tr th:only-of-type {\n",
       "        vertical-align: middle;\n",
       "    }\n",
       "\n",
       "    .dataframe tbody tr th {\n",
       "        vertical-align: top;\n",
       "    }\n",
       "\n",
       "    .dataframe thead th {\n",
       "        text-align: right;\n",
       "    }\n",
       "</style>\n",
       "<table border=\"1\" class=\"dataframe\">\n",
       "  <thead>\n",
       "    <tr style=\"text-align: right;\">\n",
       "      <th></th>\n",
       "      <th>call_dt</th>\n",
       "      <th>final_code</th>\n",
       "      <th>Coordinates</th>\n",
       "      <th>PD</th>\n",
       "    </tr>\n",
       "  </thead>\n",
       "  <tbody>\n",
       "    <tr>\n",
       "      <th>34</th>\n",
       "      <td>2013-09-09 17:47:05</td>\n",
       "      <td>Accident/Non-Injuries</td>\n",
       "      <td>POINT (-111.8486709594727 33.34972381591797)</td>\n",
       "      <td>Chandler</td>\n",
       "    </tr>\n",
       "    <tr>\n",
       "      <th>114</th>\n",
       "      <td>2013-01-03 18:10:07</td>\n",
       "      <td>Accident/Non-Injuries</td>\n",
       "      <td>POINT (-111.8619766235352 33.33873748779297)</td>\n",
       "      <td>Chandler</td>\n",
       "    </tr>\n",
       "    <tr>\n",
       "      <th>133</th>\n",
       "      <td>2013-09-09 22:54:09</td>\n",
       "      <td>Accident/Non-Injuries</td>\n",
       "      <td>POINT (-111.8355865478516 33.2962646484375)</td>\n",
       "      <td>Chandler</td>\n",
       "    </tr>\n",
       "    <tr>\n",
       "      <th>215</th>\n",
       "      <td>2013-09-10 07:13:55</td>\n",
       "      <td>Accident/Non-Injuries</td>\n",
       "      <td>POINT (-111.8134078979492 33.27713775634766)</td>\n",
       "      <td>Chandler</td>\n",
       "    </tr>\n",
       "    <tr>\n",
       "      <th>220</th>\n",
       "      <td>2013-09-10 07:18:56</td>\n",
       "      <td>Accident/Non-Injuries</td>\n",
       "      <td>POINT (-111.8822250366211 33.29138946533203)</td>\n",
       "      <td>Chandler</td>\n",
       "    </tr>\n",
       "  </tbody>\n",
       "</table>\n",
       "</div>"
      ],
      "text/plain": [
       "                call_dt             final_code  \\\n",
       "34  2013-09-09 17:47:05  Accident/Non-Injuries   \n",
       "114 2013-01-03 18:10:07  Accident/Non-Injuries   \n",
       "133 2013-09-09 22:54:09  Accident/Non-Injuries   \n",
       "215 2013-09-10 07:13:55  Accident/Non-Injuries   \n",
       "220 2013-09-10 07:18:56  Accident/Non-Injuries   \n",
       "\n",
       "                                      Coordinates        PD  \n",
       "34   POINT (-111.8486709594727 33.34972381591797)  Chandler  \n",
       "114  POINT (-111.8619766235352 33.33873748779297)  Chandler  \n",
       "133   POINT (-111.8355865478516 33.2962646484375)  Chandler  \n",
       "215  POINT (-111.8134078979492 33.27713775634766)  Chandler  \n",
       "220  POINT (-111.8822250366211 33.29138946533203)  Chandler  "
      ]
     },
     "execution_count": 83,
     "metadata": {},
     "output_type": "execute_result"
    }
   ],
   "source": [
    "ch_acc.head()"
   ]
  },
  {
   "cell_type": "code",
   "execution_count": 53,
   "metadata": {},
   "outputs": [],
   "source": [
    "total = ch_acc.shape[0]\n",
    "hits = ch_acc[ch_acc['final_code'].str.contains('Hit')].shape[0]\n",
    "\n",
    "ch_acc.to_csv('chandler_accidents.csv')"
   ]
  },
  {
   "cell_type": "code",
   "execution_count": 66,
   "metadata": {},
   "outputs": [
    {
     "name": "stdout",
     "output_type": "stream",
     "text": [
      "15.496% of accident calls reported to Chandler PD are Hit & Run.\n"
     ]
    }
   ],
   "source": [
    "print(str(round(hits/total* 100, 3)) + '%', 'of accident calls reported to Chandler PD are Hit & Run.')"
   ]
  },
  {
   "cell_type": "code",
   "execution_count": 62,
   "metadata": {},
   "outputs": [
    {
     "data": {
      "text/html": [
       "<div>\n",
       "<style scoped>\n",
       "    .dataframe tbody tr th:only-of-type {\n",
       "        vertical-align: middle;\n",
       "    }\n",
       "\n",
       "    .dataframe tbody tr th {\n",
       "        vertical-align: top;\n",
       "    }\n",
       "\n",
       "    .dataframe thead th {\n",
       "        text-align: right;\n",
       "    }\n",
       "</style>\n",
       "<table border=\"1\" class=\"dataframe\">\n",
       "  <thead>\n",
       "    <tr style=\"text-align: right;\">\n",
       "      <th></th>\n",
       "      <th>ID</th>\n",
       "      <th>Number</th>\n",
       "      <th>call_dt</th>\n",
       "      <th>Place Name</th>\n",
       "      <th>Address</th>\n",
       "      <th>City</th>\n",
       "      <th>District</th>\n",
       "      <th>Beat</th>\n",
       "      <th>Latitude</th>\n",
       "      <th>Longitude</th>\n",
       "      <th>...</th>\n",
       "      <th>En Route</th>\n",
       "      <th>On Scene</th>\n",
       "      <th>Response Time</th>\n",
       "      <th>911 to Received Time</th>\n",
       "      <th>Dispatch to Enroute Time</th>\n",
       "      <th>Call Received to Queue Time</th>\n",
       "      <th>Call Queue Time</th>\n",
       "      <th>Call Travel Time</th>\n",
       "      <th>Coordinates</th>\n",
       "      <th>PD</th>\n",
       "    </tr>\n",
       "  </thead>\n",
       "  <tbody>\n",
       "    <tr>\n",
       "      <th>0</th>\n",
       "      <td>316229</td>\n",
       "      <td>2013-1</td>\n",
       "      <td>2013-01-01 00:02:01</td>\n",
       "      <td>Chandler Water Treatment Facil</td>\n",
       "      <td>1400 E Pecos Rd</td>\n",
       "      <td>Chandler</td>\n",
       "      <td>5</td>\n",
       "      <td>12</td>\n",
       "      <td>33.289249420166016</td>\n",
       "      <td>-111.81481170654297</td>\n",
       "      <td>...</td>\n",
       "      <td>2013-01-01 00:07:18</td>\n",
       "      <td>2013-01-01 00:16:28</td>\n",
       "      <td>867</td>\n",
       "      <td>0</td>\n",
       "      <td>0</td>\n",
       "      <td>0</td>\n",
       "      <td>317</td>\n",
       "      <td>550</td>\n",
       "      <td>POINT (-111.814811706543 33.28924942016602)</td>\n",
       "      <td>Chandler</td>\n",
       "    </tr>\n",
       "    <tr>\n",
       "      <th>1</th>\n",
       "      <td>166758</td>\n",
       "      <td>2013-10</td>\n",
       "      <td>2013-01-01 00:07:19</td>\n",
       "      <td>NaN</td>\n",
       "      <td>1800 W Alamo Dr</td>\n",
       "      <td>Chandler</td>\n",
       "      <td>2</td>\n",
       "      <td>4</td>\n",
       "      <td>33.348194122314453</td>\n",
       "      <td>-111.87547302246094</td>\n",
       "      <td>...</td>\n",
       "      <td>0000-00-00 00:00:00</td>\n",
       "      <td>0000-00-00 00:00:00</td>\n",
       "      <td>0</td>\n",
       "      <td>0</td>\n",
       "      <td>0</td>\n",
       "      <td>285</td>\n",
       "      <td>0</td>\n",
       "      <td>0</td>\n",
       "      <td>POINT (-111.8754730224609 33.34819412231445)</td>\n",
       "      <td>Chandler</td>\n",
       "    </tr>\n",
       "    <tr>\n",
       "      <th>3</th>\n",
       "      <td>166846</td>\n",
       "      <td>2013-1000</td>\n",
       "      <td>2013-01-03 18:11:01</td>\n",
       "      <td>NaN</td>\n",
       "      <td>1800 W Canyon Wy</td>\n",
       "      <td>Chandler</td>\n",
       "      <td>6</td>\n",
       "      <td>13</td>\n",
       "      <td>33.238456726074219</td>\n",
       "      <td>-111.87477111816406</td>\n",
       "      <td>...</td>\n",
       "      <td>2013-01-03 18:14:19</td>\n",
       "      <td>2013-01-03 18:25:44</td>\n",
       "      <td>924</td>\n",
       "      <td>41</td>\n",
       "      <td>0</td>\n",
       "      <td>5</td>\n",
       "      <td>193</td>\n",
       "      <td>685</td>\n",
       "      <td>POINT (-111.8138732910156 33.32269287109375)</td>\n",
       "      <td>Chandler</td>\n",
       "    </tr>\n",
       "    <tr>\n",
       "      <th>4</th>\n",
       "      <td>166940</td>\n",
       "      <td>2013-10000</td>\n",
       "      <td>2013-01-27 21:59:45</td>\n",
       "      <td>NaN</td>\n",
       "      <td>1400 E Park Av</td>\n",
       "      <td>Chandler</td>\n",
       "      <td>4</td>\n",
       "      <td>11</td>\n",
       "      <td>33.32269287109375</td>\n",
       "      <td>-111.81387329101562</td>\n",
       "      <td>...</td>\n",
       "      <td>2013-01-27 22:09:53</td>\n",
       "      <td>2013-01-27 22:12:06</td>\n",
       "      <td>748</td>\n",
       "      <td>7</td>\n",
       "      <td>5</td>\n",
       "      <td>68</td>\n",
       "      <td>535</td>\n",
       "      <td>133</td>\n",
       "      <td>POINT (-111.8764495849609 33.34391021728516)</td>\n",
       "      <td>Chandler</td>\n",
       "    </tr>\n",
       "    <tr>\n",
       "      <th>5</th>\n",
       "      <td>267483</td>\n",
       "      <td>2013-100000</td>\n",
       "      <td>2013-09-09 16:56:33</td>\n",
       "      <td>NaN</td>\n",
       "      <td>N Dobson Rd &amp; W Shawnee Dr</td>\n",
       "      <td>Chandler</td>\n",
       "      <td>2</td>\n",
       "      <td>4</td>\n",
       "      <td>33.343910217285156</td>\n",
       "      <td>-111.87644958496094</td>\n",
       "      <td>...</td>\n",
       "      <td>0000-00-00 00:00:00</td>\n",
       "      <td>0000-00-00 00:00:00</td>\n",
       "      <td>0</td>\n",
       "      <td>0</td>\n",
       "      <td>0</td>\n",
       "      <td>21</td>\n",
       "      <td>0</td>\n",
       "      <td>0</td>\n",
       "      <td>POINT (-111.8524703979492 33.30901718139648)</td>\n",
       "      <td>Chandler</td>\n",
       "    </tr>\n",
       "  </tbody>\n",
       "</table>\n",
       "<p>5 rows × 26 columns</p>\n",
       "</div>"
      ],
      "text/plain": [
       "       ID       Number             call_dt                      Place Name  \\\n",
       "0  316229       2013-1 2013-01-01 00:02:01  Chandler Water Treatment Facil   \n",
       "1  166758      2013-10 2013-01-01 00:07:19                             NaN   \n",
       "3  166846    2013-1000 2013-01-03 18:11:01                             NaN   \n",
       "4  166940   2013-10000 2013-01-27 21:59:45                             NaN   \n",
       "5  267483  2013-100000 2013-09-09 16:56:33                             NaN   \n",
       "\n",
       "                      Address      City  District  Beat            Latitude  \\\n",
       "0             1400 E Pecos Rd  Chandler         5    12  33.289249420166016   \n",
       "1             1800 W Alamo Dr  Chandler         2     4  33.348194122314453   \n",
       "3            1800 W Canyon Wy  Chandler         6    13  33.238456726074219   \n",
       "4              1400 E Park Av  Chandler         4    11   33.32269287109375   \n",
       "5  N Dobson Rd & W Shawnee Dr  Chandler         2     4  33.343910217285156   \n",
       "\n",
       "             Longitude  ...             En Route             On Scene  \\\n",
       "0  -111.81481170654297  ...  2013-01-01 00:07:18  2013-01-01 00:16:28   \n",
       "1  -111.87547302246094  ...  0000-00-00 00:00:00  0000-00-00 00:00:00   \n",
       "3  -111.87477111816406  ...  2013-01-03 18:14:19  2013-01-03 18:25:44   \n",
       "4  -111.81387329101562  ...  2013-01-27 22:09:53  2013-01-27 22:12:06   \n",
       "5  -111.87644958496094  ...  0000-00-00 00:00:00  0000-00-00 00:00:00   \n",
       "\n",
       "  Response Time 911 to Received Time Dispatch to Enroute Time  \\\n",
       "0           867                    0                        0   \n",
       "1             0                    0                        0   \n",
       "3           924                   41                        0   \n",
       "4           748                    7                        5   \n",
       "5             0                    0                        0   \n",
       "\n",
       "  Call Received to Queue Time Call Queue Time Call Travel Time  \\\n",
       "0                           0             317              550   \n",
       "1                         285               0                0   \n",
       "3                           5             193              685   \n",
       "4                          68             535              133   \n",
       "5                          21               0                0   \n",
       "\n",
       "                                    Coordinates        PD  \n",
       "0   POINT (-111.814811706543 33.28924942016602)  Chandler  \n",
       "1  POINT (-111.8754730224609 33.34819412231445)  Chandler  \n",
       "3  POINT (-111.8138732910156 33.32269287109375)  Chandler  \n",
       "4  POINT (-111.8764495849609 33.34391021728516)  Chandler  \n",
       "5  POINT (-111.8524703979492 33.30901718139648)  Chandler  \n",
       "\n",
       "[5 rows x 26 columns]"
      ]
     },
     "execution_count": 62,
     "metadata": {},
     "output_type": "execute_result"
    }
   ],
   "source": [
    "chandler.head()"
   ]
  },
  {
   "cell_type": "code",
   "execution_count": 63,
   "metadata": {},
   "outputs": [],
   "source": [
    "chandler = chandler.loc[:, ['call_dt', 'Closed As', 'Coordinates', 'PD']]"
   ]
  },
  {
   "cell_type": "code",
   "execution_count": 66,
   "metadata": {},
   "outputs": [
    {
     "name": "stdout",
     "output_type": "stream",
     "text": [
      "<class 'pandas.core.frame.DataFrame'>\n",
      "Int64Index: 890915 entries, 0 to 12766\n",
      "Data columns (total 4 columns):\n",
      "call_dt        890915 non-null datetime64[ns]\n",
      "final_code     890860 non-null object\n",
      "Coordinates    890915 non-null object\n",
      "PD             890915 non-null object\n",
      "dtypes: datetime64[ns](1), object(3)\n",
      "memory usage: 34.0+ MB\n"
     ]
    }
   ],
   "source": [
    "chandler.rename(columns={'Closed As': 'final_code'}, inplace=True)"
   ]
  },
  {
   "cell_type": "code",
   "execution_count": 8,
   "metadata": {},
   "outputs": [],
   "source": [
    "#ch_acc = chandler[chandler['Reported As'].str.contains('Accident')]"
   ]
  },
  {
   "cell_type": "code",
   "execution_count": 85,
   "metadata": {},
   "outputs": [
    {
     "name": "stdout",
     "output_type": "stream",
     "text": [
      "Collected 444695 records, from 1/2017 up to 1/2019.\n"
     ]
    }
   ],
   "source": [
    "scottsdale = get_scottsdale_cfs()"
   ]
  },
  {
   "cell_type": "code",
   "execution_count": 93,
   "metadata": {},
   "outputs": [],
   "source": [
    "sc_acc = scottsdale[scottsdale['CFS_Type'].str.contains('96')]"
   ]
  },
  {
   "cell_type": "code",
   "execution_count": 113,
   "metadata": {},
   "outputs": [
    {
     "name": "stdout",
     "output_type": "stream",
     "text": [
      "11.433%\n"
     ]
    }
   ],
   "source": [
    "print(str(round(sc_acc[sc_acc.CFS_Type.str.contains('HR')].shape[0] / sc_acc.shape[0] * 100, 3)) + '%')"
   ]
  },
  {
   "cell_type": "code",
   "execution_count": 10,
   "metadata": {},
   "outputs": [],
   "source": [
    "#sct_acc = scottsdale[scottsdale.CFS_English.str.contains('Accident')]"
   ]
  },
  {
   "cell_type": "code",
   "execution_count": 107,
   "metadata": {},
   "outputs": [
    {
     "name": "stderr",
     "output_type": "stream",
     "text": [
      "/Users/tjs/anaconda3/lib/python3.7/site-packages/IPython/core/interactiveshell.py:3185: DtypeWarning: Columns (10) have mixed types. Specify dtype option on import or set low_memory=False.\n",
      "  if (yield from self.run_code(code, result)):\n"
     ]
    },
    {
     "name": "stdout",
     "output_type": "stream",
     "text": [
      "Collected 934409 records, from 1/2012 up to 1/2019.\n"
     ]
    }
   ],
   "source": [
    "tempe = get_tempe_cfs()"
   ]
  },
  {
   "cell_type": "code",
   "execution_count": 118,
   "metadata": {},
   "outputs": [],
   "source": [
    "tempe.dropna(subset=['final_case_type'], inplace=True)"
   ]
  },
  {
   "cell_type": "code",
   "execution_count": 119,
   "metadata": {},
   "outputs": [],
   "source": [
    "tempe_acc = tempe[tempe.final_case_type.str.contains('96')]"
   ]
  },
  {
   "cell_type": "code",
   "execution_count": 134,
   "metadata": {},
   "outputs": [],
   "source": [
    "tempe_acc.drop(tempe_acc[tempe_acc.final_case_type.str.contains('964')].index, inplace=True)"
   ]
  },
  {
   "cell_type": "code",
   "execution_count": 135,
   "metadata": {},
   "outputs": [
    {
     "data": {
      "text/plain": [
       "0.2081152664477169"
      ]
     },
     "execution_count": 135,
     "metadata": {},
     "output_type": "execute_result"
    }
   ],
   "source": [
    "tempe_acc[tempe_acc.final_case_type.str.contains('H')].shape[0] / tempe_acc.shape[0]"
   ]
  },
  {
   "cell_type": "code",
   "execution_count": 108,
   "metadata": {},
   "outputs": [
    {
     "name": "stdout",
     "output_type": "stream",
     "text": [
      "Collected 284858 records, from 1/2017 up to 12/2018.\n"
     ]
    }
   ],
   "source": [
    "mesa = get_mesa_cfs()"
   ]
  },
  {
   "cell_type": "code",
   "execution_count": 109,
   "metadata": {},
   "outputs": [
    {
     "name": "stdout",
     "output_type": "stream",
     "text": [
      "Collected 642554 records, from 11/2006 up to 1/2019.\n"
     ]
    }
   ],
   "source": [
    "gilbert = get_gilbert_cfs()"
   ]
  },
  {
   "cell_type": "code",
   "execution_count": 99,
   "metadata": {},
   "outputs": [
    {
     "name": "stdout",
     "output_type": "stream",
     "text": [
      "Collected 2203183 records, from 11/2015 up to 1/2019.\n"
     ]
    }
   ],
   "source": [
    "phoenix = get_phoenix_cfs()"
   ]
  },
  {
   "cell_type": "code",
   "execution_count": 16,
   "metadata": {},
   "outputs": [
    {
     "data": {
      "text/plain": [
       "5415915"
      ]
     },
     "execution_count": 16,
     "metadata": {},
     "output_type": "execute_result"
    }
   ],
   "source": [
    "total = len(tempe) + len(scottsdale) + len(mesa) + len(phoenix) + len(gilbert) + len(chandler)\n",
    "total"
   ]
  },
  {
   "cell_type": "code",
   "execution_count": null,
   "metadata": {},
   "outputs": [],
   "source": []
  },
  {
   "cell_type": "code",
   "execution_count": 101,
   "metadata": {},
   "outputs": [],
   "source": [
    "hg = phoenix[phoenix.GRID == 'BI37']"
   ]
  },
  {
   "cell_type": "code",
   "execution_count": 102,
   "metadata": {},
   "outputs": [],
   "source": [
    "hg.reset_index(inplace=True)"
   ]
  },
  {
   "cell_type": "code",
   "execution_count": 106,
   "metadata": {},
   "outputs": [
    {
     "data": {
      "text/plain": [
       "0                       CRIMINAL DAMAGE\n",
       "1                           TRESPASSING\n",
       "2                        BURGLARY ALARM\n",
       "3             SOLICITATION DOOR TO DOOR\n",
       "4                        BURGLARY ALARM\n",
       "5          SUSPICIOUS PERSON IN VEHICLE\n",
       "6                         CHECK WELFARE\n",
       "7                                 FIGHT\n",
       "8                   ARMED ROBBERY ALARM\n",
       "9                     SUSPICIOUS PERSON\n",
       "10               ACCIDENT WITH INJURIES\n",
       "11         SUSPICIOUS PERSON IN VEHICLE\n",
       "12                           PR CONTACT\n",
       "13               LOUD NOISE DISTURBANCE\n",
       "14                        CHECK WELFARE\n",
       "15                    SUSPICIOUS PERSON\n",
       "16                    SUSPICIOUS PERSON\n",
       "17                  RECOVERY OF VEHICLE\n",
       "18                        CHECK WELFARE\n",
       "19                        CHECK WELFARE\n",
       "20                 CIVIL MATTER/STANDBY\n",
       "21               LOUD NOISE DISTURBANCE\n",
       "22                 BURGLARY RESIDENTIAL\n",
       "23                     NEIGHBOR DISPUTE\n",
       "24               LOUD NOISE DISTURBANCE\n",
       "25             RECOVERY F.O.J./PROPERTY\n",
       "26                       BURGLARY ALARM\n",
       "27               LOUD NOISE DISTURBANCE\n",
       "28                 ACCIDENT NO INJURIES\n",
       "29                       BURGLARY ALARM\n",
       "                     ...               \n",
       "1310                        TRESPASSING\n",
       "1311                            PROWLER\n",
       "1312                              THEFT\n",
       "1313               BURGLARY RESIDENTIAL\n",
       "1314                 AGGRAVATED ASSAULT\n",
       "1315              BURGLARY FROM VEHICLE\n",
       "1316                  SUSPICIOUS PERSON\n",
       "1317               BURGLARY RESIDENTIAL\n",
       "1318               BURGLARY RESIDENTIAL\n",
       "1319                     BURGLARY ALARM\n",
       "1320                     BURGLARY ALARM\n",
       "1321               BURGLARY RESIDENTIAL\n",
       "1322                 THEFT FROM VEHICLE\n",
       "1323             LOUD NOISE DISTURBANCE\n",
       "1324       SUSPICIOUS PERSON IN VEHICLE\n",
       "1325                     BURGLARY ALARM\n",
       "1326       HIT & RUN ACCIDENT NO INJURY\n",
       "1327                     BURGLARY ALARM\n",
       "1328                  SUSPICIOUS PERSON\n",
       "1329                    CRIMINAL DAMAGE\n",
       "1330                        TRESPASSING\n",
       "1331                      CHECK WELFARE\n",
       "1332                  DOMESTIC VIOLENCE\n",
       "1333               DUI DRIVER-BROADCAST\n",
       "1334                  SUSPICIOUS PERSON\n",
       "1335                      CHECK WELFARE\n",
       "1336    MISDEMEANOR WARRANT OUTSTANDING\n",
       "1337                     BURGLARY ALARM\n",
       "1338                      CHECK WELFARE\n",
       "1339             LOUD PARTY DISTURBANCE\n",
       "Name: FINAL_CALL_TYPE, Length: 1340, dtype: object"
      ]
     },
     "execution_count": 106,
     "metadata": {},
     "output_type": "execute_result"
    }
   ],
   "source": [
    "hg.FINAL_CALL_TYPE"
   ]
  },
  {
   "cell_type": "code",
   "execution_count": 72,
   "metadata": {},
   "outputs": [],
   "source": []
  },
  {
   "cell_type": "code",
   "execution_count": 123,
   "metadata": {},
   "outputs": [
    {
     "name": "stdout",
     "output_type": "stream",
     "text": [
      "Collected 444695 records, from 1/2017 up to 1/2019.\n"
     ]
    }
   ],
   "source": [
    "df = get_scottsdale_cfs()"
   ]
  },
  {
   "cell_type": "code",
   "execution_count": 121,
   "metadata": {},
   "outputs": [
    {
     "name": "stdout",
     "output_type": "stream",
     "text": [
      "<class 'pandas.core.frame.DataFrame'>\n",
      "DatetimeIndex: 444695 entries, 2017-01-15 12:33:02 to 2019-01-20 01:44:46\n",
      "Data columns (total 13 columns):\n",
      "Common Event ID              444695 non-null int64\n",
      "CFS Number                   444695 non-null object\n",
      "Street Directional Prefix    335623 non-null object\n",
      "Street Name                  336881 non-null object\n",
      "Street Type                  320650 non-null object\n",
      "Cross Street #1              194580 non-null object\n",
      "Cross Street #2              201810 non-null object\n",
      "Call Type                    444695 non-null object\n",
      "Call Sub-type                444695 non-null object\n",
      "Call Type English            440100 non-null object\n",
      "Call Sub-type English        139877 non-null object\n",
      "CFS_Type                     444695 non-null object\n",
      "CFS_English                  444695 non-null object\n",
      "dtypes: int64(1), object(12)\n",
      "memory usage: 47.5+ MB\n"
     ]
    }
   ],
   "source": [
    "df.info()"
   ]
  },
  {
   "cell_type": "code",
   "execution_count": 168,
   "metadata": {},
   "outputs": [],
   "source": [
    "def get_tempe_cfs():\n",
    "    url = 'http://data-tempegov.opendata.arcgis.com/datasets/ba76da19a5274301bb8a010483aec14a_0.csv'\n",
    "    tempe = pd.read_csv(url, parse_dates=['occ_dt'])\n",
    "    \n",
    "    return tempe"
   ]
  },
  {
   "cell_type": "code",
   "execution_count": 169,
   "metadata": {},
   "outputs": [],
   "source": [
    "def get_mesa_cfs():\n",
    "    url = 'https://data.mesaaz.gov/api/views/4k95-x7aw/rows.csv'\n",
    "    mesa = pd.read_csv(url, parse_dates=['Creation Datetime'])\n",
    "    \n",
    "    return mesa"
   ]
  },
  {
   "cell_type": "code",
   "execution_count": 170,
   "metadata": {},
   "outputs": [],
   "source": [
    "def get_gilbert_cfs():\n",
    "    url = 'https://opendata.arcgis.com/datasets/2dcb4c20c9a444f2a5d3dca180b651c9_2.csv'\n",
    "    gilbert = pd.read_csv(url, parse_dates=['EventDate'])\n",
    "    \n",
    "    return gilbert"
   ]
  },
  {
   "cell_type": "code",
   "execution_count": null,
   "metadata": {},
   "outputs": [],
   "source": [
    "tempe = get_tempe_cfs()\n",
    "mesa = get_mesa_cfs()\n",
    "gilbert = get_gilbert_cfs()"
   ]
  },
  {
   "cell_type": "code",
   "execution_count": 171,
   "metadata": {},
   "outputs": [],
   "source": []
  },
  {
   "cell_type": "code",
   "execution_count": null,
   "metadata": {},
   "outputs": [],
   "source": []
  },
  {
   "cell_type": "code",
   "execution_count": null,
   "metadata": {},
   "outputs": [],
   "source": [
    "\n"
   ]
  },
  {
   "cell_type": "code",
   "execution_count": null,
   "metadata": {},
   "outputs": [],
   "source": []
  },
  {
   "cell_type": "code",
   "execution_count": 160,
   "metadata": {},
   "outputs": [
    {
     "name": "stdout",
     "output_type": "stream",
     "text": [
      "CPU times: user 1.49 s, sys: 273 ms, total: 1.77 s\n",
      "Wall time: 7.49 s\n"
     ]
    }
   ],
   "source": []
  },
  {
   "cell_type": "code",
   "execution_count": 163,
   "metadata": {},
   "outputs": [
    {
     "data": {
      "text/html": [
       "<div>\n",
       "<style scoped>\n",
       "    .dataframe tbody tr th:only-of-type {\n",
       "        vertical-align: middle;\n",
       "    }\n",
       "\n",
       "    .dataframe tbody tr th {\n",
       "        vertical-align: top;\n",
       "    }\n",
       "\n",
       "    .dataframe thead th {\n",
       "        text-align: right;\n",
       "    }\n",
       "</style>\n",
       "<table border=\"1\" class=\"dataframe\">\n",
       "  <thead>\n",
       "    <tr style=\"text-align: right;\">\n",
       "      <th></th>\n",
       "      <th>Event Number</th>\n",
       "      <th>Creation Datetime</th>\n",
       "      <th>Creation Month</th>\n",
       "      <th>Creation Year</th>\n",
       "      <th>Event Type Code</th>\n",
       "      <th>Event Type Description</th>\n",
       "      <th>Call Priority</th>\n",
       "      <th>Event Address</th>\n",
       "      <th>Street Number</th>\n",
       "      <th>Street Direction</th>\n",
       "      <th>Street Name</th>\n",
       "      <th>Street Type</th>\n",
       "      <th>Latitude</th>\n",
       "      <th>Longitude</th>\n",
       "      <th>Dispatch Group</th>\n",
       "      <th>Division</th>\n",
       "      <th>Response Time Seconds</th>\n",
       "      <th>Response Time Minutes</th>\n",
       "      <th>Location 1</th>\n",
       "    </tr>\n",
       "  </thead>\n",
       "  <tbody>\n",
       "    <tr>\n",
       "      <th>0</th>\n",
       "      <td>P20170010004</td>\n",
       "      <td>01/01/2017 12:02:00 AM</td>\n",
       "      <td>Jan</td>\n",
       "      <td>2017</td>\n",
       "      <td>900</td>\n",
       "      <td>WELFARE CHECK</td>\n",
       "      <td>P3</td>\n",
       "      <td>400 Block of N LESUEUR  MESA</td>\n",
       "      <td>400.0</td>\n",
       "      <td>N</td>\n",
       "      <td>LESUEUR</td>\n",
       "      <td>NaN</td>\n",
       "      <td>33.422611</td>\n",
       "      <td>-111.820437</td>\n",
       "      <td>P2</td>\n",
       "      <td>Central</td>\n",
       "      <td>69</td>\n",
       "      <td>1.15</td>\n",
       "      <td>(33.422611, -111.820437)</td>\n",
       "    </tr>\n",
       "    <tr>\n",
       "      <th>1</th>\n",
       "      <td>P20170010005</td>\n",
       "      <td>01/01/2017 12:03:00 AM</td>\n",
       "      <td>Jan</td>\n",
       "      <td>2017</td>\n",
       "      <td>921</td>\n",
       "      <td>PROWLER</td>\n",
       "      <td>P1</td>\n",
       "      <td>1200 Block of W 6TH DR MESA</td>\n",
       "      <td>1200.0</td>\n",
       "      <td>W</td>\n",
       "      <td>6TH</td>\n",
       "      <td>DR</td>\n",
       "      <td>33.402687</td>\n",
       "      <td>-111.857332</td>\n",
       "      <td>P1</td>\n",
       "      <td>Fiesta</td>\n",
       "      <td>427</td>\n",
       "      <td>7.12</td>\n",
       "      <td>(33.402687, -111.857332)</td>\n",
       "    </tr>\n",
       "    <tr>\n",
       "      <th>2</th>\n",
       "      <td>P20170010008</td>\n",
       "      <td>01/01/2017 12:05:00 AM</td>\n",
       "      <td>Jan</td>\n",
       "      <td>2017</td>\n",
       "      <td>666</td>\n",
       "      <td>SUICIDE</td>\n",
       "      <td>P1</td>\n",
       "      <td>NaN</td>\n",
       "      <td>NaN</td>\n",
       "      <td>NaN</td>\n",
       "      <td>NaN</td>\n",
       "      <td>NaN</td>\n",
       "      <td>NaN</td>\n",
       "      <td>NaN</td>\n",
       "      <td>P4</td>\n",
       "      <td>Superstition</td>\n",
       "      <td>558</td>\n",
       "      <td>9.30</td>\n",
       "      <td>NaN</td>\n",
       "    </tr>\n",
       "    <tr>\n",
       "      <th>3</th>\n",
       "      <td>P20170010010</td>\n",
       "      <td>01/01/2017 12:06:00 AM</td>\n",
       "      <td>Jan</td>\n",
       "      <td>2017</td>\n",
       "      <td>961</td>\n",
       "      <td>ACCIDENT</td>\n",
       "      <td>P1</td>\n",
       "      <td>1600 Block of S DOBSON RD MESA</td>\n",
       "      <td>1600.0</td>\n",
       "      <td>S</td>\n",
       "      <td>DOBSON</td>\n",
       "      <td>RD</td>\n",
       "      <td>33.384051</td>\n",
       "      <td>-111.875400</td>\n",
       "      <td>P1</td>\n",
       "      <td>Fiesta</td>\n",
       "      <td>43</td>\n",
       "      <td>0.72</td>\n",
       "      <td>(33.384051, -111.8754)</td>\n",
       "    </tr>\n",
       "    <tr>\n",
       "      <th>4</th>\n",
       "      <td>P20170010015</td>\n",
       "      <td>01/01/2017 12:09:00 AM</td>\n",
       "      <td>Jan</td>\n",
       "      <td>2017</td>\n",
       "      <td>421</td>\n",
       "      <td>SHOTS FIRED</td>\n",
       "      <td>P1</td>\n",
       "      <td>1700 Block of S SOSSAMAN RD MESA</td>\n",
       "      <td>1700.0</td>\n",
       "      <td>S</td>\n",
       "      <td>SOSSAMAN</td>\n",
       "      <td>RD</td>\n",
       "      <td>33.383873</td>\n",
       "      <td>-111.667177</td>\n",
       "      <td>P4</td>\n",
       "      <td>Superstition</td>\n",
       "      <td>151</td>\n",
       "      <td>2.52</td>\n",
       "      <td>(33.383873, -111.667177)</td>\n",
       "    </tr>\n",
       "  </tbody>\n",
       "</table>\n",
       "</div>"
      ],
      "text/plain": [
       "   Event Number       Creation Datetime Creation Month  Creation Year  \\\n",
       "0  P20170010004  01/01/2017 12:02:00 AM            Jan           2017   \n",
       "1  P20170010005  01/01/2017 12:03:00 AM            Jan           2017   \n",
       "2  P20170010008  01/01/2017 12:05:00 AM            Jan           2017   \n",
       "3  P20170010010  01/01/2017 12:06:00 AM            Jan           2017   \n",
       "4  P20170010015  01/01/2017 12:09:00 AM            Jan           2017   \n",
       "\n",
       "  Event Type Code Event Type Description Call Priority  \\\n",
       "0             900          WELFARE CHECK            P3   \n",
       "1             921                PROWLER            P1   \n",
       "2             666                SUICIDE            P1   \n",
       "3             961               ACCIDENT            P1   \n",
       "4             421            SHOTS FIRED            P1   \n",
       "\n",
       "                      Event Address  Street Number Street Direction  \\\n",
       "0      400 Block of N LESUEUR  MESA          400.0                N   \n",
       "1       1200 Block of W 6TH DR MESA         1200.0                W   \n",
       "2                               NaN            NaN              NaN   \n",
       "3    1600 Block of S DOBSON RD MESA         1600.0                S   \n",
       "4  1700 Block of S SOSSAMAN RD MESA         1700.0                S   \n",
       "\n",
       "  Street Name Street Type   Latitude   Longitude Dispatch Group      Division  \\\n",
       "0     LESUEUR         NaN  33.422611 -111.820437             P2       Central   \n",
       "1         6TH          DR  33.402687 -111.857332             P1        Fiesta   \n",
       "2         NaN         NaN        NaN         NaN             P4  Superstition   \n",
       "3      DOBSON          RD  33.384051 -111.875400             P1        Fiesta   \n",
       "4    SOSSAMAN          RD  33.383873 -111.667177             P4  Superstition   \n",
       "\n",
       "   Response Time Seconds  Response Time Minutes                Location 1  \n",
       "0                     69                   1.15  (33.422611, -111.820437)  \n",
       "1                    427                   7.12  (33.402687, -111.857332)  \n",
       "2                    558                   9.30                       NaN  \n",
       "3                     43                   0.72    (33.384051, -111.8754)  \n",
       "4                    151                   2.52  (33.383873, -111.667177)  "
      ]
     },
     "execution_count": 163,
     "metadata": {},
     "output_type": "execute_result"
    }
   ],
   "source": [
    "mesa.head()"
   ]
  },
  {
   "cell_type": "code",
   "execution_count": 156,
   "metadata": {},
   "outputs": [
    {
     "ename": "TypeError",
     "evalue": "object of type 'JsonReader' has no len()",
     "output_type": "error",
     "traceback": [
      "\u001b[0;31m---------------------------------------------------------------------------\u001b[0m",
      "\u001b[0;31mTypeError\u001b[0m                                 Traceback (most recent call last)",
      "\u001b[0;32m<ipython-input-156-04c1c3f10249>\u001b[0m in \u001b[0;36m<module>\u001b[0;34m\u001b[0m\n\u001b[0;32m----> 1\u001b[0;31m \u001b[0mlen\u001b[0m\u001b[0;34m(\u001b[0m\u001b[0mmesa\u001b[0m\u001b[0;34m)\u001b[0m\u001b[0;34m\u001b[0m\u001b[0;34m\u001b[0m\u001b[0m\n\u001b[0m",
      "\u001b[0;31mTypeError\u001b[0m: object of type 'JsonReader' has no len()"
     ]
    }
   ],
   "source": [
    "len(mesa)"
   ]
  },
  {
   "cell_type": "code",
   "execution_count": 61,
   "metadata": {},
   "outputs": [
    {
     "data": {
      "text/html": [
       "<div>\n",
       "<style scoped>\n",
       "    .dataframe tbody tr th:only-of-type {\n",
       "        vertical-align: middle;\n",
       "    }\n",
       "\n",
       "    .dataframe tbody tr th {\n",
       "        vertical-align: top;\n",
       "    }\n",
       "\n",
       "    .dataframe thead th {\n",
       "        text-align: right;\n",
       "    }\n",
       "</style>\n",
       "<table border=\"1\" class=\"dataframe\">\n",
       "  <thead>\n",
       "    <tr style=\"text-align: right;\">\n",
       "      <th></th>\n",
       "      <th>INCIDENT_NUM</th>\n",
       "      <th>DISP_CODE</th>\n",
       "      <th>DISPOSITION</th>\n",
       "      <th>FINAL_RADIO_CODE</th>\n",
       "      <th>FINAL_CALL_TYPE</th>\n",
       "      <th>CALL_RECEIVED</th>\n",
       "      <th>HUNDREDBLOCKADDR</th>\n",
       "      <th>GRID</th>\n",
       "    </tr>\n",
       "  </thead>\n",
       "  <tbody>\n",
       "    <tr>\n",
       "      <th>0</th>\n",
       "      <td>201502108490</td>\n",
       "      <td>N</td>\n",
       "      <td>NO ACTION REQUIRED</td>\n",
       "      <td>647V</td>\n",
       "      <td>SUSPICIOUS PERSON IN VEHICLE</td>\n",
       "      <td>11/2/2015   9:16:27AM</td>\n",
       "      <td>154XX N 29TH ST</td>\n",
       "      <td>DF34</td>\n",
       "    </tr>\n",
       "    <tr>\n",
       "      <th>1</th>\n",
       "      <td>201502108749</td>\n",
       "      <td>N</td>\n",
       "      <td>NO ACTION REQUIRED</td>\n",
       "      <td>418T</td>\n",
       "      <td>TRESPASSING</td>\n",
       "      <td>11/2/2015   9:58:57AM</td>\n",
       "      <td>96XX N 10TH AVE</td>\n",
       "      <td>CH26</td>\n",
       "    </tr>\n",
       "    <tr>\n",
       "      <th>2</th>\n",
       "      <td>201502108648</td>\n",
       "      <td>O</td>\n",
       "      <td>OTHER (SUPP/FALSE ALARM/FI/LOUD PARTY)</td>\n",
       "      <td>459A</td>\n",
       "      <td>BURGLARY ALARM</td>\n",
       "      <td>11/2/2015   9:42:42AM</td>\n",
       "      <td>38XX E WATKINS ST</td>\n",
       "      <td>AH36B</td>\n",
       "    </tr>\n",
       "    <tr>\n",
       "      <th>3</th>\n",
       "      <td>201502108757</td>\n",
       "      <td>N</td>\n",
       "      <td>NO ACTION REQUIRED</td>\n",
       "      <td>418T</td>\n",
       "      <td>TRESPASSING</td>\n",
       "      <td>11/2/2015  10:02:11AM</td>\n",
       "      <td>36XX W CAMELBACK RD</td>\n",
       "      <td>BI20</td>\n",
       "    </tr>\n",
       "    <tr>\n",
       "      <th>4</th>\n",
       "      <td>201502108592</td>\n",
       "      <td>N</td>\n",
       "      <td>NO ACTION REQUIRED</td>\n",
       "      <td>900</td>\n",
       "      <td>CHECK WELFARE</td>\n",
       "      <td>11/2/2015   9:30:53AM</td>\n",
       "      <td>40XX N 44TH AVE</td>\n",
       "      <td>BG18</td>\n",
       "    </tr>\n",
       "  </tbody>\n",
       "</table>\n",
       "</div>"
      ],
      "text/plain": [
       "   INCIDENT_NUM DISP_CODE                             DISPOSITION  \\\n",
       "0  201502108490         N                      NO ACTION REQUIRED   \n",
       "1  201502108749         N                      NO ACTION REQUIRED   \n",
       "2  201502108648         O  OTHER (SUPP/FALSE ALARM/FI/LOUD PARTY)   \n",
       "3  201502108757         N                      NO ACTION REQUIRED   \n",
       "4  201502108592         N                      NO ACTION REQUIRED   \n",
       "\n",
       "  FINAL_RADIO_CODE               FINAL_CALL_TYPE          CALL_RECEIVED  \\\n",
       "0             647V  SUSPICIOUS PERSON IN VEHICLE  11/2/2015   9:16:27AM   \n",
       "1             418T                   TRESPASSING  11/2/2015   9:58:57AM   \n",
       "2             459A                BURGLARY ALARM  11/2/2015   9:42:42AM   \n",
       "3             418T                   TRESPASSING  11/2/2015  10:02:11AM   \n",
       "4              900                 CHECK WELFARE  11/2/2015   9:30:53AM   \n",
       "\n",
       "      HUNDREDBLOCKADDR   GRID  \n",
       "0      154XX N 29TH ST   DF34  \n",
       "1      96XX N 10TH AVE   CH26  \n",
       "2    38XX E WATKINS ST  AH36B  \n",
       "3  36XX W CAMELBACK RD   BI20  \n",
       "4      40XX N 44TH AVE   BG18  "
      ]
     },
     "execution_count": 61,
     "metadata": {},
     "output_type": "execute_result"
    }
   ],
   "source": [
    "df = pd.read_csv('callsforservice.csv')\n",
    "df.head()"
   ]
  },
  {
   "cell_type": "code",
   "execution_count": 62,
   "metadata": {},
   "outputs": [],
   "source": [
    "with open('apikey.txt', 'r') as door:\n",
    "    key = door.read()"
   ]
  },
  {
   "cell_type": "code",
   "execution_count": 63,
   "metadata": {},
   "outputs": [
    {
     "name": "stdout",
     "output_type": "stream",
     "text": [
      "<class 'pandas.core.frame.DataFrame'>\n",
      "RangeIndex: 2192756 entries, 0 to 2192755\n",
      "Data columns (total 8 columns):\n",
      "INCIDENT_NUM        int64\n",
      "DISP_CODE           object\n",
      "DISPOSITION         object\n",
      "FINAL_RADIO_CODE    object\n",
      "FINAL_CALL_TYPE     object\n",
      "CALL_RECEIVED       object\n",
      "HUNDREDBLOCKADDR    object\n",
      "GRID                object\n",
      "dtypes: int64(1), object(7)\n",
      "memory usage: 133.8+ MB\n"
     ]
    }
   ],
   "source": [
    "df.info()"
   ]
  },
  {
   "cell_type": "code",
   "execution_count": 64,
   "metadata": {},
   "outputs": [],
   "source": [
    "# tst = df.iloc[:500, :]\n",
    "# tst.head()"
   ]
  },
  {
   "cell_type": "code",
   "execution_count": 65,
   "metadata": {},
   "outputs": [],
   "source": [
    "df['HUNDREDBLOCKADDR'] = df.HUNDREDBLOCKADDR.str.replace('XX', '00')\n",
    "df.dropna(inplace=True)\n",
    "df = df[df.FINAL_RADIO_CODE.isin(['961', '962', '963', '961H', '962H', '963H'])]\n",
    "df.loc[:, 'CALL_RECEIVED'] = pd.to_datetime(df.CALL_RECEIVED)\n",
    "df.set_index('CALL_RECEIVED', inplace=True)"
   ]
  },
  {
   "cell_type": "code",
   "execution_count": 66,
   "metadata": {},
   "outputs": [],
   "source": [
    "df['month'] = df.index.month\n",
    "df['day'] = df.index.dayofweek\n",
    "df['hour'] = df.index.hour"
   ]
  },
  {
   "cell_type": "code",
   "execution_count": 67,
   "metadata": {},
   "outputs": [
    {
     "data": {
      "text/html": [
       "<div>\n",
       "<style scoped>\n",
       "    .dataframe tbody tr th:only-of-type {\n",
       "        vertical-align: middle;\n",
       "    }\n",
       "\n",
       "    .dataframe tbody tr th {\n",
       "        vertical-align: top;\n",
       "    }\n",
       "\n",
       "    .dataframe thead th {\n",
       "        text-align: right;\n",
       "    }\n",
       "</style>\n",
       "<table border=\"1\" class=\"dataframe\">\n",
       "  <thead>\n",
       "    <tr style=\"text-align: right;\">\n",
       "      <th></th>\n",
       "      <th>INCIDENT_NUM</th>\n",
       "      <th>DISP_CODE</th>\n",
       "      <th>DISPOSITION</th>\n",
       "      <th>FINAL_RADIO_CODE</th>\n",
       "      <th>FINAL_CALL_TYPE</th>\n",
       "      <th>HUNDREDBLOCKADDR</th>\n",
       "      <th>GRID</th>\n",
       "      <th>month</th>\n",
       "      <th>day</th>\n",
       "      <th>hour</th>\n",
       "    </tr>\n",
       "    <tr>\n",
       "      <th>CALL_RECEIVED</th>\n",
       "      <th></th>\n",
       "      <th></th>\n",
       "      <th></th>\n",
       "      <th></th>\n",
       "      <th></th>\n",
       "      <th></th>\n",
       "      <th></th>\n",
       "      <th></th>\n",
       "      <th></th>\n",
       "      <th></th>\n",
       "    </tr>\n",
       "  </thead>\n",
       "  <tbody>\n",
       "    <tr>\n",
       "      <th>2015-11-01 01:01:07</th>\n",
       "      <td>201502100315</td>\n",
       "      <td>N</td>\n",
       "      <td>NO ACTION REQUIRED</td>\n",
       "      <td>961H</td>\n",
       "      <td>HIT &amp; RUN ACCIDENT NO INJURY</td>\n",
       "      <td>S 67TH AVE &amp; W LOWER BUCKEYE RD</td>\n",
       "      <td>AG13</td>\n",
       "      <td>11</td>\n",
       "      <td>6</td>\n",
       "      <td>1</td>\n",
       "    </tr>\n",
       "    <tr>\n",
       "      <th>2015-11-02 08:04:44</th>\n",
       "      <td>201502108062</td>\n",
       "      <td>A</td>\n",
       "      <td>ACCIDENT REPORT</td>\n",
       "      <td>962</td>\n",
       "      <td>ACCIDENT WITH INJURIES</td>\n",
       "      <td>N 49TH DR &amp; W ESCUDA DR</td>\n",
       "      <td>EA17</td>\n",
       "      <td>11</td>\n",
       "      <td>0</td>\n",
       "      <td>8</td>\n",
       "    </tr>\n",
       "    <tr>\n",
       "      <th>2015-11-01 10:09:50</th>\n",
       "      <td>201502102088</td>\n",
       "      <td>N</td>\n",
       "      <td>NO ACTION REQUIRED</td>\n",
       "      <td>961</td>\n",
       "      <td>ACCIDENT NO INJURIES</td>\n",
       "      <td>E PARADISE LN &amp; N 32ND ST</td>\n",
       "      <td>DF35</td>\n",
       "      <td>11</td>\n",
       "      <td>6</td>\n",
       "      <td>10</td>\n",
       "    </tr>\n",
       "    <tr>\n",
       "      <th>2015-11-01 10:35:06</th>\n",
       "      <td>201502102198</td>\n",
       "      <td>N</td>\n",
       "      <td>NO ACTION REQUIRED</td>\n",
       "      <td>961</td>\n",
       "      <td>ACCIDENT NO INJURIES</td>\n",
       "      <td>4000 W CAMELBACK RD</td>\n",
       "      <td>BI19A</td>\n",
       "      <td>11</td>\n",
       "      <td>6</td>\n",
       "      <td>10</td>\n",
       "    </tr>\n",
       "    <tr>\n",
       "      <th>2015-11-01 18:03:38</th>\n",
       "      <td>201502104894</td>\n",
       "      <td>N</td>\n",
       "      <td>NO ACTION REQUIRED</td>\n",
       "      <td>961</td>\n",
       "      <td>ACCIDENT NO INJURIES</td>\n",
       "      <td>3700 W SIERRA ST</td>\n",
       "      <td>DA20</td>\n",
       "      <td>11</td>\n",
       "      <td>6</td>\n",
       "      <td>18</td>\n",
       "    </tr>\n",
       "  </tbody>\n",
       "</table>\n",
       "</div>"
      ],
      "text/plain": [
       "                     INCIDENT_NUM DISP_CODE         DISPOSITION  \\\n",
       "CALL_RECEIVED                                                     \n",
       "2015-11-01 01:01:07  201502100315         N  NO ACTION REQUIRED   \n",
       "2015-11-02 08:04:44  201502108062         A     ACCIDENT REPORT   \n",
       "2015-11-01 10:09:50  201502102088         N  NO ACTION REQUIRED   \n",
       "2015-11-01 10:35:06  201502102198         N  NO ACTION REQUIRED   \n",
       "2015-11-01 18:03:38  201502104894         N  NO ACTION REQUIRED   \n",
       "\n",
       "                    FINAL_RADIO_CODE               FINAL_CALL_TYPE  \\\n",
       "CALL_RECEIVED                                                        \n",
       "2015-11-01 01:01:07             961H  HIT & RUN ACCIDENT NO INJURY   \n",
       "2015-11-02 08:04:44              962        ACCIDENT WITH INJURIES   \n",
       "2015-11-01 10:09:50              961          ACCIDENT NO INJURIES   \n",
       "2015-11-01 10:35:06              961          ACCIDENT NO INJURIES   \n",
       "2015-11-01 18:03:38              961          ACCIDENT NO INJURIES   \n",
       "\n",
       "                                    HUNDREDBLOCKADDR   GRID  month  day  hour  \n",
       "CALL_RECEIVED                                                                  \n",
       "2015-11-01 01:01:07  S 67TH AVE & W LOWER BUCKEYE RD   AG13     11    6     1  \n",
       "2015-11-02 08:04:44          N 49TH DR & W ESCUDA DR   EA17     11    0     8  \n",
       "2015-11-01 10:09:50        E PARADISE LN & N 32ND ST   DF35     11    6    10  \n",
       "2015-11-01 10:35:06              4000 W CAMELBACK RD  BI19A     11    6    10  \n",
       "2015-11-01 18:03:38                 3700 W SIERRA ST   DA20     11    6    18  "
      ]
     },
     "execution_count": 67,
     "metadata": {},
     "output_type": "execute_result"
    }
   ],
   "source": [
    "df.head()"
   ]
  },
  {
   "cell_type": "code",
   "execution_count": 68,
   "metadata": {},
   "outputs": [],
   "source": [
    "df['ishitrun'] = df.FINAL_RADIO_CODE.isin(['961H', '962H', '963H']).astype(np.int)"
   ]
  },
  {
   "cell_type": "code",
   "execution_count": 69,
   "metadata": {},
   "outputs": [],
   "source": [
    "hracs = df[df.ishitrun == 1]\n",
    "lacs = df[df.ishitrun == 0]"
   ]
  },
  {
   "cell_type": "code",
   "execution_count": 70,
   "metadata": {},
   "outputs": [
    {
     "data": {
      "application/javascript": [
       "\n",
       "// Ugly hack - see HoloViews #2574 for more information\n",
       "if (!(document.getElementById('1006')) && !(document.getElementById('_anim_imgNone'))) {\n",
       "  console.log(\"Creating DOM nodes dynamically for assumed nbconvert export. To generate clean HTML output set HV_DOC_HTML as an environment variable.\")\n",
       "  var htmlObject = document.createElement('div');\n",
       "  htmlObject.innerHTML = `<div id='1006' style='display: table; margin: 0 auto;'>\n",
       "\n",
       "\n",
       "\n",
       "\n",
       "\n",
       "  <div class=\"bk-root\" id=\"5b121b78-a86a-4d01-9182-a3c25f9b78d8\"></div>\n",
       "</div>`;\n",
       "  var scriptTags = document.getElementsByTagName('script');\n",
       "  var parentTag = scriptTags[scriptTags.length-1].parentNode;\n",
       "  if (parentTag.attributes.length && (parentTag.attributes[0].name == 'data-shell-mode')) {\n",
       "    alert('Displaying PyViz objects in JupyterLab requires the jupyterlab_pyviz extension to be installed, install it with:\\n\\n\\tjupyter labextension install @pyviz/jupyterlab_pyviz');\n",
       "  } else {\n",
       "    parentTag.append(htmlObject)\n",
       "  }\n",
       "}\n",
       "(function(root) {\n",
       "  function embed_document(root) {\n",
       "    \n",
       "  var docs_json = {\"07c01e11-1406-4661-9113-5bf3e0ef4171\":{\"roots\":{\"references\":[{\"attributes\":{\"below\":[{\"id\":\"1014\",\"type\":\"LinearAxis\"}],\"left\":[{\"id\":\"1019\",\"type\":\"LinearAxis\"}],\"min_border_bottom\":10,\"min_border_left\":10,\"min_border_right\":10,\"min_border_top\":10,\"plot_height\":300,\"plot_width\":700,\"renderers\":[{\"id\":\"1014\",\"type\":\"LinearAxis\"},{\"id\":\"1018\",\"type\":\"Grid\"},{\"id\":\"1019\",\"type\":\"LinearAxis\"},{\"id\":\"1023\",\"type\":\"Grid\"},{\"id\":\"1033\",\"type\":\"BoxAnnotation\"},{\"id\":\"1048\",\"type\":\"GlyphRenderer\"},{\"id\":\"1056\",\"type\":\"GlyphRenderer\"}],\"title\":{\"id\":\"1005\",\"type\":\"Title\"},\"toolbar\":{\"id\":\"1029\",\"type\":\"Toolbar\"},\"x_range\":{\"id\":\"1001\",\"type\":\"Range1d\"},\"x_scale\":{\"id\":\"1010\",\"type\":\"LinearScale\"},\"y_range\":{\"id\":\"1002\",\"type\":\"Range1d\"},\"y_scale\":{\"id\":\"1012\",\"type\":\"LinearScale\"}},\"id\":\"1006\",\"subtype\":\"Figure\",\"type\":\"Plot\"},{\"attributes\":{\"axis_label\":\"month\",\"bounds\":\"auto\",\"formatter\":{\"id\":\"1039\",\"type\":\"BasicTickFormatter\"},\"major_label_orientation\":\"horizontal\",\"plot\":{\"id\":\"1006\",\"subtype\":\"Figure\",\"type\":\"Plot\"},\"ticker\":{\"id\":\"1015\",\"type\":\"BasicTicker\"}},\"id\":\"1014\",\"type\":\"LinearAxis\"},{\"attributes\":{\"bottom\":{\"value\":0},\"fill_alpha\":{\"value\":0.2},\"fill_color\":{\"value\":\"navy\"},\"left\":{\"field\":\"left\"},\"line_alpha\":{\"value\":0.2},\"line_color\":{\"value\":\"black\"},\"right\":{\"field\":\"right\"},\"top\":{\"field\":\"top\"}},\"id\":\"1047\",\"type\":\"Quad\"},{\"attributes\":{},\"id\":\"1051\",\"type\":\"Selection\"},{\"attributes\":{},\"id\":\"1015\",\"type\":\"BasicTicker\"},{\"attributes\":{\"plot\":null,\"text\":\"\",\"text_color\":{\"value\":\"black\"},\"text_font_size\":{\"value\":\"12pt\"}},\"id\":\"1005\",\"type\":\"Title\"},{\"attributes\":{\"grid_line_color\":{\"value\":null},\"plot\":{\"id\":\"1006\",\"subtype\":\"Figure\",\"type\":\"Plot\"},\"ticker\":{\"id\":\"1015\",\"type\":\"BasicTicker\"}},\"id\":\"1018\",\"type\":\"Grid\"},{\"attributes\":{\"callback\":null,\"data\":{\"left\":{\"__ndarray__\":\"AAAAAAAA8D/NzMzMzMz4P83MzMzMzABANDMzMzMzBUCamZmZmZkJQAAAAAAAAA5ANDMzMzMzEUBnZmZmZmYTQJqZmZmZmRVAzczMzMzMF0AAAAAAAAAaQDQzMzMzMxxAZ2ZmZmZmHkDNzMzMzEwgQGdmZmZmZiFAAAAAAACAIkCamZmZmZkjQDQzMzMzsyRAzczMzMzMJUBnZmZmZuYmQA==\",\"dtype\":\"float64\",\"shape\":[20]},\"month\":{\"__ndarray__\":\"ZmZmZmZm9D80MzMzMzP9PwAAAAAAAANAZ2ZmZmZmB0DNzMzMzMwLQJqZmZmZGRBAzszMzMxMEkAAAAAAAIAUQDQzMzMzsxZAZmZmZmbmGECamZmZmRkbQM7MzMzMTB1AAAAAAACAH0CamZmZmdkgQDQzMzMz8yFAzczMzMwMI0BnZmZmZiYkQAAAAAAAQCVAmpmZmZlZJkA0MzMzM3MnQA==\",\"dtype\":\"float64\",\"shape\":[20]},\"month_count\":[8989,7681,0,8710,0,7963,0,7846,0,6848,6571,0,8187,0,7968,0,8396,0,10573,10614],\"right\":{\"__ndarray__\":\"zczMzMzM+D/NzMzMzMwAQDQzMzMzMwVAmpmZmZmZCUAAAAAAAAAOQDQzMzMzMxFAZ2ZmZmZmE0CamZmZmZkVQM3MzMzMzBdAAAAAAAAAGkA0MzMzMzMcQGdmZmZmZh5AzczMzMxMIEBnZmZmZmYhQAAAAAAAgCJAmpmZmZmZI0A0MzMzM7MkQM3MzMzMzCVAZ2ZmZmbmJkAAAAAAAAAoQA==\",\"dtype\":\"float64\",\"shape\":[20]},\"top\":[8989,7681,0,8710,0,7963,0,7846,0,6848,6571,0,8187,0,7968,0,8396,0,10573,10614]},\"selected\":{\"id\":\"1043\",\"type\":\"Selection\"},\"selection_policy\":{\"id\":\"1065\",\"type\":\"UnionRenderers\"}},\"id\":\"1042\",\"type\":\"ColumnDataSource\"},{\"attributes\":{\"bottom\":{\"value\":0},\"fill_alpha\":{\"value\":0.7},\"fill_color\":{\"value\":\"red\"},\"left\":{\"field\":\"left\"},\"line_alpha\":{\"value\":0.7},\"right\":{\"field\":\"right\"},\"top\":{\"field\":\"top\"}},\"id\":\"1053\",\"type\":\"Quad\"},{\"attributes\":{\"axis_label\":\"\",\"bounds\":\"auto\",\"formatter\":{\"id\":\"1041\",\"type\":\"BasicTickFormatter\"},\"major_label_orientation\":\"horizontal\",\"plot\":{\"id\":\"1006\",\"subtype\":\"Figure\",\"type\":\"Plot\"},\"ticker\":{\"id\":\"1020\",\"type\":\"BasicTicker\"}},\"id\":\"1019\",\"type\":\"LinearAxis\"},{\"attributes\":{},\"id\":\"1065\",\"type\":\"UnionRenderers\"},{\"attributes\":{},\"id\":\"1020\",\"type\":\"BasicTicker\"},{\"attributes\":{\"bottom\":{\"value\":0},\"fill_alpha\":{\"value\":0.7},\"fill_color\":{\"value\":\"navy\"},\"left\":{\"field\":\"left\"},\"line_alpha\":{\"value\":0.7},\"right\":{\"field\":\"right\"},\"top\":{\"field\":\"top\"}},\"id\":\"1045\",\"type\":\"Quad\"},{\"attributes\":{\"bottom\":{\"value\":0},\"fill_alpha\":{\"value\":0.7},\"fill_color\":{\"value\":\"red\"},\"left\":{\"field\":\"left\"},\"line_alpha\":{\"value\":0.7},\"line_color\":{\"value\":\"black\"},\"right\":{\"field\":\"right\"},\"top\":{\"field\":\"top\"}},\"id\":\"1054\",\"type\":\"Quad\"},{\"attributes\":{\"dimension\":1,\"grid_line_color\":{\"value\":null},\"plot\":{\"id\":\"1006\",\"subtype\":\"Figure\",\"type\":\"Plot\"},\"ticker\":{\"id\":\"1020\",\"type\":\"BasicTicker\"}},\"id\":\"1023\",\"type\":\"Grid\"},{\"attributes\":{\"bottom\":{\"value\":0},\"fill_alpha\":{\"value\":0.2},\"fill_color\":{\"value\":\"red\"},\"left\":{\"field\":\"left\"},\"line_alpha\":{\"value\":0.2},\"line_color\":{\"value\":\"black\"},\"right\":{\"field\":\"right\"},\"top\":{\"field\":\"top\"}},\"id\":\"1055\",\"type\":\"Quad\"},{\"attributes\":{},\"id\":\"1043\",\"type\":\"Selection\"},{\"attributes\":{},\"id\":\"1024\",\"type\":\"SaveTool\"},{\"attributes\":{\"data_source\":{\"id\":\"1050\",\"type\":\"ColumnDataSource\"},\"glyph\":{\"id\":\"1053\",\"type\":\"Quad\"},\"hover_glyph\":null,\"muted_glyph\":{\"id\":\"1055\",\"type\":\"Quad\"},\"nonselection_glyph\":{\"id\":\"1054\",\"type\":\"Quad\"},\"selection_glyph\":null,\"view\":{\"id\":\"1057\",\"type\":\"CDSView\"}},\"id\":\"1056\",\"type\":\"GlyphRenderer\"},{\"attributes\":{},\"id\":\"1041\",\"type\":\"BasicTickFormatter\"},{\"attributes\":{\"source\":{\"id\":\"1050\",\"type\":\"ColumnDataSource\"}},\"id\":\"1057\",\"type\":\"CDSView\"},{\"attributes\":{},\"id\":\"1067\",\"type\":\"UnionRenderers\"},{\"attributes\":{},\"id\":\"1025\",\"type\":\"PanTool\"},{\"attributes\":{},\"id\":\"1026\",\"type\":\"WheelZoomTool\"},{\"attributes\":{\"callback\":null,\"end\":10614.0,\"reset_end\":10614.0,\"reset_start\":0.0,\"tags\":[[[\"month_count\",\"Count\",null]]]},\"id\":\"1002\",\"type\":\"Range1d\"},{\"attributes\":{\"callback\":null,\"end\":12.0,\"reset_end\":12.0,\"reset_start\":1.0,\"start\":1.0,\"tags\":[[[\"month\",\"month\",null]]]},\"id\":\"1001\",\"type\":\"Range1d\"},{\"attributes\":{\"overlay\":{\"id\":\"1033\",\"type\":\"BoxAnnotation\"}},\"id\":\"1027\",\"type\":\"BoxZoomTool\"},{\"attributes\":{},\"id\":\"1028\",\"type\":\"ResetTool\"},{\"attributes\":{\"callback\":null,\"renderers\":[{\"id\":\"1048\",\"type\":\"GlyphRenderer\"},{\"id\":\"1056\",\"type\":\"GlyphRenderer\"}],\"tooltips\":[[\"month\",\"@{month}\"],[\"Count\",\"@{month_count}\"]]},\"id\":\"1003\",\"type\":\"HoverTool\"},{\"attributes\":{\"callback\":null,\"data\":{\"left\":{\"__ndarray__\":\"AAAAAAAA8D/NzMzMzMz4P83MzMzMzABANDMzMzMzBUCamZmZmZkJQAAAAAAAAA5ANDMzMzMzEUBnZmZmZmYTQJqZmZmZmRVAzczMzMzMF0AAAAAAAAAaQDQzMzMzMxxAZ2ZmZmZmHkDNzMzMzEwgQGdmZmZmZiFAAAAAAACAIkCamZmZmZkjQDQzMzMzsyRAzczMzMzMJUBnZmZmZuYmQA==\",\"dtype\":\"float64\",\"shape\":[20]},\"month\":{\"__ndarray__\":\"ZmZmZmZm9D80MzMzMzP9PwAAAAAAAANAZ2ZmZmZmB0DNzMzMzMwLQJqZmZmZGRBAzszMzMxMEkAAAAAAAIAUQDQzMzMzsxZAZmZmZmbmGECamZmZmRkbQM7MzMzMTB1AAAAAAACAH0CamZmZmdkgQDQzMzMz8yFAzczMzMwMI0BnZmZmZiYkQAAAAAAAQCVAmpmZmZlZJkA0MzMzM3MnQA==\",\"dtype\":\"float64\",\"shape\":[20]},\"month_count\":[2488,1994,0,2340,0,2312,0,2325,0,2130,2048,0,2248,0,2239,0,2218,0,2880,2795],\"right\":{\"__ndarray__\":\"zczMzMzM+D/NzMzMzMwAQDQzMzMzMwVAmpmZmZmZCUAAAAAAAAAOQDQzMzMzMxFAZ2ZmZmZmE0CamZmZmZkVQM3MzMzMzBdAAAAAAAAAGkA0MzMzMzMcQGdmZmZmZh5AzczMzMxMIEBnZmZmZmYhQAAAAAAAgCJAmpmZmZmZI0A0MzMzM7MkQM3MzMzMzCVAZ2ZmZmbmJkAAAAAAAAAoQA==\",\"dtype\":\"float64\",\"shape\":[20]},\"top\":[2488,1994,0,2340,0,2312,0,2325,0,2130,2048,0,2248,0,2239,0,2218,0,2880,2795]},\"selected\":{\"id\":\"1051\",\"type\":\"Selection\"},\"selection_policy\":{\"id\":\"1067\",\"type\":\"UnionRenderers\"}},\"id\":\"1050\",\"type\":\"ColumnDataSource\"},{\"attributes\":{\"active_drag\":\"auto\",\"active_inspect\":\"auto\",\"active_multi\":null,\"active_scroll\":\"auto\",\"active_tap\":\"auto\",\"tools\":[{\"id\":\"1003\",\"type\":\"HoverTool\"},{\"id\":\"1024\",\"type\":\"SaveTool\"},{\"id\":\"1025\",\"type\":\"PanTool\"},{\"id\":\"1026\",\"type\":\"WheelZoomTool\"},{\"id\":\"1027\",\"type\":\"BoxZoomTool\"},{\"id\":\"1028\",\"type\":\"ResetTool\"}]},\"id\":\"1029\",\"type\":\"Toolbar\"},{\"attributes\":{},\"id\":\"1039\",\"type\":\"BasicTickFormatter\"},{\"attributes\":{\"bottom_units\":\"screen\",\"fill_alpha\":{\"value\":0.5},\"fill_color\":{\"value\":\"lightgrey\"},\"left_units\":\"screen\",\"level\":\"overlay\",\"line_alpha\":{\"value\":1.0},\"line_color\":{\"value\":\"black\"},\"line_dash\":[4,4],\"line_width\":{\"value\":2},\"plot\":null,\"render_mode\":\"css\",\"right_units\":\"screen\",\"top_units\":\"screen\"},\"id\":\"1033\",\"type\":\"BoxAnnotation\"},{\"attributes\":{},\"id\":\"1010\",\"type\":\"LinearScale\"},{\"attributes\":{\"source\":{\"id\":\"1042\",\"type\":\"ColumnDataSource\"}},\"id\":\"1049\",\"type\":\"CDSView\"},{\"attributes\":{\"bottom\":{\"value\":0},\"fill_alpha\":{\"value\":0.7},\"fill_color\":{\"value\":\"navy\"},\"left\":{\"field\":\"left\"},\"line_alpha\":{\"value\":0.7},\"line_color\":{\"value\":\"black\"},\"right\":{\"field\":\"right\"},\"top\":{\"field\":\"top\"}},\"id\":\"1046\",\"type\":\"Quad\"},{\"attributes\":{\"data_source\":{\"id\":\"1042\",\"type\":\"ColumnDataSource\"},\"glyph\":{\"id\":\"1045\",\"type\":\"Quad\"},\"hover_glyph\":null,\"muted_glyph\":{\"id\":\"1047\",\"type\":\"Quad\"},\"nonselection_glyph\":{\"id\":\"1046\",\"type\":\"Quad\"},\"selection_glyph\":null,\"view\":{\"id\":\"1049\",\"type\":\"CDSView\"}},\"id\":\"1048\",\"type\":\"GlyphRenderer\"},{\"attributes\":{},\"id\":\"1012\",\"type\":\"LinearScale\"}],\"root_ids\":[\"1006\"]},\"title\":\"Bokeh Application\",\"version\":\"1.0.0\"}};\n",
       "  var render_items = [{\"docid\":\"07c01e11-1406-4661-9113-5bf3e0ef4171\",\"roots\":{\"1006\":\"5b121b78-a86a-4d01-9182-a3c25f9b78d8\"}}];\n",
       "  root.Bokeh.embed.embed_items_notebook(docs_json, render_items);\n",
       "\n",
       "  }\n",
       "  if (root.Bokeh !== undefined) {\n",
       "    embed_document(root);\n",
       "  } else {\n",
       "    var attempts = 0;\n",
       "    var timer = setInterval(function(root) {\n",
       "      if (root.Bokeh !== undefined) {\n",
       "        embed_document(root);\n",
       "        clearInterval(timer);\n",
       "      }\n",
       "      attempts++;\n",
       "      if (attempts > 100) {\n",
       "        console.log(\"Bokeh: ERROR: Unable to run BokehJS code because BokehJS library is missing\");\n",
       "        clearInterval(timer);\n",
       "      }\n",
       "    }, 10, root)\n",
       "  }\n",
       "})(window);"
      ],
      "application/vnd.holoviews_exec.v0+json": "",
      "text/html": [
       "<div id='1006' style='display: table; margin: 0 auto;'>\n",
       "\n",
       "\n",
       "\n",
       "\n",
       "\n",
       "  <div class=\"bk-root\" id=\"5b121b78-a86a-4d01-9182-a3c25f9b78d8\"></div>\n",
       "</div>"
      ],
      "text/plain": [
       ":Overlay\n",
       "   .Histogram.I  :Histogram   [month]   (month_count)\n",
       "   .Histogram.II :Histogram   [month]   (month_count)"
      ]
     },
     "execution_count": 70,
     "metadata": {
      "application/vnd.holoviews_exec.v0+json": {
       "id": "1006"
      }
     },
     "output_type": "execute_result"
    }
   ],
   "source": [
    "lacs.month.hvplot.hist(color='navy').options(alpha=0.7) * hracs.month.hvplot.hist(color='red').options(alpha=0.7)"
   ]
  },
  {
   "cell_type": "code",
   "execution_count": 71,
   "metadata": {},
   "outputs": [
    {
     "data": {
      "application/javascript": [
       "\n",
       "// Ugly hack - see HoloViews #2574 for more information\n",
       "if (!(document.getElementById('1213')) && !(document.getElementById('_anim_imgNone'))) {\n",
       "  console.log(\"Creating DOM nodes dynamically for assumed nbconvert export. To generate clean HTML output set HV_DOC_HTML as an environment variable.\")\n",
       "  var htmlObject = document.createElement('div');\n",
       "  htmlObject.innerHTML = `<div id='1213' style='display: table; margin: 0 auto;'>\n",
       "\n",
       "\n",
       "\n",
       "\n",
       "\n",
       "  <div class=\"bk-root\" id=\"20c79e77-8199-42e3-ac55-025895ca3b27\"></div>\n",
       "</div>`;\n",
       "  var scriptTags = document.getElementsByTagName('script');\n",
       "  var parentTag = scriptTags[scriptTags.length-1].parentNode;\n",
       "  if (parentTag.attributes.length && (parentTag.attributes[0].name == 'data-shell-mode')) {\n",
       "    alert('Displaying PyViz objects in JupyterLab requires the jupyterlab_pyviz extension to be installed, install it with:\\n\\n\\tjupyter labextension install @pyviz/jupyterlab_pyviz');\n",
       "  } else {\n",
       "    parentTag.append(htmlObject)\n",
       "  }\n",
       "}\n",
       "(function(root) {\n",
       "  function embed_document(root) {\n",
       "    \n",
       "  var docs_json = {\"da3a6354-2b9d-45a1-a0fb-382f47a06123\":{\"roots\":{\"references\":[{\"attributes\":{\"below\":[{\"id\":\"1221\",\"type\":\"LinearAxis\"}],\"left\":[{\"id\":\"1226\",\"type\":\"LinearAxis\"}],\"min_border_bottom\":10,\"min_border_left\":10,\"min_border_right\":10,\"min_border_top\":10,\"plot_height\":300,\"plot_width\":700,\"renderers\":[{\"id\":\"1221\",\"type\":\"LinearAxis\"},{\"id\":\"1225\",\"type\":\"Grid\"},{\"id\":\"1226\",\"type\":\"LinearAxis\"},{\"id\":\"1230\",\"type\":\"Grid\"},{\"id\":\"1240\",\"type\":\"BoxAnnotation\"},{\"id\":\"1255\",\"type\":\"GlyphRenderer\"},{\"id\":\"1263\",\"type\":\"GlyphRenderer\"}],\"title\":{\"id\":\"1212\",\"type\":\"Title\"},\"toolbar\":{\"id\":\"1236\",\"type\":\"Toolbar\"},\"x_range\":{\"id\":\"1208\",\"type\":\"Range1d\"},\"x_scale\":{\"id\":\"1217\",\"type\":\"LinearScale\"},\"y_range\":{\"id\":\"1209\",\"type\":\"Range1d\"},\"y_scale\":{\"id\":\"1219\",\"type\":\"LinearScale\"}},\"id\":\"1213\",\"subtype\":\"Figure\",\"type\":\"Plot\"},{\"attributes\":{\"bottom_units\":\"screen\",\"fill_alpha\":{\"value\":0.5},\"fill_color\":{\"value\":\"lightgrey\"},\"left_units\":\"screen\",\"level\":\"overlay\",\"line_alpha\":{\"value\":1.0},\"line_color\":{\"value\":\"black\"},\"line_dash\":[4,4],\"line_width\":{\"value\":2},\"plot\":null,\"render_mode\":\"css\",\"right_units\":\"screen\",\"top_units\":\"screen\"},\"id\":\"1240\",\"type\":\"BoxAnnotation\"},{\"attributes\":{\"source\":{\"id\":\"1257\",\"type\":\"ColumnDataSource\"}},\"id\":\"1264\",\"type\":\"CDSView\"},{\"attributes\":{},\"id\":\"1258\",\"type\":\"Selection\"},{\"attributes\":{\"bottom\":{\"value\":0},\"fill_alpha\":{\"value\":0.7},\"fill_color\":{\"value\":\"red\"},\"left\":{\"field\":\"left\"},\"line_alpha\":{\"value\":0.7},\"line_color\":{\"value\":\"black\"},\"right\":{\"field\":\"right\"},\"top\":{\"field\":\"top\"}},\"id\":\"1261\",\"type\":\"Quad\"},{\"attributes\":{},\"id\":\"1217\",\"type\":\"LinearScale\"},{\"attributes\":{\"active_drag\":\"auto\",\"active_inspect\":\"auto\",\"active_multi\":null,\"active_scroll\":\"auto\",\"active_tap\":\"auto\",\"tools\":[{\"id\":\"1210\",\"type\":\"HoverTool\"},{\"id\":\"1231\",\"type\":\"SaveTool\"},{\"id\":\"1232\",\"type\":\"PanTool\"},{\"id\":\"1233\",\"type\":\"WheelZoomTool\"},{\"id\":\"1234\",\"type\":\"BoxZoomTool\"},{\"id\":\"1235\",\"type\":\"ResetTool\"}]},\"id\":\"1236\",\"type\":\"Toolbar\"},{\"attributes\":{},\"id\":\"1219\",\"type\":\"LinearScale\"},{\"attributes\":{},\"id\":\"1235\",\"type\":\"ResetTool\"},{\"attributes\":{\"overlay\":{\"id\":\"1240\",\"type\":\"BoxAnnotation\"}},\"id\":\"1234\",\"type\":\"BoxZoomTool\"},{\"attributes\":{\"plot\":null,\"text\":\"\",\"text_color\":{\"value\":\"black\"},\"text_font_size\":{\"value\":\"12pt\"}},\"id\":\"1212\",\"type\":\"Title\"},{\"attributes\":{},\"id\":\"1233\",\"type\":\"WheelZoomTool\"},{\"attributes\":{\"data_source\":{\"id\":\"1249\",\"type\":\"ColumnDataSource\"},\"glyph\":{\"id\":\"1252\",\"type\":\"Quad\"},\"hover_glyph\":null,\"muted_glyph\":{\"id\":\"1254\",\"type\":\"Quad\"},\"nonselection_glyph\":{\"id\":\"1253\",\"type\":\"Quad\"},\"selection_glyph\":null,\"view\":{\"id\":\"1256\",\"type\":\"CDSView\"}},\"id\":\"1255\",\"type\":\"GlyphRenderer\"},{\"attributes\":{},\"id\":\"1231\",\"type\":\"SaveTool\"},{\"attributes\":{},\"id\":\"1232\",\"type\":\"PanTool\"},{\"attributes\":{\"source\":{\"id\":\"1249\",\"type\":\"ColumnDataSource\"}},\"id\":\"1256\",\"type\":\"CDSView\"},{\"attributes\":{\"callback\":null,\"end\":6.0,\"reset_end\":6.0,\"reset_start\":0.0,\"tags\":[[[\"day\",\"day\",null]]]},\"id\":\"1208\",\"type\":\"Range1d\"},{\"attributes\":{\"bottom\":{\"value\":0},\"fill_alpha\":{\"value\":0.7},\"fill_color\":{\"value\":\"red\"},\"left\":{\"field\":\"left\"},\"line_alpha\":{\"value\":0.7},\"right\":{\"field\":\"right\"},\"top\":{\"field\":\"top\"}},\"id\":\"1260\",\"type\":\"Quad\"},{\"attributes\":{\"callback\":null,\"renderers\":[{\"id\":\"1255\",\"type\":\"GlyphRenderer\"},{\"id\":\"1263\",\"type\":\"GlyphRenderer\"}],\"tooltips\":[[\"day\",\"@{day}\"],[\"Count\",\"@{day_count}\"]]},\"id\":\"1210\",\"type\":\"HoverTool\"},{\"attributes\":{},\"id\":\"1250\",\"type\":\"Selection\"},{\"attributes\":{\"callback\":null,\"end\":17546.0,\"reset_end\":17546.0,\"reset_start\":0.0,\"tags\":[[[\"day_count\",\"Count\",null]]]},\"id\":\"1209\",\"type\":\"Range1d\"},{\"attributes\":{},\"id\":\"1248\",\"type\":\"BasicTickFormatter\"},{\"attributes\":{\"callback\":null,\"data\":{\"day\":{\"__ndarray__\":\"MzMzMzMzwz/MzMzMzMzcPwAAAAAAAOg/zMzMzMzM8D+amZmZmZn1P2ZmZmZmZvo/MzMzMzMz/z8AAAAAAAACQGZmZmZmZgRAzMzMzMzMBkAzMzMzMzMJQJmZmZmZmQtAAAAAAAAADkAzMzMzMzMQQGZmZmZmZhFAmpmZmZmZEkDMzMzMzMwTQAAAAAAAABVAMzMzMzMzFkBmZmZmZmYXQA==\",\"dtype\":\"float64\",\"shape\":[20]},\"day_count\":[3795,0,0,4002,0,0,3979,0,0,0,4012,0,0,4647,0,0,4101,0,0,3481],\"left\":{\"__ndarray__\":\"AAAAAAAAAAAzMzMzMzPTPzMzMzMzM+M/zMzMzMzM7D8zMzMzMzPzPwAAAAAAAPg/zMzMzMzM/D/NzMzMzMwAQDMzMzMzMwNAmZmZmZmZBUAAAAAAAAAIQGZmZmZmZgpAzMzMzMzMDEAzMzMzMzMPQM3MzMzMzBBAAAAAAAAAEkAzMzMzMzMTQGZmZmZmZhRAmZmZmZmZFUDNzMzMzMwWQA==\",\"dtype\":\"float64\",\"shape\":[20]},\"right\":{\"__ndarray__\":\"MzMzMzMz0z8zMzMzMzPjP8zMzMzMzOw/MzMzMzMz8z8AAAAAAAD4P8zMzMzMzPw/zczMzMzMAEAzMzMzMzMDQJmZmZmZmQVAAAAAAAAACEBmZmZmZmYKQMzMzMzMzAxAMzMzMzMzD0DNzMzMzMwQQAAAAAAAABJAMzMzMzMzE0BmZmZmZmYUQJmZmZmZmRVAzczMzMzMFkAAAAAAAAAYQA==\",\"dtype\":\"float64\",\"shape\":[20]},\"top\":[3795,0,0,4002,0,0,3979,0,0,0,4012,0,0,4647,0,0,4101,0,0,3481]},\"selected\":{\"id\":\"1258\",\"type\":\"Selection\"},\"selection_policy\":{\"id\":\"1274\",\"type\":\"UnionRenderers\"}},\"id\":\"1257\",\"type\":\"ColumnDataSource\"},{\"attributes\":{\"dimension\":1,\"grid_line_color\":{\"value\":null},\"plot\":{\"id\":\"1213\",\"subtype\":\"Figure\",\"type\":\"Plot\"},\"ticker\":{\"id\":\"1227\",\"type\":\"BasicTicker\"}},\"id\":\"1230\",\"type\":\"Grid\"},{\"attributes\":{\"data_source\":{\"id\":\"1257\",\"type\":\"ColumnDataSource\"},\"glyph\":{\"id\":\"1260\",\"type\":\"Quad\"},\"hover_glyph\":null,\"muted_glyph\":{\"id\":\"1262\",\"type\":\"Quad\"},\"nonselection_glyph\":{\"id\":\"1261\",\"type\":\"Quad\"},\"selection_glyph\":null,\"view\":{\"id\":\"1264\",\"type\":\"CDSView\"}},\"id\":\"1263\",\"type\":\"GlyphRenderer\"},{\"attributes\":{},\"id\":\"1246\",\"type\":\"BasicTickFormatter\"},{\"attributes\":{\"bottom\":{\"value\":0},\"fill_alpha\":{\"value\":0.7},\"fill_color\":{\"value\":\"navy\"},\"left\":{\"field\":\"left\"},\"line_alpha\":{\"value\":0.7},\"right\":{\"field\":\"right\"},\"top\":{\"field\":\"top\"}},\"id\":\"1252\",\"type\":\"Quad\"},{\"attributes\":{\"axis_label\":\"\",\"bounds\":\"auto\",\"formatter\":{\"id\":\"1248\",\"type\":\"BasicTickFormatter\"},\"major_label_orientation\":\"horizontal\",\"plot\":{\"id\":\"1213\",\"subtype\":\"Figure\",\"type\":\"Plot\"},\"ticker\":{\"id\":\"1227\",\"type\":\"BasicTicker\"}},\"id\":\"1226\",\"type\":\"LinearAxis\"},{\"attributes\":{},\"id\":\"1274\",\"type\":\"UnionRenderers\"},{\"attributes\":{},\"id\":\"1227\",\"type\":\"BasicTicker\"},{\"attributes\":{\"callback\":null,\"data\":{\"day\":{\"__ndarray__\":\"MzMzMzMzwz/MzMzMzMzcPwAAAAAAAOg/zMzMzMzM8D+amZmZmZn1P2ZmZmZmZvo/MzMzMzMz/z8AAAAAAAACQGZmZmZmZgRAzMzMzMzMBkAzMzMzMzMJQJmZmZmZmQtAAAAAAAAADkAzMzMzMzMQQGZmZmZmZhFAmpmZmZmZEkDMzMzMzMwTQAAAAAAAABVAMzMzMzMzFkBmZmZmZmYXQA==\",\"dtype\":\"float64\",\"shape\":[20]},\"day_count\":[14743,0,0,16021,0,0,16114,0,0,0,16195,0,0,17546,0,0,11319,0,0,8408],\"left\":{\"__ndarray__\":\"AAAAAAAAAAAzMzMzMzPTPzMzMzMzM+M/zMzMzMzM7D8zMzMzMzPzPwAAAAAAAPg/zMzMzMzM/D/NzMzMzMwAQDMzMzMzMwNAmZmZmZmZBUAAAAAAAAAIQGZmZmZmZgpAzMzMzMzMDEAzMzMzMzMPQM3MzMzMzBBAAAAAAAAAEkAzMzMzMzMTQGZmZmZmZhRAmZmZmZmZFUDNzMzMzMwWQA==\",\"dtype\":\"float64\",\"shape\":[20]},\"right\":{\"__ndarray__\":\"MzMzMzMz0z8zMzMzMzPjP8zMzMzMzOw/MzMzMzMz8z8AAAAAAAD4P8zMzMzMzPw/zczMzMzMAEAzMzMzMzMDQJmZmZmZmQVAAAAAAAAACEBmZmZmZmYKQMzMzMzMzAxAMzMzMzMzD0DNzMzMzMwQQAAAAAAAABJAMzMzMzMzE0BmZmZmZmYUQJmZmZmZmRVAzczMzMzMFkAAAAAAAAAYQA==\",\"dtype\":\"float64\",\"shape\":[20]},\"top\":[14743,0,0,16021,0,0,16114,0,0,0,16195,0,0,17546,0,0,11319,0,0,8408]},\"selected\":{\"id\":\"1250\",\"type\":\"Selection\"},\"selection_policy\":{\"id\":\"1272\",\"type\":\"UnionRenderers\"}},\"id\":\"1249\",\"type\":\"ColumnDataSource\"},{\"attributes\":{\"grid_line_color\":{\"value\":null},\"plot\":{\"id\":\"1213\",\"subtype\":\"Figure\",\"type\":\"Plot\"},\"ticker\":{\"id\":\"1222\",\"type\":\"BasicTicker\"}},\"id\":\"1225\",\"type\":\"Grid\"},{\"attributes\":{\"bottom\":{\"value\":0},\"fill_alpha\":{\"value\":0.2},\"fill_color\":{\"value\":\"navy\"},\"left\":{\"field\":\"left\"},\"line_alpha\":{\"value\":0.2},\"line_color\":{\"value\":\"black\"},\"right\":{\"field\":\"right\"},\"top\":{\"field\":\"top\"}},\"id\":\"1254\",\"type\":\"Quad\"},{\"attributes\":{},\"id\":\"1272\",\"type\":\"UnionRenderers\"},{\"attributes\":{},\"id\":\"1222\",\"type\":\"BasicTicker\"},{\"attributes\":{\"bottom\":{\"value\":0},\"fill_alpha\":{\"value\":0.7},\"fill_color\":{\"value\":\"navy\"},\"left\":{\"field\":\"left\"},\"line_alpha\":{\"value\":0.7},\"line_color\":{\"value\":\"black\"},\"right\":{\"field\":\"right\"},\"top\":{\"field\":\"top\"}},\"id\":\"1253\",\"type\":\"Quad\"},{\"attributes\":{\"bottom\":{\"value\":0},\"fill_alpha\":{\"value\":0.2},\"fill_color\":{\"value\":\"red\"},\"left\":{\"field\":\"left\"},\"line_alpha\":{\"value\":0.2},\"line_color\":{\"value\":\"black\"},\"right\":{\"field\":\"right\"},\"top\":{\"field\":\"top\"}},\"id\":\"1262\",\"type\":\"Quad\"},{\"attributes\":{\"axis_label\":\"day\",\"bounds\":\"auto\",\"formatter\":{\"id\":\"1246\",\"type\":\"BasicTickFormatter\"},\"major_label_orientation\":\"horizontal\",\"plot\":{\"id\":\"1213\",\"subtype\":\"Figure\",\"type\":\"Plot\"},\"ticker\":{\"id\":\"1222\",\"type\":\"BasicTicker\"}},\"id\":\"1221\",\"type\":\"LinearAxis\"}],\"root_ids\":[\"1213\"]},\"title\":\"Bokeh Application\",\"version\":\"1.0.0\"}};\n",
       "  var render_items = [{\"docid\":\"da3a6354-2b9d-45a1-a0fb-382f47a06123\",\"roots\":{\"1213\":\"20c79e77-8199-42e3-ac55-025895ca3b27\"}}];\n",
       "  root.Bokeh.embed.embed_items_notebook(docs_json, render_items);\n",
       "\n",
       "  }\n",
       "  if (root.Bokeh !== undefined) {\n",
       "    embed_document(root);\n",
       "  } else {\n",
       "    var attempts = 0;\n",
       "    var timer = setInterval(function(root) {\n",
       "      if (root.Bokeh !== undefined) {\n",
       "        embed_document(root);\n",
       "        clearInterval(timer);\n",
       "      }\n",
       "      attempts++;\n",
       "      if (attempts > 100) {\n",
       "        console.log(\"Bokeh: ERROR: Unable to run BokehJS code because BokehJS library is missing\");\n",
       "        clearInterval(timer);\n",
       "      }\n",
       "    }, 10, root)\n",
       "  }\n",
       "})(window);"
      ],
      "application/vnd.holoviews_exec.v0+json": "",
      "text/html": [
       "<div id='1213' style='display: table; margin: 0 auto;'>\n",
       "\n",
       "\n",
       "\n",
       "\n",
       "\n",
       "  <div class=\"bk-root\" id=\"20c79e77-8199-42e3-ac55-025895ca3b27\"></div>\n",
       "</div>"
      ],
      "text/plain": [
       ":Overlay\n",
       "   .Histogram.I  :Histogram   [day]   (day_count)\n",
       "   .Histogram.II :Histogram   [day]   (day_count)"
      ]
     },
     "execution_count": 71,
     "metadata": {
      "application/vnd.holoviews_exec.v0+json": {
       "id": "1213"
      }
     },
     "output_type": "execute_result"
    }
   ],
   "source": [
    "lacs.day.hvplot.hist(color='navy').options(alpha=0.7) * hracs.day.hvplot.hist(color='red').options(alpha=0.7)"
   ]
  },
  {
   "cell_type": "code",
   "execution_count": 72,
   "metadata": {},
   "outputs": [
    {
     "data": {
      "application/javascript": [
       "\n",
       "// Ugly hack - see HoloViews #2574 for more information\n",
       "if (!(document.getElementById('1420')) && !(document.getElementById('_anim_imgNone'))) {\n",
       "  console.log(\"Creating DOM nodes dynamically for assumed nbconvert export. To generate clean HTML output set HV_DOC_HTML as an environment variable.\")\n",
       "  var htmlObject = document.createElement('div');\n",
       "  htmlObject.innerHTML = `<div id='1420' style='display: table; margin: 0 auto;'>\n",
       "\n",
       "\n",
       "\n",
       "\n",
       "\n",
       "  <div class=\"bk-root\" id=\"b9b1ae1e-0c1b-4228-b4d8-2b114b76d095\"></div>\n",
       "</div>`;\n",
       "  var scriptTags = document.getElementsByTagName('script');\n",
       "  var parentTag = scriptTags[scriptTags.length-1].parentNode;\n",
       "  if (parentTag.attributes.length && (parentTag.attributes[0].name == 'data-shell-mode')) {\n",
       "    alert('Displaying PyViz objects in JupyterLab requires the jupyterlab_pyviz extension to be installed, install it with:\\n\\n\\tjupyter labextension install @pyviz/jupyterlab_pyviz');\n",
       "  } else {\n",
       "    parentTag.append(htmlObject)\n",
       "  }\n",
       "}\n",
       "(function(root) {\n",
       "  function embed_document(root) {\n",
       "    \n",
       "  var docs_json = {\"4a21558f-9eab-4633-86b4-af27693f1f75\":{\"roots\":{\"references\":[{\"attributes\":{\"below\":[{\"id\":\"1428\",\"type\":\"LinearAxis\"}],\"left\":[{\"id\":\"1433\",\"type\":\"LinearAxis\"}],\"min_border_bottom\":10,\"min_border_left\":10,\"min_border_right\":10,\"min_border_top\":10,\"plot_height\":300,\"plot_width\":700,\"renderers\":[{\"id\":\"1428\",\"type\":\"LinearAxis\"},{\"id\":\"1432\",\"type\":\"Grid\"},{\"id\":\"1433\",\"type\":\"LinearAxis\"},{\"id\":\"1437\",\"type\":\"Grid\"},{\"id\":\"1447\",\"type\":\"BoxAnnotation\"},{\"id\":\"1462\",\"type\":\"GlyphRenderer\"},{\"id\":\"1470\",\"type\":\"GlyphRenderer\"}],\"title\":{\"id\":\"1419\",\"type\":\"Title\"},\"toolbar\":{\"id\":\"1443\",\"type\":\"Toolbar\"},\"x_range\":{\"id\":\"1415\",\"type\":\"Range1d\"},\"x_scale\":{\"id\":\"1424\",\"type\":\"LinearScale\"},\"y_range\":{\"id\":\"1416\",\"type\":\"Range1d\"},\"y_scale\":{\"id\":\"1426\",\"type\":\"LinearScale\"}},\"id\":\"1420\",\"subtype\":\"Figure\",\"type\":\"Plot\"},{\"attributes\":{\"bottom_units\":\"screen\",\"fill_alpha\":{\"value\":0.5},\"fill_color\":{\"value\":\"lightgrey\"},\"left_units\":\"screen\",\"level\":\"overlay\",\"line_alpha\":{\"value\":1.0},\"line_color\":{\"value\":\"black\"},\"line_dash\":[4,4],\"line_width\":{\"value\":2},\"plot\":null,\"render_mode\":\"css\",\"right_units\":\"screen\",\"top_units\":\"screen\"},\"id\":\"1447\",\"type\":\"BoxAnnotation\"},{\"attributes\":{\"active_drag\":\"auto\",\"active_inspect\":\"auto\",\"active_multi\":null,\"active_scroll\":\"auto\",\"active_tap\":\"auto\",\"tools\":[{\"id\":\"1417\",\"type\":\"HoverTool\"},{\"id\":\"1438\",\"type\":\"SaveTool\"},{\"id\":\"1439\",\"type\":\"PanTool\"},{\"id\":\"1440\",\"type\":\"WheelZoomTool\"},{\"id\":\"1441\",\"type\":\"BoxZoomTool\"},{\"id\":\"1442\",\"type\":\"ResetTool\"}]},\"id\":\"1443\",\"type\":\"Toolbar\"},{\"attributes\":{\"bottom\":{\"value\":0},\"fill_alpha\":{\"value\":0.7},\"fill_color\":{\"value\":\"red\"},\"left\":{\"field\":\"left\"},\"line_alpha\":{\"value\":0.7},\"right\":{\"field\":\"right\"},\"top\":{\"field\":\"top\"}},\"id\":\"1467\",\"type\":\"Quad\"},{\"attributes\":{\"dimension\":1,\"grid_line_color\":{\"value\":null},\"plot\":{\"id\":\"1420\",\"subtype\":\"Figure\",\"type\":\"Plot\"},\"ticker\":{\"id\":\"1434\",\"type\":\"BasicTicker\"}},\"id\":\"1437\",\"type\":\"Grid\"},{\"attributes\":{},\"id\":\"1442\",\"type\":\"ResetTool\"},{\"attributes\":{},\"id\":\"1429\",\"type\":\"BasicTicker\"},{\"attributes\":{},\"id\":\"1439\",\"type\":\"PanTool\"},{\"attributes\":{\"bottom\":{\"value\":0},\"fill_alpha\":{\"value\":0.2},\"fill_color\":{\"value\":\"red\"},\"left\":{\"field\":\"left\"},\"line_alpha\":{\"value\":0.2},\"line_color\":{\"value\":\"black\"},\"right\":{\"field\":\"right\"},\"top\":{\"field\":\"top\"}},\"id\":\"1469\",\"type\":\"Quad\"},{\"attributes\":{},\"id\":\"1424\",\"type\":\"LinearScale\"},{\"attributes\":{\"plot\":null,\"text\":\"\",\"text_color\":{\"value\":\"black\"},\"text_font_size\":{\"value\":\"12pt\"}},\"id\":\"1419\",\"type\":\"Title\"},{\"attributes\":{\"bottom\":{\"value\":0},\"fill_alpha\":{\"value\":0.7},\"fill_color\":{\"value\":\"red\"},\"left\":{\"field\":\"left\"},\"line_alpha\":{\"value\":0.7},\"line_color\":{\"value\":\"black\"},\"right\":{\"field\":\"right\"},\"top\":{\"field\":\"top\"}},\"id\":\"1468\",\"type\":\"Quad\"},{\"attributes\":{},\"id\":\"1455\",\"type\":\"BasicTickFormatter\"},{\"attributes\":{},\"id\":\"1465\",\"type\":\"Selection\"},{\"attributes\":{\"axis_label\":\"\",\"bounds\":\"auto\",\"formatter\":{\"id\":\"1455\",\"type\":\"BasicTickFormatter\"},\"major_label_orientation\":\"horizontal\",\"plot\":{\"id\":\"1420\",\"subtype\":\"Figure\",\"type\":\"Plot\"},\"ticker\":{\"id\":\"1434\",\"type\":\"BasicTicker\"}},\"id\":\"1433\",\"type\":\"LinearAxis\"},{\"attributes\":{},\"id\":\"1440\",\"type\":\"WheelZoomTool\"},{\"attributes\":{\"callback\":null,\"renderers\":[{\"id\":\"1462\",\"type\":\"GlyphRenderer\"},{\"id\":\"1470\",\"type\":\"GlyphRenderer\"}],\"tooltips\":[[\"hour\",\"@{hour}\"],[\"Count\",\"@{hour_count}\"]]},\"id\":\"1417\",\"type\":\"HoverTool\"},{\"attributes\":{\"bottom\":{\"value\":0},\"fill_alpha\":{\"value\":0.7},\"fill_color\":{\"value\":\"navy\"},\"left\":{\"field\":\"left\"},\"line_alpha\":{\"value\":0.7},\"line_color\":{\"value\":\"black\"},\"right\":{\"field\":\"right\"},\"top\":{\"field\":\"top\"}},\"id\":\"1460\",\"type\":\"Quad\"},{\"attributes\":{\"callback\":null,\"end\":23.0,\"reset_end\":23.0,\"reset_start\":0.0,\"tags\":[[[\"hour\",\"hour\",null]]]},\"id\":\"1415\",\"type\":\"Range1d\"},{\"attributes\":{},\"id\":\"1481\",\"type\":\"UnionRenderers\"},{\"attributes\":{},\"id\":\"1479\",\"type\":\"UnionRenderers\"},{\"attributes\":{\"callback\":null,\"end\":18840.0,\"reset_end\":18840.0,\"reset_start\":0.0,\"tags\":[[[\"hour_count\",\"Count\",null]]]},\"id\":\"1416\",\"type\":\"Range1d\"},{\"attributes\":{},\"id\":\"1438\",\"type\":\"SaveTool\"},{\"attributes\":{},\"id\":\"1426\",\"type\":\"LinearScale\"},{\"attributes\":{},\"id\":\"1457\",\"type\":\"Selection\"},{\"attributes\":{\"data_source\":{\"id\":\"1464\",\"type\":\"ColumnDataSource\"},\"glyph\":{\"id\":\"1467\",\"type\":\"Quad\"},\"hover_glyph\":null,\"muted_glyph\":{\"id\":\"1469\",\"type\":\"Quad\"},\"nonselection_glyph\":{\"id\":\"1468\",\"type\":\"Quad\"},\"selection_glyph\":null,\"view\":{\"id\":\"1471\",\"type\":\"CDSView\"}},\"id\":\"1470\",\"type\":\"GlyphRenderer\"},{\"attributes\":{\"axis_label\":\"hour\",\"bounds\":\"auto\",\"formatter\":{\"id\":\"1453\",\"type\":\"BasicTickFormatter\"},\"major_label_orientation\":\"horizontal\",\"plot\":{\"id\":\"1420\",\"subtype\":\"Figure\",\"type\":\"Plot\"},\"ticker\":{\"id\":\"1429\",\"type\":\"BasicTicker\"}},\"id\":\"1428\",\"type\":\"LinearAxis\"},{\"attributes\":{},\"id\":\"1453\",\"type\":\"BasicTickFormatter\"},{\"attributes\":{},\"id\":\"1434\",\"type\":\"BasicTicker\"},{\"attributes\":{\"source\":{\"id\":\"1464\",\"type\":\"ColumnDataSource\"}},\"id\":\"1471\",\"type\":\"CDSView\"},{\"attributes\":{\"data_source\":{\"id\":\"1456\",\"type\":\"ColumnDataSource\"},\"glyph\":{\"id\":\"1459\",\"type\":\"Quad\"},\"hover_glyph\":null,\"muted_glyph\":{\"id\":\"1461\",\"type\":\"Quad\"},\"nonselection_glyph\":{\"id\":\"1460\",\"type\":\"Quad\"},\"selection_glyph\":null,\"view\":{\"id\":\"1463\",\"type\":\"CDSView\"}},\"id\":\"1462\",\"type\":\"GlyphRenderer\"},{\"attributes\":{\"callback\":null,\"data\":{\"hour\":{\"__ndarray__\":\"ZmZmZmZm4j+ZmZmZmZn7PwAAAAAAAAdAmZmZmZkZEEAzMzMzM7MUQMzMzMzMTBlAZmZmZmbmHUAAAAAAAEAhQMzMzMzMjCNAmpmZmZnZJUBmZmZmZiYoQDIzMzMzcypAAAAAAADALEDMzMzMzAwvQMzMzMzMrDBAMzMzMzPTMUCZmZmZmfkyQAAAAAAAIDRAZmZmZmZGNUDMzMzMzGw2QA==\",\"dtype\":\"float64\",\"shape\":[20]},\"hour_count\":[863,420,296,316,483,710,2428,1051,1070,1246,1456,1497,1771,4558,2267,2028,1521,1302,1108,1626],\"left\":{\"__ndarray__\":\"AAAAAAAAAABmZmZmZmbyP2ZmZmZmZgJAmZmZmZmZC0BmZmZmZmYSQAAAAAAAABdAmZmZmZmZG0CZmZmZmRkgQGZmZmZmZiJAMzMzMzOzJEAAAAAAAAAnQMzMzMzMTClAmZmZmZmZK0BmZmZmZuYtQJmZmZmZGTBAAAAAAABAMUBmZmZmZmYyQMzMzMzMjDNAMzMzMzOzNECZmZmZmdk1QA==\",\"dtype\":\"float64\",\"shape\":[20]},\"right\":{\"__ndarray__\":\"ZmZmZmZm8j9mZmZmZmYCQJmZmZmZmQtAZmZmZmZmEkAAAAAAAAAXQJmZmZmZmRtAmZmZmZkZIEBmZmZmZmYiQDMzMzMzsyRAAAAAAAAAJ0DMzMzMzEwpQJmZmZmZmStAZmZmZmbmLUCZmZmZmRkwQAAAAAAAQDFAZmZmZmZmMkDMzMzMzIwzQDMzMzMzszRAmZmZmZnZNUAAAAAAAAA3QA==\",\"dtype\":\"float64\",\"shape\":[20]},\"top\":[863,420,296,316,483,710,2428,1051,1070,1246,1456,1497,1771,4558,2267,2028,1521,1302,1108,1626]},\"selected\":{\"id\":\"1465\",\"type\":\"Selection\"},\"selection_policy\":{\"id\":\"1481\",\"type\":\"UnionRenderers\"}},\"id\":\"1464\",\"type\":\"ColumnDataSource\"},{\"attributes\":{\"grid_line_color\":{\"value\":null},\"plot\":{\"id\":\"1420\",\"subtype\":\"Figure\",\"type\":\"Plot\"},\"ticker\":{\"id\":\"1429\",\"type\":\"BasicTicker\"}},\"id\":\"1432\",\"type\":\"Grid\"},{\"attributes\":{\"callback\":null,\"data\":{\"hour\":{\"__ndarray__\":\"ZmZmZmZm4j+ZmZmZmZn7PwAAAAAAAAdAmZmZmZkZEEAzMzMzM7MUQMzMzMzMTBlAZmZmZmbmHUAAAAAAAEAhQMzMzMzMjCNAmpmZmZnZJUBmZmZmZiYoQDIzMzMzcypAAAAAAADALEDMzMzMzAwvQMzMzMzMrDBAMzMzMzPTMUCZmZmZmfkyQAAAAAAAIDRAZmZmZmZGNUDMzMzMzGw2QA==\",\"dtype\":\"float64\",\"shape\":[20]},\"hour_count\":[1340,632,475,668,1306,3166,12646,3904,4127,4932,6067,5983,7125,18840,9710,7008,4093,3122,2360,2842],\"left\":{\"__ndarray__\":\"AAAAAAAAAABmZmZmZmbyP2ZmZmZmZgJAmZmZmZmZC0BmZmZmZmYSQAAAAAAAABdAmZmZmZmZG0CZmZmZmRkgQGZmZmZmZiJAMzMzMzOzJEAAAAAAAAAnQMzMzMzMTClAmZmZmZmZK0BmZmZmZuYtQJmZmZmZGTBAAAAAAABAMUBmZmZmZmYyQMzMzMzMjDNAMzMzMzOzNECZmZmZmdk1QA==\",\"dtype\":\"float64\",\"shape\":[20]},\"right\":{\"__ndarray__\":\"ZmZmZmZm8j9mZmZmZmYCQJmZmZmZmQtAZmZmZmZmEkAAAAAAAAAXQJmZmZmZmRtAmZmZmZkZIEBmZmZmZmYiQDMzMzMzsyRAAAAAAAAAJ0DMzMzMzEwpQJmZmZmZmStAZmZmZmbmLUCZmZmZmRkwQAAAAAAAQDFAZmZmZmZmMkDMzMzMzIwzQDMzMzMzszRAmZmZmZnZNUAAAAAAAAA3QA==\",\"dtype\":\"float64\",\"shape\":[20]},\"top\":[1340,632,475,668,1306,3166,12646,3904,4127,4932,6067,5983,7125,18840,9710,7008,4093,3122,2360,2842]},\"selected\":{\"id\":\"1457\",\"type\":\"Selection\"},\"selection_policy\":{\"id\":\"1479\",\"type\":\"UnionRenderers\"}},\"id\":\"1456\",\"type\":\"ColumnDataSource\"},{\"attributes\":{\"bottom\":{\"value\":0},\"fill_alpha\":{\"value\":0.7},\"fill_color\":{\"value\":\"navy\"},\"left\":{\"field\":\"left\"},\"line_alpha\":{\"value\":0.7},\"right\":{\"field\":\"right\"},\"top\":{\"field\":\"top\"}},\"id\":\"1459\",\"type\":\"Quad\"},{\"attributes\":{\"bottom\":{\"value\":0},\"fill_alpha\":{\"value\":0.2},\"fill_color\":{\"value\":\"navy\"},\"left\":{\"field\":\"left\"},\"line_alpha\":{\"value\":0.2},\"line_color\":{\"value\":\"black\"},\"right\":{\"field\":\"right\"},\"top\":{\"field\":\"top\"}},\"id\":\"1461\",\"type\":\"Quad\"},{\"attributes\":{\"source\":{\"id\":\"1456\",\"type\":\"ColumnDataSource\"}},\"id\":\"1463\",\"type\":\"CDSView\"},{\"attributes\":{\"overlay\":{\"id\":\"1447\",\"type\":\"BoxAnnotation\"}},\"id\":\"1441\",\"type\":\"BoxZoomTool\"}],\"root_ids\":[\"1420\"]},\"title\":\"Bokeh Application\",\"version\":\"1.0.0\"}};\n",
       "  var render_items = [{\"docid\":\"4a21558f-9eab-4633-86b4-af27693f1f75\",\"roots\":{\"1420\":\"b9b1ae1e-0c1b-4228-b4d8-2b114b76d095\"}}];\n",
       "  root.Bokeh.embed.embed_items_notebook(docs_json, render_items);\n",
       "\n",
       "  }\n",
       "  if (root.Bokeh !== undefined) {\n",
       "    embed_document(root);\n",
       "  } else {\n",
       "    var attempts = 0;\n",
       "    var timer = setInterval(function(root) {\n",
       "      if (root.Bokeh !== undefined) {\n",
       "        embed_document(root);\n",
       "        clearInterval(timer);\n",
       "      }\n",
       "      attempts++;\n",
       "      if (attempts > 100) {\n",
       "        console.log(\"Bokeh: ERROR: Unable to run BokehJS code because BokehJS library is missing\");\n",
       "        clearInterval(timer);\n",
       "      }\n",
       "    }, 10, root)\n",
       "  }\n",
       "})(window);"
      ],
      "application/vnd.holoviews_exec.v0+json": "",
      "text/html": [
       "<div id='1420' style='display: table; margin: 0 auto;'>\n",
       "\n",
       "\n",
       "\n",
       "\n",
       "\n",
       "  <div class=\"bk-root\" id=\"b9b1ae1e-0c1b-4228-b4d8-2b114b76d095\"></div>\n",
       "</div>"
      ],
      "text/plain": [
       ":Overlay\n",
       "   .Histogram.I  :Histogram   [hour]   (hour_count)\n",
       "   .Histogram.II :Histogram   [hour]   (hour_count)"
      ]
     },
     "execution_count": 72,
     "metadata": {
      "application/vnd.holoviews_exec.v0+json": {
       "id": "1420"
      }
     },
     "output_type": "execute_result"
    }
   ],
   "source": [
    "lacs.hour.hvplot.hist(color='navy').options(alpha=0.7) * hracs.hour.hvplot.hist(color='red').options(alpha=0.7)"
   ]
  },
  {
   "cell_type": "code",
   "execution_count": 73,
   "metadata": {},
   "outputs": [
    {
     "data": {
      "text/plain": [
       "ACCIDENT REPORT                           61.493233\n",
       "NO ACTION REQUIRED                        31.057541\n",
       "DEPARTMENTAL REPORT                        6.999781\n",
       "OTHER (SUPP/FALSE ALARM/FI/LOUD PARTY)     0.228210\n",
       "TRAFFIC CITATION                           0.221235\n",
       "Name: DISPOSITION, dtype: float64"
      ]
     },
     "execution_count": 73,
     "metadata": {},
     "output_type": "execute_result"
    }
   ],
   "source": [
    "lacs.DISPOSITION.value_counts() / len(lacs) * 100"
   ]
  },
  {
   "cell_type": "code",
   "execution_count": 74,
   "metadata": {},
   "outputs": [
    {
     "data": {
      "text/plain": [
       "NO ACTION REQUIRED                        51.400935\n",
       "DEPARTMENTAL REPORT                       24.767106\n",
       "ACCIDENT REPORT                           23.278724\n",
       "OTHER (SUPP/FALSE ALARM/FI/LOUD PARTY)     0.478281\n",
       "TRAFFIC CITATION                           0.074954\n",
       "Name: DISPOSITION, dtype: float64"
      ]
     },
     "execution_count": 74,
     "metadata": {},
     "output_type": "execute_result"
    }
   ],
   "source": [
    "hracs.DISPOSITION.value_counts() / len(hracs) * 100"
   ]
  },
  {
   "cell_type": "code",
   "execution_count": 75,
   "metadata": {},
   "outputs": [
    {
     "data": {
      "text/plain": [
       "ACCIDENT NO INJURIES      81.209017\n",
       "ACCIDENT WITH INJURIES    18.576725\n",
       "ACCIDENT FATALITY          0.214259\n",
       "Name: FINAL_CALL_TYPE, dtype: float64"
      ]
     },
     "execution_count": 75,
     "metadata": {},
     "output_type": "execute_result"
    }
   ],
   "source": [
    "lacs.FINAL_CALL_TYPE.value_counts() / len(lacs) * 100"
   ]
  },
  {
   "cell_type": "code",
   "execution_count": 76,
   "metadata": {},
   "outputs": [
    {
     "data": {
      "text/plain": [
       "HIT & RUN ACCIDENT NO INJURY        93.550344\n",
       "HIT & RUN ACCIDENT WITH INJURIES     6.356855\n",
       "HIT & RUN  FATALITY                  0.092801\n",
       "Name: FINAL_CALL_TYPE, dtype: float64"
      ]
     },
     "execution_count": 76,
     "metadata": {},
     "output_type": "execute_result"
    }
   ],
   "source": [
    "hracs.FINAL_CALL_TYPE.value_counts() / len(hracs) * 100"
   ]
  },
  {
   "cell_type": "code",
   "execution_count": 77,
   "metadata": {},
   "outputs": [
    {
     "data": {
      "text/plain": [
       "0.2182638299198367"
      ]
     },
     "execution_count": 77,
     "metadata": {},
     "output_type": "execute_result"
    }
   ],
   "source": [
    "len(hracs) / (len(hracs) + len(lacs))"
   ]
  },
  {
   "cell_type": "code",
   "execution_count": 78,
   "metadata": {},
   "outputs": [
    {
     "data": {
      "text/plain": [
       "BG27     705\n",
       "BA27     624\n",
       "BG13     603\n",
       "BC19A    590\n",
       "BI23B    569\n",
       "DG29     553\n",
       "CI22     529\n",
       "BC17A    528\n",
       "CA21     522\n",
       "BE11     519\n",
       "BG19     516\n",
       "BG17     516\n",
       "BE31     510\n",
       "AB16     503\n",
       "BI31B    485\n",
       "BE38     484\n",
       "BI29     484\n",
       "BD11     483\n",
       "BG29     479\n",
       "BG11     474\n",
       "BE17     460\n",
       "BI32     458\n",
       "BC13A    458\n",
       "BE35     449\n",
       "CA25     434\n",
       "BC29A    426\n",
       "BG21A    418\n",
       "CA23B    416\n",
       "BI21     414\n",
       "CG21     404\n",
       "        ... \n",
       "HA16       1\n",
       "EH14       1\n",
       "IH29       1\n",
       "EF39       1\n",
       "EE28       1\n",
       "HA17       1\n",
       "JA28       1\n",
       "DE30       1\n",
       "EI18       1\n",
       "JA27       1\n",
       "AJ10       1\n",
       "FI37       1\n",
       "CI20B      1\n",
       "AF08       1\n",
       "EE40       1\n",
       "JC22       1\n",
       "JD26       1\n",
       "EH34       1\n",
       "AE14       1\n",
       "EI15       1\n",
       "FG42       1\n",
       "AC10       1\n",
       "CC18       1\n",
       "GC18       1\n",
       "FC13       1\n",
       "EF34       1\n",
       "GF12       1\n",
       "EI34       1\n",
       "IC12       1\n",
       "EI17       1\n",
       "Name: GRID, Length: 1669, dtype: int64"
      ]
     },
     "execution_count": 78,
     "metadata": {},
     "output_type": "execute_result"
    }
   ],
   "source": [
    "df.GRID.value_counts()"
   ]
  },
  {
   "cell_type": "code",
   "execution_count": null,
   "metadata": {},
   "outputs": [],
   "source": []
  }
 ],
 "metadata": {
  "kernelspec": {
   "display_name": "Python 3",
   "language": "python",
   "name": "python3"
  },
  "language_info": {
   "codemirror_mode": {
    "name": "ipython",
    "version": 3
   },
   "file_extension": ".py",
   "mimetype": "text/x-python",
   "name": "python",
   "nbconvert_exporter": "python",
   "pygments_lexer": "ipython3",
   "version": "3.7.1"
  }
 },
 "nbformat": 4,
 "nbformat_minor": 2
}
