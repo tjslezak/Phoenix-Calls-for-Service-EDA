{
 "cells": [
  {
   "cell_type": "code",
   "execution_count": 101,
   "metadata": {},
   "outputs": [],
   "source": [
    "import pandas as pd\n",
    "import hvplot.pandas\n",
    "import numpy as np\n",
    "import urllib"
   ]
  },
  {
   "cell_type": "code",
   "execution_count": null,
   "metadata": {},
   "outputs": [],
   "source": [
    "tempe = 'http://data-tempegov.opendata.arcgis.com/datasets/ba76da19a5274301bb8a010483aec14a_0.csv'\n",
    "scottsdale = 'http://data.scottsdaleaz.gov:8000/spd_PDCallsForServic_2017_1.csv'"
   ]
  },
  {
   "cell_type": "code",
   "execution_count": 228,
   "metadata": {},
   "outputs": [],
   "source": [
    "def get_scottsdale_cfs(ext='csv'):\n",
    "    base_url = 'http://data.scottsdaleaz.gov:8000/spd_PDCallsForServic_'\n",
    "    one = 1\n",
    "    for year in range(2017, 2020):\n",
    "        for month in range(1, 13):\n",
    "            yearmonth = '{year}_{month}.{ext}'.format(year=year, month=month, ext=ext)\n",
    "            url = base_url + yearmonth\n",
    "            if one > 0:\n",
    "                try:\n",
    "                    df = pd.read_csv(url, parse_dates=['Create Date'])\n",
    "                    one -= 1\n",
    "                    month0, year0 = month, year\n",
    "                except:\n",
    "                    print(yearmonth, 'doesn\\'t exist')\n",
    "                    continue\n",
    "            elif one < 1:\n",
    "                try:\n",
    "                    df2 = pd.read_csv(url, parse_dates=['Create Date'])\n",
    "                    df = df.merge(df2, how='outer')\n",
    "                except:\n",
    "                    print('Collected', len(df), 'records, from {}/{} up to {}/{}.'.format(month0, year0, month-1, year))\n",
    "                    df.rename(columns={'Create Date': 'dt'}, inplace=True)\n",
    "                    df.set_index('dt', inplace=True)\n",
    "                    break\n",
    "    return df\n",
    "\n",
    "def get_chandler_cfs():\n",
    "    base_url = 'https://data.chandlerpd.com/catalog/calls-for-service-'\n",
    "    dfs = dict()\n",
    "    for year in range(2013, 2020):\n",
    "        year_id = '{year}/download/csv'.format(year=str(year))\n",
    "        url = base_url + year_id\n",
    "        if year == 2013:\n",
    "            df = pd.read_csv(url)\n",
    "        else:\n",
    "            df2 = pd.read_csv(url)\n",
    "            df = df.merge(df2, how='outer')\n",
    "        print('Completed', year)\n",
    "    return df"
   ]
  },
  {
   "cell_type": "code",
   "execution_count": null,
   "metadata": {},
   "outputs": [],
   "source": [
    "df = df.merge(df2, how='outer')"
   ]
  },
  {
   "cell_type": "code",
   "execution_count": 220,
   "metadata": {},
   "outputs": [
    {
     "name": "stdout",
     "output_type": "stream",
     "text": [
      "Completed 2013\n",
      "Completed 2014\n",
      "Completed 2015\n",
      "Completed 2016\n",
      "Completed 2017\n"
     ]
    },
    {
     "name": "stderr",
     "output_type": "stream",
     "text": [
      "/Users/tjs/anaconda3/lib/python3.7/site-packages/IPython/core/interactiveshell.py:3185: DtypeWarning: Columns (8,9) have mixed types. Specify dtype option on import or set low_memory=False.\n",
      "  if (yield from self.run_code(code, result)):\n"
     ]
    },
    {
     "name": "stdout",
     "output_type": "stream",
     "text": [
      "Completed 2018\n",
      "Completed 2019\n"
     ]
    }
   ],
   "source": [
    "dfs = get_chandler_cfs()"
   ]
  },
  {
   "cell_type": "code",
   "execution_count": 226,
   "metadata": {},
   "outputs": [
    {
     "ename": "ValueError",
     "evalue": "You are trying to merge on object and float64 columns. If you wish to proceed you should use pd.concat",
     "output_type": "error",
     "traceback": [
      "\u001b[0;31m---------------------------------------------------------------------------\u001b[0m",
      "\u001b[0;31mValueError\u001b[0m                                Traceback (most recent call last)",
      "\u001b[0;32m<ipython-input-226-f62c0467fbcd>\u001b[0m in \u001b[0;36m<module>\u001b[0;34m\u001b[0m\n\u001b[1;32m      2\u001b[0m \u001b[0;32mfor\u001b[0m \u001b[0myear\u001b[0m \u001b[0;32min\u001b[0m \u001b[0mrange\u001b[0m\u001b[0;34m(\u001b[0m\u001b[0;36m2014\u001b[0m\u001b[0;34m,\u001b[0m \u001b[0;36m2020\u001b[0m\u001b[0;34m)\u001b[0m\u001b[0;34m:\u001b[0m\u001b[0;34m\u001b[0m\u001b[0;34m\u001b[0m\u001b[0m\n\u001b[1;32m      3\u001b[0m     \u001b[0mdf2\u001b[0m \u001b[0;34m=\u001b[0m \u001b[0mdfs\u001b[0m\u001b[0;34m.\u001b[0m\u001b[0mget\u001b[0m\u001b[0;34m(\u001b[0m\u001b[0mstr\u001b[0m\u001b[0;34m(\u001b[0m\u001b[0myear\u001b[0m\u001b[0;34m)\u001b[0m\u001b[0;34m)\u001b[0m\u001b[0;34m\u001b[0m\u001b[0;34m\u001b[0m\u001b[0m\n\u001b[0;32m----> 4\u001b[0;31m     \u001b[0mdf\u001b[0m \u001b[0;34m=\u001b[0m \u001b[0mdf\u001b[0m\u001b[0;34m.\u001b[0m\u001b[0mmerge\u001b[0m\u001b[0;34m(\u001b[0m\u001b[0mdf2\u001b[0m\u001b[0;34m,\u001b[0m \u001b[0mhow\u001b[0m\u001b[0;34m=\u001b[0m\u001b[0;34m'outer'\u001b[0m\u001b[0;34m)\u001b[0m\u001b[0;34m\u001b[0m\u001b[0;34m\u001b[0m\u001b[0m\n\u001b[0m",
      "\u001b[0;32m~/anaconda3/lib/python3.7/site-packages/pandas/core/frame.py\u001b[0m in \u001b[0;36mmerge\u001b[0;34m(self, right, how, on, left_on, right_on, left_index, right_index, sort, suffixes, copy, indicator, validate)\u001b[0m\n\u001b[1;32m   6875\u001b[0m                      \u001b[0mright_on\u001b[0m\u001b[0;34m=\u001b[0m\u001b[0mright_on\u001b[0m\u001b[0;34m,\u001b[0m \u001b[0mleft_index\u001b[0m\u001b[0;34m=\u001b[0m\u001b[0mleft_index\u001b[0m\u001b[0;34m,\u001b[0m\u001b[0;34m\u001b[0m\u001b[0;34m\u001b[0m\u001b[0m\n\u001b[1;32m   6876\u001b[0m                      \u001b[0mright_index\u001b[0m\u001b[0;34m=\u001b[0m\u001b[0mright_index\u001b[0m\u001b[0;34m,\u001b[0m \u001b[0msort\u001b[0m\u001b[0;34m=\u001b[0m\u001b[0msort\u001b[0m\u001b[0;34m,\u001b[0m \u001b[0msuffixes\u001b[0m\u001b[0;34m=\u001b[0m\u001b[0msuffixes\u001b[0m\u001b[0;34m,\u001b[0m\u001b[0;34m\u001b[0m\u001b[0;34m\u001b[0m\u001b[0m\n\u001b[0;32m-> 6877\u001b[0;31m                      copy=copy, indicator=indicator, validate=validate)\n\u001b[0m\u001b[1;32m   6878\u001b[0m \u001b[0;34m\u001b[0m\u001b[0m\n\u001b[1;32m   6879\u001b[0m     \u001b[0;32mdef\u001b[0m \u001b[0mround\u001b[0m\u001b[0;34m(\u001b[0m\u001b[0mself\u001b[0m\u001b[0;34m,\u001b[0m \u001b[0mdecimals\u001b[0m\u001b[0;34m=\u001b[0m\u001b[0;36m0\u001b[0m\u001b[0;34m,\u001b[0m \u001b[0;34m*\u001b[0m\u001b[0margs\u001b[0m\u001b[0;34m,\u001b[0m \u001b[0;34m**\u001b[0m\u001b[0mkwargs\u001b[0m\u001b[0;34m)\u001b[0m\u001b[0;34m:\u001b[0m\u001b[0;34m\u001b[0m\u001b[0;34m\u001b[0m\u001b[0m\n",
      "\u001b[0;32m~/anaconda3/lib/python3.7/site-packages/pandas/core/reshape/merge.py\u001b[0m in \u001b[0;36mmerge\u001b[0;34m(left, right, how, on, left_on, right_on, left_index, right_index, sort, suffixes, copy, indicator, validate)\u001b[0m\n\u001b[1;32m     45\u001b[0m                          \u001b[0mright_index\u001b[0m\u001b[0;34m=\u001b[0m\u001b[0mright_index\u001b[0m\u001b[0;34m,\u001b[0m \u001b[0msort\u001b[0m\u001b[0;34m=\u001b[0m\u001b[0msort\u001b[0m\u001b[0;34m,\u001b[0m \u001b[0msuffixes\u001b[0m\u001b[0;34m=\u001b[0m\u001b[0msuffixes\u001b[0m\u001b[0;34m,\u001b[0m\u001b[0;34m\u001b[0m\u001b[0;34m\u001b[0m\u001b[0m\n\u001b[1;32m     46\u001b[0m                          \u001b[0mcopy\u001b[0m\u001b[0;34m=\u001b[0m\u001b[0mcopy\u001b[0m\u001b[0;34m,\u001b[0m \u001b[0mindicator\u001b[0m\u001b[0;34m=\u001b[0m\u001b[0mindicator\u001b[0m\u001b[0;34m,\u001b[0m\u001b[0;34m\u001b[0m\u001b[0;34m\u001b[0m\u001b[0m\n\u001b[0;32m---> 47\u001b[0;31m                          validate=validate)\n\u001b[0m\u001b[1;32m     48\u001b[0m     \u001b[0;32mreturn\u001b[0m \u001b[0mop\u001b[0m\u001b[0;34m.\u001b[0m\u001b[0mget_result\u001b[0m\u001b[0;34m(\u001b[0m\u001b[0;34m)\u001b[0m\u001b[0;34m\u001b[0m\u001b[0;34m\u001b[0m\u001b[0m\n\u001b[1;32m     49\u001b[0m \u001b[0;34m\u001b[0m\u001b[0m\n",
      "\u001b[0;32m~/anaconda3/lib/python3.7/site-packages/pandas/core/reshape/merge.py\u001b[0m in \u001b[0;36m__init__\u001b[0;34m(self, left, right, how, on, left_on, right_on, axis, left_index, right_index, sort, suffixes, copy, indicator, validate)\u001b[0m\n\u001b[1;32m    531\u001b[0m         \u001b[0;31m# validate the merge keys dtypes. We may need to coerce\u001b[0m\u001b[0;34m\u001b[0m\u001b[0;34m\u001b[0m\u001b[0;34m\u001b[0m\u001b[0m\n\u001b[1;32m    532\u001b[0m         \u001b[0;31m# to avoid incompat dtypes\u001b[0m\u001b[0;34m\u001b[0m\u001b[0;34m\u001b[0m\u001b[0;34m\u001b[0m\u001b[0m\n\u001b[0;32m--> 533\u001b[0;31m         \u001b[0mself\u001b[0m\u001b[0;34m.\u001b[0m\u001b[0m_maybe_coerce_merge_keys\u001b[0m\u001b[0;34m(\u001b[0m\u001b[0;34m)\u001b[0m\u001b[0;34m\u001b[0m\u001b[0;34m\u001b[0m\u001b[0m\n\u001b[0m\u001b[1;32m    534\u001b[0m \u001b[0;34m\u001b[0m\u001b[0m\n\u001b[1;32m    535\u001b[0m         \u001b[0;31m# If argument passed to validate,\u001b[0m\u001b[0;34m\u001b[0m\u001b[0;34m\u001b[0m\u001b[0;34m\u001b[0m\u001b[0m\n",
      "\u001b[0;32m~/anaconda3/lib/python3.7/site-packages/pandas/core/reshape/merge.py\u001b[0m in \u001b[0;36m_maybe_coerce_merge_keys\u001b[0;34m(self)\u001b[0m\n\u001b[1;32m    978\u001b[0m                       (inferred_right in string_types and\n\u001b[1;32m    979\u001b[0m                        inferred_left not in string_types)):\n\u001b[0;32m--> 980\u001b[0;31m                     \u001b[0;32mraise\u001b[0m \u001b[0mValueError\u001b[0m\u001b[0;34m(\u001b[0m\u001b[0mmsg\u001b[0m\u001b[0;34m)\u001b[0m\u001b[0;34m\u001b[0m\u001b[0;34m\u001b[0m\u001b[0m\n\u001b[0m\u001b[1;32m    981\u001b[0m \u001b[0;34m\u001b[0m\u001b[0m\n\u001b[1;32m    982\u001b[0m             \u001b[0;31m# datetimelikes must match exactly\u001b[0m\u001b[0;34m\u001b[0m\u001b[0;34m\u001b[0m\u001b[0;34m\u001b[0m\u001b[0m\n",
      "\u001b[0;31mValueError\u001b[0m: You are trying to merge on object and float64 columns. If you wish to proceed you should use pd.concat"
     ]
    }
   ],
   "source": [
    "df = dfs.get('2013')\n",
    "for year in range(2014, 2020):\n",
    "    df2 = dfs.get(str(year))\n",
    "    df = df.merge(df2, how='outer')"
   ]
  },
  {
   "cell_type": "code",
   "execution_count": 225,
   "metadata": {},
   "outputs": [
    {
     "name": "stdout",
     "output_type": "stream",
     "text": [
      "<class 'pandas.core.frame.DataFrame'>\n",
      "Int64Index: 1046878 entries, 0 to 1046877\n",
      "Columns: 162 entries, ID_x to Call Travel Time\n",
      "dtypes: datetime64[ns](1), float64(75), object(86)\n",
      "memory usage: 1.3+ GB\n"
     ]
    }
   ],
   "source": [
    "df.info()"
   ]
  },
  {
   "cell_type": "code",
   "execution_count": null,
   "metadata": {},
   "outputs": [],
   "source": [
    "chandler.info()"
   ]
  },
  {
   "cell_type": "code",
   "execution_count": 214,
   "metadata": {},
   "outputs": [
    {
     "data": {
      "text/plain": [
       "'/var/folders/5y/54k2crn973jd68wj5j3vzf_m0000gn/T/tmp7o65nu2l'"
      ]
     },
     "execution_count": 214,
     "metadata": {},
     "output_type": "execute_result"
    }
   ],
   "source": [
    "import urllib\n",
    "url = 'https://data.chandlerpd.com/catalog/calls-for-service-2019.csv'\n",
    "data = pd.read_csv(url)"
   ]
  },
  {
   "cell_type": "code",
   "execution_count": 186,
   "metadata": {},
   "outputs": [
    {
     "data": {
      "text/plain": [
       "[2013, 2014, 2015, 2016, 2017, 2018, 2019]"
      ]
     },
     "execution_count": 186,
     "metadata": {},
     "output_type": "execute_result"
    }
   ],
   "source": [
    "a = range(2013, 2020)\n",
    "list(a)"
   ]
  },
  {
   "cell_type": "code",
   "execution_count": 177,
   "metadata": {},
   "outputs": [
    {
     "ename": "HTTPError",
     "evalue": "HTTP Error 404: Not Found",
     "output_type": "error",
     "traceback": [
      "\u001b[0;31m---------------------------------------------------------------------------\u001b[0m",
      "\u001b[0;31mHTTPError\u001b[0m                                 Traceback (most recent call last)",
      "\u001b[0;32m<ipython-input-177-d00db556e42f>\u001b[0m in \u001b[0;36m<module>\u001b[0;34m\u001b[0m\n\u001b[0;32m----> 1\u001b[0;31m \u001b[0mcdf\u001b[0m \u001b[0;34m=\u001b[0m \u001b[0mpd\u001b[0m\u001b[0;34m.\u001b[0m\u001b[0mread_csv\u001b[0m\u001b[0;34m(\u001b[0m\u001b[0;34m'https://data.chandlerpd.com/catalog/calls-for-service-2013.csv'\u001b[0m\u001b[0;34m)\u001b[0m\u001b[0;34m\u001b[0m\u001b[0;34m\u001b[0m\u001b[0m\n\u001b[0m",
      "\u001b[0;32m~/anaconda3/lib/python3.7/site-packages/pandas/io/parsers.py\u001b[0m in \u001b[0;36mparser_f\u001b[0;34m(filepath_or_buffer, sep, delimiter, header, names, index_col, usecols, squeeze, prefix, mangle_dupe_cols, dtype, engine, converters, true_values, false_values, skipinitialspace, skiprows, skipfooter, nrows, na_values, keep_default_na, na_filter, verbose, skip_blank_lines, parse_dates, infer_datetime_format, keep_date_col, date_parser, dayfirst, iterator, chunksize, compression, thousands, decimal, lineterminator, quotechar, quoting, doublequote, escapechar, comment, encoding, dialect, tupleize_cols, error_bad_lines, warn_bad_lines, delim_whitespace, low_memory, memory_map, float_precision)\u001b[0m\n\u001b[1;32m    695\u001b[0m                     skip_blank_lines=skip_blank_lines)\n\u001b[1;32m    696\u001b[0m \u001b[0;34m\u001b[0m\u001b[0m\n\u001b[0;32m--> 697\u001b[0;31m         \u001b[0;32mreturn\u001b[0m \u001b[0m_read\u001b[0m\u001b[0;34m(\u001b[0m\u001b[0mfilepath_or_buffer\u001b[0m\u001b[0;34m,\u001b[0m \u001b[0mkwds\u001b[0m\u001b[0;34m)\u001b[0m\u001b[0;34m\u001b[0m\u001b[0;34m\u001b[0m\u001b[0m\n\u001b[0m\u001b[1;32m    698\u001b[0m \u001b[0;34m\u001b[0m\u001b[0m\n\u001b[1;32m    699\u001b[0m     \u001b[0mparser_f\u001b[0m\u001b[0;34m.\u001b[0m\u001b[0m__name__\u001b[0m \u001b[0;34m=\u001b[0m \u001b[0mname\u001b[0m\u001b[0;34m\u001b[0m\u001b[0;34m\u001b[0m\u001b[0m\n",
      "\u001b[0;32m~/anaconda3/lib/python3.7/site-packages/pandas/io/parsers.py\u001b[0m in \u001b[0;36m_read\u001b[0;34m(filepath_or_buffer, kwds)\u001b[0m\n\u001b[1;32m    406\u001b[0m     \u001b[0mcompression\u001b[0m \u001b[0;34m=\u001b[0m \u001b[0m_infer_compression\u001b[0m\u001b[0;34m(\u001b[0m\u001b[0mfilepath_or_buffer\u001b[0m\u001b[0;34m,\u001b[0m \u001b[0mcompression\u001b[0m\u001b[0;34m)\u001b[0m\u001b[0;34m\u001b[0m\u001b[0;34m\u001b[0m\u001b[0m\n\u001b[1;32m    407\u001b[0m     filepath_or_buffer, _, compression, should_close = get_filepath_or_buffer(\n\u001b[0;32m--> 408\u001b[0;31m         filepath_or_buffer, encoding, compression)\n\u001b[0m\u001b[1;32m    409\u001b[0m     \u001b[0mkwds\u001b[0m\u001b[0;34m[\u001b[0m\u001b[0;34m'compression'\u001b[0m\u001b[0;34m]\u001b[0m \u001b[0;34m=\u001b[0m \u001b[0mcompression\u001b[0m\u001b[0;34m\u001b[0m\u001b[0;34m\u001b[0m\u001b[0m\n\u001b[1;32m    410\u001b[0m \u001b[0;34m\u001b[0m\u001b[0m\n",
      "\u001b[0;32m~/anaconda3/lib/python3.7/site-packages/pandas/io/common.py\u001b[0m in \u001b[0;36mget_filepath_or_buffer\u001b[0;34m(filepath_or_buffer, encoding, compression, mode)\u001b[0m\n\u001b[1;32m    200\u001b[0m \u001b[0;34m\u001b[0m\u001b[0m\n\u001b[1;32m    201\u001b[0m     \u001b[0;32mif\u001b[0m \u001b[0m_is_url\u001b[0m\u001b[0;34m(\u001b[0m\u001b[0mfilepath_or_buffer\u001b[0m\u001b[0;34m)\u001b[0m\u001b[0;34m:\u001b[0m\u001b[0;34m\u001b[0m\u001b[0;34m\u001b[0m\u001b[0m\n\u001b[0;32m--> 202\u001b[0;31m         \u001b[0mreq\u001b[0m \u001b[0;34m=\u001b[0m \u001b[0m_urlopen\u001b[0m\u001b[0;34m(\u001b[0m\u001b[0mfilepath_or_buffer\u001b[0m\u001b[0;34m)\u001b[0m\u001b[0;34m\u001b[0m\u001b[0;34m\u001b[0m\u001b[0m\n\u001b[0m\u001b[1;32m    203\u001b[0m         \u001b[0mcontent_encoding\u001b[0m \u001b[0;34m=\u001b[0m \u001b[0mreq\u001b[0m\u001b[0;34m.\u001b[0m\u001b[0mheaders\u001b[0m\u001b[0;34m.\u001b[0m\u001b[0mget\u001b[0m\u001b[0;34m(\u001b[0m\u001b[0;34m'Content-Encoding'\u001b[0m\u001b[0;34m,\u001b[0m \u001b[0;32mNone\u001b[0m\u001b[0;34m)\u001b[0m\u001b[0;34m\u001b[0m\u001b[0;34m\u001b[0m\u001b[0m\n\u001b[1;32m    204\u001b[0m         \u001b[0;32mif\u001b[0m \u001b[0mcontent_encoding\u001b[0m \u001b[0;34m==\u001b[0m \u001b[0;34m'gzip'\u001b[0m\u001b[0;34m:\u001b[0m\u001b[0;34m\u001b[0m\u001b[0;34m\u001b[0m\u001b[0m\n",
      "\u001b[0;32m~/anaconda3/lib/python3.7/urllib/request.py\u001b[0m in \u001b[0;36murlopen\u001b[0;34m(url, data, timeout, cafile, capath, cadefault, context)\u001b[0m\n\u001b[1;32m    220\u001b[0m     \u001b[0;32melse\u001b[0m\u001b[0;34m:\u001b[0m\u001b[0;34m\u001b[0m\u001b[0;34m\u001b[0m\u001b[0m\n\u001b[1;32m    221\u001b[0m         \u001b[0mopener\u001b[0m \u001b[0;34m=\u001b[0m \u001b[0m_opener\u001b[0m\u001b[0;34m\u001b[0m\u001b[0;34m\u001b[0m\u001b[0m\n\u001b[0;32m--> 222\u001b[0;31m     \u001b[0;32mreturn\u001b[0m \u001b[0mopener\u001b[0m\u001b[0;34m.\u001b[0m\u001b[0mopen\u001b[0m\u001b[0;34m(\u001b[0m\u001b[0murl\u001b[0m\u001b[0;34m,\u001b[0m \u001b[0mdata\u001b[0m\u001b[0;34m,\u001b[0m \u001b[0mtimeout\u001b[0m\u001b[0;34m)\u001b[0m\u001b[0;34m\u001b[0m\u001b[0;34m\u001b[0m\u001b[0m\n\u001b[0m\u001b[1;32m    223\u001b[0m \u001b[0;34m\u001b[0m\u001b[0m\n\u001b[1;32m    224\u001b[0m \u001b[0;32mdef\u001b[0m \u001b[0minstall_opener\u001b[0m\u001b[0;34m(\u001b[0m\u001b[0mopener\u001b[0m\u001b[0;34m)\u001b[0m\u001b[0;34m:\u001b[0m\u001b[0;34m\u001b[0m\u001b[0;34m\u001b[0m\u001b[0m\n",
      "\u001b[0;32m~/anaconda3/lib/python3.7/urllib/request.py\u001b[0m in \u001b[0;36mopen\u001b[0;34m(self, fullurl, data, timeout)\u001b[0m\n\u001b[1;32m    529\u001b[0m         \u001b[0;32mfor\u001b[0m \u001b[0mprocessor\u001b[0m \u001b[0;32min\u001b[0m \u001b[0mself\u001b[0m\u001b[0;34m.\u001b[0m\u001b[0mprocess_response\u001b[0m\u001b[0;34m.\u001b[0m\u001b[0mget\u001b[0m\u001b[0;34m(\u001b[0m\u001b[0mprotocol\u001b[0m\u001b[0;34m,\u001b[0m \u001b[0;34m[\u001b[0m\u001b[0;34m]\u001b[0m\u001b[0;34m)\u001b[0m\u001b[0;34m:\u001b[0m\u001b[0;34m\u001b[0m\u001b[0;34m\u001b[0m\u001b[0m\n\u001b[1;32m    530\u001b[0m             \u001b[0mmeth\u001b[0m \u001b[0;34m=\u001b[0m \u001b[0mgetattr\u001b[0m\u001b[0;34m(\u001b[0m\u001b[0mprocessor\u001b[0m\u001b[0;34m,\u001b[0m \u001b[0mmeth_name\u001b[0m\u001b[0;34m)\u001b[0m\u001b[0;34m\u001b[0m\u001b[0;34m\u001b[0m\u001b[0m\n\u001b[0;32m--> 531\u001b[0;31m             \u001b[0mresponse\u001b[0m \u001b[0;34m=\u001b[0m \u001b[0mmeth\u001b[0m\u001b[0;34m(\u001b[0m\u001b[0mreq\u001b[0m\u001b[0;34m,\u001b[0m \u001b[0mresponse\u001b[0m\u001b[0;34m)\u001b[0m\u001b[0;34m\u001b[0m\u001b[0;34m\u001b[0m\u001b[0m\n\u001b[0m\u001b[1;32m    532\u001b[0m \u001b[0;34m\u001b[0m\u001b[0m\n\u001b[1;32m    533\u001b[0m         \u001b[0;32mreturn\u001b[0m \u001b[0mresponse\u001b[0m\u001b[0;34m\u001b[0m\u001b[0;34m\u001b[0m\u001b[0m\n",
      "\u001b[0;32m~/anaconda3/lib/python3.7/urllib/request.py\u001b[0m in \u001b[0;36mhttp_response\u001b[0;34m(self, request, response)\u001b[0m\n\u001b[1;32m    639\u001b[0m         \u001b[0;32mif\u001b[0m \u001b[0;32mnot\u001b[0m \u001b[0;34m(\u001b[0m\u001b[0;36m200\u001b[0m \u001b[0;34m<=\u001b[0m \u001b[0mcode\u001b[0m \u001b[0;34m<\u001b[0m \u001b[0;36m300\u001b[0m\u001b[0;34m)\u001b[0m\u001b[0;34m:\u001b[0m\u001b[0;34m\u001b[0m\u001b[0;34m\u001b[0m\u001b[0m\n\u001b[1;32m    640\u001b[0m             response = self.parent.error(\n\u001b[0;32m--> 641\u001b[0;31m                 'http', request, response, code, msg, hdrs)\n\u001b[0m\u001b[1;32m    642\u001b[0m \u001b[0;34m\u001b[0m\u001b[0m\n\u001b[1;32m    643\u001b[0m         \u001b[0;32mreturn\u001b[0m \u001b[0mresponse\u001b[0m\u001b[0;34m\u001b[0m\u001b[0;34m\u001b[0m\u001b[0m\n",
      "\u001b[0;32m~/anaconda3/lib/python3.7/urllib/request.py\u001b[0m in \u001b[0;36merror\u001b[0;34m(self, proto, *args)\u001b[0m\n\u001b[1;32m    567\u001b[0m         \u001b[0;32mif\u001b[0m \u001b[0mhttp_err\u001b[0m\u001b[0;34m:\u001b[0m\u001b[0;34m\u001b[0m\u001b[0;34m\u001b[0m\u001b[0m\n\u001b[1;32m    568\u001b[0m             \u001b[0margs\u001b[0m \u001b[0;34m=\u001b[0m \u001b[0;34m(\u001b[0m\u001b[0mdict\u001b[0m\u001b[0;34m,\u001b[0m \u001b[0;34m'default'\u001b[0m\u001b[0;34m,\u001b[0m \u001b[0;34m'http_error_default'\u001b[0m\u001b[0;34m)\u001b[0m \u001b[0;34m+\u001b[0m \u001b[0morig_args\u001b[0m\u001b[0;34m\u001b[0m\u001b[0;34m\u001b[0m\u001b[0m\n\u001b[0;32m--> 569\u001b[0;31m             \u001b[0;32mreturn\u001b[0m \u001b[0mself\u001b[0m\u001b[0;34m.\u001b[0m\u001b[0m_call_chain\u001b[0m\u001b[0;34m(\u001b[0m\u001b[0;34m*\u001b[0m\u001b[0margs\u001b[0m\u001b[0;34m)\u001b[0m\u001b[0;34m\u001b[0m\u001b[0;34m\u001b[0m\u001b[0m\n\u001b[0m\u001b[1;32m    570\u001b[0m \u001b[0;34m\u001b[0m\u001b[0m\n\u001b[1;32m    571\u001b[0m \u001b[0;31m# XXX probably also want an abstract factory that knows when it makes\u001b[0m\u001b[0;34m\u001b[0m\u001b[0;34m\u001b[0m\u001b[0;34m\u001b[0m\u001b[0m\n",
      "\u001b[0;32m~/anaconda3/lib/python3.7/urllib/request.py\u001b[0m in \u001b[0;36m_call_chain\u001b[0;34m(self, chain, kind, meth_name, *args)\u001b[0m\n\u001b[1;32m    501\u001b[0m         \u001b[0;32mfor\u001b[0m \u001b[0mhandler\u001b[0m \u001b[0;32min\u001b[0m \u001b[0mhandlers\u001b[0m\u001b[0;34m:\u001b[0m\u001b[0;34m\u001b[0m\u001b[0;34m\u001b[0m\u001b[0m\n\u001b[1;32m    502\u001b[0m             \u001b[0mfunc\u001b[0m \u001b[0;34m=\u001b[0m \u001b[0mgetattr\u001b[0m\u001b[0;34m(\u001b[0m\u001b[0mhandler\u001b[0m\u001b[0;34m,\u001b[0m \u001b[0mmeth_name\u001b[0m\u001b[0;34m)\u001b[0m\u001b[0;34m\u001b[0m\u001b[0;34m\u001b[0m\u001b[0m\n\u001b[0;32m--> 503\u001b[0;31m             \u001b[0mresult\u001b[0m \u001b[0;34m=\u001b[0m \u001b[0mfunc\u001b[0m\u001b[0;34m(\u001b[0m\u001b[0;34m*\u001b[0m\u001b[0margs\u001b[0m\u001b[0;34m)\u001b[0m\u001b[0;34m\u001b[0m\u001b[0;34m\u001b[0m\u001b[0m\n\u001b[0m\u001b[1;32m    504\u001b[0m             \u001b[0;32mif\u001b[0m \u001b[0mresult\u001b[0m \u001b[0;32mis\u001b[0m \u001b[0;32mnot\u001b[0m \u001b[0;32mNone\u001b[0m\u001b[0;34m:\u001b[0m\u001b[0;34m\u001b[0m\u001b[0;34m\u001b[0m\u001b[0m\n\u001b[1;32m    505\u001b[0m                 \u001b[0;32mreturn\u001b[0m \u001b[0mresult\u001b[0m\u001b[0;34m\u001b[0m\u001b[0;34m\u001b[0m\u001b[0m\n",
      "\u001b[0;32m~/anaconda3/lib/python3.7/urllib/request.py\u001b[0m in \u001b[0;36mhttp_error_default\u001b[0;34m(self, req, fp, code, msg, hdrs)\u001b[0m\n\u001b[1;32m    647\u001b[0m \u001b[0;32mclass\u001b[0m \u001b[0mHTTPDefaultErrorHandler\u001b[0m\u001b[0;34m(\u001b[0m\u001b[0mBaseHandler\u001b[0m\u001b[0;34m)\u001b[0m\u001b[0;34m:\u001b[0m\u001b[0;34m\u001b[0m\u001b[0;34m\u001b[0m\u001b[0m\n\u001b[1;32m    648\u001b[0m     \u001b[0;32mdef\u001b[0m \u001b[0mhttp_error_default\u001b[0m\u001b[0;34m(\u001b[0m\u001b[0mself\u001b[0m\u001b[0;34m,\u001b[0m \u001b[0mreq\u001b[0m\u001b[0;34m,\u001b[0m \u001b[0mfp\u001b[0m\u001b[0;34m,\u001b[0m \u001b[0mcode\u001b[0m\u001b[0;34m,\u001b[0m \u001b[0mmsg\u001b[0m\u001b[0;34m,\u001b[0m \u001b[0mhdrs\u001b[0m\u001b[0;34m)\u001b[0m\u001b[0;34m:\u001b[0m\u001b[0;34m\u001b[0m\u001b[0;34m\u001b[0m\u001b[0m\n\u001b[0;32m--> 649\u001b[0;31m         \u001b[0;32mraise\u001b[0m \u001b[0mHTTPError\u001b[0m\u001b[0;34m(\u001b[0m\u001b[0mreq\u001b[0m\u001b[0;34m.\u001b[0m\u001b[0mfull_url\u001b[0m\u001b[0;34m,\u001b[0m \u001b[0mcode\u001b[0m\u001b[0;34m,\u001b[0m \u001b[0mmsg\u001b[0m\u001b[0;34m,\u001b[0m \u001b[0mhdrs\u001b[0m\u001b[0;34m,\u001b[0m \u001b[0mfp\u001b[0m\u001b[0;34m)\u001b[0m\u001b[0;34m\u001b[0m\u001b[0;34m\u001b[0m\u001b[0m\n\u001b[0m\u001b[1;32m    650\u001b[0m \u001b[0;34m\u001b[0m\u001b[0m\n\u001b[1;32m    651\u001b[0m \u001b[0;32mclass\u001b[0m \u001b[0mHTTPRedirectHandler\u001b[0m\u001b[0;34m(\u001b[0m\u001b[0mBaseHandler\u001b[0m\u001b[0;34m)\u001b[0m\u001b[0;34m:\u001b[0m\u001b[0;34m\u001b[0m\u001b[0;34m\u001b[0m\u001b[0m\n",
      "\u001b[0;31mHTTPError\u001b[0m: HTTP Error 404: Not Found"
     ]
    }
   ],
   "source": [
    "cdf = pd.read_csv('https://data.chandlerpd.com/catalog/calls-for-service-2013.csv')"
   ]
  },
  {
   "cell_type": "code",
   "execution_count": null,
   "metadata": {},
   "outputs": [],
   "source": [
    "def get_tempe_cfs():\n",
    "    url = 'http://data-tempegov.opendata.arcgis.com/datasets/ba76da19a5274301bb8a010483aec14a_0.csv'\n",
    "    tempe = pd.read_csv(url, parse_dates=['occ_dt'])\n",
    "    \n",
    "    return tempe\n",
    "\n",
    "def get_mesa_cfs():\n",
    "    url = 'https://data.mesaaz.gov/api/views/4k95-x7aw/rows.csv'\n",
    "    mesa = pd.read_csv(url, parse_dates=['Creation Datetime'])\n",
    "    \n",
    "    return mesa\n",
    "\n",
    "def get_gilbert_cfs():\n",
    "    url = 'https://opendata.arcgis.com/datasets/2dcb4c20c9a444f2a5d3dca180b651c9_2.csv'\n",
    "    gilbert = pd.read_csv(url, parse_dates=['EventDate'])\n",
    "    \n",
    "    return gilbert"
   ]
  },
  {
   "cell_type": "code",
   "execution_count": 123,
   "metadata": {},
   "outputs": [
    {
     "name": "stdout",
     "output_type": "stream",
     "text": [
      "Collected 444695 records, from 1/2017 up to 1/2019.\n"
     ]
    }
   ],
   "source": [
    "df = get_scottsdale_cfs()"
   ]
  },
  {
   "cell_type": "code",
   "execution_count": 121,
   "metadata": {},
   "outputs": [
    {
     "name": "stdout",
     "output_type": "stream",
     "text": [
      "<class 'pandas.core.frame.DataFrame'>\n",
      "DatetimeIndex: 444695 entries, 2017-01-15 12:33:02 to 2019-01-20 01:44:46\n",
      "Data columns (total 13 columns):\n",
      "Common Event ID              444695 non-null int64\n",
      "CFS Number                   444695 non-null object\n",
      "Street Directional Prefix    335623 non-null object\n",
      "Street Name                  336881 non-null object\n",
      "Street Type                  320650 non-null object\n",
      "Cross Street #1              194580 non-null object\n",
      "Cross Street #2              201810 non-null object\n",
      "Call Type                    444695 non-null object\n",
      "Call Sub-type                444695 non-null object\n",
      "Call Type English            440100 non-null object\n",
      "Call Sub-type English        139877 non-null object\n",
      "CFS_Type                     444695 non-null object\n",
      "CFS_English                  444695 non-null object\n",
      "dtypes: int64(1), object(12)\n",
      "memory usage: 47.5+ MB\n"
     ]
    }
   ],
   "source": [
    "df.info()"
   ]
  },
  {
   "cell_type": "code",
   "execution_count": 168,
   "metadata": {},
   "outputs": [],
   "source": [
    "def get_tempe_cfs():\n",
    "    url = 'http://data-tempegov.opendata.arcgis.com/datasets/ba76da19a5274301bb8a010483aec14a_0.csv'\n",
    "    tempe = pd.read_csv(url, parse_dates=['occ_dt'])\n",
    "    \n",
    "    return tempe"
   ]
  },
  {
   "cell_type": "code",
   "execution_count": 169,
   "metadata": {},
   "outputs": [],
   "source": [
    "def get_mesa_cfs():\n",
    "    url = 'https://data.mesaaz.gov/api/views/4k95-x7aw/rows.csv'\n",
    "    mesa = pd.read_csv(url, parse_dates=['Creation Datetime'])\n",
    "    \n",
    "    return mesa"
   ]
  },
  {
   "cell_type": "code",
   "execution_count": 170,
   "metadata": {},
   "outputs": [],
   "source": [
    "def get_gilbert_cfs():\n",
    "    url = 'https://opendata.arcgis.com/datasets/2dcb4c20c9a444f2a5d3dca180b651c9_2.csv'\n",
    "    gilbert = pd.read_csv(url, parse_dates=['EventDate'])\n",
    "    \n",
    "    return gilbert"
   ]
  },
  {
   "cell_type": "code",
   "execution_count": null,
   "metadata": {},
   "outputs": [],
   "source": [
    "tempe = get_tempe_cfs()\n",
    "mesa = get_mesa_cfs()\n",
    "gilbert = get_gilbert_cfs()"
   ]
  },
  {
   "cell_type": "code",
   "execution_count": 171,
   "metadata": {},
   "outputs": [],
   "source": []
  },
  {
   "cell_type": "code",
   "execution_count": null,
   "metadata": {},
   "outputs": [],
   "source": []
  },
  {
   "cell_type": "code",
   "execution_count": 174,
   "metadata": {},
   "outputs": [],
   "source": [
    "gdf = pd.read_json('https://opendata.arcgis.com/datasets/2dcb4c20c9a444f2a5d3dca180b651c9_2.geojson')"
   ]
  },
  {
   "cell_type": "code",
   "execution_count": 175,
   "metadata": {},
   "outputs": [
    {
     "data": {
      "text/html": [
       "<div>\n",
       "<style scoped>\n",
       "    .dataframe tbody tr th:only-of-type {\n",
       "        vertical-align: middle;\n",
       "    }\n",
       "\n",
       "    .dataframe tbody tr th {\n",
       "        vertical-align: top;\n",
       "    }\n",
       "\n",
       "    .dataframe thead th {\n",
       "        text-align: right;\n",
       "    }\n",
       "</style>\n",
       "<table border=\"1\" class=\"dataframe\">\n",
       "  <thead>\n",
       "    <tr style=\"text-align: right;\">\n",
       "      <th></th>\n",
       "      <th>type</th>\n",
       "      <th>features</th>\n",
       "    </tr>\n",
       "  </thead>\n",
       "  <tbody>\n",
       "    <tr>\n",
       "      <th>0</th>\n",
       "      <td>FeatureCollection</td>\n",
       "      <td>{'type': 'Feature', 'properties': {'PoliceEven...</td>\n",
       "    </tr>\n",
       "    <tr>\n",
       "      <th>1</th>\n",
       "      <td>FeatureCollection</td>\n",
       "      <td>{'type': 'Feature', 'properties': {'PoliceEven...</td>\n",
       "    </tr>\n",
       "    <tr>\n",
       "      <th>2</th>\n",
       "      <td>FeatureCollection</td>\n",
       "      <td>{'type': 'Feature', 'properties': {'PoliceEven...</td>\n",
       "    </tr>\n",
       "    <tr>\n",
       "      <th>3</th>\n",
       "      <td>FeatureCollection</td>\n",
       "      <td>{'type': 'Feature', 'properties': {'PoliceEven...</td>\n",
       "    </tr>\n",
       "    <tr>\n",
       "      <th>4</th>\n",
       "      <td>FeatureCollection</td>\n",
       "      <td>{'type': 'Feature', 'properties': {'PoliceEven...</td>\n",
       "    </tr>\n",
       "  </tbody>\n",
       "</table>\n",
       "</div>"
      ],
      "text/plain": [
       "                type                                           features\n",
       "0  FeatureCollection  {'type': 'Feature', 'properties': {'PoliceEven...\n",
       "1  FeatureCollection  {'type': 'Feature', 'properties': {'PoliceEven...\n",
       "2  FeatureCollection  {'type': 'Feature', 'properties': {'PoliceEven...\n",
       "3  FeatureCollection  {'type': 'Feature', 'properties': {'PoliceEven...\n",
       "4  FeatureCollection  {'type': 'Feature', 'properties': {'PoliceEven..."
      ]
     },
     "execution_count": 175,
     "metadata": {},
     "output_type": "execute_result"
    }
   ],
   "source": [
    "gdf.head()"
   ]
  },
  {
   "cell_type": "code",
   "execution_count": null,
   "metadata": {},
   "outputs": [],
   "source": [
    "df.rename(columns={'occ_dt': 'dt'}, inplace=True)\n",
    "df.set_index('dt', inplace=True)"
   ]
  },
  {
   "cell_type": "code",
   "execution_count": null,
   "metadata": {},
   "outputs": [],
   "source": [
    "def get_phoenix_cfs():\n",
    "    'https://www.phoenixopendata.com/dataset/64a60154-3b2d-4583-8fb5-6d5e1b469c28/resource/1d536ee6-7ffb-49c3-bffe-5cdd98a3c97e/download/calls-for-service_calls-for-service_callsforservice.csv'"
   ]
  },
  {
   "cell_type": "code",
   "execution_count": 160,
   "metadata": {},
   "outputs": [
    {
     "name": "stdout",
     "output_type": "stream",
     "text": [
      "CPU times: user 1.49 s, sys: 273 ms, total: 1.77 s\n",
      "Wall time: 7.49 s\n"
     ]
    }
   ],
   "source": []
  },
  {
   "cell_type": "code",
   "execution_count": 163,
   "metadata": {},
   "outputs": [
    {
     "data": {
      "text/html": [
       "<div>\n",
       "<style scoped>\n",
       "    .dataframe tbody tr th:only-of-type {\n",
       "        vertical-align: middle;\n",
       "    }\n",
       "\n",
       "    .dataframe tbody tr th {\n",
       "        vertical-align: top;\n",
       "    }\n",
       "\n",
       "    .dataframe thead th {\n",
       "        text-align: right;\n",
       "    }\n",
       "</style>\n",
       "<table border=\"1\" class=\"dataframe\">\n",
       "  <thead>\n",
       "    <tr style=\"text-align: right;\">\n",
       "      <th></th>\n",
       "      <th>Event Number</th>\n",
       "      <th>Creation Datetime</th>\n",
       "      <th>Creation Month</th>\n",
       "      <th>Creation Year</th>\n",
       "      <th>Event Type Code</th>\n",
       "      <th>Event Type Description</th>\n",
       "      <th>Call Priority</th>\n",
       "      <th>Event Address</th>\n",
       "      <th>Street Number</th>\n",
       "      <th>Street Direction</th>\n",
       "      <th>Street Name</th>\n",
       "      <th>Street Type</th>\n",
       "      <th>Latitude</th>\n",
       "      <th>Longitude</th>\n",
       "      <th>Dispatch Group</th>\n",
       "      <th>Division</th>\n",
       "      <th>Response Time Seconds</th>\n",
       "      <th>Response Time Minutes</th>\n",
       "      <th>Location 1</th>\n",
       "    </tr>\n",
       "  </thead>\n",
       "  <tbody>\n",
       "    <tr>\n",
       "      <th>0</th>\n",
       "      <td>P20170010004</td>\n",
       "      <td>01/01/2017 12:02:00 AM</td>\n",
       "      <td>Jan</td>\n",
       "      <td>2017</td>\n",
       "      <td>900</td>\n",
       "      <td>WELFARE CHECK</td>\n",
       "      <td>P3</td>\n",
       "      <td>400 Block of N LESUEUR  MESA</td>\n",
       "      <td>400.0</td>\n",
       "      <td>N</td>\n",
       "      <td>LESUEUR</td>\n",
       "      <td>NaN</td>\n",
       "      <td>33.422611</td>\n",
       "      <td>-111.820437</td>\n",
       "      <td>P2</td>\n",
       "      <td>Central</td>\n",
       "      <td>69</td>\n",
       "      <td>1.15</td>\n",
       "      <td>(33.422611, -111.820437)</td>\n",
       "    </tr>\n",
       "    <tr>\n",
       "      <th>1</th>\n",
       "      <td>P20170010005</td>\n",
       "      <td>01/01/2017 12:03:00 AM</td>\n",
       "      <td>Jan</td>\n",
       "      <td>2017</td>\n",
       "      <td>921</td>\n",
       "      <td>PROWLER</td>\n",
       "      <td>P1</td>\n",
       "      <td>1200 Block of W 6TH DR MESA</td>\n",
       "      <td>1200.0</td>\n",
       "      <td>W</td>\n",
       "      <td>6TH</td>\n",
       "      <td>DR</td>\n",
       "      <td>33.402687</td>\n",
       "      <td>-111.857332</td>\n",
       "      <td>P1</td>\n",
       "      <td>Fiesta</td>\n",
       "      <td>427</td>\n",
       "      <td>7.12</td>\n",
       "      <td>(33.402687, -111.857332)</td>\n",
       "    </tr>\n",
       "    <tr>\n",
       "      <th>2</th>\n",
       "      <td>P20170010008</td>\n",
       "      <td>01/01/2017 12:05:00 AM</td>\n",
       "      <td>Jan</td>\n",
       "      <td>2017</td>\n",
       "      <td>666</td>\n",
       "      <td>SUICIDE</td>\n",
       "      <td>P1</td>\n",
       "      <td>NaN</td>\n",
       "      <td>NaN</td>\n",
       "      <td>NaN</td>\n",
       "      <td>NaN</td>\n",
       "      <td>NaN</td>\n",
       "      <td>NaN</td>\n",
       "      <td>NaN</td>\n",
       "      <td>P4</td>\n",
       "      <td>Superstition</td>\n",
       "      <td>558</td>\n",
       "      <td>9.30</td>\n",
       "      <td>NaN</td>\n",
       "    </tr>\n",
       "    <tr>\n",
       "      <th>3</th>\n",
       "      <td>P20170010010</td>\n",
       "      <td>01/01/2017 12:06:00 AM</td>\n",
       "      <td>Jan</td>\n",
       "      <td>2017</td>\n",
       "      <td>961</td>\n",
       "      <td>ACCIDENT</td>\n",
       "      <td>P1</td>\n",
       "      <td>1600 Block of S DOBSON RD MESA</td>\n",
       "      <td>1600.0</td>\n",
       "      <td>S</td>\n",
       "      <td>DOBSON</td>\n",
       "      <td>RD</td>\n",
       "      <td>33.384051</td>\n",
       "      <td>-111.875400</td>\n",
       "      <td>P1</td>\n",
       "      <td>Fiesta</td>\n",
       "      <td>43</td>\n",
       "      <td>0.72</td>\n",
       "      <td>(33.384051, -111.8754)</td>\n",
       "    </tr>\n",
       "    <tr>\n",
       "      <th>4</th>\n",
       "      <td>P20170010015</td>\n",
       "      <td>01/01/2017 12:09:00 AM</td>\n",
       "      <td>Jan</td>\n",
       "      <td>2017</td>\n",
       "      <td>421</td>\n",
       "      <td>SHOTS FIRED</td>\n",
       "      <td>P1</td>\n",
       "      <td>1700 Block of S SOSSAMAN RD MESA</td>\n",
       "      <td>1700.0</td>\n",
       "      <td>S</td>\n",
       "      <td>SOSSAMAN</td>\n",
       "      <td>RD</td>\n",
       "      <td>33.383873</td>\n",
       "      <td>-111.667177</td>\n",
       "      <td>P4</td>\n",
       "      <td>Superstition</td>\n",
       "      <td>151</td>\n",
       "      <td>2.52</td>\n",
       "      <td>(33.383873, -111.667177)</td>\n",
       "    </tr>\n",
       "  </tbody>\n",
       "</table>\n",
       "</div>"
      ],
      "text/plain": [
       "   Event Number       Creation Datetime Creation Month  Creation Year  \\\n",
       "0  P20170010004  01/01/2017 12:02:00 AM            Jan           2017   \n",
       "1  P20170010005  01/01/2017 12:03:00 AM            Jan           2017   \n",
       "2  P20170010008  01/01/2017 12:05:00 AM            Jan           2017   \n",
       "3  P20170010010  01/01/2017 12:06:00 AM            Jan           2017   \n",
       "4  P20170010015  01/01/2017 12:09:00 AM            Jan           2017   \n",
       "\n",
       "  Event Type Code Event Type Description Call Priority  \\\n",
       "0             900          WELFARE CHECK            P3   \n",
       "1             921                PROWLER            P1   \n",
       "2             666                SUICIDE            P1   \n",
       "3             961               ACCIDENT            P1   \n",
       "4             421            SHOTS FIRED            P1   \n",
       "\n",
       "                      Event Address  Street Number Street Direction  \\\n",
       "0      400 Block of N LESUEUR  MESA          400.0                N   \n",
       "1       1200 Block of W 6TH DR MESA         1200.0                W   \n",
       "2                               NaN            NaN              NaN   \n",
       "3    1600 Block of S DOBSON RD MESA         1600.0                S   \n",
       "4  1700 Block of S SOSSAMAN RD MESA         1700.0                S   \n",
       "\n",
       "  Street Name Street Type   Latitude   Longitude Dispatch Group      Division  \\\n",
       "0     LESUEUR         NaN  33.422611 -111.820437             P2       Central   \n",
       "1         6TH          DR  33.402687 -111.857332             P1        Fiesta   \n",
       "2         NaN         NaN        NaN         NaN             P4  Superstition   \n",
       "3      DOBSON          RD  33.384051 -111.875400             P1        Fiesta   \n",
       "4    SOSSAMAN          RD  33.383873 -111.667177             P4  Superstition   \n",
       "\n",
       "   Response Time Seconds  Response Time Minutes                Location 1  \n",
       "0                     69                   1.15  (33.422611, -111.820437)  \n",
       "1                    427                   7.12  (33.402687, -111.857332)  \n",
       "2                    558                   9.30                       NaN  \n",
       "3                     43                   0.72    (33.384051, -111.8754)  \n",
       "4                    151                   2.52  (33.383873, -111.667177)  "
      ]
     },
     "execution_count": 163,
     "metadata": {},
     "output_type": "execute_result"
    }
   ],
   "source": [
    "mesa.head()"
   ]
  },
  {
   "cell_type": "code",
   "execution_count": 156,
   "metadata": {},
   "outputs": [
    {
     "ename": "TypeError",
     "evalue": "object of type 'JsonReader' has no len()",
     "output_type": "error",
     "traceback": [
      "\u001b[0;31m---------------------------------------------------------------------------\u001b[0m",
      "\u001b[0;31mTypeError\u001b[0m                                 Traceback (most recent call last)",
      "\u001b[0;32m<ipython-input-156-04c1c3f10249>\u001b[0m in \u001b[0;36m<module>\u001b[0;34m\u001b[0m\n\u001b[0;32m----> 1\u001b[0;31m \u001b[0mlen\u001b[0m\u001b[0;34m(\u001b[0m\u001b[0mmesa\u001b[0m\u001b[0;34m)\u001b[0m\u001b[0;34m\u001b[0m\u001b[0;34m\u001b[0m\u001b[0m\n\u001b[0m",
      "\u001b[0;31mTypeError\u001b[0m: object of type 'JsonReader' has no len()"
     ]
    }
   ],
   "source": [
    "len(mesa)"
   ]
  },
  {
   "cell_type": "code",
   "execution_count": 61,
   "metadata": {},
   "outputs": [
    {
     "data": {
      "text/html": [
       "<div>\n",
       "<style scoped>\n",
       "    .dataframe tbody tr th:only-of-type {\n",
       "        vertical-align: middle;\n",
       "    }\n",
       "\n",
       "    .dataframe tbody tr th {\n",
       "        vertical-align: top;\n",
       "    }\n",
       "\n",
       "    .dataframe thead th {\n",
       "        text-align: right;\n",
       "    }\n",
       "</style>\n",
       "<table border=\"1\" class=\"dataframe\">\n",
       "  <thead>\n",
       "    <tr style=\"text-align: right;\">\n",
       "      <th></th>\n",
       "      <th>INCIDENT_NUM</th>\n",
       "      <th>DISP_CODE</th>\n",
       "      <th>DISPOSITION</th>\n",
       "      <th>FINAL_RADIO_CODE</th>\n",
       "      <th>FINAL_CALL_TYPE</th>\n",
       "      <th>CALL_RECEIVED</th>\n",
       "      <th>HUNDREDBLOCKADDR</th>\n",
       "      <th>GRID</th>\n",
       "    </tr>\n",
       "  </thead>\n",
       "  <tbody>\n",
       "    <tr>\n",
       "      <th>0</th>\n",
       "      <td>201502108490</td>\n",
       "      <td>N</td>\n",
       "      <td>NO ACTION REQUIRED</td>\n",
       "      <td>647V</td>\n",
       "      <td>SUSPICIOUS PERSON IN VEHICLE</td>\n",
       "      <td>11/2/2015   9:16:27AM</td>\n",
       "      <td>154XX N 29TH ST</td>\n",
       "      <td>DF34</td>\n",
       "    </tr>\n",
       "    <tr>\n",
       "      <th>1</th>\n",
       "      <td>201502108749</td>\n",
       "      <td>N</td>\n",
       "      <td>NO ACTION REQUIRED</td>\n",
       "      <td>418T</td>\n",
       "      <td>TRESPASSING</td>\n",
       "      <td>11/2/2015   9:58:57AM</td>\n",
       "      <td>96XX N 10TH AVE</td>\n",
       "      <td>CH26</td>\n",
       "    </tr>\n",
       "    <tr>\n",
       "      <th>2</th>\n",
       "      <td>201502108648</td>\n",
       "      <td>O</td>\n",
       "      <td>OTHER (SUPP/FALSE ALARM/FI/LOUD PARTY)</td>\n",
       "      <td>459A</td>\n",
       "      <td>BURGLARY ALARM</td>\n",
       "      <td>11/2/2015   9:42:42AM</td>\n",
       "      <td>38XX E WATKINS ST</td>\n",
       "      <td>AH36B</td>\n",
       "    </tr>\n",
       "    <tr>\n",
       "      <th>3</th>\n",
       "      <td>201502108757</td>\n",
       "      <td>N</td>\n",
       "      <td>NO ACTION REQUIRED</td>\n",
       "      <td>418T</td>\n",
       "      <td>TRESPASSING</td>\n",
       "      <td>11/2/2015  10:02:11AM</td>\n",
       "      <td>36XX W CAMELBACK RD</td>\n",
       "      <td>BI20</td>\n",
       "    </tr>\n",
       "    <tr>\n",
       "      <th>4</th>\n",
       "      <td>201502108592</td>\n",
       "      <td>N</td>\n",
       "      <td>NO ACTION REQUIRED</td>\n",
       "      <td>900</td>\n",
       "      <td>CHECK WELFARE</td>\n",
       "      <td>11/2/2015   9:30:53AM</td>\n",
       "      <td>40XX N 44TH AVE</td>\n",
       "      <td>BG18</td>\n",
       "    </tr>\n",
       "  </tbody>\n",
       "</table>\n",
       "</div>"
      ],
      "text/plain": [
       "   INCIDENT_NUM DISP_CODE                             DISPOSITION  \\\n",
       "0  201502108490         N                      NO ACTION REQUIRED   \n",
       "1  201502108749         N                      NO ACTION REQUIRED   \n",
       "2  201502108648         O  OTHER (SUPP/FALSE ALARM/FI/LOUD PARTY)   \n",
       "3  201502108757         N                      NO ACTION REQUIRED   \n",
       "4  201502108592         N                      NO ACTION REQUIRED   \n",
       "\n",
       "  FINAL_RADIO_CODE               FINAL_CALL_TYPE          CALL_RECEIVED  \\\n",
       "0             647V  SUSPICIOUS PERSON IN VEHICLE  11/2/2015   9:16:27AM   \n",
       "1             418T                   TRESPASSING  11/2/2015   9:58:57AM   \n",
       "2             459A                BURGLARY ALARM  11/2/2015   9:42:42AM   \n",
       "3             418T                   TRESPASSING  11/2/2015  10:02:11AM   \n",
       "4              900                 CHECK WELFARE  11/2/2015   9:30:53AM   \n",
       "\n",
       "      HUNDREDBLOCKADDR   GRID  \n",
       "0      154XX N 29TH ST   DF34  \n",
       "1      96XX N 10TH AVE   CH26  \n",
       "2    38XX E WATKINS ST  AH36B  \n",
       "3  36XX W CAMELBACK RD   BI20  \n",
       "4      40XX N 44TH AVE   BG18  "
      ]
     },
     "execution_count": 61,
     "metadata": {},
     "output_type": "execute_result"
    }
   ],
   "source": [
    "df = pd.read_csv('callsforservice.csv')\n",
    "df.head()"
   ]
  },
  {
   "cell_type": "code",
   "execution_count": 62,
   "metadata": {},
   "outputs": [],
   "source": [
    "with open('apikey.txt', 'r') as door:\n",
    "    key = door.read()"
   ]
  },
  {
   "cell_type": "code",
   "execution_count": 63,
   "metadata": {},
   "outputs": [
    {
     "name": "stdout",
     "output_type": "stream",
     "text": [
      "<class 'pandas.core.frame.DataFrame'>\n",
      "RangeIndex: 2192756 entries, 0 to 2192755\n",
      "Data columns (total 8 columns):\n",
      "INCIDENT_NUM        int64\n",
      "DISP_CODE           object\n",
      "DISPOSITION         object\n",
      "FINAL_RADIO_CODE    object\n",
      "FINAL_CALL_TYPE     object\n",
      "CALL_RECEIVED       object\n",
      "HUNDREDBLOCKADDR    object\n",
      "GRID                object\n",
      "dtypes: int64(1), object(7)\n",
      "memory usage: 133.8+ MB\n"
     ]
    }
   ],
   "source": [
    "df.info()"
   ]
  },
  {
   "cell_type": "code",
   "execution_count": 64,
   "metadata": {},
   "outputs": [],
   "source": [
    "# tst = df.iloc[:500, :]\n",
    "# tst.head()"
   ]
  },
  {
   "cell_type": "code",
   "execution_count": 65,
   "metadata": {},
   "outputs": [],
   "source": [
    "df['HUNDREDBLOCKADDR'] = df.HUNDREDBLOCKADDR.str.replace('XX', '00')\n",
    "df.dropna(inplace=True)\n",
    "df = df[df.FINAL_RADIO_CODE.isin(['961', '962', '963', '961H', '962H', '963H'])]\n",
    "df.loc[:, 'CALL_RECEIVED'] = pd.to_datetime(df.CALL_RECEIVED)\n",
    "df.set_index('CALL_RECEIVED', inplace=True)"
   ]
  },
  {
   "cell_type": "code",
   "execution_count": 66,
   "metadata": {},
   "outputs": [],
   "source": [
    "df['month'] = df.index.month\n",
    "df['day'] = df.index.dayofweek\n",
    "df['hour'] = df.index.hour"
   ]
  },
  {
   "cell_type": "code",
   "execution_count": 67,
   "metadata": {},
   "outputs": [
    {
     "data": {
      "text/html": [
       "<div>\n",
       "<style scoped>\n",
       "    .dataframe tbody tr th:only-of-type {\n",
       "        vertical-align: middle;\n",
       "    }\n",
       "\n",
       "    .dataframe tbody tr th {\n",
       "        vertical-align: top;\n",
       "    }\n",
       "\n",
       "    .dataframe thead th {\n",
       "        text-align: right;\n",
       "    }\n",
       "</style>\n",
       "<table border=\"1\" class=\"dataframe\">\n",
       "  <thead>\n",
       "    <tr style=\"text-align: right;\">\n",
       "      <th></th>\n",
       "      <th>INCIDENT_NUM</th>\n",
       "      <th>DISP_CODE</th>\n",
       "      <th>DISPOSITION</th>\n",
       "      <th>FINAL_RADIO_CODE</th>\n",
       "      <th>FINAL_CALL_TYPE</th>\n",
       "      <th>HUNDREDBLOCKADDR</th>\n",
       "      <th>GRID</th>\n",
       "      <th>month</th>\n",
       "      <th>day</th>\n",
       "      <th>hour</th>\n",
       "    </tr>\n",
       "    <tr>\n",
       "      <th>CALL_RECEIVED</th>\n",
       "      <th></th>\n",
       "      <th></th>\n",
       "      <th></th>\n",
       "      <th></th>\n",
       "      <th></th>\n",
       "      <th></th>\n",
       "      <th></th>\n",
       "      <th></th>\n",
       "      <th></th>\n",
       "      <th></th>\n",
       "    </tr>\n",
       "  </thead>\n",
       "  <tbody>\n",
       "    <tr>\n",
       "      <th>2015-11-01 01:01:07</th>\n",
       "      <td>201502100315</td>\n",
       "      <td>N</td>\n",
       "      <td>NO ACTION REQUIRED</td>\n",
       "      <td>961H</td>\n",
       "      <td>HIT &amp; RUN ACCIDENT NO INJURY</td>\n",
       "      <td>S 67TH AVE &amp; W LOWER BUCKEYE RD</td>\n",
       "      <td>AG13</td>\n",
       "      <td>11</td>\n",
       "      <td>6</td>\n",
       "      <td>1</td>\n",
       "    </tr>\n",
       "    <tr>\n",
       "      <th>2015-11-02 08:04:44</th>\n",
       "      <td>201502108062</td>\n",
       "      <td>A</td>\n",
       "      <td>ACCIDENT REPORT</td>\n",
       "      <td>962</td>\n",
       "      <td>ACCIDENT WITH INJURIES</td>\n",
       "      <td>N 49TH DR &amp; W ESCUDA DR</td>\n",
       "      <td>EA17</td>\n",
       "      <td>11</td>\n",
       "      <td>0</td>\n",
       "      <td>8</td>\n",
       "    </tr>\n",
       "    <tr>\n",
       "      <th>2015-11-01 10:09:50</th>\n",
       "      <td>201502102088</td>\n",
       "      <td>N</td>\n",
       "      <td>NO ACTION REQUIRED</td>\n",
       "      <td>961</td>\n",
       "      <td>ACCIDENT NO INJURIES</td>\n",
       "      <td>E PARADISE LN &amp; N 32ND ST</td>\n",
       "      <td>DF35</td>\n",
       "      <td>11</td>\n",
       "      <td>6</td>\n",
       "      <td>10</td>\n",
       "    </tr>\n",
       "    <tr>\n",
       "      <th>2015-11-01 10:35:06</th>\n",
       "      <td>201502102198</td>\n",
       "      <td>N</td>\n",
       "      <td>NO ACTION REQUIRED</td>\n",
       "      <td>961</td>\n",
       "      <td>ACCIDENT NO INJURIES</td>\n",
       "      <td>4000 W CAMELBACK RD</td>\n",
       "      <td>BI19A</td>\n",
       "      <td>11</td>\n",
       "      <td>6</td>\n",
       "      <td>10</td>\n",
       "    </tr>\n",
       "    <tr>\n",
       "      <th>2015-11-01 18:03:38</th>\n",
       "      <td>201502104894</td>\n",
       "      <td>N</td>\n",
       "      <td>NO ACTION REQUIRED</td>\n",
       "      <td>961</td>\n",
       "      <td>ACCIDENT NO INJURIES</td>\n",
       "      <td>3700 W SIERRA ST</td>\n",
       "      <td>DA20</td>\n",
       "      <td>11</td>\n",
       "      <td>6</td>\n",
       "      <td>18</td>\n",
       "    </tr>\n",
       "  </tbody>\n",
       "</table>\n",
       "</div>"
      ],
      "text/plain": [
       "                     INCIDENT_NUM DISP_CODE         DISPOSITION  \\\n",
       "CALL_RECEIVED                                                     \n",
       "2015-11-01 01:01:07  201502100315         N  NO ACTION REQUIRED   \n",
       "2015-11-02 08:04:44  201502108062         A     ACCIDENT REPORT   \n",
       "2015-11-01 10:09:50  201502102088         N  NO ACTION REQUIRED   \n",
       "2015-11-01 10:35:06  201502102198         N  NO ACTION REQUIRED   \n",
       "2015-11-01 18:03:38  201502104894         N  NO ACTION REQUIRED   \n",
       "\n",
       "                    FINAL_RADIO_CODE               FINAL_CALL_TYPE  \\\n",
       "CALL_RECEIVED                                                        \n",
       "2015-11-01 01:01:07             961H  HIT & RUN ACCIDENT NO INJURY   \n",
       "2015-11-02 08:04:44              962        ACCIDENT WITH INJURIES   \n",
       "2015-11-01 10:09:50              961          ACCIDENT NO INJURIES   \n",
       "2015-11-01 10:35:06              961          ACCIDENT NO INJURIES   \n",
       "2015-11-01 18:03:38              961          ACCIDENT NO INJURIES   \n",
       "\n",
       "                                    HUNDREDBLOCKADDR   GRID  month  day  hour  \n",
       "CALL_RECEIVED                                                                  \n",
       "2015-11-01 01:01:07  S 67TH AVE & W LOWER BUCKEYE RD   AG13     11    6     1  \n",
       "2015-11-02 08:04:44          N 49TH DR & W ESCUDA DR   EA17     11    0     8  \n",
       "2015-11-01 10:09:50        E PARADISE LN & N 32ND ST   DF35     11    6    10  \n",
       "2015-11-01 10:35:06              4000 W CAMELBACK RD  BI19A     11    6    10  \n",
       "2015-11-01 18:03:38                 3700 W SIERRA ST   DA20     11    6    18  "
      ]
     },
     "execution_count": 67,
     "metadata": {},
     "output_type": "execute_result"
    }
   ],
   "source": [
    "df.head()"
   ]
  },
  {
   "cell_type": "code",
   "execution_count": 68,
   "metadata": {},
   "outputs": [],
   "source": [
    "df['ishitrun'] = df.FINAL_RADIO_CODE.isin(['961H', '962H', '963H']).astype(np.int)"
   ]
  },
  {
   "cell_type": "code",
   "execution_count": 69,
   "metadata": {},
   "outputs": [],
   "source": [
    "hracs = df[df.ishitrun == 1]\n",
    "lacs = df[df.ishitrun == 0]"
   ]
  },
  {
   "cell_type": "code",
   "execution_count": 70,
   "metadata": {},
   "outputs": [
    {
     "data": {
      "application/javascript": [
       "\n",
       "// Ugly hack - see HoloViews #2574 for more information\n",
       "if (!(document.getElementById('1006')) && !(document.getElementById('_anim_imgNone'))) {\n",
       "  console.log(\"Creating DOM nodes dynamically for assumed nbconvert export. To generate clean HTML output set HV_DOC_HTML as an environment variable.\")\n",
       "  var htmlObject = document.createElement('div');\n",
       "  htmlObject.innerHTML = `<div id='1006' style='display: table; margin: 0 auto;'>\n",
       "\n",
       "\n",
       "\n",
       "\n",
       "\n",
       "  <div class=\"bk-root\" id=\"5b121b78-a86a-4d01-9182-a3c25f9b78d8\"></div>\n",
       "</div>`;\n",
       "  var scriptTags = document.getElementsByTagName('script');\n",
       "  var parentTag = scriptTags[scriptTags.length-1].parentNode;\n",
       "  if (parentTag.attributes.length && (parentTag.attributes[0].name == 'data-shell-mode')) {\n",
       "    alert('Displaying PyViz objects in JupyterLab requires the jupyterlab_pyviz extension to be installed, install it with:\\n\\n\\tjupyter labextension install @pyviz/jupyterlab_pyviz');\n",
       "  } else {\n",
       "    parentTag.append(htmlObject)\n",
       "  }\n",
       "}\n",
       "(function(root) {\n",
       "  function embed_document(root) {\n",
       "    \n",
       "  var docs_json = {\"07c01e11-1406-4661-9113-5bf3e0ef4171\":{\"roots\":{\"references\":[{\"attributes\":{\"below\":[{\"id\":\"1014\",\"type\":\"LinearAxis\"}],\"left\":[{\"id\":\"1019\",\"type\":\"LinearAxis\"}],\"min_border_bottom\":10,\"min_border_left\":10,\"min_border_right\":10,\"min_border_top\":10,\"plot_height\":300,\"plot_width\":700,\"renderers\":[{\"id\":\"1014\",\"type\":\"LinearAxis\"},{\"id\":\"1018\",\"type\":\"Grid\"},{\"id\":\"1019\",\"type\":\"LinearAxis\"},{\"id\":\"1023\",\"type\":\"Grid\"},{\"id\":\"1033\",\"type\":\"BoxAnnotation\"},{\"id\":\"1048\",\"type\":\"GlyphRenderer\"},{\"id\":\"1056\",\"type\":\"GlyphRenderer\"}],\"title\":{\"id\":\"1005\",\"type\":\"Title\"},\"toolbar\":{\"id\":\"1029\",\"type\":\"Toolbar\"},\"x_range\":{\"id\":\"1001\",\"type\":\"Range1d\"},\"x_scale\":{\"id\":\"1010\",\"type\":\"LinearScale\"},\"y_range\":{\"id\":\"1002\",\"type\":\"Range1d\"},\"y_scale\":{\"id\":\"1012\",\"type\":\"LinearScale\"}},\"id\":\"1006\",\"subtype\":\"Figure\",\"type\":\"Plot\"},{\"attributes\":{\"axis_label\":\"month\",\"bounds\":\"auto\",\"formatter\":{\"id\":\"1039\",\"type\":\"BasicTickFormatter\"},\"major_label_orientation\":\"horizontal\",\"plot\":{\"id\":\"1006\",\"subtype\":\"Figure\",\"type\":\"Plot\"},\"ticker\":{\"id\":\"1015\",\"type\":\"BasicTicker\"}},\"id\":\"1014\",\"type\":\"LinearAxis\"},{\"attributes\":{\"bottom\":{\"value\":0},\"fill_alpha\":{\"value\":0.2},\"fill_color\":{\"value\":\"navy\"},\"left\":{\"field\":\"left\"},\"line_alpha\":{\"value\":0.2},\"line_color\":{\"value\":\"black\"},\"right\":{\"field\":\"right\"},\"top\":{\"field\":\"top\"}},\"id\":\"1047\",\"type\":\"Quad\"},{\"attributes\":{},\"id\":\"1051\",\"type\":\"Selection\"},{\"attributes\":{},\"id\":\"1015\",\"type\":\"BasicTicker\"},{\"attributes\":{\"plot\":null,\"text\":\"\",\"text_color\":{\"value\":\"black\"},\"text_font_size\":{\"value\":\"12pt\"}},\"id\":\"1005\",\"type\":\"Title\"},{\"attributes\":{\"grid_line_color\":{\"value\":null},\"plot\":{\"id\":\"1006\",\"subtype\":\"Figure\",\"type\":\"Plot\"},\"ticker\":{\"id\":\"1015\",\"type\":\"BasicTicker\"}},\"id\":\"1018\",\"type\":\"Grid\"},{\"attributes\":{\"callback\":null,\"data\":{\"left\":{\"__ndarray__\":\"AAAAAAAA8D/NzMzMzMz4P83MzMzMzABANDMzMzMzBUCamZmZmZkJQAAAAAAAAA5ANDMzMzMzEUBnZmZmZmYTQJqZmZmZmRVAzczMzMzMF0AAAAAAAAAaQDQzMzMzMxxAZ2ZmZmZmHkDNzMzMzEwgQGdmZmZmZiFAAAAAAACAIkCamZmZmZkjQDQzMzMzsyRAzczMzMzMJUBnZmZmZuYmQA==\",\"dtype\":\"float64\",\"shape\":[20]},\"month\":{\"__ndarray__\":\"ZmZmZmZm9D80MzMzMzP9PwAAAAAAAANAZ2ZmZmZmB0DNzMzMzMwLQJqZmZmZGRBAzszMzMxMEkAAAAAAAIAUQDQzMzMzsxZAZmZmZmbmGECamZmZmRkbQM7MzMzMTB1AAAAAAACAH0CamZmZmdkgQDQzMzMz8yFAzczMzMwMI0BnZmZmZiYkQAAAAAAAQCVAmpmZmZlZJkA0MzMzM3MnQA==\",\"dtype\":\"float64\",\"shape\":[20]},\"month_count\":[8989,7681,0,8710,0,7963,0,7846,0,6848,6571,0,8187,0,7968,0,8396,0,10573,10614],\"right\":{\"__ndarray__\":\"zczMzMzM+D/NzMzMzMwAQDQzMzMzMwVAmpmZmZmZCUAAAAAAAAAOQDQzMzMzMxFAZ2ZmZmZmE0CamZmZmZkVQM3MzMzMzBdAAAAAAAAAGkA0MzMzMzMcQGdmZmZmZh5AzczMzMxMIEBnZmZmZmYhQAAAAAAAgCJAmpmZmZmZI0A0MzMzM7MkQM3MzMzMzCVAZ2ZmZmbmJkAAAAAAAAAoQA==\",\"dtype\":\"float64\",\"shape\":[20]},\"top\":[8989,7681,0,8710,0,7963,0,7846,0,6848,6571,0,8187,0,7968,0,8396,0,10573,10614]},\"selected\":{\"id\":\"1043\",\"type\":\"Selection\"},\"selection_policy\":{\"id\":\"1065\",\"type\":\"UnionRenderers\"}},\"id\":\"1042\",\"type\":\"ColumnDataSource\"},{\"attributes\":{\"bottom\":{\"value\":0},\"fill_alpha\":{\"value\":0.7},\"fill_color\":{\"value\":\"red\"},\"left\":{\"field\":\"left\"},\"line_alpha\":{\"value\":0.7},\"right\":{\"field\":\"right\"},\"top\":{\"field\":\"top\"}},\"id\":\"1053\",\"type\":\"Quad\"},{\"attributes\":{\"axis_label\":\"\",\"bounds\":\"auto\",\"formatter\":{\"id\":\"1041\",\"type\":\"BasicTickFormatter\"},\"major_label_orientation\":\"horizontal\",\"plot\":{\"id\":\"1006\",\"subtype\":\"Figure\",\"type\":\"Plot\"},\"ticker\":{\"id\":\"1020\",\"type\":\"BasicTicker\"}},\"id\":\"1019\",\"type\":\"LinearAxis\"},{\"attributes\":{},\"id\":\"1065\",\"type\":\"UnionRenderers\"},{\"attributes\":{},\"id\":\"1020\",\"type\":\"BasicTicker\"},{\"attributes\":{\"bottom\":{\"value\":0},\"fill_alpha\":{\"value\":0.7},\"fill_color\":{\"value\":\"navy\"},\"left\":{\"field\":\"left\"},\"line_alpha\":{\"value\":0.7},\"right\":{\"field\":\"right\"},\"top\":{\"field\":\"top\"}},\"id\":\"1045\",\"type\":\"Quad\"},{\"attributes\":{\"bottom\":{\"value\":0},\"fill_alpha\":{\"value\":0.7},\"fill_color\":{\"value\":\"red\"},\"left\":{\"field\":\"left\"},\"line_alpha\":{\"value\":0.7},\"line_color\":{\"value\":\"black\"},\"right\":{\"field\":\"right\"},\"top\":{\"field\":\"top\"}},\"id\":\"1054\",\"type\":\"Quad\"},{\"attributes\":{\"dimension\":1,\"grid_line_color\":{\"value\":null},\"plot\":{\"id\":\"1006\",\"subtype\":\"Figure\",\"type\":\"Plot\"},\"ticker\":{\"id\":\"1020\",\"type\":\"BasicTicker\"}},\"id\":\"1023\",\"type\":\"Grid\"},{\"attributes\":{\"bottom\":{\"value\":0},\"fill_alpha\":{\"value\":0.2},\"fill_color\":{\"value\":\"red\"},\"left\":{\"field\":\"left\"},\"line_alpha\":{\"value\":0.2},\"line_color\":{\"value\":\"black\"},\"right\":{\"field\":\"right\"},\"top\":{\"field\":\"top\"}},\"id\":\"1055\",\"type\":\"Quad\"},{\"attributes\":{},\"id\":\"1043\",\"type\":\"Selection\"},{\"attributes\":{},\"id\":\"1024\",\"type\":\"SaveTool\"},{\"attributes\":{\"data_source\":{\"id\":\"1050\",\"type\":\"ColumnDataSource\"},\"glyph\":{\"id\":\"1053\",\"type\":\"Quad\"},\"hover_glyph\":null,\"muted_glyph\":{\"id\":\"1055\",\"type\":\"Quad\"},\"nonselection_glyph\":{\"id\":\"1054\",\"type\":\"Quad\"},\"selection_glyph\":null,\"view\":{\"id\":\"1057\",\"type\":\"CDSView\"}},\"id\":\"1056\",\"type\":\"GlyphRenderer\"},{\"attributes\":{},\"id\":\"1041\",\"type\":\"BasicTickFormatter\"},{\"attributes\":{\"source\":{\"id\":\"1050\",\"type\":\"ColumnDataSource\"}},\"id\":\"1057\",\"type\":\"CDSView\"},{\"attributes\":{},\"id\":\"1067\",\"type\":\"UnionRenderers\"},{\"attributes\":{},\"id\":\"1025\",\"type\":\"PanTool\"},{\"attributes\":{},\"id\":\"1026\",\"type\":\"WheelZoomTool\"},{\"attributes\":{\"callback\":null,\"end\":10614.0,\"reset_end\":10614.0,\"reset_start\":0.0,\"tags\":[[[\"month_count\",\"Count\",null]]]},\"id\":\"1002\",\"type\":\"Range1d\"},{\"attributes\":{\"callback\":null,\"end\":12.0,\"reset_end\":12.0,\"reset_start\":1.0,\"start\":1.0,\"tags\":[[[\"month\",\"month\",null]]]},\"id\":\"1001\",\"type\":\"Range1d\"},{\"attributes\":{\"overlay\":{\"id\":\"1033\",\"type\":\"BoxAnnotation\"}},\"id\":\"1027\",\"type\":\"BoxZoomTool\"},{\"attributes\":{},\"id\":\"1028\",\"type\":\"ResetTool\"},{\"attributes\":{\"callback\":null,\"renderers\":[{\"id\":\"1048\",\"type\":\"GlyphRenderer\"},{\"id\":\"1056\",\"type\":\"GlyphRenderer\"}],\"tooltips\":[[\"month\",\"@{month}\"],[\"Count\",\"@{month_count}\"]]},\"id\":\"1003\",\"type\":\"HoverTool\"},{\"attributes\":{\"callback\":null,\"data\":{\"left\":{\"__ndarray__\":\"AAAAAAAA8D/NzMzMzMz4P83MzMzMzABANDMzMzMzBUCamZmZmZkJQAAAAAAAAA5ANDMzMzMzEUBnZmZmZmYTQJqZmZmZmRVAzczMzMzMF0AAAAAAAAAaQDQzMzMzMxxAZ2ZmZmZmHkDNzMzMzEwgQGdmZmZmZiFAAAAAAACAIkCamZmZmZkjQDQzMzMzsyRAzczMzMzMJUBnZmZmZuYmQA==\",\"dtype\":\"float64\",\"shape\":[20]},\"month\":{\"__ndarray__\":\"ZmZmZmZm9D80MzMzMzP9PwAAAAAAAANAZ2ZmZmZmB0DNzMzMzMwLQJqZmZmZGRBAzszMzMxMEkAAAAAAAIAUQDQzMzMzsxZAZmZmZmbmGECamZmZmRkbQM7MzMzMTB1AAAAAAACAH0CamZmZmdkgQDQzMzMz8yFAzczMzMwMI0BnZmZmZiYkQAAAAAAAQCVAmpmZmZlZJkA0MzMzM3MnQA==\",\"dtype\":\"float64\",\"shape\":[20]},\"month_count\":[2488,1994,0,2340,0,2312,0,2325,0,2130,2048,0,2248,0,2239,0,2218,0,2880,2795],\"right\":{\"__ndarray__\":\"zczMzMzM+D/NzMzMzMwAQDQzMzMzMwVAmpmZmZmZCUAAAAAAAAAOQDQzMzMzMxFAZ2ZmZmZmE0CamZmZmZkVQM3MzMzMzBdAAAAAAAAAGkA0MzMzMzMcQGdmZmZmZh5AzczMzMxMIEBnZmZmZmYhQAAAAAAAgCJAmpmZmZmZI0A0MzMzM7MkQM3MzMzMzCVAZ2ZmZmbmJkAAAAAAAAAoQA==\",\"dtype\":\"float64\",\"shape\":[20]},\"top\":[2488,1994,0,2340,0,2312,0,2325,0,2130,2048,0,2248,0,2239,0,2218,0,2880,2795]},\"selected\":{\"id\":\"1051\",\"type\":\"Selection\"},\"selection_policy\":{\"id\":\"1067\",\"type\":\"UnionRenderers\"}},\"id\":\"1050\",\"type\":\"ColumnDataSource\"},{\"attributes\":{\"active_drag\":\"auto\",\"active_inspect\":\"auto\",\"active_multi\":null,\"active_scroll\":\"auto\",\"active_tap\":\"auto\",\"tools\":[{\"id\":\"1003\",\"type\":\"HoverTool\"},{\"id\":\"1024\",\"type\":\"SaveTool\"},{\"id\":\"1025\",\"type\":\"PanTool\"},{\"id\":\"1026\",\"type\":\"WheelZoomTool\"},{\"id\":\"1027\",\"type\":\"BoxZoomTool\"},{\"id\":\"1028\",\"type\":\"ResetTool\"}]},\"id\":\"1029\",\"type\":\"Toolbar\"},{\"attributes\":{},\"id\":\"1039\",\"type\":\"BasicTickFormatter\"},{\"attributes\":{\"bottom_units\":\"screen\",\"fill_alpha\":{\"value\":0.5},\"fill_color\":{\"value\":\"lightgrey\"},\"left_units\":\"screen\",\"level\":\"overlay\",\"line_alpha\":{\"value\":1.0},\"line_color\":{\"value\":\"black\"},\"line_dash\":[4,4],\"line_width\":{\"value\":2},\"plot\":null,\"render_mode\":\"css\",\"right_units\":\"screen\",\"top_units\":\"screen\"},\"id\":\"1033\",\"type\":\"BoxAnnotation\"},{\"attributes\":{},\"id\":\"1010\",\"type\":\"LinearScale\"},{\"attributes\":{\"source\":{\"id\":\"1042\",\"type\":\"ColumnDataSource\"}},\"id\":\"1049\",\"type\":\"CDSView\"},{\"attributes\":{\"bottom\":{\"value\":0},\"fill_alpha\":{\"value\":0.7},\"fill_color\":{\"value\":\"navy\"},\"left\":{\"field\":\"left\"},\"line_alpha\":{\"value\":0.7},\"line_color\":{\"value\":\"black\"},\"right\":{\"field\":\"right\"},\"top\":{\"field\":\"top\"}},\"id\":\"1046\",\"type\":\"Quad\"},{\"attributes\":{\"data_source\":{\"id\":\"1042\",\"type\":\"ColumnDataSource\"},\"glyph\":{\"id\":\"1045\",\"type\":\"Quad\"},\"hover_glyph\":null,\"muted_glyph\":{\"id\":\"1047\",\"type\":\"Quad\"},\"nonselection_glyph\":{\"id\":\"1046\",\"type\":\"Quad\"},\"selection_glyph\":null,\"view\":{\"id\":\"1049\",\"type\":\"CDSView\"}},\"id\":\"1048\",\"type\":\"GlyphRenderer\"},{\"attributes\":{},\"id\":\"1012\",\"type\":\"LinearScale\"}],\"root_ids\":[\"1006\"]},\"title\":\"Bokeh Application\",\"version\":\"1.0.0\"}};\n",
       "  var render_items = [{\"docid\":\"07c01e11-1406-4661-9113-5bf3e0ef4171\",\"roots\":{\"1006\":\"5b121b78-a86a-4d01-9182-a3c25f9b78d8\"}}];\n",
       "  root.Bokeh.embed.embed_items_notebook(docs_json, render_items);\n",
       "\n",
       "  }\n",
       "  if (root.Bokeh !== undefined) {\n",
       "    embed_document(root);\n",
       "  } else {\n",
       "    var attempts = 0;\n",
       "    var timer = setInterval(function(root) {\n",
       "      if (root.Bokeh !== undefined) {\n",
       "        embed_document(root);\n",
       "        clearInterval(timer);\n",
       "      }\n",
       "      attempts++;\n",
       "      if (attempts > 100) {\n",
       "        console.log(\"Bokeh: ERROR: Unable to run BokehJS code because BokehJS library is missing\");\n",
       "        clearInterval(timer);\n",
       "      }\n",
       "    }, 10, root)\n",
       "  }\n",
       "})(window);"
      ],
      "application/vnd.holoviews_exec.v0+json": "",
      "text/html": [
       "<div id='1006' style='display: table; margin: 0 auto;'>\n",
       "\n",
       "\n",
       "\n",
       "\n",
       "\n",
       "  <div class=\"bk-root\" id=\"5b121b78-a86a-4d01-9182-a3c25f9b78d8\"></div>\n",
       "</div>"
      ],
      "text/plain": [
       ":Overlay\n",
       "   .Histogram.I  :Histogram   [month]   (month_count)\n",
       "   .Histogram.II :Histogram   [month]   (month_count)"
      ]
     },
     "execution_count": 70,
     "metadata": {
      "application/vnd.holoviews_exec.v0+json": {
       "id": "1006"
      }
     },
     "output_type": "execute_result"
    }
   ],
   "source": [
    "lacs.month.hvplot.hist(color='navy').options(alpha=0.7) * hracs.month.hvplot.hist(color='red').options(alpha=0.7)"
   ]
  },
  {
   "cell_type": "code",
   "execution_count": 71,
   "metadata": {},
   "outputs": [
    {
     "data": {
      "application/javascript": [
       "\n",
       "// Ugly hack - see HoloViews #2574 for more information\n",
       "if (!(document.getElementById('1213')) && !(document.getElementById('_anim_imgNone'))) {\n",
       "  console.log(\"Creating DOM nodes dynamically for assumed nbconvert export. To generate clean HTML output set HV_DOC_HTML as an environment variable.\")\n",
       "  var htmlObject = document.createElement('div');\n",
       "  htmlObject.innerHTML = `<div id='1213' style='display: table; margin: 0 auto;'>\n",
       "\n",
       "\n",
       "\n",
       "\n",
       "\n",
       "  <div class=\"bk-root\" id=\"20c79e77-8199-42e3-ac55-025895ca3b27\"></div>\n",
       "</div>`;\n",
       "  var scriptTags = document.getElementsByTagName('script');\n",
       "  var parentTag = scriptTags[scriptTags.length-1].parentNode;\n",
       "  if (parentTag.attributes.length && (parentTag.attributes[0].name == 'data-shell-mode')) {\n",
       "    alert('Displaying PyViz objects in JupyterLab requires the jupyterlab_pyviz extension to be installed, install it with:\\n\\n\\tjupyter labextension install @pyviz/jupyterlab_pyviz');\n",
       "  } else {\n",
       "    parentTag.append(htmlObject)\n",
       "  }\n",
       "}\n",
       "(function(root) {\n",
       "  function embed_document(root) {\n",
       "    \n",
       "  var docs_json = {\"da3a6354-2b9d-45a1-a0fb-382f47a06123\":{\"roots\":{\"references\":[{\"attributes\":{\"below\":[{\"id\":\"1221\",\"type\":\"LinearAxis\"}],\"left\":[{\"id\":\"1226\",\"type\":\"LinearAxis\"}],\"min_border_bottom\":10,\"min_border_left\":10,\"min_border_right\":10,\"min_border_top\":10,\"plot_height\":300,\"plot_width\":700,\"renderers\":[{\"id\":\"1221\",\"type\":\"LinearAxis\"},{\"id\":\"1225\",\"type\":\"Grid\"},{\"id\":\"1226\",\"type\":\"LinearAxis\"},{\"id\":\"1230\",\"type\":\"Grid\"},{\"id\":\"1240\",\"type\":\"BoxAnnotation\"},{\"id\":\"1255\",\"type\":\"GlyphRenderer\"},{\"id\":\"1263\",\"type\":\"GlyphRenderer\"}],\"title\":{\"id\":\"1212\",\"type\":\"Title\"},\"toolbar\":{\"id\":\"1236\",\"type\":\"Toolbar\"},\"x_range\":{\"id\":\"1208\",\"type\":\"Range1d\"},\"x_scale\":{\"id\":\"1217\",\"type\":\"LinearScale\"},\"y_range\":{\"id\":\"1209\",\"type\":\"Range1d\"},\"y_scale\":{\"id\":\"1219\",\"type\":\"LinearScale\"}},\"id\":\"1213\",\"subtype\":\"Figure\",\"type\":\"Plot\"},{\"attributes\":{\"bottom_units\":\"screen\",\"fill_alpha\":{\"value\":0.5},\"fill_color\":{\"value\":\"lightgrey\"},\"left_units\":\"screen\",\"level\":\"overlay\",\"line_alpha\":{\"value\":1.0},\"line_color\":{\"value\":\"black\"},\"line_dash\":[4,4],\"line_width\":{\"value\":2},\"plot\":null,\"render_mode\":\"css\",\"right_units\":\"screen\",\"top_units\":\"screen\"},\"id\":\"1240\",\"type\":\"BoxAnnotation\"},{\"attributes\":{\"source\":{\"id\":\"1257\",\"type\":\"ColumnDataSource\"}},\"id\":\"1264\",\"type\":\"CDSView\"},{\"attributes\":{},\"id\":\"1258\",\"type\":\"Selection\"},{\"attributes\":{\"bottom\":{\"value\":0},\"fill_alpha\":{\"value\":0.7},\"fill_color\":{\"value\":\"red\"},\"left\":{\"field\":\"left\"},\"line_alpha\":{\"value\":0.7},\"line_color\":{\"value\":\"black\"},\"right\":{\"field\":\"right\"},\"top\":{\"field\":\"top\"}},\"id\":\"1261\",\"type\":\"Quad\"},{\"attributes\":{},\"id\":\"1217\",\"type\":\"LinearScale\"},{\"attributes\":{\"active_drag\":\"auto\",\"active_inspect\":\"auto\",\"active_multi\":null,\"active_scroll\":\"auto\",\"active_tap\":\"auto\",\"tools\":[{\"id\":\"1210\",\"type\":\"HoverTool\"},{\"id\":\"1231\",\"type\":\"SaveTool\"},{\"id\":\"1232\",\"type\":\"PanTool\"},{\"id\":\"1233\",\"type\":\"WheelZoomTool\"},{\"id\":\"1234\",\"type\":\"BoxZoomTool\"},{\"id\":\"1235\",\"type\":\"ResetTool\"}]},\"id\":\"1236\",\"type\":\"Toolbar\"},{\"attributes\":{},\"id\":\"1219\",\"type\":\"LinearScale\"},{\"attributes\":{},\"id\":\"1235\",\"type\":\"ResetTool\"},{\"attributes\":{\"overlay\":{\"id\":\"1240\",\"type\":\"BoxAnnotation\"}},\"id\":\"1234\",\"type\":\"BoxZoomTool\"},{\"attributes\":{\"plot\":null,\"text\":\"\",\"text_color\":{\"value\":\"black\"},\"text_font_size\":{\"value\":\"12pt\"}},\"id\":\"1212\",\"type\":\"Title\"},{\"attributes\":{},\"id\":\"1233\",\"type\":\"WheelZoomTool\"},{\"attributes\":{\"data_source\":{\"id\":\"1249\",\"type\":\"ColumnDataSource\"},\"glyph\":{\"id\":\"1252\",\"type\":\"Quad\"},\"hover_glyph\":null,\"muted_glyph\":{\"id\":\"1254\",\"type\":\"Quad\"},\"nonselection_glyph\":{\"id\":\"1253\",\"type\":\"Quad\"},\"selection_glyph\":null,\"view\":{\"id\":\"1256\",\"type\":\"CDSView\"}},\"id\":\"1255\",\"type\":\"GlyphRenderer\"},{\"attributes\":{},\"id\":\"1231\",\"type\":\"SaveTool\"},{\"attributes\":{},\"id\":\"1232\",\"type\":\"PanTool\"},{\"attributes\":{\"source\":{\"id\":\"1249\",\"type\":\"ColumnDataSource\"}},\"id\":\"1256\",\"type\":\"CDSView\"},{\"attributes\":{\"callback\":null,\"end\":6.0,\"reset_end\":6.0,\"reset_start\":0.0,\"tags\":[[[\"day\",\"day\",null]]]},\"id\":\"1208\",\"type\":\"Range1d\"},{\"attributes\":{\"bottom\":{\"value\":0},\"fill_alpha\":{\"value\":0.7},\"fill_color\":{\"value\":\"red\"},\"left\":{\"field\":\"left\"},\"line_alpha\":{\"value\":0.7},\"right\":{\"field\":\"right\"},\"top\":{\"field\":\"top\"}},\"id\":\"1260\",\"type\":\"Quad\"},{\"attributes\":{\"callback\":null,\"renderers\":[{\"id\":\"1255\",\"type\":\"GlyphRenderer\"},{\"id\":\"1263\",\"type\":\"GlyphRenderer\"}],\"tooltips\":[[\"day\",\"@{day}\"],[\"Count\",\"@{day_count}\"]]},\"id\":\"1210\",\"type\":\"HoverTool\"},{\"attributes\":{},\"id\":\"1250\",\"type\":\"Selection\"},{\"attributes\":{\"callback\":null,\"end\":17546.0,\"reset_end\":17546.0,\"reset_start\":0.0,\"tags\":[[[\"day_count\",\"Count\",null]]]},\"id\":\"1209\",\"type\":\"Range1d\"},{\"attributes\":{},\"id\":\"1248\",\"type\":\"BasicTickFormatter\"},{\"attributes\":{\"callback\":null,\"data\":{\"day\":{\"__ndarray__\":\"MzMzMzMzwz/MzMzMzMzcPwAAAAAAAOg/zMzMzMzM8D+amZmZmZn1P2ZmZmZmZvo/MzMzMzMz/z8AAAAAAAACQGZmZmZmZgRAzMzMzMzMBkAzMzMzMzMJQJmZmZmZmQtAAAAAAAAADkAzMzMzMzMQQGZmZmZmZhFAmpmZmZmZEkDMzMzMzMwTQAAAAAAAABVAMzMzMzMzFkBmZmZmZmYXQA==\",\"dtype\":\"float64\",\"shape\":[20]},\"day_count\":[3795,0,0,4002,0,0,3979,0,0,0,4012,0,0,4647,0,0,4101,0,0,3481],\"left\":{\"__ndarray__\":\"AAAAAAAAAAAzMzMzMzPTPzMzMzMzM+M/zMzMzMzM7D8zMzMzMzPzPwAAAAAAAPg/zMzMzMzM/D/NzMzMzMwAQDMzMzMzMwNAmZmZmZmZBUAAAAAAAAAIQGZmZmZmZgpAzMzMzMzMDEAzMzMzMzMPQM3MzMzMzBBAAAAAAAAAEkAzMzMzMzMTQGZmZmZmZhRAmZmZmZmZFUDNzMzMzMwWQA==\",\"dtype\":\"float64\",\"shape\":[20]},\"right\":{\"__ndarray__\":\"MzMzMzMz0z8zMzMzMzPjP8zMzMzMzOw/MzMzMzMz8z8AAAAAAAD4P8zMzMzMzPw/zczMzMzMAEAzMzMzMzMDQJmZmZmZmQVAAAAAAAAACEBmZmZmZmYKQMzMzMzMzAxAMzMzMzMzD0DNzMzMzMwQQAAAAAAAABJAMzMzMzMzE0BmZmZmZmYUQJmZmZmZmRVAzczMzMzMFkAAAAAAAAAYQA==\",\"dtype\":\"float64\",\"shape\":[20]},\"top\":[3795,0,0,4002,0,0,3979,0,0,0,4012,0,0,4647,0,0,4101,0,0,3481]},\"selected\":{\"id\":\"1258\",\"type\":\"Selection\"},\"selection_policy\":{\"id\":\"1274\",\"type\":\"UnionRenderers\"}},\"id\":\"1257\",\"type\":\"ColumnDataSource\"},{\"attributes\":{\"dimension\":1,\"grid_line_color\":{\"value\":null},\"plot\":{\"id\":\"1213\",\"subtype\":\"Figure\",\"type\":\"Plot\"},\"ticker\":{\"id\":\"1227\",\"type\":\"BasicTicker\"}},\"id\":\"1230\",\"type\":\"Grid\"},{\"attributes\":{\"data_source\":{\"id\":\"1257\",\"type\":\"ColumnDataSource\"},\"glyph\":{\"id\":\"1260\",\"type\":\"Quad\"},\"hover_glyph\":null,\"muted_glyph\":{\"id\":\"1262\",\"type\":\"Quad\"},\"nonselection_glyph\":{\"id\":\"1261\",\"type\":\"Quad\"},\"selection_glyph\":null,\"view\":{\"id\":\"1264\",\"type\":\"CDSView\"}},\"id\":\"1263\",\"type\":\"GlyphRenderer\"},{\"attributes\":{},\"id\":\"1246\",\"type\":\"BasicTickFormatter\"},{\"attributes\":{\"bottom\":{\"value\":0},\"fill_alpha\":{\"value\":0.7},\"fill_color\":{\"value\":\"navy\"},\"left\":{\"field\":\"left\"},\"line_alpha\":{\"value\":0.7},\"right\":{\"field\":\"right\"},\"top\":{\"field\":\"top\"}},\"id\":\"1252\",\"type\":\"Quad\"},{\"attributes\":{\"axis_label\":\"\",\"bounds\":\"auto\",\"formatter\":{\"id\":\"1248\",\"type\":\"BasicTickFormatter\"},\"major_label_orientation\":\"horizontal\",\"plot\":{\"id\":\"1213\",\"subtype\":\"Figure\",\"type\":\"Plot\"},\"ticker\":{\"id\":\"1227\",\"type\":\"BasicTicker\"}},\"id\":\"1226\",\"type\":\"LinearAxis\"},{\"attributes\":{},\"id\":\"1274\",\"type\":\"UnionRenderers\"},{\"attributes\":{},\"id\":\"1227\",\"type\":\"BasicTicker\"},{\"attributes\":{\"callback\":null,\"data\":{\"day\":{\"__ndarray__\":\"MzMzMzMzwz/MzMzMzMzcPwAAAAAAAOg/zMzMzMzM8D+amZmZmZn1P2ZmZmZmZvo/MzMzMzMz/z8AAAAAAAACQGZmZmZmZgRAzMzMzMzMBkAzMzMzMzMJQJmZmZmZmQtAAAAAAAAADkAzMzMzMzMQQGZmZmZmZhFAmpmZmZmZEkDMzMzMzMwTQAAAAAAAABVAMzMzMzMzFkBmZmZmZmYXQA==\",\"dtype\":\"float64\",\"shape\":[20]},\"day_count\":[14743,0,0,16021,0,0,16114,0,0,0,16195,0,0,17546,0,0,11319,0,0,8408],\"left\":{\"__ndarray__\":\"AAAAAAAAAAAzMzMzMzPTPzMzMzMzM+M/zMzMzMzM7D8zMzMzMzPzPwAAAAAAAPg/zMzMzMzM/D/NzMzMzMwAQDMzMzMzMwNAmZmZmZmZBUAAAAAAAAAIQGZmZmZmZgpAzMzMzMzMDEAzMzMzMzMPQM3MzMzMzBBAAAAAAAAAEkAzMzMzMzMTQGZmZmZmZhRAmZmZmZmZFUDNzMzMzMwWQA==\",\"dtype\":\"float64\",\"shape\":[20]},\"right\":{\"__ndarray__\":\"MzMzMzMz0z8zMzMzMzPjP8zMzMzMzOw/MzMzMzMz8z8AAAAAAAD4P8zMzMzMzPw/zczMzMzMAEAzMzMzMzMDQJmZmZmZmQVAAAAAAAAACEBmZmZmZmYKQMzMzMzMzAxAMzMzMzMzD0DNzMzMzMwQQAAAAAAAABJAMzMzMzMzE0BmZmZmZmYUQJmZmZmZmRVAzczMzMzMFkAAAAAAAAAYQA==\",\"dtype\":\"float64\",\"shape\":[20]},\"top\":[14743,0,0,16021,0,0,16114,0,0,0,16195,0,0,17546,0,0,11319,0,0,8408]},\"selected\":{\"id\":\"1250\",\"type\":\"Selection\"},\"selection_policy\":{\"id\":\"1272\",\"type\":\"UnionRenderers\"}},\"id\":\"1249\",\"type\":\"ColumnDataSource\"},{\"attributes\":{\"grid_line_color\":{\"value\":null},\"plot\":{\"id\":\"1213\",\"subtype\":\"Figure\",\"type\":\"Plot\"},\"ticker\":{\"id\":\"1222\",\"type\":\"BasicTicker\"}},\"id\":\"1225\",\"type\":\"Grid\"},{\"attributes\":{\"bottom\":{\"value\":0},\"fill_alpha\":{\"value\":0.2},\"fill_color\":{\"value\":\"navy\"},\"left\":{\"field\":\"left\"},\"line_alpha\":{\"value\":0.2},\"line_color\":{\"value\":\"black\"},\"right\":{\"field\":\"right\"},\"top\":{\"field\":\"top\"}},\"id\":\"1254\",\"type\":\"Quad\"},{\"attributes\":{},\"id\":\"1272\",\"type\":\"UnionRenderers\"},{\"attributes\":{},\"id\":\"1222\",\"type\":\"BasicTicker\"},{\"attributes\":{\"bottom\":{\"value\":0},\"fill_alpha\":{\"value\":0.7},\"fill_color\":{\"value\":\"navy\"},\"left\":{\"field\":\"left\"},\"line_alpha\":{\"value\":0.7},\"line_color\":{\"value\":\"black\"},\"right\":{\"field\":\"right\"},\"top\":{\"field\":\"top\"}},\"id\":\"1253\",\"type\":\"Quad\"},{\"attributes\":{\"bottom\":{\"value\":0},\"fill_alpha\":{\"value\":0.2},\"fill_color\":{\"value\":\"red\"},\"left\":{\"field\":\"left\"},\"line_alpha\":{\"value\":0.2},\"line_color\":{\"value\":\"black\"},\"right\":{\"field\":\"right\"},\"top\":{\"field\":\"top\"}},\"id\":\"1262\",\"type\":\"Quad\"},{\"attributes\":{\"axis_label\":\"day\",\"bounds\":\"auto\",\"formatter\":{\"id\":\"1246\",\"type\":\"BasicTickFormatter\"},\"major_label_orientation\":\"horizontal\",\"plot\":{\"id\":\"1213\",\"subtype\":\"Figure\",\"type\":\"Plot\"},\"ticker\":{\"id\":\"1222\",\"type\":\"BasicTicker\"}},\"id\":\"1221\",\"type\":\"LinearAxis\"}],\"root_ids\":[\"1213\"]},\"title\":\"Bokeh Application\",\"version\":\"1.0.0\"}};\n",
       "  var render_items = [{\"docid\":\"da3a6354-2b9d-45a1-a0fb-382f47a06123\",\"roots\":{\"1213\":\"20c79e77-8199-42e3-ac55-025895ca3b27\"}}];\n",
       "  root.Bokeh.embed.embed_items_notebook(docs_json, render_items);\n",
       "\n",
       "  }\n",
       "  if (root.Bokeh !== undefined) {\n",
       "    embed_document(root);\n",
       "  } else {\n",
       "    var attempts = 0;\n",
       "    var timer = setInterval(function(root) {\n",
       "      if (root.Bokeh !== undefined) {\n",
       "        embed_document(root);\n",
       "        clearInterval(timer);\n",
       "      }\n",
       "      attempts++;\n",
       "      if (attempts > 100) {\n",
       "        console.log(\"Bokeh: ERROR: Unable to run BokehJS code because BokehJS library is missing\");\n",
       "        clearInterval(timer);\n",
       "      }\n",
       "    }, 10, root)\n",
       "  }\n",
       "})(window);"
      ],
      "application/vnd.holoviews_exec.v0+json": "",
      "text/html": [
       "<div id='1213' style='display: table; margin: 0 auto;'>\n",
       "\n",
       "\n",
       "\n",
       "\n",
       "\n",
       "  <div class=\"bk-root\" id=\"20c79e77-8199-42e3-ac55-025895ca3b27\"></div>\n",
       "</div>"
      ],
      "text/plain": [
       ":Overlay\n",
       "   .Histogram.I  :Histogram   [day]   (day_count)\n",
       "   .Histogram.II :Histogram   [day]   (day_count)"
      ]
     },
     "execution_count": 71,
     "metadata": {
      "application/vnd.holoviews_exec.v0+json": {
       "id": "1213"
      }
     },
     "output_type": "execute_result"
    }
   ],
   "source": [
    "lacs.day.hvplot.hist(color='navy').options(alpha=0.7) * hracs.day.hvplot.hist(color='red').options(alpha=0.7)"
   ]
  },
  {
   "cell_type": "code",
   "execution_count": 72,
   "metadata": {},
   "outputs": [
    {
     "data": {
      "application/javascript": [
       "\n",
       "// Ugly hack - see HoloViews #2574 for more information\n",
       "if (!(document.getElementById('1420')) && !(document.getElementById('_anim_imgNone'))) {\n",
       "  console.log(\"Creating DOM nodes dynamically for assumed nbconvert export. To generate clean HTML output set HV_DOC_HTML as an environment variable.\")\n",
       "  var htmlObject = document.createElement('div');\n",
       "  htmlObject.innerHTML = `<div id='1420' style='display: table; margin: 0 auto;'>\n",
       "\n",
       "\n",
       "\n",
       "\n",
       "\n",
       "  <div class=\"bk-root\" id=\"b9b1ae1e-0c1b-4228-b4d8-2b114b76d095\"></div>\n",
       "</div>`;\n",
       "  var scriptTags = document.getElementsByTagName('script');\n",
       "  var parentTag = scriptTags[scriptTags.length-1].parentNode;\n",
       "  if (parentTag.attributes.length && (parentTag.attributes[0].name == 'data-shell-mode')) {\n",
       "    alert('Displaying PyViz objects in JupyterLab requires the jupyterlab_pyviz extension to be installed, install it with:\\n\\n\\tjupyter labextension install @pyviz/jupyterlab_pyviz');\n",
       "  } else {\n",
       "    parentTag.append(htmlObject)\n",
       "  }\n",
       "}\n",
       "(function(root) {\n",
       "  function embed_document(root) {\n",
       "    \n",
       "  var docs_json = {\"4a21558f-9eab-4633-86b4-af27693f1f75\":{\"roots\":{\"references\":[{\"attributes\":{\"below\":[{\"id\":\"1428\",\"type\":\"LinearAxis\"}],\"left\":[{\"id\":\"1433\",\"type\":\"LinearAxis\"}],\"min_border_bottom\":10,\"min_border_left\":10,\"min_border_right\":10,\"min_border_top\":10,\"plot_height\":300,\"plot_width\":700,\"renderers\":[{\"id\":\"1428\",\"type\":\"LinearAxis\"},{\"id\":\"1432\",\"type\":\"Grid\"},{\"id\":\"1433\",\"type\":\"LinearAxis\"},{\"id\":\"1437\",\"type\":\"Grid\"},{\"id\":\"1447\",\"type\":\"BoxAnnotation\"},{\"id\":\"1462\",\"type\":\"GlyphRenderer\"},{\"id\":\"1470\",\"type\":\"GlyphRenderer\"}],\"title\":{\"id\":\"1419\",\"type\":\"Title\"},\"toolbar\":{\"id\":\"1443\",\"type\":\"Toolbar\"},\"x_range\":{\"id\":\"1415\",\"type\":\"Range1d\"},\"x_scale\":{\"id\":\"1424\",\"type\":\"LinearScale\"},\"y_range\":{\"id\":\"1416\",\"type\":\"Range1d\"},\"y_scale\":{\"id\":\"1426\",\"type\":\"LinearScale\"}},\"id\":\"1420\",\"subtype\":\"Figure\",\"type\":\"Plot\"},{\"attributes\":{\"bottom_units\":\"screen\",\"fill_alpha\":{\"value\":0.5},\"fill_color\":{\"value\":\"lightgrey\"},\"left_units\":\"screen\",\"level\":\"overlay\",\"line_alpha\":{\"value\":1.0},\"line_color\":{\"value\":\"black\"},\"line_dash\":[4,4],\"line_width\":{\"value\":2},\"plot\":null,\"render_mode\":\"css\",\"right_units\":\"screen\",\"top_units\":\"screen\"},\"id\":\"1447\",\"type\":\"BoxAnnotation\"},{\"attributes\":{\"active_drag\":\"auto\",\"active_inspect\":\"auto\",\"active_multi\":null,\"active_scroll\":\"auto\",\"active_tap\":\"auto\",\"tools\":[{\"id\":\"1417\",\"type\":\"HoverTool\"},{\"id\":\"1438\",\"type\":\"SaveTool\"},{\"id\":\"1439\",\"type\":\"PanTool\"},{\"id\":\"1440\",\"type\":\"WheelZoomTool\"},{\"id\":\"1441\",\"type\":\"BoxZoomTool\"},{\"id\":\"1442\",\"type\":\"ResetTool\"}]},\"id\":\"1443\",\"type\":\"Toolbar\"},{\"attributes\":{\"bottom\":{\"value\":0},\"fill_alpha\":{\"value\":0.7},\"fill_color\":{\"value\":\"red\"},\"left\":{\"field\":\"left\"},\"line_alpha\":{\"value\":0.7},\"right\":{\"field\":\"right\"},\"top\":{\"field\":\"top\"}},\"id\":\"1467\",\"type\":\"Quad\"},{\"attributes\":{\"dimension\":1,\"grid_line_color\":{\"value\":null},\"plot\":{\"id\":\"1420\",\"subtype\":\"Figure\",\"type\":\"Plot\"},\"ticker\":{\"id\":\"1434\",\"type\":\"BasicTicker\"}},\"id\":\"1437\",\"type\":\"Grid\"},{\"attributes\":{},\"id\":\"1442\",\"type\":\"ResetTool\"},{\"attributes\":{},\"id\":\"1429\",\"type\":\"BasicTicker\"},{\"attributes\":{},\"id\":\"1439\",\"type\":\"PanTool\"},{\"attributes\":{\"bottom\":{\"value\":0},\"fill_alpha\":{\"value\":0.2},\"fill_color\":{\"value\":\"red\"},\"left\":{\"field\":\"left\"},\"line_alpha\":{\"value\":0.2},\"line_color\":{\"value\":\"black\"},\"right\":{\"field\":\"right\"},\"top\":{\"field\":\"top\"}},\"id\":\"1469\",\"type\":\"Quad\"},{\"attributes\":{},\"id\":\"1424\",\"type\":\"LinearScale\"},{\"attributes\":{\"plot\":null,\"text\":\"\",\"text_color\":{\"value\":\"black\"},\"text_font_size\":{\"value\":\"12pt\"}},\"id\":\"1419\",\"type\":\"Title\"},{\"attributes\":{\"bottom\":{\"value\":0},\"fill_alpha\":{\"value\":0.7},\"fill_color\":{\"value\":\"red\"},\"left\":{\"field\":\"left\"},\"line_alpha\":{\"value\":0.7},\"line_color\":{\"value\":\"black\"},\"right\":{\"field\":\"right\"},\"top\":{\"field\":\"top\"}},\"id\":\"1468\",\"type\":\"Quad\"},{\"attributes\":{},\"id\":\"1455\",\"type\":\"BasicTickFormatter\"},{\"attributes\":{},\"id\":\"1465\",\"type\":\"Selection\"},{\"attributes\":{\"axis_label\":\"\",\"bounds\":\"auto\",\"formatter\":{\"id\":\"1455\",\"type\":\"BasicTickFormatter\"},\"major_label_orientation\":\"horizontal\",\"plot\":{\"id\":\"1420\",\"subtype\":\"Figure\",\"type\":\"Plot\"},\"ticker\":{\"id\":\"1434\",\"type\":\"BasicTicker\"}},\"id\":\"1433\",\"type\":\"LinearAxis\"},{\"attributes\":{},\"id\":\"1440\",\"type\":\"WheelZoomTool\"},{\"attributes\":{\"callback\":null,\"renderers\":[{\"id\":\"1462\",\"type\":\"GlyphRenderer\"},{\"id\":\"1470\",\"type\":\"GlyphRenderer\"}],\"tooltips\":[[\"hour\",\"@{hour}\"],[\"Count\",\"@{hour_count}\"]]},\"id\":\"1417\",\"type\":\"HoverTool\"},{\"attributes\":{\"bottom\":{\"value\":0},\"fill_alpha\":{\"value\":0.7},\"fill_color\":{\"value\":\"navy\"},\"left\":{\"field\":\"left\"},\"line_alpha\":{\"value\":0.7},\"line_color\":{\"value\":\"black\"},\"right\":{\"field\":\"right\"},\"top\":{\"field\":\"top\"}},\"id\":\"1460\",\"type\":\"Quad\"},{\"attributes\":{\"callback\":null,\"end\":23.0,\"reset_end\":23.0,\"reset_start\":0.0,\"tags\":[[[\"hour\",\"hour\",null]]]},\"id\":\"1415\",\"type\":\"Range1d\"},{\"attributes\":{},\"id\":\"1481\",\"type\":\"UnionRenderers\"},{\"attributes\":{},\"id\":\"1479\",\"type\":\"UnionRenderers\"},{\"attributes\":{\"callback\":null,\"end\":18840.0,\"reset_end\":18840.0,\"reset_start\":0.0,\"tags\":[[[\"hour_count\",\"Count\",null]]]},\"id\":\"1416\",\"type\":\"Range1d\"},{\"attributes\":{},\"id\":\"1438\",\"type\":\"SaveTool\"},{\"attributes\":{},\"id\":\"1426\",\"type\":\"LinearScale\"},{\"attributes\":{},\"id\":\"1457\",\"type\":\"Selection\"},{\"attributes\":{\"data_source\":{\"id\":\"1464\",\"type\":\"ColumnDataSource\"},\"glyph\":{\"id\":\"1467\",\"type\":\"Quad\"},\"hover_glyph\":null,\"muted_glyph\":{\"id\":\"1469\",\"type\":\"Quad\"},\"nonselection_glyph\":{\"id\":\"1468\",\"type\":\"Quad\"},\"selection_glyph\":null,\"view\":{\"id\":\"1471\",\"type\":\"CDSView\"}},\"id\":\"1470\",\"type\":\"GlyphRenderer\"},{\"attributes\":{\"axis_label\":\"hour\",\"bounds\":\"auto\",\"formatter\":{\"id\":\"1453\",\"type\":\"BasicTickFormatter\"},\"major_label_orientation\":\"horizontal\",\"plot\":{\"id\":\"1420\",\"subtype\":\"Figure\",\"type\":\"Plot\"},\"ticker\":{\"id\":\"1429\",\"type\":\"BasicTicker\"}},\"id\":\"1428\",\"type\":\"LinearAxis\"},{\"attributes\":{},\"id\":\"1453\",\"type\":\"BasicTickFormatter\"},{\"attributes\":{},\"id\":\"1434\",\"type\":\"BasicTicker\"},{\"attributes\":{\"source\":{\"id\":\"1464\",\"type\":\"ColumnDataSource\"}},\"id\":\"1471\",\"type\":\"CDSView\"},{\"attributes\":{\"data_source\":{\"id\":\"1456\",\"type\":\"ColumnDataSource\"},\"glyph\":{\"id\":\"1459\",\"type\":\"Quad\"},\"hover_glyph\":null,\"muted_glyph\":{\"id\":\"1461\",\"type\":\"Quad\"},\"nonselection_glyph\":{\"id\":\"1460\",\"type\":\"Quad\"},\"selection_glyph\":null,\"view\":{\"id\":\"1463\",\"type\":\"CDSView\"}},\"id\":\"1462\",\"type\":\"GlyphRenderer\"},{\"attributes\":{\"callback\":null,\"data\":{\"hour\":{\"__ndarray__\":\"ZmZmZmZm4j+ZmZmZmZn7PwAAAAAAAAdAmZmZmZkZEEAzMzMzM7MUQMzMzMzMTBlAZmZmZmbmHUAAAAAAAEAhQMzMzMzMjCNAmpmZmZnZJUBmZmZmZiYoQDIzMzMzcypAAAAAAADALEDMzMzMzAwvQMzMzMzMrDBAMzMzMzPTMUCZmZmZmfkyQAAAAAAAIDRAZmZmZmZGNUDMzMzMzGw2QA==\",\"dtype\":\"float64\",\"shape\":[20]},\"hour_count\":[863,420,296,316,483,710,2428,1051,1070,1246,1456,1497,1771,4558,2267,2028,1521,1302,1108,1626],\"left\":{\"__ndarray__\":\"AAAAAAAAAABmZmZmZmbyP2ZmZmZmZgJAmZmZmZmZC0BmZmZmZmYSQAAAAAAAABdAmZmZmZmZG0CZmZmZmRkgQGZmZmZmZiJAMzMzMzOzJEAAAAAAAAAnQMzMzMzMTClAmZmZmZmZK0BmZmZmZuYtQJmZmZmZGTBAAAAAAABAMUBmZmZmZmYyQMzMzMzMjDNAMzMzMzOzNECZmZmZmdk1QA==\",\"dtype\":\"float64\",\"shape\":[20]},\"right\":{\"__ndarray__\":\"ZmZmZmZm8j9mZmZmZmYCQJmZmZmZmQtAZmZmZmZmEkAAAAAAAAAXQJmZmZmZmRtAmZmZmZkZIEBmZmZmZmYiQDMzMzMzsyRAAAAAAAAAJ0DMzMzMzEwpQJmZmZmZmStAZmZmZmbmLUCZmZmZmRkwQAAAAAAAQDFAZmZmZmZmMkDMzMzMzIwzQDMzMzMzszRAmZmZmZnZNUAAAAAAAAA3QA==\",\"dtype\":\"float64\",\"shape\":[20]},\"top\":[863,420,296,316,483,710,2428,1051,1070,1246,1456,1497,1771,4558,2267,2028,1521,1302,1108,1626]},\"selected\":{\"id\":\"1465\",\"type\":\"Selection\"},\"selection_policy\":{\"id\":\"1481\",\"type\":\"UnionRenderers\"}},\"id\":\"1464\",\"type\":\"ColumnDataSource\"},{\"attributes\":{\"grid_line_color\":{\"value\":null},\"plot\":{\"id\":\"1420\",\"subtype\":\"Figure\",\"type\":\"Plot\"},\"ticker\":{\"id\":\"1429\",\"type\":\"BasicTicker\"}},\"id\":\"1432\",\"type\":\"Grid\"},{\"attributes\":{\"callback\":null,\"data\":{\"hour\":{\"__ndarray__\":\"ZmZmZmZm4j+ZmZmZmZn7PwAAAAAAAAdAmZmZmZkZEEAzMzMzM7MUQMzMzMzMTBlAZmZmZmbmHUAAAAAAAEAhQMzMzMzMjCNAmpmZmZnZJUBmZmZmZiYoQDIzMzMzcypAAAAAAADALEDMzMzMzAwvQMzMzMzMrDBAMzMzMzPTMUCZmZmZmfkyQAAAAAAAIDRAZmZmZmZGNUDMzMzMzGw2QA==\",\"dtype\":\"float64\",\"shape\":[20]},\"hour_count\":[1340,632,475,668,1306,3166,12646,3904,4127,4932,6067,5983,7125,18840,9710,7008,4093,3122,2360,2842],\"left\":{\"__ndarray__\":\"AAAAAAAAAABmZmZmZmbyP2ZmZmZmZgJAmZmZmZmZC0BmZmZmZmYSQAAAAAAAABdAmZmZmZmZG0CZmZmZmRkgQGZmZmZmZiJAMzMzMzOzJEAAAAAAAAAnQMzMzMzMTClAmZmZmZmZK0BmZmZmZuYtQJmZmZmZGTBAAAAAAABAMUBmZmZmZmYyQMzMzMzMjDNAMzMzMzOzNECZmZmZmdk1QA==\",\"dtype\":\"float64\",\"shape\":[20]},\"right\":{\"__ndarray__\":\"ZmZmZmZm8j9mZmZmZmYCQJmZmZmZmQtAZmZmZmZmEkAAAAAAAAAXQJmZmZmZmRtAmZmZmZkZIEBmZmZmZmYiQDMzMzMzsyRAAAAAAAAAJ0DMzMzMzEwpQJmZmZmZmStAZmZmZmbmLUCZmZmZmRkwQAAAAAAAQDFAZmZmZmZmMkDMzMzMzIwzQDMzMzMzszRAmZmZmZnZNUAAAAAAAAA3QA==\",\"dtype\":\"float64\",\"shape\":[20]},\"top\":[1340,632,475,668,1306,3166,12646,3904,4127,4932,6067,5983,7125,18840,9710,7008,4093,3122,2360,2842]},\"selected\":{\"id\":\"1457\",\"type\":\"Selection\"},\"selection_policy\":{\"id\":\"1479\",\"type\":\"UnionRenderers\"}},\"id\":\"1456\",\"type\":\"ColumnDataSource\"},{\"attributes\":{\"bottom\":{\"value\":0},\"fill_alpha\":{\"value\":0.7},\"fill_color\":{\"value\":\"navy\"},\"left\":{\"field\":\"left\"},\"line_alpha\":{\"value\":0.7},\"right\":{\"field\":\"right\"},\"top\":{\"field\":\"top\"}},\"id\":\"1459\",\"type\":\"Quad\"},{\"attributes\":{\"bottom\":{\"value\":0},\"fill_alpha\":{\"value\":0.2},\"fill_color\":{\"value\":\"navy\"},\"left\":{\"field\":\"left\"},\"line_alpha\":{\"value\":0.2},\"line_color\":{\"value\":\"black\"},\"right\":{\"field\":\"right\"},\"top\":{\"field\":\"top\"}},\"id\":\"1461\",\"type\":\"Quad\"},{\"attributes\":{\"source\":{\"id\":\"1456\",\"type\":\"ColumnDataSource\"}},\"id\":\"1463\",\"type\":\"CDSView\"},{\"attributes\":{\"overlay\":{\"id\":\"1447\",\"type\":\"BoxAnnotation\"}},\"id\":\"1441\",\"type\":\"BoxZoomTool\"}],\"root_ids\":[\"1420\"]},\"title\":\"Bokeh Application\",\"version\":\"1.0.0\"}};\n",
       "  var render_items = [{\"docid\":\"4a21558f-9eab-4633-86b4-af27693f1f75\",\"roots\":{\"1420\":\"b9b1ae1e-0c1b-4228-b4d8-2b114b76d095\"}}];\n",
       "  root.Bokeh.embed.embed_items_notebook(docs_json, render_items);\n",
       "\n",
       "  }\n",
       "  if (root.Bokeh !== undefined) {\n",
       "    embed_document(root);\n",
       "  } else {\n",
       "    var attempts = 0;\n",
       "    var timer = setInterval(function(root) {\n",
       "      if (root.Bokeh !== undefined) {\n",
       "        embed_document(root);\n",
       "        clearInterval(timer);\n",
       "      }\n",
       "      attempts++;\n",
       "      if (attempts > 100) {\n",
       "        console.log(\"Bokeh: ERROR: Unable to run BokehJS code because BokehJS library is missing\");\n",
       "        clearInterval(timer);\n",
       "      }\n",
       "    }, 10, root)\n",
       "  }\n",
       "})(window);"
      ],
      "application/vnd.holoviews_exec.v0+json": "",
      "text/html": [
       "<div id='1420' style='display: table; margin: 0 auto;'>\n",
       "\n",
       "\n",
       "\n",
       "\n",
       "\n",
       "  <div class=\"bk-root\" id=\"b9b1ae1e-0c1b-4228-b4d8-2b114b76d095\"></div>\n",
       "</div>"
      ],
      "text/plain": [
       ":Overlay\n",
       "   .Histogram.I  :Histogram   [hour]   (hour_count)\n",
       "   .Histogram.II :Histogram   [hour]   (hour_count)"
      ]
     },
     "execution_count": 72,
     "metadata": {
      "application/vnd.holoviews_exec.v0+json": {
       "id": "1420"
      }
     },
     "output_type": "execute_result"
    }
   ],
   "source": [
    "lacs.hour.hvplot.hist(color='navy').options(alpha=0.7) * hracs.hour.hvplot.hist(color='red').options(alpha=0.7)"
   ]
  },
  {
   "cell_type": "code",
   "execution_count": 73,
   "metadata": {},
   "outputs": [
    {
     "data": {
      "text/plain": [
       "ACCIDENT REPORT                           61.493233\n",
       "NO ACTION REQUIRED                        31.057541\n",
       "DEPARTMENTAL REPORT                        6.999781\n",
       "OTHER (SUPP/FALSE ALARM/FI/LOUD PARTY)     0.228210\n",
       "TRAFFIC CITATION                           0.221235\n",
       "Name: DISPOSITION, dtype: float64"
      ]
     },
     "execution_count": 73,
     "metadata": {},
     "output_type": "execute_result"
    }
   ],
   "source": [
    "lacs.DISPOSITION.value_counts() / len(lacs) * 100"
   ]
  },
  {
   "cell_type": "code",
   "execution_count": 74,
   "metadata": {},
   "outputs": [
    {
     "data": {
      "text/plain": [
       "NO ACTION REQUIRED                        51.400935\n",
       "DEPARTMENTAL REPORT                       24.767106\n",
       "ACCIDENT REPORT                           23.278724\n",
       "OTHER (SUPP/FALSE ALARM/FI/LOUD PARTY)     0.478281\n",
       "TRAFFIC CITATION                           0.074954\n",
       "Name: DISPOSITION, dtype: float64"
      ]
     },
     "execution_count": 74,
     "metadata": {},
     "output_type": "execute_result"
    }
   ],
   "source": [
    "hracs.DISPOSITION.value_counts() / len(hracs) * 100"
   ]
  },
  {
   "cell_type": "code",
   "execution_count": 75,
   "metadata": {},
   "outputs": [
    {
     "data": {
      "text/plain": [
       "ACCIDENT NO INJURIES      81.209017\n",
       "ACCIDENT WITH INJURIES    18.576725\n",
       "ACCIDENT FATALITY          0.214259\n",
       "Name: FINAL_CALL_TYPE, dtype: float64"
      ]
     },
     "execution_count": 75,
     "metadata": {},
     "output_type": "execute_result"
    }
   ],
   "source": [
    "lacs.FINAL_CALL_TYPE.value_counts() / len(lacs) * 100"
   ]
  },
  {
   "cell_type": "code",
   "execution_count": 76,
   "metadata": {},
   "outputs": [
    {
     "data": {
      "text/plain": [
       "HIT & RUN ACCIDENT NO INJURY        93.550344\n",
       "HIT & RUN ACCIDENT WITH INJURIES     6.356855\n",
       "HIT & RUN  FATALITY                  0.092801\n",
       "Name: FINAL_CALL_TYPE, dtype: float64"
      ]
     },
     "execution_count": 76,
     "metadata": {},
     "output_type": "execute_result"
    }
   ],
   "source": [
    "hracs.FINAL_CALL_TYPE.value_counts() / len(hracs) * 100"
   ]
  },
  {
   "cell_type": "code",
   "execution_count": 77,
   "metadata": {},
   "outputs": [
    {
     "data": {
      "text/plain": [
       "0.2182638299198367"
      ]
     },
     "execution_count": 77,
     "metadata": {},
     "output_type": "execute_result"
    }
   ],
   "source": [
    "len(hracs) / (len(hracs) + len(lacs))"
   ]
  },
  {
   "cell_type": "code",
   "execution_count": 78,
   "metadata": {},
   "outputs": [
    {
     "data": {
      "text/plain": [
       "BG27     705\n",
       "BA27     624\n",
       "BG13     603\n",
       "BC19A    590\n",
       "BI23B    569\n",
       "DG29     553\n",
       "CI22     529\n",
       "BC17A    528\n",
       "CA21     522\n",
       "BE11     519\n",
       "BG19     516\n",
       "BG17     516\n",
       "BE31     510\n",
       "AB16     503\n",
       "BI31B    485\n",
       "BE38     484\n",
       "BI29     484\n",
       "BD11     483\n",
       "BG29     479\n",
       "BG11     474\n",
       "BE17     460\n",
       "BI32     458\n",
       "BC13A    458\n",
       "BE35     449\n",
       "CA25     434\n",
       "BC29A    426\n",
       "BG21A    418\n",
       "CA23B    416\n",
       "BI21     414\n",
       "CG21     404\n",
       "        ... \n",
       "HA16       1\n",
       "EH14       1\n",
       "IH29       1\n",
       "EF39       1\n",
       "EE28       1\n",
       "HA17       1\n",
       "JA28       1\n",
       "DE30       1\n",
       "EI18       1\n",
       "JA27       1\n",
       "AJ10       1\n",
       "FI37       1\n",
       "CI20B      1\n",
       "AF08       1\n",
       "EE40       1\n",
       "JC22       1\n",
       "JD26       1\n",
       "EH34       1\n",
       "AE14       1\n",
       "EI15       1\n",
       "FG42       1\n",
       "AC10       1\n",
       "CC18       1\n",
       "GC18       1\n",
       "FC13       1\n",
       "EF34       1\n",
       "GF12       1\n",
       "EI34       1\n",
       "IC12       1\n",
       "EI17       1\n",
       "Name: GRID, Length: 1669, dtype: int64"
      ]
     },
     "execution_count": 78,
     "metadata": {},
     "output_type": "execute_result"
    }
   ],
   "source": [
    "df.GRID.value_counts()"
   ]
  },
  {
   "cell_type": "code",
   "execution_count": null,
   "metadata": {},
   "outputs": [],
   "source": []
  }
 ],
 "metadata": {
  "kernelspec": {
   "display_name": "Python 3",
   "language": "python",
   "name": "python3"
  },
  "language_info": {
   "codemirror_mode": {
    "name": "ipython",
    "version": 3
   },
   "file_extension": ".py",
   "mimetype": "text/x-python",
   "name": "python",
   "nbconvert_exporter": "python",
   "pygments_lexer": "ipython3",
   "version": "3.7.1"
  }
 },
 "nbformat": 4,
 "nbformat_minor": 2
}
